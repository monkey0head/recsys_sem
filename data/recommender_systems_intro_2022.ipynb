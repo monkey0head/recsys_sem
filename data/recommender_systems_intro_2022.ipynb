{
 "cells": [
  {
   "cell_type": "code",
   "execution_count": null,
   "id": "c2c9e7a6",
   "metadata": {},
   "outputs": [],
   "source": [
    "# ! pip install -r requirements.txt"
   ]
  },
  {
   "cell_type": "code",
   "execution_count": 1,
   "id": "df293c4b",
   "metadata": {
    "id": "df293c4b"
   },
   "outputs": [],
   "source": [
    "from typing import Optional\n",
    "\n",
    "import abc\n",
    "import numpy as np\n",
    "import math\n",
    "import pandas as pd\n",
    "\n",
    "from sklearn.preprocessing import LabelEncoder"
   ]
  },
  {
   "cell_type": "code",
   "execution_count": 2,
   "id": "hTeuGltmvAo6",
   "metadata": {
    "colab": {
     "base_uri": "https://localhost:8080/"
    },
    "id": "hTeuGltmvAo6",
    "outputId": "5e95ee4e-ea43-4d59-a341-bb7491a5383a"
   },
   "outputs": [],
   "source": [
    "# from google.colab import drive\n",
    "# drive.mount('/content/drive')"
   ]
  },
  {
   "cell_type": "code",
   "execution_count": 3,
   "id": "eec5dc84",
   "metadata": {
    "id": "eec5dc84"
   },
   "outputs": [],
   "source": [
    "# data_path = 'drive/MyDrive/shad_ml_sem/'\n",
    "data_path = 'data/'\n",
    "log_name = 'interactions.csv'\n",
    "u_features_name = 'users.csv'\n",
    "i_features_name = 'items.csv'"
   ]
  },
  {
   "cell_type": "code",
   "execution_count": 4,
   "id": "87e2655f",
   "metadata": {
    "id": "87e2655f"
   },
   "outputs": [],
   "source": [
    "SEED = 123\n",
    "K=10"
   ]
  },
  {
   "cell_type": "markdown",
   "id": "95ff2f12",
   "metadata": {
    "id": "95ff2f12"
   },
   "source": [
    "# Рекомендательные системы\n",
    "\n",
    "Обсудим задачи рекомендательных систем и особенности данных. \n",
    "Поговорим о метриках и моделях и попробуем реализовать некоторые из них самостоятельно."
   ]
  },
  {
   "cell_type": "markdown",
   "id": "zLnJd7T5l-HR",
   "metadata": {
    "id": "zLnJd7T5l-HR"
   },
   "source": [
    "# Содержание\n",
    "- Датасет\n",
    "    - типы feedback\n",
    "    - что можно рекомендовать?\n",
    "- Как влияет на решение задачи рекомендаций предметная область и поведение пользователей?\n",
    "- EDA\n",
    "- 0 Фильтрация данных\n",
    "- 1 Разбиение данных\n",
    "- 2 Простейшая рекомендательная система\n",
    "- 3 Класс-рекомендатель\n",
    "- 4 Оценка качества рекомендаций: Метрики качества и разнообразия\n",
    "- 5 Item-to-item модель на примере ассоциативных правил\n",
    "- Модели для задачи рекомендаций top-k объектов для пользователя\n",
    "    - 6 SVD\n",
    "    - 7 LightFM\n",
    "- 8 Двухуровневая модель (SVD + CatBoost)\n",
    "- Нейросетевые модели\n",
    "    - 9 MiltVAE"
   ]
  },
  {
   "cell_type": "markdown",
   "id": "efea94ba",
   "metadata": {},
   "source": [
    "# Датасет"
   ]
  },
  {
   "cell_type": "markdown",
   "id": "9bbb36c1",
   "metadata": {},
   "source": [
    "Будем использовать датасет [MTS Library](https://www.kaggle.com/sharthz23/mts-library), содержащий данные об истории чтения книг пользователями МТС Библиотеки."
   ]
  },
  {
   "cell_type": "markdown",
   "id": "d98dab69",
   "metadata": {},
   "source": [
    "### Предобработка"
   ]
  },
  {
   "cell_type": "code",
   "execution_count": 5,
   "id": "228f4ce3",
   "metadata": {
    "colab": {
     "base_uri": "https://localhost:8080/",
     "height": 111
    },
    "id": "228f4ce3",
    "outputId": "26e3529e-043d-4e91-aded-a07af2671fb5"
   },
   "outputs": [],
   "source": [
    "df = pd.read_csv(data_path+log_name, sep=',')"
   ]
  },
  {
   "cell_type": "code",
   "execution_count": 6,
   "id": "XDjzHP11vW7V",
   "metadata": {
    "id": "XDjzHP11vW7V"
   },
   "outputs": [],
   "source": [
    "assert df.shape[0] == 1533078"
   ]
  },
  {
   "cell_type": "code",
   "execution_count": 7,
   "id": "a9239191",
   "metadata": {
    "colab": {
     "base_uri": "https://localhost:8080/"
    },
    "id": "a9239191",
    "outputId": "6957fb61-6f8c-4279-a500-27a871b4849d"
   },
   "outputs": [
    {
     "name": "stdout",
     "output_type": "stream",
     "text": [
      "CPU times: user 565 ms, sys: 104 ms, total: 669 ms\n",
      "Wall time: 674 ms\n"
     ]
    }
   ],
   "source": [
    "%%time\n",
    "# конвертируем в дату\n",
    "df.loc[:, 'start_date'] = pd.to_datetime(df['start_date'], format=\"%Y-%m-%d\")\n",
    "# удаляем дубликаты, оставляя последний по времени\n",
    "df = df.sort_values('start_date').drop_duplicates(subset=['user_id', 'item_id'], keep='last')\n",
    "\n",
    "u_features = pd.read_csv(data_path+u_features_name, sep=',')\n",
    "i_features = pd.read_csv(data_path+i_features_name, sep=',')\n",
    "i_features.rename(columns={'id': 'item_id'}, inplace=True)"
   ]
  },
  {
   "cell_type": "code",
   "execution_count": 8,
   "id": "xx1LlcOSmqZx",
   "metadata": {
    "colab": {
     "base_uri": "https://localhost:8080/"
    },
    "id": "xx1LlcOSmqZx",
    "outputId": "80d593d0-2262-4a76-f576-7eba6413c708"
   },
   "outputs": [
    {
     "name": "stdout",
     "output_type": "stream",
     "text": [
      "CPU times: user 221 ms, sys: 15.4 ms, total: 236 ms\n",
      "Wall time: 238 ms\n"
     ]
    },
    {
     "data": {
      "text/plain": [
       "LabelEncoder()"
      ]
     },
     "execution_count": 8,
     "metadata": {},
     "output_type": "execute_result"
    }
   ],
   "source": [
    "%%time\n",
    "# конвертируем id пользователей и item-ов в подряд идущие номера\n",
    "user_encoder = LabelEncoder()\n",
    "item_encoder = LabelEncoder()\n",
    "user_encoder.fit(pd.concat([df['user_id'], u_features['user_id']]).values)\n",
    "item_encoder.fit(pd.concat([df['item_id'], i_features['item_id']]).values)"
   ]
  },
  {
   "cell_type": "code",
   "execution_count": 9,
   "id": "0jiwZbiLDYjG",
   "metadata": {
    "colab": {
     "base_uri": "https://localhost:8080/"
    },
    "id": "0jiwZbiLDYjG",
    "outputId": "d96e4c93-322f-40f4-f5f3-3c30af6f58b1"
   },
   "outputs": [
    {
     "name": "stdout",
     "output_type": "stream",
     "text": [
      "CPU times: user 648 ms, sys: 31 ms, total: 679 ms\n",
      "Wall time: 689 ms\n"
     ]
    }
   ],
   "source": [
    "%%time\n",
    "df['user_id'] = user_encoder.transform(df['user_id'])\n",
    "df['item_id'] = item_encoder.transform(df['item_id'])"
   ]
  },
  {
   "cell_type": "code",
   "execution_count": 10,
   "id": "8d0ed8eb",
   "metadata": {
    "colab": {
     "base_uri": "https://localhost:8080/"
    },
    "id": "8d0ed8eb",
    "outputId": "65860038-40d4-4643-84b7-bba2dd0aef77"
   },
   "outputs": [
    {
     "name": "stdout",
     "output_type": "stream",
     "text": [
      "CPU times: user 10.6 ms, sys: 6.09 ms, total: 16.7 ms\n",
      "Wall time: 14.9 ms\n"
     ]
    }
   ],
   "source": [
    "%%time\n",
    "u_features['user_id'] = user_encoder.transform(u_features['user_id'])\n",
    "u_features.set_index('user_id', inplace=True)"
   ]
  },
  {
   "cell_type": "markdown",
   "id": "3e8ee1e6",
   "metadata": {},
   "source": [
    "### Данные"
   ]
  },
  {
   "cell_type": "code",
   "execution_count": 11,
   "id": "99a13299",
   "metadata": {
    "colab": {
     "base_uri": "https://localhost:8080/",
     "height": 142
    },
    "id": "99a13299",
    "outputId": "2f283525-8285-48d6-ba02-f0b6794a170b"
   },
   "outputs": [
    {
     "data": {
      "text/html": [
       "<div>\n",
       "<style scoped>\n",
       "    .dataframe tbody tr th:only-of-type {\n",
       "        vertical-align: middle;\n",
       "    }\n",
       "\n",
       "    .dataframe tbody tr th {\n",
       "        vertical-align: top;\n",
       "    }\n",
       "\n",
       "    .dataframe thead th {\n",
       "        text-align: right;\n",
       "    }\n",
       "</style>\n",
       "<table border=\"1\" class=\"dataframe\">\n",
       "  <thead>\n",
       "    <tr style=\"text-align: right;\">\n",
       "      <th></th>\n",
       "      <th>age</th>\n",
       "      <th>sex</th>\n",
       "    </tr>\n",
       "    <tr>\n",
       "      <th>user_id</th>\n",
       "      <th></th>\n",
       "      <th></th>\n",
       "    </tr>\n",
       "  </thead>\n",
       "  <tbody>\n",
       "    <tr>\n",
       "      <th>1</th>\n",
       "      <td>45_54</td>\n",
       "      <td>NaN</td>\n",
       "    </tr>\n",
       "    <tr>\n",
       "      <th>2</th>\n",
       "      <td>18_24</td>\n",
       "      <td>0.0</td>\n",
       "    </tr>\n",
       "  </tbody>\n",
       "</table>\n",
       "</div>"
      ],
      "text/plain": [
       "           age  sex\n",
       "user_id            \n",
       "1        45_54  NaN\n",
       "2        18_24  0.0"
      ]
     },
     "execution_count": 11,
     "metadata": {},
     "output_type": "execute_result"
    }
   ],
   "source": [
    "u_features.head(2)"
   ]
  },
  {
   "cell_type": "code",
   "execution_count": 12,
   "id": "65d70ce6",
   "metadata": {
    "colab": {
     "base_uri": "https://localhost:8080/"
    },
    "id": "65d70ce6",
    "outputId": "bbe97e06-6da6-41bf-cdb1-ccb65c340d9a"
   },
   "outputs": [
    {
     "name": "stdout",
     "output_type": "stream",
     "text": [
      "CPU times: user 7.7 ms, sys: 5.69 ms, total: 13.4 ms\n",
      "Wall time: 11.5 ms\n"
     ]
    }
   ],
   "source": [
    "%%time\n",
    "i_features['item_id'] = item_encoder.fit_transform(i_features['item_id'])\n",
    "i_features.set_index('item_id', inplace=True)"
   ]
  },
  {
   "cell_type": "code",
   "execution_count": 13,
   "id": "ee9c2fde",
   "metadata": {
    "colab": {
     "base_uri": "https://localhost:8080/",
     "height": 142
    },
    "id": "ee9c2fde",
    "outputId": "b5506b40-22f8-451d-cffd-a3e9dc83c015"
   },
   "outputs": [
    {
     "data": {
      "text/html": [
       "<div>\n",
       "<style scoped>\n",
       "    .dataframe tbody tr th:only-of-type {\n",
       "        vertical-align: middle;\n",
       "    }\n",
       "\n",
       "    .dataframe tbody tr th {\n",
       "        vertical-align: top;\n",
       "    }\n",
       "\n",
       "    .dataframe thead th {\n",
       "        text-align: right;\n",
       "    }\n",
       "</style>\n",
       "<table border=\"1\" class=\"dataframe\">\n",
       "  <thead>\n",
       "    <tr style=\"text-align: right;\">\n",
       "      <th></th>\n",
       "      <th>title</th>\n",
       "      <th>genres</th>\n",
       "      <th>authors</th>\n",
       "      <th>year</th>\n",
       "    </tr>\n",
       "    <tr>\n",
       "      <th>item_id</th>\n",
       "      <th></th>\n",
       "      <th></th>\n",
       "      <th></th>\n",
       "      <th></th>\n",
       "    </tr>\n",
       "  </thead>\n",
       "  <tbody>\n",
       "    <tr>\n",
       "      <th>23831</th>\n",
       "      <td>Ворон-челобитчик</td>\n",
       "      <td>Зарубежные детские книги,Сказки,Зарубежная кла...</td>\n",
       "      <td>Михаил Салтыков-Щедрин</td>\n",
       "      <td>1886</td>\n",
       "    </tr>\n",
       "    <tr>\n",
       "      <th>39149</th>\n",
       "      <td>Скрипка Ротшильда</td>\n",
       "      <td>Классическая проза,Литература 19 века,Русская ...</td>\n",
       "      <td>Антон Чехов</td>\n",
       "      <td>1894</td>\n",
       "    </tr>\n",
       "  </tbody>\n",
       "</table>\n",
       "</div>"
      ],
      "text/plain": [
       "                     title                                             genres  \\\n",
       "item_id                                                                         \n",
       "23831     Ворон-челобитчик  Зарубежные детские книги,Сказки,Зарубежная кла...   \n",
       "39149    Скрипка Ротшильда  Классическая проза,Литература 19 века,Русская ...   \n",
       "\n",
       "                        authors  year  \n",
       "item_id                                \n",
       "23831    Михаил Салтыков-Щедрин  1886  \n",
       "39149               Антон Чехов  1894  "
      ]
     },
     "execution_count": 13,
     "metadata": {},
     "output_type": "execute_result"
    }
   ],
   "source": [
    "i_features.head(2)"
   ]
  },
  {
   "cell_type": "code",
   "execution_count": 14,
   "id": "1867acd5",
   "metadata": {
    "id": "1867acd5"
   },
   "outputs": [],
   "source": [
    "def get_log_info(log, user_id='user_id', item_id='item_id'):\n",
    "    print(f'Длина лога = {log.shape[0]},\\nколичество пользователей = {log[user_id].nunique()},\\nколичество объектов = {log[item_id].nunique()}')"
   ]
  },
  {
   "cell_type": "code",
   "execution_count": 15,
   "id": "7411d55b",
   "metadata": {},
   "outputs": [
    {
     "data": {
      "text/html": [
       "<div>\n",
       "<style scoped>\n",
       "    .dataframe tbody tr th:only-of-type {\n",
       "        vertical-align: middle;\n",
       "    }\n",
       "\n",
       "    .dataframe tbody tr th {\n",
       "        vertical-align: top;\n",
       "    }\n",
       "\n",
       "    .dataframe thead th {\n",
       "        text-align: right;\n",
       "    }\n",
       "</style>\n",
       "<table border=\"1\" class=\"dataframe\">\n",
       "  <thead>\n",
       "    <tr style=\"text-align: right;\">\n",
       "      <th></th>\n",
       "      <th>user_id</th>\n",
       "      <th>item_id</th>\n",
       "      <th>progress</th>\n",
       "      <th>rating</th>\n",
       "      <th>start_date</th>\n",
       "    </tr>\n",
       "  </thead>\n",
       "  <tbody>\n",
       "    <tr>\n",
       "      <th>0</th>\n",
       "      <td>126076</td>\n",
       "      <td>2656</td>\n",
       "      <td>80</td>\n",
       "      <td>NaN</td>\n",
       "      <td>2018-01-01</td>\n",
       "    </tr>\n",
       "    <tr>\n",
       "      <th>1437</th>\n",
       "      <td>96642</td>\n",
       "      <td>45603</td>\n",
       "      <td>1</td>\n",
       "      <td>NaN</td>\n",
       "      <td>2018-01-01</td>\n",
       "    </tr>\n",
       "    <tr>\n",
       "      <th>1436</th>\n",
       "      <td>47177</td>\n",
       "      <td>8687</td>\n",
       "      <td>54</td>\n",
       "      <td>NaN</td>\n",
       "      <td>2018-01-01</td>\n",
       "    </tr>\n",
       "    <tr>\n",
       "      <th>1435</th>\n",
       "      <td>94589</td>\n",
       "      <td>30787</td>\n",
       "      <td>6</td>\n",
       "      <td>NaN</td>\n",
       "      <td>2018-01-01</td>\n",
       "    </tr>\n",
       "    <tr>\n",
       "      <th>1434</th>\n",
       "      <td>109520</td>\n",
       "      <td>26294</td>\n",
       "      <td>86</td>\n",
       "      <td>NaN</td>\n",
       "      <td>2018-01-01</td>\n",
       "    </tr>\n",
       "  </tbody>\n",
       "</table>\n",
       "</div>"
      ],
      "text/plain": [
       "      user_id  item_id  progress  rating start_date\n",
       "0      126076     2656        80     NaN 2018-01-01\n",
       "1437    96642    45603         1     NaN 2018-01-01\n",
       "1436    47177     8687        54     NaN 2018-01-01\n",
       "1435    94589    30787         6     NaN 2018-01-01\n",
       "1434   109520    26294        86     NaN 2018-01-01"
      ]
     },
     "execution_count": 15,
     "metadata": {},
     "output_type": "execute_result"
    }
   ],
   "source": [
    "df.head(5)"
   ]
  },
  {
   "cell_type": "code",
   "execution_count": 16,
   "id": "c3286062",
   "metadata": {
    "colab": {
     "base_uri": "https://localhost:8080/"
    },
    "id": "c3286062",
    "outputId": "54d77fe5-bde2-4486-a07a-bff8f69b18d7"
   },
   "outputs": [
    {
     "name": "stdout",
     "output_type": "stream",
     "text": [
      "Длина лога = 1532998,\n",
      "количество пользователей = 151600,\n",
      "количество объектов = 59599\n"
     ]
    }
   ],
   "source": [
    "get_log_info(df)"
   ]
  },
  {
   "cell_type": "code",
   "execution_count": 17,
   "id": "e2ff635b",
   "metadata": {
    "colab": {
     "base_uri": "https://localhost:8080/",
     "height": 35
    },
    "id": "e2ff635b",
    "outputId": "bb8e534f-39f6-41a6-9bee-6b9ec538896a"
   },
   "outputs": [
    {
     "data": {
      "text/plain": [
       "'Количество рейтингов = 285337, что сильно меньше, чем количество данных о прогрессе чтения (1532998)'"
      ]
     },
     "execution_count": 17,
     "metadata": {},
     "output_type": "execute_result"
    }
   ],
   "source": [
    "f\"Количество рейтингов = {(~df['rating'].isna()).sum()}, что сильно меньше, чем количество данных о прогрессе чтения ({(~df['progress'].isna()).sum()})\"\n"
   ]
  },
  {
   "cell_type": "markdown",
   "id": "9a766a35",
   "metadata": {
    "id": "9a766a35"
   },
   "source": [
    "## Особенности данных в задаче рекомендаций\n",
    "- всегда есть id пользователей/сессий и объектов\n",
    "- часто есть timestamp (знаем об изменениях предпочтений пользователей во времени)\n",
    "- есть оценка релевантности объектов для пользователей"
   ]
  },
  {
   "cell_type": "markdown",
   "id": "5e9b14ae",
   "metadata": {
    "id": "5e9b14ae"
   },
   "source": [
    "## Типы feedback\n",
    "В нашем датасете есть progress - процент прочтения книги и rating - оценка, которую пользователь поставил. \n",
    "Это отличная иллюстрация для implicit и explicit feedback. Если пользователь поставил оценку, мы можем быть сильно уверены в том, насколько ему нравится книга. Но факт прочтения какой-то доли контента — тоже важный сигнал, и этой информации гораздо больше.\n",
    "\n",
    "**Explicit**\n",
    "- мало, но четко отражает предпочтения пользователя\n",
    "- можно учить модели регрессии и ранжирования\n",
    "- смещен в сторону \"оценивает лучшая версия меня\" (хоть мы и не говорим сегодня о вопросах психологии/этики)\n",
    "- может быть двумодальное распределение (хочу похвалить или хочу поругать)\n",
    "\n",
    "**Implicit**\n",
    "- много\n",
    "- разнородный\n",
    "- часто не содержит негативного опыта/его надо извлекать на основе правил\n",
    "- показывал реальные предпочтения пользователей"
   ]
  },
  {
   "cell_type": "markdown",
   "id": "77eddff6",
   "metadata": {
    "id": "77eddff6"
   },
   "source": [
    "## Задачи\n",
    "\n",
    "* предсказать для пользователя top-k релевантных объектов\n",
    "* оценить релевантность выбранных пар пользователь-объект / переранжировать объекты для пользователя\n",
    "* найти похожие объекты/похожих пользователей\n",
    "* рекомендовать к сессии/корзине/товару"
   ]
  },
  {
   "cell_type": "markdown",
   "id": "09d8f348",
   "metadata": {
    "id": "RPhKfiXhVTNz"
   },
   "source": [
    "# Как влияет на решение задачи рекомендаций тип объектов и поведение пользователей?\n",
    "Различных моделей для решения задачи рекомендаций — много, идеального способа выбрать нужную модель нет, но можно попробовать хотя бы определить тип.\n",
    "Пока датасет загружается/пакеты устанавливаются, поговорим о том, насколько разной может быть задача рекомендаций с точки зрения скорости изменения интересов пользователей и скорости устаревания объектов.\n",
    "Придумайте какие-нибудь примеры рекомендательных систем, и попробуйте расположить их на графике:"
   ]
  },
  {
   "cell_type": "code",
   "execution_count": 18,
   "id": "227dd43c",
   "metadata": {
    "colab": {
     "base_uri": "https://localhost:8080/",
     "height": 505
    },
    "id": "wkpKRMwBfdVq",
    "outputId": "fad94ba7-abc3-4ba5-ffbf-9e189106c4fb"
   },
   "outputs": [
    {
     "data": {
      "text/html": [
       "<iframe src=\"https://drive.google.com/file/d/10XsrZ_c5wvTTVv3no835aLRNs_fWvFdD/preview\" width=\"640\" height=\"480\" allow=\"autoplay\"></iframe>\n"
      ],
      "text/plain": [
       "<IPython.core.display.HTML object>"
      ]
     },
     "metadata": {},
     "output_type": "display_data"
    }
   ],
   "source": [
    "%%html\n",
    "<iframe src=\"https://drive.google.com/file/d/10XsrZ_c5wvTTVv3no835aLRNs_fWvFdD/preview\" width=\"640\" height=\"480\" allow=\"autoplay\"></iframe>"
   ]
  },
  {
   "cell_type": "markdown",
   "id": "28aa85d5",
   "metadata": {
    "id": "v_d0zXPOfi9t"
   },
   "source": [
    "Кроме скорости устаревания можно придумать еще несколько факторов, влияющих на то, какую рекомендательную систему строить:\n",
    "\n",
    "- сколько item-ов есть и насколько они похожи?\n",
    "- item-ы потребляются один раз или с какой-то частотой?\n",
    "- важна ли последовательность потребления (второй сезон сериала после первого)?\n",
    "- авторизуются ли пользователи при посещении сайта?\n",
    "- нужно ли реагировать онлайн или достаточно посчитать рекомендации один раз в сутки?"
   ]
  },
  {
   "cell_type": "markdown",
   "id": "9f640853",
   "metadata": {
    "id": "hPNdKsDcf5I-"
   },
   "source": [
    "К чему этот график выше? Чтобы понять, какие модели точно не подойдут, а какие стоит рассмотреть внимательнее.\n",
    "\n",
    "Глобально по типу используемых данных можно выделить:\n",
    "- классические модели, основанные на логе взаимодействия (коллаборативная фильтрация)\n",
    "- Content-based (используют сходство признаков объектов/пользователей)\n",
    "- Hybrid/Assembly (сложные/использующие как лог, так и признаки, включающие несколько моделей)\n",
    "\n",
    "\n",
    "Плюс на графике отмечены еще session-based (используют данные сессий отдельных пользовательских сессий, а не всю историю)\n",
    "\n",
    "ps: это не классификация всех возможных рекомендательных моделей, а просто выделение некоторых групп для понимания, почему не любую задачу можно решить ALS-ом"
   ]
  },
  {
   "cell_type": "code",
   "execution_count": 19,
   "id": "2b05e5f6",
   "metadata": {
    "colab": {
     "base_uri": "https://localhost:8080/",
     "height": 505
    },
    "id": "8XvrE7d255oV",
    "outputId": "092a9d08-900b-450f-e18e-6140d3f648b1"
   },
   "outputs": [
    {
     "data": {
      "text/html": [
       "<iframe src=\"https://drive.google.com/file/d/1-dRZaq3OOY1w-M8bHGF3ldCOYZ-uWVId/preview\" width=\"640\" height=\"480\" allow=\"autoplay\"></iframe>\n"
      ],
      "text/plain": [
       "<IPython.core.display.HTML object>"
      ]
     },
     "metadata": {},
     "output_type": "display_data"
    }
   ],
   "source": [
    "%%html\n",
    "<iframe src=\"https://drive.google.com/file/d/1-dRZaq3OOY1w-M8bHGF3ldCOYZ-uWVId/preview\" width=\"640\" height=\"480\" allow=\"autoplay\"></iframe>"
   ]
  },
  {
   "cell_type": "markdown",
   "id": "d6d1e28f",
   "metadata": {},
   "source": [
    "# EDA"
   ]
  },
  {
   "cell_type": "markdown",
   "id": "488c0a0b",
   "metadata": {
    "id": "488c0a0b"
   },
   "source": [
    "## Распределение рейтинга и доли прочтения"
   ]
  },
  {
   "cell_type": "code",
   "execution_count": 20,
   "id": "a5e390d3",
   "metadata": {
    "colab": {
     "base_uri": "https://localhost:8080/",
     "height": 320
    },
    "id": "a5e390d3",
    "outputId": "a19b8e87-394d-4136-a5a8-ec50c9f1b9be"
   },
   "outputs": [
    {
     "data": {
      "image/png": "[encoded data removed]",
      "text/plain": [
       "<Figure size 720x360 with 1 Axes>"
      ]
     },
     "metadata": {
      "needs_background": "light"
     },
     "output_type": "display_data"
    }
   ],
   "source": [
    "df['progress'].hist(bins=50, figsize=(10, 5));"
   ]
  },
  {
   "cell_type": "markdown",
   "id": "2f0cc915",
   "metadata": {
    "id": "2f0cc915"
   },
   "source": [
    "Либо бросают быстро, либо дочитывают до конца"
   ]
  },
  {
   "cell_type": "code",
   "execution_count": 21,
   "id": "0754cc49",
   "metadata": {
    "colab": {
     "base_uri": "https://localhost:8080/",
     "height": 320
    },
    "id": "0754cc49",
    "outputId": "9065cffb-b6a4-4d2d-c011-a55a4f9ad05a"
   },
   "outputs": [
    {
     "data": {
      "image/png": "[encoded data removed]",
      "text/plain": [
       "<Figure size 720x360 with 1 Axes>"
      ]
     },
     "metadata": {
      "needs_background": "light"
     },
     "output_type": "display_data"
    }
   ],
   "source": [
    "df['rating'].hist(bins=10, figsize=(10, 5));"
   ]
  },
  {
   "cell_type": "markdown",
   "id": "70284fd0",
   "metadata": {},
   "source": [
    " Оценивают понравившееся "
   ]
  },
  {
   "cell_type": "code",
   "execution_count": 22,
   "id": "50e731ec",
   "metadata": {
    "colab": {
     "base_uri": "https://localhost:8080/"
    },
    "id": "50e731ec",
    "outputId": "9badae90-8b6f-45ab-ea53-b7d2ae3a1065"
   },
   "outputs": [
    {
     "data": {
      "text/plain": [
       "5.0    214703\n",
       "4.0     40382\n",
       "3.0     18273\n",
       "1.0      6115\n",
       "2.0      5864\n",
       "Name: rating, dtype: int64"
      ]
     },
     "execution_count": 22,
     "metadata": {},
     "output_type": "execute_result"
    }
   ],
   "source": [
    "df['rating'].value_counts()"
   ]
  },
  {
   "cell_type": "markdown",
   "id": "a13fc208",
   "metadata": {
    "id": "a13fc208"
   },
   "source": [
    "## Распределение числа прочтений у пользователя / книги"
   ]
  },
  {
   "cell_type": "code",
   "execution_count": 23,
   "id": "61c3f05f",
   "metadata": {
    "id": "61c3f05f"
   },
   "outputs": [],
   "source": [
    "def group_by_and_plot(df, group_by_name, rating_col_name, quantile=0.99, title=''):\n",
    "    grouped = df.groupby(group_by_name)[rating_col_name].count()\n",
    "    print(grouped.describe(percentiles=[0.05, .25, .5, .75, 0.95]))\n",
    "    grouped[grouped < grouped.quantile(quantile)].plot(kind='hist', bins=50, figsize=(10, 5), title=title)\n",
    "    return grouped"
   ]
  },
  {
   "cell_type": "code",
   "execution_count": 24,
   "id": "5c962564",
   "metadata": {
    "colab": {
     "base_uri": "https://localhost:8080/",
     "height": 523
    },
    "id": "5c962564",
    "outputId": "f07a751e-53b5-48b4-ccc4-d41fb3ee5b03"
   },
   "outputs": [
    {
     "name": "stdout",
     "output_type": "stream",
     "text": [
      "count    151600.000000\n",
      "mean         10.112124\n",
      "std          20.922963\n",
      "min           1.000000\n",
      "5%            3.000000\n",
      "25%           5.000000\n",
      "50%           7.000000\n",
      "75%          10.000000\n",
      "95%          20.000000\n",
      "max        2091.000000\n",
      "Name: progress, dtype: float64\n"
     ]
    },
    {
     "data": {
      "image/png": "[encoded data removed]",
      "text/plain": [
       "<Figure size 720x360 with 1 Axes>"
      ]
     },
     "metadata": {
      "needs_background": "light"
     },
     "output_type": "display_data"
    }
   ],
   "source": [
    "user_count = group_by_and_plot(df, group_by_name='user_id', rating_col_name='progress', quantile=0.99, title='Количество прочтений у пользователя')"
   ]
  },
  {
   "cell_type": "code",
   "execution_count": 25,
   "id": "bfd74bf3",
   "metadata": {
    "colab": {
     "base_uri": "https://localhost:8080/",
     "height": 523
    },
    "id": "bfd74bf3",
    "outputId": "4d862ed2-19bc-4c19-a064-a4bb03ae254c"
   },
   "outputs": [
    {
     "name": "stdout",
     "output_type": "stream",
     "text": [
      "count    59599.000000\n",
      "mean        25.721875\n",
      "std         60.665733\n",
      "min          2.000000\n",
      "5%           9.000000\n",
      "25%         13.000000\n",
      "50%         16.000000\n",
      "75%         21.000000\n",
      "95%         65.000000\n",
      "max       6575.000000\n",
      "Name: progress, dtype: float64\n"
     ]
    },
    {
     "data": {
      "image/png": "[encoded data removed]",
      "text/plain": [
       "<Figure size 720x360 with 1 Axes>"
      ]
     },
     "metadata": {
      "needs_background": "light"
     },
     "output_type": "display_data"
    }
   ],
   "source": [
    "item_count = group_by_and_plot(df, group_by_name='item_id', rating_col_name='progress', quantile=0.99, title='Количество прочтений у книги')"
   ]
  },
  {
   "cell_type": "markdown",
   "id": "8db8372a",
   "metadata": {
    "id": "8db8372a"
   },
   "source": [
    "Данные довольно плотные, у 95% пользователей более трех взаимодействий, у 95% книг более 9 прочтений"
   ]
  },
  {
   "cell_type": "code",
   "execution_count": 26,
   "id": "4e811a8b",
   "metadata": {
    "colab": {
     "base_uri": "https://localhost:8080/",
     "height": 523
    },
    "id": "4e811a8b",
    "outputId": "c20c48f4-1490-4dda-fdde-22b2413bc2f6"
   },
   "outputs": [
    {
     "name": "stdout",
     "output_type": "stream",
     "text": [
      "count    101885.000000\n",
      "mean          2.800579\n",
      "std          10.026988\n",
      "min           1.000000\n",
      "5%            1.000000\n",
      "25%           1.000000\n",
      "50%           1.000000\n",
      "75%           2.000000\n",
      "95%           5.000000\n",
      "max         691.000000\n",
      "Name: rating, dtype: float64\n"
     ]
    },
    {
     "data": {
      "text/plain": [
       "user_id\n",
       "0         2\n",
       "1         3\n",
       "2         1\n",
       "3         1\n",
       "6         1\n",
       "         ..\n",
       "158804    1\n",
       "158805    1\n",
       "158806    1\n",
       "158809    1\n",
       "158810    2\n",
       "Name: rating, Length: 101885, dtype: int64"
      ]
     },
     "execution_count": 26,
     "metadata": {},
     "output_type": "execute_result"
    },
    {
     "data": {
      "image/png": "[encoded data removed]",
      "text/plain": [
       "<Figure size 720x360 with 1 Axes>"
      ]
     },
     "metadata": {
      "needs_background": "light"
     },
     "output_type": "display_data"
    }
   ],
   "source": [
    "group_by_and_plot(df[~df['rating'].isna()], group_by_name='user_id', rating_col_name='rating', quantile=0.99, title='Количество оценок у пользователя')"
   ]
  },
  {
   "cell_type": "markdown",
   "id": "9f440890",
   "metadata": {
    "id": "9f440890"
   },
   "source": [
    "Оценок гораздо меньше. Часто мы не хотим что-то рекомендовать человеку на основании одной оценки или строить матричные разложения/учить сетки на супер-разреженных данных, и поэтому используем implicit feedback."
   ]
  },
  {
   "cell_type": "markdown",
   "id": "a6f0377d",
   "metadata": {
    "id": "a6f0377d"
   },
   "source": [
    "<a id='filter'></a>\n",
    "# 0 Фильтрация данных"
   ]
  },
  {
   "cell_type": "markdown",
   "id": "390d4551",
   "metadata": {
    "id": "390d4551"
   },
   "source": [
    "Будем использовать историю чтения книг, а не оценки, так как этих данных больше и они могут лучше характеризовать актуальные предпочтения пользователей. \n",
    "\n",
    "Что такое релевантная книга по доле прочитанного? Прочитанная на 100%? А если на 60%?\n",
    "Самый простой способ — отталкиваться от бизнес-требований и бизнес-метрик. У нас нет бизнес-задачи, поэтому придумаем сами!\n"
   ]
  },
  {
   "cell_type": "markdown",
   "id": "a15860e0",
   "metadata": {
    "id": "a15860e0"
   },
   "source": [
    "### Оставим взаимодействия с progress > 50"
   ]
  },
  {
   "cell_type": "code",
   "execution_count": 27,
   "id": "1ffca0fb",
   "metadata": {
    "id": "1ffca0fb"
   },
   "outputs": [],
   "source": [
    "filtered_df = df[df['progress'] > 50]"
   ]
  },
  {
   "cell_type": "code",
   "execution_count": 28,
   "id": "067ffdae",
   "metadata": {
    "colab": {
     "base_uri": "https://localhost:8080/"
    },
    "id": "067ffdae",
    "outputId": "576899e3-f730-404a-f729-f0e0f5706cf1"
   },
   "outputs": [
    {
     "name": "stdout",
     "output_type": "stream",
     "text": [
      "Длина лога = 712368,\n",
      "количество пользователей = 143465,\n",
      "количество объектов = 59560\n"
     ]
    }
   ],
   "source": [
    "get_log_info(filtered_df)"
   ]
  },
  {
   "cell_type": "markdown",
   "id": "7d707085",
   "metadata": {
    "id": "7d707085"
   },
   "source": [
    "### Удалим объекты с менее 3 взаимодействиями и пользователей с менее 5 взаимодействиями\n",
    "\n",
    "Облегчим себе жизнь и уменьшим размеры датасета. В индустрии и академии тоже так делают)\n",
    "\n",
    "1) оставьте в filtered_df книги с 3 и более взаимодействиями, \n",
    "\n",
    "2) после этого оставьте в filtered_df пользователей с 5 и более взаимодействиями"
   ]
  },
  {
   "cell_type": "code",
   "execution_count": 29,
   "id": "f89a5186",
   "metadata": {
    "id": "f89a5186"
   },
   "outputs": [],
   "source": [
    "item_counts = filtered_df.groupby('item_id')['user_id'].count()\n",
    "pop_items = item_counts[item_counts > 2]\n",
    "filtered_df = filtered_df[filtered_df['item_id'].isin(pop_items.index)]"
   ]
  },
  {
   "cell_type": "code",
   "execution_count": 30,
   "id": "0c30e757",
   "metadata": {
    "id": "0c30e757"
   },
   "outputs": [],
   "source": [
    "user_counts = filtered_df.groupby('user_id')['item_id'].count()\n",
    "pop_users = user_counts[user_counts > 4]\n",
    "filtered_df = filtered_df[filtered_df['user_id'].isin(pop_users.index)]"
   ]
  },
  {
   "cell_type": "code",
   "execution_count": 31,
   "id": "df4d5fa2",
   "metadata": {
    "colab": {
     "base_uri": "https://localhost:8080/"
    },
    "id": "df4d5fa2",
    "outputId": "1623bd63-5e37-4e27-fcbc-f0c15dc8bdcb"
   },
   "outputs": [
    {
     "name": "stdout",
     "output_type": "stream",
     "text": [
      "Длина лога = 446121,\n",
      "количество пользователей = 37004,\n",
      "количество объектов = 56752\n"
     ]
    }
   ],
   "source": [
    "get_log_info(filtered_df)"
   ]
  },
  {
   "cell_type": "code",
   "execution_count": 32,
   "id": "1e824962",
   "metadata": {
    "id": "1e824962"
   },
   "outputs": [],
   "source": [
    "assert filtered_df.shape[0] == 446121\n",
    "assert filtered_df['user_id'].nunique() == 37004"
   ]
  },
  {
   "cell_type": "markdown",
   "id": "02c48652",
   "metadata": {
    "id": "02c48652"
   },
   "source": [
    "# 1 Разбиение данных\n",
    "\n",
    "Как построить локальную валидацию? \n",
    "Опять же, исходя из реальной задачи. В реальности у нас есть срез истории взаимодействия в прошлом и мы хотим предсказать предпочтения пользователей в будущем.\n",
    "В статьях разных лет используются:\n",
    "- случайное разбиение\n",
    "- случайное внутри истории пользователя (k item-ов каждого пользователя в test)\n",
    "- leave-one-out / leave-k-out  по времени\n",
    "- time-based (например, взаимодействия в течение будущих 7 дней)\n",
    "\n",
    "Почему плохо разбивать без учета timestamp? "
   ]
  },
  {
   "cell_type": "markdown",
   "id": "49be822a",
   "metadata": {
    "id": "49be822a"
   },
   "source": [
    "Реализуем time-based разбиение, оставим в test только активных пользователей и возьмем первые K взаимодействий."
   ]
  },
  {
   "cell_type": "code",
   "execution_count": 33,
   "id": "tRNRQEoqfeGk",
   "metadata": {
    "colab": {
     "base_uri": "https://localhost:8080/",
     "height": 505
    },
    "id": "tRNRQEoqfeGk",
    "outputId": "3635cdb1-5404-45a0-b89a-2c785bf8bda8"
   },
   "outputs": [
    {
     "data": {
      "text/html": [
       "<iframe src=\"https://drive.google.com/file/d/1L7dgH9lMYHBpxPASPJEUjm8U3_f9VrdQ/preview\" width=\"640\" height=\"480\" allow=\"autoplay\"></iframe>\n"
      ],
      "text/plain": [
       "<IPython.core.display.HTML object>"
      ]
     },
     "metadata": {},
     "output_type": "display_data"
    }
   ],
   "source": [
    "%%html\n",
    "<iframe src=\"https://drive.google.com/file/d/1L7dgH9lMYHBpxPASPJEUjm8U3_f9VrdQ/preview\" width=\"640\" height=\"480\" allow=\"autoplay\"></iframe>"
   ]
  },
  {
   "cell_type": "markdown",
   "id": "40300326",
   "metadata": {},
   "source": [
    "Вообще лучше не ограничиваться одним сплитом, а делать blocking time series cross-validation (но не будем)"
   ]
  },
  {
   "cell_type": "markdown",
   "id": "9e0eb25c",
   "metadata": {},
   "source": [
    "![blocking cv](https://hub.packtpub.com/wp-content/uploads/2019/05/Blocking-Time-Series-Split.png)"
   ]
  },
  {
   "cell_type": "markdown",
   "id": "6bb5183a",
   "metadata": {
    "id": "6bb5183a"
   },
   "source": [
    "## Разобьем датасет на train и test по времени, взяв 20% наиболее свежих взаимодействий в test"
   ]
  },
  {
   "cell_type": "code",
   "execution_count": 34,
   "id": "37e42e4b",
   "metadata": {
    "id": "37e42e4b"
   },
   "outputs": [],
   "source": [
    "train_by_date = filtered_df[filtered_df['start_date'] <= filtered_df['start_date'].quantile(0.8)]\n",
    "test_by_date = filtered_df[filtered_df['start_date'] > filtered_df['start_date'].quantile(0.8)]"
   ]
  },
  {
   "cell_type": "code",
   "execution_count": 35,
   "id": "4b854eab",
   "metadata": {
    "id": "4b854eab"
   },
   "outputs": [],
   "source": [
    "assert train_by_date.shape[0] == 357518\n",
    "assert test_by_date.shape[0] == 88603"
   ]
  },
  {
   "cell_type": "markdown",
   "id": "a86210bf",
   "metadata": {
    "id": "a86210bf"
   },
   "source": [
    "## Оставим в test только пользователей, у которых в test 5 и более взаимодействий и возьмем первые 5 из них"
   ]
  },
  {
   "cell_type": "code",
   "execution_count": 36,
   "id": "33475ca7",
   "metadata": {
    "id": "33475ca7"
   },
   "outputs": [],
   "source": [
    "counts_in_test = test_by_date.groupby('user_id')['item_id'].count()\n",
    "test_by_date = test_by_date[test_by_date['user_id'].isin(counts_in_test[counts_in_test > 4].index)]\n",
    "test_by_date['rank'] = test_by_date.groupby('user_id')['start_date'].rank(method=\"first\", ascending=True)\n",
    "test_by_date = test_by_date[test_by_date['rank'] <= 5].drop(columns=['rank'])\n",
    "\n",
    "# удалим холодных пользователей\n",
    "test_by_date = test_by_date[test_by_date['user_id'].isin(train_by_date['user_id'].unique())]\n",
    "test_by_date_users = test_by_date['user_id'].drop_duplicates()"
   ]
  },
  {
   "cell_type": "code",
   "execution_count": 37,
   "id": "115a5422",
   "metadata": {
    "id": "115a5422"
   },
   "outputs": [],
   "source": [
    "assert test_by_date.shape[0] == 15230"
   ]
  },
  {
   "cell_type": "code",
   "execution_count": 38,
   "id": "bb950a49",
   "metadata": {
    "colab": {
     "base_uri": "https://localhost:8080/"
    },
    "id": "bb950a49",
    "outputId": "e1ddd6ce-8118-43d4-94aa-d6afec9a73f6"
   },
   "outputs": [
    {
     "name": "stdout",
     "output_type": "stream",
     "text": [
      "Длина лога = 357518,\n",
      "количество пользователей = 36823,\n",
      "количество объектов = 55098\n"
     ]
    }
   ],
   "source": [
    "get_log_info(train_by_date)"
   ]
  },
  {
   "cell_type": "code",
   "execution_count": 39,
   "id": "6b779b69",
   "metadata": {
    "colab": {
     "base_uri": "https://localhost:8080/"
    },
    "id": "6b779b69",
    "outputId": "397605a5-e3fb-4353-85b3-a13fe04d64a2"
   },
   "outputs": [
    {
     "name": "stdout",
     "output_type": "stream",
     "text": [
      "Длина лога = 15230,\n",
      "количество пользователей = 3046,\n",
      "количество объектов = 7825\n"
     ]
    }
   ],
   "source": [
    "get_log_info(test_by_date)"
   ]
  },
  {
   "cell_type": "markdown",
   "id": "52ad0220",
   "metadata": {
    "id": "52ad0220"
   },
   "source": [
    "# 2 Первая модель — рекомендуем популярное"
   ]
  },
  {
   "cell_type": "markdown",
   "id": "191b6c35",
   "metadata": {
    "id": "191b6c35"
   },
   "source": [
    "Самый простой рекомендатель — модель, которая будет рекомендовать популярные книги (книги, которые чаще всего читали). Построим такую модель."
   ]
  },
  {
   "cell_type": "markdown",
   "id": "76d83d86",
   "metadata": {
    "id": "76d83d86"
   },
   "source": [
    "## 2.1 Задание: посчитайте популярность (число пользователей, читавших книгу, к общему числу пользователей) книг по train-датасету и выведите топ-10 самых популярных книг с названиями. "
   ]
  },
  {
   "cell_type": "code",
   "execution_count": 40,
   "id": "d2eb7c0f",
   "metadata": {
    "id": "d2eb7c0f"
   },
   "outputs": [],
   "source": [
    "# ======= YOUR CODE HERE ==========\n",
    "popularity = train_by_date.groupby('item_id')['user_id'].count().rename('popularity').sort_values(ascending=False)\n",
    "popularity /= train_by_date['user_id'].nunique()"
   ]
  },
  {
   "cell_type": "code",
   "execution_count": 41,
   "id": "82f011f9",
   "metadata": {
    "id": "82f011f9"
   },
   "outputs": [],
   "source": [
    "assert math.isclose(popularity[16683], 0.016050, abs_tol=1e-6)"
   ]
  },
  {
   "cell_type": "code",
   "execution_count": 42,
   "id": "d29d6ffe",
   "metadata": {
    "colab": {
     "base_uri": "https://localhost:8080/",
     "height": 390
    },
    "id": "d29d6ffe",
    "outputId": "fc523668-a0d8-4b8e-d26a-3abc2e7d024c"
   },
   "outputs": [
    {
     "data": {
      "text/html": [
       "<div>\n",
       "<style scoped>\n",
       "    .dataframe tbody tr th:only-of-type {\n",
       "        vertical-align: middle;\n",
       "    }\n",
       "\n",
       "    .dataframe tbody tr th {\n",
       "        vertical-align: top;\n",
       "    }\n",
       "\n",
       "    .dataframe thead th {\n",
       "        text-align: right;\n",
       "    }\n",
       "</style>\n",
       "<table border=\"1\" class=\"dataframe\">\n",
       "  <thead>\n",
       "    <tr style=\"text-align: right;\">\n",
       "      <th></th>\n",
       "      <th>popularity</th>\n",
       "      <th>title</th>\n",
       "      <th>genres</th>\n",
       "      <th>authors</th>\n",
       "      <th>year</th>\n",
       "    </tr>\n",
       "    <tr>\n",
       "      <th>item_id</th>\n",
       "      <th></th>\n",
       "      <th></th>\n",
       "      <th></th>\n",
       "      <th></th>\n",
       "      <th></th>\n",
       "    </tr>\n",
       "  </thead>\n",
       "  <tbody>\n",
       "    <tr>\n",
       "      <th>16683</th>\n",
       "      <td>0.016050</td>\n",
       "      <td>Зулейха открывает глаза</td>\n",
       "      <td>Современная русская литература</td>\n",
       "      <td>Гузель Яхина</td>\n",
       "      <td>2015</td>\n",
       "    </tr>\n",
       "    <tr>\n",
       "      <th>59157</th>\n",
       "      <td>0.013633</td>\n",
       "      <td>Черновик</td>\n",
       "      <td>Научная фантастика</td>\n",
       "      <td>Сергей Лукьяненко</td>\n",
       "      <td>2004-05</td>\n",
       "    </tr>\n",
       "    <tr>\n",
       "      <th>49181</th>\n",
       "      <td>0.012791</td>\n",
       "      <td>После</td>\n",
       "      <td>Зарубежные любовные романы,Современные любовны...</td>\n",
       "      <td>Анна Тодд</td>\n",
       "      <td>2014</td>\n",
       "    </tr>\n",
       "    <tr>\n",
       "      <th>22649</th>\n",
       "      <td>0.012709</td>\n",
       "      <td>Снеговик</td>\n",
       "      <td>Зарубежные детективы,Триллеры,Полицейские дете...</td>\n",
       "      <td>Ю Несбё</td>\n",
       "      <td>2007</td>\n",
       "    </tr>\n",
       "    <tr>\n",
       "      <th>20939</th>\n",
       "      <td>0.010673</td>\n",
       "      <td>После ссоры</td>\n",
       "      <td>Зарубежные любовные романы,Современные любовны...</td>\n",
       "      <td>Анна Тодд</td>\n",
       "      <td>2014</td>\n",
       "    </tr>\n",
       "    <tr>\n",
       "      <th>50905</th>\n",
       "      <td>0.010591</td>\n",
       "      <td>Чистовик</td>\n",
       "      <td>Научная фантастика</td>\n",
       "      <td>Сергей Лукьяненко</td>\n",
       "      <td>2007</td>\n",
       "    </tr>\n",
       "    <tr>\n",
       "      <th>46704</th>\n",
       "      <td>0.010401</td>\n",
       "      <td>Земное притяжение</td>\n",
       "      <td>Современные детективы,Остросюжетные любовные р...</td>\n",
       "      <td>Татьяна Устинова</td>\n",
       "      <td>2017</td>\n",
       "    </tr>\n",
       "    <tr>\n",
       "      <th>29612</th>\n",
       "      <td>0.008663</td>\n",
       "      <td>Пятьдесят оттенков серого</td>\n",
       "      <td>Эротические романы,Зарубежные любовные романы</td>\n",
       "      <td>Э. Л. Джеймс</td>\n",
       "      <td>2012</td>\n",
       "    </tr>\n",
       "    <tr>\n",
       "      <th>18388</th>\n",
       "      <td>0.008500</td>\n",
       "      <td>Сила подсознания, или Как изменить жизнь за 4 ...</td>\n",
       "      <td>Практическая эзотерика,Эзотерика / оккультизм,...</td>\n",
       "      <td>Джо Диспенза</td>\n",
       "      <td>2013</td>\n",
       "    </tr>\n",
       "    <tr>\n",
       "      <th>50385</th>\n",
       "      <td>0.008337</td>\n",
       "      <td>Струны волшебства. Книга первая. Страшные сказ...</td>\n",
       "      <td>Героическое фэнтези,Книги про волшебников</td>\n",
       "      <td>Милена Завойчинская</td>\n",
       "      <td>2018</td>\n",
       "    </tr>\n",
       "  </tbody>\n",
       "</table>\n",
       "</div>"
      ],
      "text/plain": [
       "         popularity                                              title  \\\n",
       "item_id                                                                  \n",
       "16683      0.016050                            Зулейха открывает глаза   \n",
       "59157      0.013633                                           Черновик   \n",
       "49181      0.012791                                              После   \n",
       "22649      0.012709                                           Снеговик   \n",
       "20939      0.010673                                        После ссоры   \n",
       "50905      0.010591                                           Чистовик   \n",
       "46704      0.010401                                  Земное притяжение   \n",
       "29612      0.008663                          Пятьдесят оттенков серого   \n",
       "18388      0.008500  Сила подсознания, или Как изменить жизнь за 4 ...   \n",
       "50385      0.008337  Струны волшебства. Книга первая. Страшные сказ...   \n",
       "\n",
       "                                                    genres  \\\n",
       "item_id                                                      \n",
       "16683                       Современная русская литература   \n",
       "59157                                   Научная фантастика   \n",
       "49181    Зарубежные любовные романы,Современные любовны...   \n",
       "22649    Зарубежные детективы,Триллеры,Полицейские дете...   \n",
       "20939    Зарубежные любовные романы,Современные любовны...   \n",
       "50905                                   Научная фантастика   \n",
       "46704    Современные детективы,Остросюжетные любовные р...   \n",
       "29612        Эротические романы,Зарубежные любовные романы   \n",
       "18388    Практическая эзотерика,Эзотерика / оккультизм,...   \n",
       "50385            Героическое фэнтези,Книги про волшебников   \n",
       "\n",
       "                     authors     year  \n",
       "item_id                                \n",
       "16683           Гузель Яхина     2015  \n",
       "59157      Сергей Лукьяненко  2004-05  \n",
       "49181              Анна Тодд     2014  \n",
       "22649                Ю Несбё     2007  \n",
       "20939              Анна Тодд     2014  \n",
       "50905      Сергей Лукьяненко     2007  \n",
       "46704       Татьяна Устинова     2017  \n",
       "29612           Э. Л. Джеймс     2012  \n",
       "18388           Джо Диспенза     2013  \n",
       "50385    Милена Завойчинская     2018  "
      ]
     },
     "execution_count": 42,
     "metadata": {},
     "output_type": "execute_result"
    }
   ],
   "source": [
    "pd.DataFrame(popularity).merge(i_features, on='item_id').head(10)"
   ]
  },
  {
   "cell_type": "markdown",
   "id": "24857dca",
   "metadata": {
    "id": "24857dca"
   },
   "source": [
    "### Первая книга — Зулейха открывает глаза? Значит все ок. Поздравляю, вы написали первую рекомендательную систему!"
   ]
  },
  {
   "cell_type": "markdown",
   "id": "9bc04c15",
   "metadata": {
    "id": "9bc04c15"
   },
   "source": [
    "Что не так?\n",
    "- Мы все-таки хотим предсказывать для пользователя, и хотим отфильтровать уже прочитанные им книги\n",
    "- Хотим получить predict для пользователей в виде датафрейма с колонками `user_id - item_id - relevance`\n",
    "- Хотим уметь получать нужное количество рекомендаций для каждого пользователя\n",
    "- Хотим в конце концов делать fit - predict!\n",
    "\n",
    "Поэтому сделаем базовый класс для рекомендателя, и будем наследовать от него наши алгоритмы."
   ]
  },
  {
   "cell_type": "markdown",
   "id": "3e90898d",
   "metadata": {
    "id": "3e90898d"
   },
   "source": [
    "# 3 Класс ParentModel"
   ]
  },
  {
   "cell_type": "markdown",
   "id": "5907a573",
   "metadata": {
    "id": "5907a573"
   },
   "source": [
    "## 3.1 Задание: посмотрите на код ниже и убедитесь, что вы поняли, \n",
    "- как работают leave_top_k и _filter_seen\n",
    "- что делает predict\n",
    "- что predict вызывает _predict, в котором уже реализуется логика predict моделью"
   ]
  },
  {
   "cell_type": "code",
   "execution_count": 43,
   "id": "8dc00e6e",
   "metadata": {
    "id": "8dc00e6e"
   },
   "outputs": [],
   "source": [
    "from copy import deepcopy"
   ]
  },
  {
   "cell_type": "code",
   "execution_count": 44,
   "id": "c0497b4a",
   "metadata": {
    "id": "c0497b4a"
   },
   "outputs": [],
   "source": [
    "def leave_top_k(pred: pd.DataFrame, \n",
    "                 k: int,\n",
    "                 group_by_col: str='user_id',\n",
    "                 order_by_col: str='relevance') -> pd.DataFrame:\n",
    "    \"\"\"\n",
    "    crop predictions to leave top-k recommendations for each user\n",
    "    \"\"\"\n",
    "    if pred.groupby(group_by_col)[group_by_col].count().max() <= k:\n",
    "        return pred\n",
    "    cropped_pred = deepcopy(pred)\n",
    "    cropped_pred['rank'] = (cropped_pred\n",
    "                            .groupby(group_by_col)[[order_by_col]]\n",
    "                            .rank(method=\"first\", ascending=False))\n",
    "    cropped_pred = cropped_pred[cropped_pred['rank'] <= k].drop(columns=['rank'])\n",
    "    return cropped_pred\n",
    "\n",
    "\n",
    "def filter_seen_items(log: pd.DataFrame, \n",
    "                 pred: pd.DataFrame) -> pd.DataFrame:\n",
    "    \"\"\"\n",
    "    filter pairs `user-item` present in log out of pred\n",
    "    \"\"\"\n",
    "    log_filtered = log[log['user_id'].isin(pred['user_id'].unique())]\n",
    "    pred = pred.merge(log_filtered[['user_id', 'item_id']].drop_duplicates(), \n",
    "                                on=['user_id', 'item_id'], \n",
    "                                how='outer', \n",
    "                                indicator = True)\n",
    "    return pred[pred['_merge'] == 'left_only'].drop(columns=['_merge'])\n",
    "\n",
    "\n",
    "class ParentModel:\n",
    "    @abc.abstractmethod\n",
    "    def fit(self, \n",
    "            log: pd.DataFrame, \n",
    "            user_features: Optional[pd.DataFrame]=None, \n",
    "            item_features: Optional[pd.DataFrame]=None):\n",
    "        \"\"\"\n",
    "        fit recommender\n",
    "        \n",
    "        Parameters\n",
    "        ----------\n",
    "        log : pandas dataframe with columns [user_id, item_id, timestamp, relevance]\n",
    "        user_features : pandas dataframe with column `user_id` and features columns\n",
    "        item_features : pandas dataframe with column `item_id` and features columns\n",
    "\n",
    "        Returns\n",
    "        -------\n",
    "        \n",
    "        \"\"\"\n",
    "    \n",
    "    \n",
    "    def predict(self, \n",
    "                log: pd.DataFrame, \n",
    "                users: pd.Series, \n",
    "                k: int,\n",
    "                user_features: Optional[pd.DataFrame]=None, \n",
    "                item_features: Optional[pd.DataFrame]=None,\n",
    "                filter_seen: bool = True) -> pd.DataFrame:\n",
    "        \"\"\"\n",
    "        predict with fitted model, filter seen and crop to top-k for each user\n",
    "        \n",
    "        Parameters\n",
    "        ----------\n",
    "        log: pandas dataframe with columns [user_id, item_id, timestamp, relevance]\n",
    "            used to filter seen and to make predictions by some models\n",
    "        users: user ids to recommend for\n",
    "        k: number of recommendations for each user\n",
    "        user_features: pandas dataframe with column `user_id` and features columns\n",
    "        item_features: pandas dataframe with column `item_id` and features columns\n",
    "        filter_seen: if True, items present in user history are filtered from predictions\n",
    "\n",
    "        Returns\n",
    "        -------\n",
    "        pandas dataframe with columns [user_id, item_id, relevance] \n",
    "            top-k recommended items for each user from `users`.\n",
    "        \"\"\"\n",
    "        \n",
    "        # overhead\n",
    "        max_items_in_train = log.groupby('user_id')[['item_id']].count().max()[0] if filter_seen else 0\n",
    "        \n",
    "        pred = self._predict(\n",
    "            log=log,\n",
    "            users=users, \n",
    "            k=max_items_in_train+k,\n",
    "            user_features=user_features, \n",
    "            item_features=item_features,\n",
    "            filter_seen=filter_seen)\n",
    "        if filter_seen:\n",
    "            pred = filter_seen_items(log, pred)\n",
    "            \n",
    "        return leave_top_k(pred, k)\n",
    "    \n",
    "    \n",
    "    @abc.abstractmethod    \n",
    "    def _predict(self, \n",
    "                log: pd.DataFrame, \n",
    "                users: pd.Series, \n",
    "                k: int,\n",
    "                user_features: Optional[pd.DataFrame]=None, \n",
    "                item_features: Optional[pd.DataFrame]=None,\n",
    "                filter_seen:bool = True) -> pd.DataFrame:\n",
    "        \"\"\"\n",
    "        predict with fitted model\n",
    "        \"\"\""
   ]
  },
  {
   "cell_type": "markdown",
   "id": "60888ddf",
   "metadata": {
    "id": "60888ddf"
   },
   "source": [
    "## Модель для рекомендаций популярного\n",
    "- допишите fit. Сохраните популярность объектов в атрибуте items_popularity\n",
    "- допишите _predict (фильтрацию просмотренных за вас потом сделает predict). \n",
    "\n",
    "relevance = популярность книги, число пользователей, читавших книгу, к общему числу пользователей"
   ]
  },
  {
   "cell_type": "code",
   "execution_count": 45,
   "id": "565efd80",
   "metadata": {
    "id": "565efd80"
   },
   "outputs": [],
   "source": [
    "class PopularModel(ParentModel):\n",
    "    items_popularity: pd.DataFrame\n",
    "        \n",
    "    def fit(self, \n",
    "            log: pd.DataFrame, \n",
    "            user_features: Optional[pd.DataFrame]=None, \n",
    "            item_features: Optional[pd.DataFrame]=None) -> 'PopularModel':\n",
    "        # ======= YOUR CODE HERE ==========\n",
    "        self.items_popularity = log.groupby('item_id')['user_id'].count().sort_values(ascending=False).rename('popularity') / log['user_id'].nunique()\n",
    "        # =================================\n",
    "        return self\n",
    "        \n",
    "    def _predict(self, \n",
    "                log: pd.DataFrame, \n",
    "                users: pd.Series, \n",
    "                k: int,\n",
    "                user_features: Optional[pd.DataFrame]=None, \n",
    "                item_features: Optional[pd.DataFrame]=None,\n",
    "                filter_seen:bool = True) -> pd.DataFrame:\n",
    "        # ======= YOUR CODE HERE ==========\n",
    "        users_to_join = pd.DataFrame(users)\n",
    "        users_to_join['key'] = 0\n",
    "        pred = pd.DataFrame({'item_id': self.items_popularity[:k].index.to_list(),\n",
    "                     'relevance': self.items_popularity[:k].values})\n",
    "        pred['key'] = 0\n",
    "        return users_to_join.merge(pred, on='key', how='outer').drop(columns=['key']).reset_index(drop=True)\n",
    "        # =================================\n"
   ]
  },
  {
   "cell_type": "code",
   "execution_count": 46,
   "id": "8b914c87",
   "metadata": {
    "colab": {
     "base_uri": "https://localhost:8080/"
    },
    "id": "8b914c87",
    "outputId": "821c89ac-50dc-41bc-e9fa-6bee25342033"
   },
   "outputs": [
    {
     "name": "stdout",
     "output_type": "stream",
     "text": [
      "CPU times: user 22.8 ms, sys: 5.19 ms, total: 27.9 ms\n",
      "Wall time: 26.4 ms\n"
     ]
    },
    {
     "data": {
      "text/plain": [
       "<__main__.PopularModel at 0x1324b2d60>"
      ]
     },
     "execution_count": 46,
     "metadata": {},
     "output_type": "execute_result"
    }
   ],
   "source": [
    "%%time\n",
    "rec = PopularModel()\n",
    "rec.fit(train_by_date)"
   ]
  },
  {
   "cell_type": "code",
   "execution_count": 47,
   "id": "8c2400f7",
   "metadata": {
    "colab": {
     "base_uri": "https://localhost:8080/"
    },
    "id": "8c2400f7",
    "outputId": "b894a503-3a74-41b6-a8db-cb48377adc55"
   },
   "outputs": [
    {
     "name": "stdout",
     "output_type": "stream",
     "text": [
      "CPU times: user 1.55 s, sys: 570 ms, total: 2.12 s\n",
      "Wall time: 2.22 s\n"
     ]
    }
   ],
   "source": [
    "%%time\n",
    "pred = rec.predict(log=train_by_date, users=test_by_date_users, k=K, filter_seen=True)"
   ]
  },
  {
   "cell_type": "code",
   "execution_count": 48,
   "id": "Q1qpMYrZfK2q",
   "metadata": {
    "colab": {
     "base_uri": "https://localhost:8080/",
     "height": 390
    },
    "id": "Q1qpMYrZfK2q",
    "outputId": "9564eee7-6391-4568-d91a-4bef13fb9d68"
   },
   "outputs": [
    {
     "data": {
      "text/html": [
       "<div>\n",
       "<style scoped>\n",
       "    .dataframe tbody tr th:only-of-type {\n",
       "        vertical-align: middle;\n",
       "    }\n",
       "\n",
       "    .dataframe tbody tr th {\n",
       "        vertical-align: top;\n",
       "    }\n",
       "\n",
       "    .dataframe thead th {\n",
       "        text-align: right;\n",
       "    }\n",
       "</style>\n",
       "<table border=\"1\" class=\"dataframe\">\n",
       "  <thead>\n",
       "    <tr style=\"text-align: right;\">\n",
       "      <th></th>\n",
       "      <th>user_id</th>\n",
       "      <th>item_id</th>\n",
       "      <th>relevance</th>\n",
       "    </tr>\n",
       "  </thead>\n",
       "  <tbody>\n",
       "    <tr>\n",
       "      <th>0</th>\n",
       "      <td>112167</td>\n",
       "      <td>16683</td>\n",
       "      <td>0.016050</td>\n",
       "    </tr>\n",
       "    <tr>\n",
       "      <th>1</th>\n",
       "      <td>112167</td>\n",
       "      <td>59157</td>\n",
       "      <td>0.013633</td>\n",
       "    </tr>\n",
       "    <tr>\n",
       "      <th>2</th>\n",
       "      <td>112167</td>\n",
       "      <td>49181</td>\n",
       "      <td>0.012791</td>\n",
       "    </tr>\n",
       "    <tr>\n",
       "      <th>3</th>\n",
       "      <td>112167</td>\n",
       "      <td>22649</td>\n",
       "      <td>0.012709</td>\n",
       "    </tr>\n",
       "    <tr>\n",
       "      <th>4</th>\n",
       "      <td>112167</td>\n",
       "      <td>20939</td>\n",
       "      <td>0.010673</td>\n",
       "    </tr>\n",
       "    <tr>\n",
       "      <th>5</th>\n",
       "      <td>112167</td>\n",
       "      <td>50905</td>\n",
       "      <td>0.010591</td>\n",
       "    </tr>\n",
       "    <tr>\n",
       "      <th>6</th>\n",
       "      <td>112167</td>\n",
       "      <td>46704</td>\n",
       "      <td>0.010401</td>\n",
       "    </tr>\n",
       "    <tr>\n",
       "      <th>7</th>\n",
       "      <td>112167</td>\n",
       "      <td>29612</td>\n",
       "      <td>0.008663</td>\n",
       "    </tr>\n",
       "    <tr>\n",
       "      <th>8</th>\n",
       "      <td>112167</td>\n",
       "      <td>18388</td>\n",
       "      <td>0.008500</td>\n",
       "    </tr>\n",
       "    <tr>\n",
       "      <th>9</th>\n",
       "      <td>112167</td>\n",
       "      <td>50385</td>\n",
       "      <td>0.008337</td>\n",
       "    </tr>\n",
       "    <tr>\n",
       "      <th>846</th>\n",
       "      <td>85874</td>\n",
       "      <td>16683</td>\n",
       "      <td>0.016050</td>\n",
       "    </tr>\n",
       "  </tbody>\n",
       "</table>\n",
       "</div>"
      ],
      "text/plain": [
       "     user_id  item_id  relevance\n",
       "0     112167    16683   0.016050\n",
       "1     112167    59157   0.013633\n",
       "2     112167    49181   0.012791\n",
       "3     112167    22649   0.012709\n",
       "4     112167    20939   0.010673\n",
       "5     112167    50905   0.010591\n",
       "6     112167    46704   0.010401\n",
       "7     112167    29612   0.008663\n",
       "8     112167    18388   0.008500\n",
       "9     112167    50385   0.008337\n",
       "846    85874    16683   0.016050"
      ]
     },
     "execution_count": 48,
     "metadata": {},
     "output_type": "execute_result"
    }
   ],
   "source": [
    "pred.head(11)"
   ]
  },
  {
   "cell_type": "code",
   "execution_count": 49,
   "id": "86176cf7",
   "metadata": {
    "id": "86176cf7"
   },
   "outputs": [],
   "source": [
    "assert pred.shape[0] == test_by_date_users.shape[0] * K\n",
    "assert (pred.groupby('user_id')['item_id'].count() == K).all()\n",
    "assert pred['item_id'].nunique() > K"
   ]
  },
  {
   "cell_type": "markdown",
   "id": "ef6ddc1f",
   "metadata": {
    "id": "ef6ddc1f"
   },
   "source": [
    "## Улучшение рекомендаций популярного\n",
    "Мы рекомендовали популярное, это максимально простая модель, у которой могут быть простые улучшения. Например, можно подобрать период, за который берутся данные или учитывать более \"свежие\" взаимодействия с большим весом."
   ]
  },
  {
   "cell_type": "markdown",
   "id": "45e6c745",
   "metadata": {
    "id": "45e6c745"
   },
   "source": [
    "# 4 Метрики"
   ]
  },
  {
   "cell_type": "markdown",
   "id": "dfd66a31",
   "metadata": {
    "id": "dfd66a31"
   },
   "source": [
    "Как понять, что понравится пользователю? Для максимальной достоверности — порекомендовать и посмотреть на его поведение (кликнет/купит/посмотрит ли рекомендованные айтемы).\n",
    "\n",
    "Но жизнь устроена по-другому!\n",
    "\n",
    "A/B-тестирование - честно, но:\n",
    "- дорого\n",
    "- сложно\n",
    "- рискованно\n",
    "- не походит для прототипирования.\n",
    "\n",
    "A/B на синтетических данных:\n",
    "- не научились пока качественно моделировать поведение пользователей\n",
    "\n",
    "Поэтому в первую очередь для оценки качества применяются offline эксперименты, и измеряют offline-метрики.\n",
    "\n",
    "Метрики качества:\n",
    "- регрессионные метрики (RMSE, MAE)\n",
    "- метрики классификации и ранжирования (precision, recall, Mean Average Precision, NDCG)\n",
    "\n",
    "Метрики разнообразия:\n",
    "- coverage, surprisal, diversity, ets"
   ]
  },
  {
   "cell_type": "code",
   "execution_count": 50,
   "id": "45217a5e",
   "metadata": {},
   "outputs": [],
   "source": [
    "# ! pip install rs_metrics"
   ]
  },
  {
   "cell_type": "code",
   "execution_count": 51,
   "id": "976ffd4e",
   "metadata": {
    "id": "976ffd4e"
   },
   "outputs": [],
   "source": [
    "from rs_metrics import mapr"
   ]
  },
  {
   "cell_type": "markdown",
   "id": "69ef31ac",
   "metadata": {
    "id": "69ef31ac"
   },
   "source": [
    "## Реализуем несколько метрик, специфичных для рекомендательных систем"
   ]
  },
  {
   "cell_type": "markdown",
   "id": "c2938542",
   "metadata": {
    "id": "c2938542"
   },
   "source": [
    "Метрики в рекомендациях часто рассчитываются для каждого пользователя для top-к рекомендаций, в ground truth при этом учитываются все релевантные объекты, а не только top-К. Затем метрики усредняются по пользователям."
   ]
  },
  {
   "cell_type": "markdown",
   "id": "06757a62",
   "metadata": {
    "id": "06757a62"
   },
   "source": [
    "## HitRate\n",
    " = 1, если среди рекомендаций есть хотя бы одна релевантная и 0 иначе\n",
    " \n",
    "## 4.1 Посмотрите на подсчет hit rate для одного пользователя"
   ]
  },
  {
   "cell_type": "code",
   "execution_count": 52,
   "id": "6cac080a",
   "metadata": {
    "id": "6cac080a"
   },
   "outputs": [],
   "source": [
    "def user_hr(row):\n",
    "    \"\"\"\n",
    "    Calculate HitRate value for pandas row with user_id, a list of ground truth items in ``gt_items``\n",
    "    and list or recommended items in ``pred_list``.\n",
    "    \"\"\"\n",
    "    for item in row['pred_list']:\n",
    "        if item in row['gt_list']:\n",
    "            return 1\n",
    "    return 0"
   ]
  },
  {
   "cell_type": "code",
   "execution_count": 53,
   "id": "2af5baa0",
   "metadata": {
    "id": "2af5baa0"
   },
   "outputs": [],
   "source": [
    "assert user_hr(pd.Series({'user_id': 1, 'pred_list': [1, 2, 3], 'gt_list': [4, 5, 2, 6]})) == 1\n",
    "assert user_hr(pd.Series({'user_id': 1, 'pred_list': [1, 3], 'gt_list': [4, 5, 2, 6]})) == 0\n",
    "assert user_hr(pd.Series({'user_id': 1, 'pred_list': [], 'gt_list': [4, 5, 2, 6]})) == 0"
   ]
  },
  {
   "cell_type": "markdown",
   "id": "7c114fe2",
   "metadata": {
    "id": "7c114fe2"
   },
   "source": [
    "## 4.2 Посмотрите на функцию-обертку, которая будет приводить данные в нужный формат, вызывать нужную метрику и считать среднее\n",
    "Перед реализацией подсчета метрики для всех пользователей подумайте:\n",
    "\n",
    "1) Как должны учитываться в метриках пользователи, для которых мы что-то предсказали, но в test они отсутствуют (ничего не купили / не начали читать / вообще не пользовались сервисом)?\n",
    "\n",
    "2) Как должны учитываться пользователи, которые есть в test, но мы не смогли получить для них предсказания (например, модель не предсказывает для холодных)\n",
    "\n",
    "3) Как повлияют на значение метрик пользователи с очень длинной и очень короткой историей в test? Какой самый простой способ бороться с влиянием этих пользователей на значения метрик?"
   ]
  },
  {
   "cell_type": "code",
   "execution_count": 54,
   "id": "75290aaf",
   "metadata": {
    "id": "75290aaf"
   },
   "outputs": [],
   "source": [
    "def metric_wrap(pred, ground_truth, k, metric_by_user):\n",
    "    \"\"\"\n",
    "    Prepare data for metric calculation (create dataframe with columns 'user_id', 'pred_list', 'gt_list').\n",
    "    'pred_list' is a list of top-k recommendation ordered by relevance (most relevant is the first)\n",
    "    'gt_list' is a list of items from tests data.\n",
    "    Return mean metric value and dataframe with metric value for each user\n",
    "    \"\"\"\n",
    "    # ======= YOUR CODE HERE ==========    \n",
    "    pred_cropped = leave_top_k(pred, k)\n",
    "    pred_grouped = (pred_cropped\n",
    "                .sort_values(['user_id', 'relevance'], ascending=[False, False])\n",
    "                .groupby('user_id')['item_id']\n",
    "                .apply(list).rename('pred_list')\n",
    "               )\n",
    "    gt_grouped = ground_truth.groupby('user_id')['item_id'].apply(list).rename('gt_list')\n",
    "    to_compare = gt_grouped.to_frame().join(pred_grouped, how='left')\n",
    "    to_compare['pred_list'] = to_compare['pred_list'].apply(lambda x: x if isinstance(x, list) else [])\n",
    "    # ==================================\n",
    "    metric_by_user = to_compare.apply(metric_by_user, axis=1)\n",
    "    return metric_by_user.mean(), metric_by_user"
   ]
  },
  {
   "cell_type": "code",
   "execution_count": 55,
   "id": "68a468dd",
   "metadata": {
    "id": "68a468dd"
   },
   "outputs": [],
   "source": [
    "metric_all, _ = metric_wrap(pred, test_by_date, k=K, metric_by_user=user_hr)\n",
    "assert math.isclose(metric_all, 0.022324, abs_tol=1e-6)"
   ]
  },
  {
   "cell_type": "code",
   "execution_count": 56,
   "id": "0c6df717",
   "metadata": {
    "id": "0c6df717"
   },
   "outputs": [],
   "source": [
    "metric_part, _ = metric_wrap(pred[:1000], test_by_date, k=K, metric_by_user=user_hr)\n",
    "assert metric_part < metric_all"
   ]
  },
  {
   "cell_type": "markdown",
   "id": "2d48ecb9",
   "metadata": {
    "id": "2d48ecb9"
   },
   "source": [
    "## MRR@K \n",
    "- обратная позиция первой релевантной рекомендации из списка рекомендаций длины K. Если релевантных рекомендаций нет, равен нулю.\n",
    "\n"
   ]
  },
  {
   "cell_type": "markdown",
   "id": "029a3075",
   "metadata": {
    "id": "029a3075"
   },
   "source": [
    "## 4.3 Задание: реализуйте подсчет mrr для одного пользователя"
   ]
  },
  {
   "cell_type": "code",
   "execution_count": 57,
   "id": "bedfc668",
   "metadata": {
    "id": "bedfc668"
   },
   "outputs": [],
   "source": [
    "def user_mrr(row):\n",
    "    \"\"\"\n",
    "    Calculate MRR value for pandas row with list of ground truth items in ``gt_list``\n",
    "    and list or recommended items in ``pred_list``.\n",
    "    \"\"\"\n",
    "    # ======= YOUR CODE HERE ==========\n",
    "    for rank, item in enumerate(row['pred_list']):\n",
    "        if item in row['gt_list']:\n",
    "            return 1 / (rank + 1)\n",
    "    return 0"
   ]
  },
  {
   "cell_type": "code",
   "execution_count": 58,
   "id": "2dcb52cd",
   "metadata": {
    "id": "2dcb52cd"
   },
   "outputs": [],
   "source": [
    "assert user_mrr(pd.Series({'user_id': 1, 'pred_list': [1, 2, 3], 'gt_list': [4, 5, 2, 6]})) == 1/2\n",
    "assert user_mrr(pd.Series({'user_id': 1, 'pred_list': [1, 2, 3], 'gt_list': []})) == 0"
   ]
  },
  {
   "cell_type": "markdown",
   "id": "776db674",
   "metadata": {
    "id": "776db674"
   },
   "source": [
    "# Другие требования к рекомендательным системам и метрики\n",
    "\n",
    "Другие свойства рекомендательных систем, которые хотят измерять и учитывать при выборе решения: \n",
    "- *Coverage* - доля item-ов, учитываемых в рекомендациях, \n",
    "- confidence - уверенность в качестве рекомендаций со стороны системы (можем ли оценить степень уверенности модели в рекомендациях? велика ли она для всех пользователей?),\n",
    "- trust - доверяют ли пользователи рекомендательной системе?\n",
    "- *novelty/surprisal* - степень новизны рекомендаций (пользователь не знает о существовании контента)\n",
    "- *diversity* - разнообразие рекомендаций,\n",
    "- *serendipity* - мера неожиданности полезных рекомендаций"
   ]
  },
  {
   "cell_type": "code",
   "execution_count": 59,
   "id": "DGpAX96UlYsG",
   "metadata": {
    "colab": {
     "base_uri": "https://localhost:8080/",
     "height": 505
    },
    "id": "DGpAX96UlYsG",
    "outputId": "47731f86-34ee-40d1-ce70-24e660f19446"
   },
   "outputs": [
    {
     "data": {
      "text/html": [
       "<iframe src=\"https://drive.google.com/file/d/1XOQpr9C0EjtfmzeOhJOFFjJhV1zzP2co/preview\" width=\"640\" height=\"480\" allow=\"autoplay\"></iframe>\n"
      ],
      "text/plain": [
       "<IPython.core.display.HTML object>"
      ]
     },
     "metadata": {},
     "output_type": "display_data"
    }
   ],
   "source": [
    "%%html\n",
    "<iframe src=\"https://drive.google.com/file/d/1XOQpr9C0EjtfmzeOhJOFFjJhV1zzP2co/preview\" width=\"640\" height=\"480\" allow=\"autoplay\"></iframe>"
   ]
  },
  {
   "cell_type": "markdown",
   "id": "os0poExYllnF",
   "metadata": {
    "id": "os0poExYllnF"
   },
   "source": [
    " - utility - польза для пользователей и владельцев сервиса, \n",
    " - robustness - стабильность при наличии fake information, \n",
    " - privacy - \"people who bought this book also bought\" не выдает интересов конкретного пользователя\n",
    " - adaptivity - быстрота учета фидбэка, \n",
    " - scalability\n",
    "\n",
    "<i>source: Francesco Ricci • Lior Rokach • Bracha Shapira, Recommender Systems Handbook, 2015</i>\n",
    "\n",
    "\n",
    "+ Не хотим рекомендовать кликбейт/контент для взрослых, \n",
    "+ хотим учитывать особенности законодательства\n",
    "+ fairness\n",
    "+ борьба с bias и feedback loop"
   ]
  },
  {
   "cell_type": "markdown",
   "id": "6LigAp0RiJpN",
   "metadata": {
    "id": "6LigAp0RiJpN"
   },
   "source": [
    "О том, какие метрики надо использовать, и как правильно их считать, до сих пор ведутся научные дискуссии и пишутся статьи.\n",
    "Например, [статья с recSys2021](https://dl.acm.org/doi/abs/10.1145/3460231.3478848) про то, что все считают метрики по-разному, называя их одинаково.\n",
    "Или [другая статья](https://dl.acm.org/doi/10.1145/3460231.3474234) с той же конференции, предлагающая способ учесть качество и разнообразие выдачи с помощью одной метрики $\\alpha\\beta$-ndcg."
   ]
  },
  {
   "cell_type": "markdown",
   "id": "2adfb25d",
   "metadata": {
    "id": "2adfb25d"
   },
   "source": [
    "## Coverage\n",
    "Оценим насколько такие рекомендации хороши с точки зрения разнообразия, и для этого реализуем метрику coverage, которая определяется как доля объектов, которые модель в принципе способна порекомендовать. На практике, для сравнения нескольких алгоритмов, может реализовываться как доля объектов, присутствующих в выдаче."
   ]
  },
  {
   "cell_type": "markdown",
   "id": "145e78ab",
   "metadata": {
    "id": "145e78ab"
   },
   "source": [
    "## 4.4 Реализуйте подсчет coverage\n",
    "Обратите внимание, что эта метрика не требует ground truth и считается сразу по всем пользователям"
   ]
  },
  {
   "cell_type": "code",
   "execution_count": 60,
   "id": "3cde59c8",
   "metadata": {
    "id": "3cde59c8"
   },
   "outputs": [],
   "source": [
    "def coverage(pred, k, all_items):\n",
    "    # ======= YOUR CODE HERE ==========\n",
    "    pred_to_consider = set(leave_top_k(pred, k)['item_id'].values)\n",
    "    all_items = set(all_items.values)\n",
    "    return len(pred_to_consider & all_items) / len(all_items)"
   ]
  },
  {
   "cell_type": "code",
   "execution_count": 61,
   "id": "dfa24587",
   "metadata": {
    "id": "dfa24587"
   },
   "outputs": [],
   "source": [
    "cov = coverage(pred, K, train_by_date['item_id'])"
   ]
  },
  {
   "cell_type": "code",
   "execution_count": 62,
   "id": "acdc9f73",
   "metadata": {
    "colab": {
     "base_uri": "https://localhost:8080/"
    },
    "id": "acdc9f73",
    "outputId": "bb651fc7-de45-4970-9642-c65e8fefb345"
   },
   "outputs": [
    {
     "name": "stdout",
     "output_type": "stream",
     "text": [
      "CPU times: user 5 µs, sys: 1 µs, total: 6 µs\n",
      "Wall time: 8.34 µs\n"
     ]
    }
   ],
   "source": [
    "%%time\n",
    "assert math.isclose(cov, 0.000308, abs_tol=1e-6)"
   ]
  },
  {
   "cell_type": "markdown",
   "id": "83db4513",
   "metadata": {
    "id": "83db4513"
   },
   "source": [
    "У рекомендаций популярного ожидаемо низкий coverage. Посмотрим, как он будет меняться при использовании других моделей."
   ]
  },
  {
   "cell_type": "markdown",
   "id": "ESDjMudjAm2W",
   "metadata": {
    "id": "ESDjMudjAm2W"
   },
   "source": [
    "## Surprisal (Mean Inverse User Frequency, Mean Self-Information)\n",
    "Посмотрим, насколько наши рекомендации хороши с точки зрения новизны для пользователя. В качестве новизны будем рассматривать \"непопулярность\" айтемов в рекомендациях.\n",
    "\n",
    "1. Будем рассматривать собственную информацию item-а как меру его новизны для пользователей.\n",
    "\n",
    "    $$selfInformation(i) = -\\log_2 \\frac{|u_i|}{N}, $$ \n",
    "    где $i$ - объект (item), $N$ - число пользователей в обучающей выборке, $|u_i|$ - число пользователей, взаимодействовавших с объектом $i$ в обучающей выборке.\n",
    "\n",
    "\n",
    "2. Собственная информация определяется для item-а, а значение метрики мы хотим считать для пользователя и $k$ - количества рекомендаций. Для подсчета Surprisal пользователя усредним значения собственной информации в топ-k рекомендациях этого пользователя.\n",
    "\n",
    "    Чтобы получить значения от 0 до 1, разделим значение метрики для пользователя на максимально возможно значение метрики равное $log_2 N$.\n",
    "\n",
    "$$Surprisal(u, k) = \\frac{1}{k log_2 N} \\sum_{i}^{k}selfInformation(i)$$\n",
    "\n",
    "\n",
    "3. Результат усредним по пользователям.\n",
    "\n",
    "Что делать с холодными item-ами при подсчете $selfInformation$? Максимально простой вариант — считать, что для них было взаимодействие с одним пользователем."
   ]
  },
  {
   "cell_type": "markdown",
   "id": "BmzngqI_Am2W",
   "metadata": {
    "id": "BmzngqI_Am2W"
   },
   "source": [
    "## 4.5 Реализуйте подсчет surprisal\n",
    "Обратите внимание, что эта метрика не требует ground truth, но требует предпосчитанных популярностей item-ов"
   ]
  },
  {
   "cell_type": "code",
   "execution_count": 63,
   "id": "ISn2xdPaFzuk",
   "metadata": {
    "id": "ISn2xdPaFzuk"
   },
   "outputs": [],
   "source": [
    "class Surprisal:\n",
    "    def __init__(self, log: pd.DataFrame):\n",
    "        self.num_users = log['user_id'].nunique()\n",
    "        self.item_pop = (log.groupby('item_id')[['user_id']].count() / self.num_users).rename(columns={'user_id':'rel'})\n",
    "\n",
    "    def __call__(self, pred, k):\n",
    "        \"\"\"\n",
    "        Calculate Surprisal value for ``pred`` with pre-calculated items' popularity\n",
    "        \"\"\"\n",
    "        # ======= YOUR CODE HERE ==========\n",
    "        top_k_recs = leave_top_k(pred, k)\n",
    "        matrix = top_k_recs[['item_id', 'user_id']].merge(self.item_pop, left_on='item_id', right_index=True, how='left').fillna(1 / self.num_users)\n",
    "        matrix.loc[:, 'rel'] = - np.log2(matrix['rel'])\n",
    "        user_self_inf = matrix.groupby('user_id')['rel'].sum()\n",
    "        user_self_inf /= k * np.log2(self.num_users)\n",
    "        return user_self_inf.mean()"
   ]
  },
  {
   "cell_type": "code",
   "execution_count": 64,
   "id": "-JIB90l6Akri",
   "metadata": {
    "id": "-JIB90l6Akri"
   },
   "outputs": [],
   "source": [
    "surp = Surprisal(train_by_date)"
   ]
  },
  {
   "cell_type": "code",
   "execution_count": 65,
   "id": "CIGXVPOvwyUF",
   "metadata": {
    "id": "CIGXVPOvwyUF"
   },
   "outputs": [],
   "source": [
    "assert math.isclose(surp(pred, K), 0.429753, abs_tol=1e-6)"
   ]
  },
  {
   "cell_type": "markdown",
   "id": "d4b4b542",
   "metadata": {
    "id": "d4b4b542"
   },
   "source": [
    "## Подсчет всех метрик"
   ]
  },
  {
   "cell_type": "code",
   "execution_count": 66,
   "id": "1fab7b5f",
   "metadata": {
    "id": "1fab7b5f"
   },
   "outputs": [],
   "source": [
    "def measure(pred, true, name, df=None, cov_items=None, surp=None):\n",
    "    if df is None:\n",
    "        df = pd.DataFrame(columns=['hit_rate@1', 'hit_rate@K', 'mrr@K', 'map@K', 'coverage@K', 'surprisal@K'])\n",
    "    df.loc[name, 'hit_rate@1'] = metric_wrap(pred=pred, ground_truth=true, k=1, metric_by_user=user_hr)[0]\n",
    "    df.loc[name, 'hit_rate@K'] = metric_wrap(pred=pred, ground_truth=true, k=K, metric_by_user=user_hr)[0]\n",
    "    df.loc[name, 'mrr@K'] = metric_wrap(pred=pred, ground_truth=true, k=K, metric_by_user=user_mrr)[0]\n",
    "    df.loc[name, 'map@K'] = mapr(true=true, pred=pred, k=K)\n",
    "    if cov_items is not None:\n",
    "        df.loc[name, 'coverage@K'] = coverage(pred=pred, k=K, all_items=cov_items)\n",
    "    if surp is not None:\n",
    "        df.loc[name, 'surprisal@K'] = surp(pred=pred, k=K)\n",
    "    return df\n",
    "    "
   ]
  },
  {
   "cell_type": "code",
   "execution_count": 67,
   "id": "46f6b2be",
   "metadata": {
    "colab": {
     "base_uri": "https://localhost:8080/"
    },
    "id": "46f6b2be",
    "outputId": "4d0181e8-8f83-4b7f-b80f-a6ddbf8ac66d"
   },
   "outputs": [
    {
     "name": "stdout",
     "output_type": "stream",
     "text": [
      "CPU times: user 1.04 s, sys: 62 ms, total: 1.1 s\n",
      "Wall time: 1.94 s\n"
     ]
    }
   ],
   "source": [
    "%%time\n",
    "metrics = measure(pred, test_by_date, 'popular', cov_items=filtered_df['item_id'], surp=surp)"
   ]
  },
  {
   "cell_type": "code",
   "execution_count": 68,
   "id": "LduFX2YRBT1M",
   "metadata": {
    "colab": {
     "base_uri": "https://localhost:8080/",
     "height": 80
    },
    "id": "LduFX2YRBT1M",
    "outputId": "b6686ff7-8332-43ba-d0d3-1c699c67f699"
   },
   "outputs": [
    {
     "data": {
      "text/html": [
       "<div>\n",
       "<style scoped>\n",
       "    .dataframe tbody tr th:only-of-type {\n",
       "        vertical-align: middle;\n",
       "    }\n",
       "\n",
       "    .dataframe tbody tr th {\n",
       "        vertical-align: top;\n",
       "    }\n",
       "\n",
       "    .dataframe thead th {\n",
       "        text-align: right;\n",
       "    }\n",
       "</style>\n",
       "<table border=\"1\" class=\"dataframe\">\n",
       "  <thead>\n",
       "    <tr style=\"text-align: right;\">\n",
       "      <th></th>\n",
       "      <th>hit_rate@1</th>\n",
       "      <th>hit_rate@K</th>\n",
       "      <th>mrr@K</th>\n",
       "      <th>map@K</th>\n",
       "      <th>coverage@K</th>\n",
       "      <th>surprisal@K</th>\n",
       "    </tr>\n",
       "  </thead>\n",
       "  <tbody>\n",
       "    <tr>\n",
       "      <th>popular</th>\n",
       "      <td>0.002626</td>\n",
       "      <td>0.022324</td>\n",
       "      <td>0.006628</td>\n",
       "      <td>0.001348</td>\n",
       "      <td>0.0003</td>\n",
       "      <td>0.429753</td>\n",
       "    </tr>\n",
       "  </tbody>\n",
       "</table>\n",
       "</div>"
      ],
      "text/plain": [
       "        hit_rate@1 hit_rate@K     mrr@K     map@K coverage@K surprisal@K\n",
       "popular   0.002626   0.022324  0.006628  0.001348     0.0003    0.429753"
      ]
     },
     "execution_count": 68,
     "metadata": {},
     "output_type": "execute_result"
    }
   ],
   "source": [
    "metrics"
   ]
  },
  {
   "cell_type": "markdown",
   "id": "86921403",
   "metadata": {
    "id": "86921403"
   },
   "source": [
    "# 5 item-to-item модели\n",
    "Item-to-item подходы основаны на оценке близости item-ов. Отлично работают, когда мы хотим, например, напрямую рекомендовать товары к текущей странице товара (похожие или сопутствующие). Кроме того, item-to-item методы можно использовать, чтобы рекомендовать товары к корзине в интернет-магазине или музыкальные треки к истории пользователя.\n",
    "\n",
    "Частично item-to-item модели были рассмотрены на семинаре по ранжированию на примере [implicit](https://implicit.readthedocs.io/en/latest/quickstart.html)\n",
    "\n",
    "Примеры item-to-item моделей:\n",
    "- поиск ближайших item-ов по признакам (например, по косинусному расстоянию)\n",
    "- item-to-item knn на истории взаимодействий\n",
    "- модели на базе ассоциативных правил\n",
    "- [нейронка item2vec от avito](https://habr.com/ru/company/avito/blog/491942/)"
   ]
  },
  {
   "cell_type": "markdown",
   "id": "7214b6c3",
   "metadata": {
    "id": "7214b6c3"
   },
   "source": [
    "# Рекомендации на основе ассоциативных правил"
   ]
  },
  {
   "cell_type": "markdown",
   "id": "efbf21e3",
   "metadata": {
    "id": "efbf21e3"
   },
   "source": [
    "Теперь рассмотрим простой подход, который позволяет находить группы объектов, встречающиеся вместе — ассоциативные правила.\n",
    "Пусть у нас есть просматриваемый товар $a$ (antecedent), к которому мы хотим предложить ассоциированный товар $b$ (consequent).\n",
    "\n",
    "Support - доля пользователей/сессий, в которых встречается объект/пара объектов.\n",
    "$$Support(a) = \\frac{|a \\subseteq n|}{|n|} = p(a)$$\n",
    "\n",
    "Confidence - это вероятность встретить объект $b$, если объект $a$ уже присутствует.\n",
    "$$Confidence(a, b) = \\frac{support(a, b)}{support(a)} = p(b | a)$$ \n",
    "\n",
    "Кажется, этого может быть уже достаточно, чтобы рекомендовать $b$ к $a$. Но, например, $b$ - это бананы (их в принципе часто покупают), а $a$ - супер-крутое миндальное молоко, которое покупают редко. Бананы будут все равно часто встречаться в корзинах с миндальным молоком, но потому что без бананов никуда, а не потому, что они идеально подходят друг другу. Confidence получится большим. Рекомендовать бананы ко всему — плохая идея. Поэтому для построения рекомендаций используют метрику $lift$, которую можно интерпретировать как меру того, насколько появление объекта $a$ увеличивает вероятность появления объекта $b$.\n",
    "\n",
    "\n",
    "$$Lift(a, b) = \\frac{Confidence(a, b)}{support(b)} = \\frac{p(b|a)}{p(b)}$$\n",
    "\n",
    "$a$ может быть не отдельным объектом, а подмножеством, и задача подсчета Lift становится вычислительно сложной.\n",
    "Для быстрого поиска [ассоциативных правил](https://en.wikipedia.org/wiki/Association_rule_learning) придумано довольно большое число алгоритмов, например [Apriori](https://en.wikipedia.org/wiki/Apriori_algorithm), FP-Growth.\n",
    "\n",
    "Из явных минусов — ассоциативные правила не учитывают сходства объектов, и плохо подходят в случае, когда объектов много, а взаимодействий — нет."
   ]
  },
  {
   "cell_type": "markdown",
   "id": "a8204cd8",
   "metadata": {
    "id": "a8204cd8"
   },
   "source": [
    "## 5.1 Задание: напишите код, который\n",
    "- по логу считает встречаемость айтемов, \n",
    "- отсекает пары айтемов с количеством меньше min_support\n",
    "- считает confidence, lift\n",
    "- возвращает датафрейм со столбцами item_id_x, item_id_y, pair_count, confidence, lift"
   ]
  },
  {
   "cell_type": "code",
   "execution_count": 69,
   "id": "1371f9d3",
   "metadata": {
    "id": "1371f9d3"
   },
   "outputs": [],
   "source": [
    "def get_item_to_item_lift(log, min_support):\n",
    "    num_users = log['user_id'].unique().shape[0]\n",
    "    items_counts = log.groupby('item_id')['item_id'].count()\n",
    "    \n",
    "    coocurance = log[['user_id', 'item_id']].merge(log[['user_id', 'item_id']], on='user_id')\n",
    "    coocurance = coocurance[coocurance['item_id_x']  != coocurance['item_id_y']]\n",
    "    coocurance = coocurance.drop(columns='user_id')\n",
    "    \n",
    "    # ======= YOUR CODE HERE ==========\n",
    "    counts = coocurance.groupby(['item_id_x', 'item_id_y'])['item_id_y'].count().rename('pair_count').reset_index()   \n",
    "    counts = counts[counts['pair_count'] >= min_support]\n",
    "    counts['item_id_x_count'] = counts['item_id_x'].map(items_counts)\n",
    "    counts['item_id_y_count'] = counts['item_id_y'].map(items_counts)\n",
    "    \n",
    "    counts['confidence'] = counts['pair_count'] / counts['item_id_x_count']\n",
    "    counts['lift'] = counts['confidence'] * num_users / counts['item_id_y_count']\n",
    "    return counts"
   ]
  },
  {
   "cell_type": "code",
   "execution_count": 70,
   "id": "ce662403",
   "metadata": {
    "colab": {
     "base_uri": "https://localhost:8080/"
    },
    "id": "ce662403",
    "outputId": "a1336725-05d4-4c8c-ee07-5c6b1c136abc"
   },
   "outputs": [
    {
     "name": "stdout",
     "output_type": "stream",
     "text": [
      "CPU times: user 7.43 s, sys: 2.54 s, total: 9.97 s\n",
      "Wall time: 10.2 s\n"
     ]
    }
   ],
   "source": [
    "%%time\n",
    "counts = get_item_to_item_lift(train_by_date, min_support=5)"
   ]
  },
  {
   "cell_type": "code",
   "execution_count": 71,
   "id": "afe479e2",
   "metadata": {
    "id": "afe479e2"
   },
   "outputs": [],
   "source": [
    "assert counts.shape[0] == 577956\n",
    "assert counts['lift'].max() == 7364.6"
   ]
  },
  {
   "cell_type": "code",
   "execution_count": 72,
   "id": "203a41f4",
   "metadata": {
    "id": "203a41f4"
   },
   "outputs": [],
   "source": [
    "assert math.isclose(counts[(counts['item_id_x'] == 16683) & ((counts['item_id_y'] == 33452))]['lift'].values[0], 27.957937, abs_tol=1e-6)"
   ]
  },
  {
   "cell_type": "markdown",
   "id": "dccd5b88",
   "metadata": {
    "id": "dccd5b88"
   },
   "source": [
    "Посмотрим на рекомендации для книги \"Зулейха открывает глаза\" (16683), отсортированные по confidence и lift."
   ]
  },
  {
   "cell_type": "code",
   "execution_count": 73,
   "id": "40186888",
   "metadata": {
    "colab": {
     "base_uri": "https://localhost:8080/"
    },
    "id": "40186888",
    "outputId": "de208f39-ceff-4693-b5de-8025977ad1f8"
   },
   "outputs": [
    {
     "data": {
      "text/plain": [
       "title             Зулейха открывает глаза\n",
       "genres     Современная русская литература\n",
       "authors                      Гузель Яхина\n",
       "year                                 2015\n",
       "Name: 16683, dtype: object"
      ]
     },
     "execution_count": 73,
     "metadata": {},
     "output_type": "execute_result"
    }
   ],
   "source": [
    "i_features.loc[16683]"
   ]
  },
  {
   "cell_type": "markdown",
   "id": "e8d31d25",
   "metadata": {},
   "source": [
    "**Confidence** - видим разнообразные книги"
   ]
  },
  {
   "cell_type": "code",
   "execution_count": 74,
   "id": "10e9b039",
   "metadata": {
    "colab": {
     "base_uri": "https://localhost:8080/",
     "height": 359
    },
    "id": "10e9b039",
    "outputId": "c6a2fceb-e6b0-422e-9498-2bbd2613c984"
   },
   "outputs": [
    {
     "data": {
      "text/html": [
       "<div>\n",
       "<style scoped>\n",
       "    .dataframe tbody tr th:only-of-type {\n",
       "        vertical-align: middle;\n",
       "    }\n",
       "\n",
       "    .dataframe tbody tr th {\n",
       "        vertical-align: top;\n",
       "    }\n",
       "\n",
       "    .dataframe thead th {\n",
       "        text-align: right;\n",
       "    }\n",
       "</style>\n",
       "<table border=\"1\" class=\"dataframe\">\n",
       "  <thead>\n",
       "    <tr style=\"text-align: right;\">\n",
       "      <th></th>\n",
       "      <th>item_id_y</th>\n",
       "      <th>confidence</th>\n",
       "      <th>lift</th>\n",
       "      <th>title</th>\n",
       "      <th>genres</th>\n",
       "      <th>authors</th>\n",
       "      <th>year</th>\n",
       "    </tr>\n",
       "  </thead>\n",
       "  <tbody>\n",
       "    <tr>\n",
       "      <th>3463807</th>\n",
       "      <td>33452</td>\n",
       "      <td>0.059222</td>\n",
       "      <td>27.957937</td>\n",
       "      <td>Дети мои</td>\n",
       "      <td>Современная русская литература</td>\n",
       "      <td>Гузель Яхина</td>\n",
       "      <td>2018</td>\n",
       "    </tr>\n",
       "    <tr>\n",
       "      <th>3460928</th>\n",
       "      <td>4883</td>\n",
       "      <td>0.057530</td>\n",
       "      <td>8.054802</td>\n",
       "      <td>Шантарам</td>\n",
       "      <td>Зарубежные приключения</td>\n",
       "      <td>Грегори Дэвид Робертс</td>\n",
       "      <td>2003</td>\n",
       "    </tr>\n",
       "    <tr>\n",
       "      <th>3462725</th>\n",
       "      <td>22649</td>\n",
       "      <td>0.057530</td>\n",
       "      <td>4.526523</td>\n",
       "      <td>Снеговик</td>\n",
       "      <td>Зарубежные детективы,Триллеры,Полицейские дете...</td>\n",
       "      <td>Ю Несбё</td>\n",
       "      <td>2007</td>\n",
       "    </tr>\n",
       "    <tr>\n",
       "      <th>3462449</th>\n",
       "      <td>20021</td>\n",
       "      <td>0.055838</td>\n",
       "      <td>7.700774</td>\n",
       "      <td>Женщины непреклонного возраста и др. беспринцЫ...</td>\n",
       "      <td>Современная русская литература,Юмористическая ...</td>\n",
       "      <td>Александр Цыпкин</td>\n",
       "      <td>2018</td>\n",
       "    </tr>\n",
       "    <tr>\n",
       "      <th>3465805</th>\n",
       "      <td>54115</td>\n",
       "      <td>0.054146</td>\n",
       "      <td>6.735812</td>\n",
       "      <td>Девушка в тумане</td>\n",
       "      <td>Зарубежные детективы,Триллеры</td>\n",
       "      <td>Донато Карризи</td>\n",
       "      <td>2015</td>\n",
       "    </tr>\n",
       "    <tr>\n",
       "      <th>3466339</th>\n",
       "      <td>59157</td>\n",
       "      <td>0.050761</td>\n",
       "      <td>3.723482</td>\n",
       "      <td>Черновик</td>\n",
       "      <td>Научная фантастика</td>\n",
       "      <td>Сергей Лукьяненко</td>\n",
       "      <td>2004-05</td>\n",
       "    </tr>\n",
       "    <tr>\n",
       "      <th>3461090</th>\n",
       "      <td>6565</td>\n",
       "      <td>0.049069</td>\n",
       "      <td>14.932905</td>\n",
       "      <td>Тысяча сияющих солнц</td>\n",
       "      <td>Современная зарубежная литература</td>\n",
       "      <td>Халед Хоссейни</td>\n",
       "      <td>2008</td>\n",
       "    </tr>\n",
       "    <tr>\n",
       "      <th>3465104</th>\n",
       "      <td>46704</td>\n",
       "      <td>0.043993</td>\n",
       "      <td>4.229668</td>\n",
       "      <td>Земное притяжение</td>\n",
       "      <td>Современные детективы,Остросюжетные любовные р...</td>\n",
       "      <td>Татьяна Устинова</td>\n",
       "      <td>2017</td>\n",
       "    </tr>\n",
       "    <tr>\n",
       "      <th>3461462</th>\n",
       "      <td>10347</td>\n",
       "      <td>0.043993</td>\n",
       "      <td>10.384377</td>\n",
       "      <td>Вторая жизнь Уве</td>\n",
       "      <td>Современная зарубежная литература</td>\n",
       "      <td>Фредрик Бакман</td>\n",
       "      <td>2012</td>\n",
       "    </tr>\n",
       "    <tr>\n",
       "      <th>3463528</th>\n",
       "      <td>30629</td>\n",
       "      <td>0.038917</td>\n",
       "      <td>7.129572</td>\n",
       "      <td>Цветы для Элджернона</td>\n",
       "      <td>Зарубежная фантастика,Научная фантастика</td>\n",
       "      <td>Дэниел Киз</td>\n",
       "      <td>1966</td>\n",
       "    </tr>\n",
       "  </tbody>\n",
       "</table>\n",
       "</div>"
      ],
      "text/plain": [
       "         item_id_y  confidence       lift  \\\n",
       "3463807      33452    0.059222  27.957937   \n",
       "3460928       4883    0.057530   8.054802   \n",
       "3462725      22649    0.057530   4.526523   \n",
       "3462449      20021    0.055838   7.700774   \n",
       "3465805      54115    0.054146   6.735812   \n",
       "3466339      59157    0.050761   3.723482   \n",
       "3461090       6565    0.049069  14.932905   \n",
       "3465104      46704    0.043993   4.229668   \n",
       "3461462      10347    0.043993  10.384377   \n",
       "3463528      30629    0.038917   7.129572   \n",
       "\n",
       "                                                     title  \\\n",
       "3463807                                           Дети мои   \n",
       "3460928                                           Шантарам   \n",
       "3462725                                           Снеговик   \n",
       "3462449  Женщины непреклонного возраста и др. беспринцЫ...   \n",
       "3465805                                   Девушка в тумане   \n",
       "3466339                                           Черновик   \n",
       "3461090                               Тысяча сияющих солнц   \n",
       "3465104                                  Земное притяжение   \n",
       "3461462                                   Вторая жизнь Уве   \n",
       "3463528                               Цветы для Элджернона   \n",
       "\n",
       "                                                    genres  \\\n",
       "3463807                     Современная русская литература   \n",
       "3460928                             Зарубежные приключения   \n",
       "3462725  Зарубежные детективы,Триллеры,Полицейские дете...   \n",
       "3462449  Современная русская литература,Юмористическая ...   \n",
       "3465805                      Зарубежные детективы,Триллеры   \n",
       "3466339                                 Научная фантастика   \n",
       "3461090                  Современная зарубежная литература   \n",
       "3465104  Современные детективы,Остросюжетные любовные р...   \n",
       "3461462                  Современная зарубежная литература   \n",
       "3463528           Зарубежная фантастика,Научная фантастика   \n",
       "\n",
       "                       authors     year  \n",
       "3463807           Гузель Яхина     2018  \n",
       "3460928  Грегори Дэвид Робертс     2003  \n",
       "3462725                Ю Несбё     2007  \n",
       "3462449       Александр Цыпкин     2018  \n",
       "3465805         Донато Карризи     2015  \n",
       "3466339      Сергей Лукьяненко  2004-05  \n",
       "3461090         Халед Хоссейни     2008  \n",
       "3465104       Татьяна Устинова     2017  \n",
       "3461462         Фредрик Бакман     2012  \n",
       "3463528             Дэниел Киз     1966  "
      ]
     },
     "execution_count": 74,
     "metadata": {},
     "output_type": "execute_result"
    }
   ],
   "source": [
    "res_by_confidence = counts[counts['item_id_x'] == 16683].sort_values('confidence', ascending=False)\n",
    "res_by_confidence[:10][['item_id_y', 'confidence', 'lift']].merge(i_features, left_on='item_id_y', right_index=True)"
   ]
  },
  {
   "cell_type": "markdown",
   "id": "9defa59a",
   "metadata": {},
   "source": [
    "**Lift** - видим действительно похожие по жанру книги"
   ]
  },
  {
   "cell_type": "code",
   "execution_count": 75,
   "id": "9e428291",
   "metadata": {
    "colab": {
     "base_uri": "https://localhost:8080/",
     "height": 359
    },
    "id": "9e428291",
    "outputId": "edc99251-4317-4569-c000-4ceb15cf836d"
   },
   "outputs": [
    {
     "data": {
      "text/html": [
       "<div>\n",
       "<style scoped>\n",
       "    .dataframe tbody tr th:only-of-type {\n",
       "        vertical-align: middle;\n",
       "    }\n",
       "\n",
       "    .dataframe tbody tr th {\n",
       "        vertical-align: top;\n",
       "    }\n",
       "\n",
       "    .dataframe thead th {\n",
       "        text-align: right;\n",
       "    }\n",
       "</style>\n",
       "<table border=\"1\" class=\"dataframe\">\n",
       "  <thead>\n",
       "    <tr style=\"text-align: right;\">\n",
       "      <th></th>\n",
       "      <th>item_id_y</th>\n",
       "      <th>confidence</th>\n",
       "      <th>lift</th>\n",
       "      <th>title</th>\n",
       "      <th>genres</th>\n",
       "      <th>authors</th>\n",
       "      <th>year</th>\n",
       "    </tr>\n",
       "  </thead>\n",
       "  <tbody>\n",
       "    <tr>\n",
       "      <th>3463807</th>\n",
       "      <td>33452</td>\n",
       "      <td>0.059222</td>\n",
       "      <td>27.957937</td>\n",
       "      <td>Дети мои</td>\n",
       "      <td>Современная русская литература</td>\n",
       "      <td>Гузель Яхина</td>\n",
       "      <td>2018</td>\n",
       "    </tr>\n",
       "    <tr>\n",
       "      <th>3465348</th>\n",
       "      <td>49314</td>\n",
       "      <td>0.013536</td>\n",
       "      <td>24.922504</td>\n",
       "      <td>Авиатор</td>\n",
       "      <td>Современная русская литература</td>\n",
       "      <td>Евгений Водолазкин</td>\n",
       "      <td>2015</td>\n",
       "    </tr>\n",
       "    <tr>\n",
       "      <th>3462852</th>\n",
       "      <td>24011</td>\n",
       "      <td>0.010152</td>\n",
       "      <td>21.990445</td>\n",
       "      <td>Женщина в белом</td>\n",
       "      <td>Зарубежная классика,Классическая проза</td>\n",
       "      <td>Уильям Уилки Коллинз</td>\n",
       "      <td>NaN</td>\n",
       "    </tr>\n",
       "    <tr>\n",
       "      <th>3464791</th>\n",
       "      <td>43720</td>\n",
       "      <td>0.011844</td>\n",
       "      <td>18.172659</td>\n",
       "      <td>Посмотри на него</td>\n",
       "      <td>Современная русская литература</td>\n",
       "      <td>Анна Старобинец</td>\n",
       "      <td>2017</td>\n",
       "    </tr>\n",
       "    <tr>\n",
       "      <th>3465737</th>\n",
       "      <td>53366</td>\n",
       "      <td>0.023689</td>\n",
       "      <td>17.801789</td>\n",
       "      <td>И эхо летит по горам</td>\n",
       "      <td>Современная зарубежная литература</td>\n",
       "      <td>Халед Хоссейни</td>\n",
       "      <td>NaN</td>\n",
       "    </tr>\n",
       "    <tr>\n",
       "      <th>3460538</th>\n",
       "      <td>1045</td>\n",
       "      <td>0.015228</td>\n",
       "      <td>16.992617</td>\n",
       "      <td>Женщины Лазаря</td>\n",
       "      <td>Современная русская литература</td>\n",
       "      <td>Марина Степнова</td>\n",
       "      <td>2011</td>\n",
       "    </tr>\n",
       "    <tr>\n",
       "      <th>3466252</th>\n",
       "      <td>58427</td>\n",
       "      <td>0.008460</td>\n",
       "      <td>16.396384</td>\n",
       "      <td>Пустые хлопоты</td>\n",
       "      <td>Современная русская литература</td>\n",
       "      <td>Мария Метлицкая</td>\n",
       "      <td>2017</td>\n",
       "    </tr>\n",
       "    <tr>\n",
       "      <th>3460791</th>\n",
       "      <td>3662</td>\n",
       "      <td>0.016920</td>\n",
       "      <td>15.975964</td>\n",
       "      <td>Казус Кукоцкого</td>\n",
       "      <td>Современная русская литература</td>\n",
       "      <td>Людмила Улицкая</td>\n",
       "      <td>2001</td>\n",
       "    </tr>\n",
       "    <tr>\n",
       "      <th>3460731</th>\n",
       "      <td>3081</td>\n",
       "      <td>0.018613</td>\n",
       "      <td>15.938811</td>\n",
       "      <td>Метель</td>\n",
       "      <td>Социальная фантастика</td>\n",
       "      <td>Владимир Сорокин</td>\n",
       "      <td>2010</td>\n",
       "    </tr>\n",
       "    <tr>\n",
       "      <th>3461423</th>\n",
       "      <td>9864</td>\n",
       "      <td>0.021997</td>\n",
       "      <td>15.576565</td>\n",
       "      <td>С неба упали три яблока</td>\n",
       "      <td>Современная русская литература</td>\n",
       "      <td>Наринэ Абгарян</td>\n",
       "      <td>2014</td>\n",
       "    </tr>\n",
       "  </tbody>\n",
       "</table>\n",
       "</div>"
      ],
      "text/plain": [
       "         item_id_y  confidence       lift                    title  \\\n",
       "3463807      33452    0.059222  27.957937                 Дети мои   \n",
       "3465348      49314    0.013536  24.922504                  Авиатор   \n",
       "3462852      24011    0.010152  21.990445          Женщина в белом   \n",
       "3464791      43720    0.011844  18.172659         Посмотри на него   \n",
       "3465737      53366    0.023689  17.801789     И эхо летит по горам   \n",
       "3460538       1045    0.015228  16.992617           Женщины Лазаря   \n",
       "3466252      58427    0.008460  16.396384           Пустые хлопоты   \n",
       "3460791       3662    0.016920  15.975964          Казус Кукоцкого   \n",
       "3460731       3081    0.018613  15.938811                   Метель   \n",
       "3461423       9864    0.021997  15.576565  С неба упали три яблока   \n",
       "\n",
       "                                         genres               authors  year  \n",
       "3463807          Современная русская литература          Гузель Яхина  2018  \n",
       "3465348          Современная русская литература    Евгений Водолазкин  2015  \n",
       "3462852  Зарубежная классика,Классическая проза  Уильям Уилки Коллинз   NaN  \n",
       "3464791          Современная русская литература       Анна Старобинец  2017  \n",
       "3465737       Современная зарубежная литература        Халед Хоссейни   NaN  \n",
       "3460538          Современная русская литература       Марина Степнова  2011  \n",
       "3466252          Современная русская литература       Мария Метлицкая  2017  \n",
       "3460791          Современная русская литература       Людмила Улицкая  2001  \n",
       "3460731                   Социальная фантастика      Владимир Сорокин  2010  \n",
       "3461423          Современная русская литература        Наринэ Абгарян  2014  "
      ]
     },
     "execution_count": 75,
     "metadata": {},
     "output_type": "execute_result"
    }
   ],
   "source": [
    "res_by_lift = counts[counts['item_id_x'] == 16683].sort_values('lift', ascending=False)\n",
    "res_by_lift[:10][['item_id_y', 'confidence', 'lift']].merge(i_features, left_on='item_id_y', right_index=True)"
   ]
  },
  {
   "cell_type": "markdown",
   "id": "97ffd08e",
   "metadata": {
    "id": "97ffd08e"
   },
   "source": [
    "Любую item-to-item модель можно использовать для получения рекомендаций для пользователя. Имея вектора item-ов или расстояния/близости между ними, можно взять историю пользователя и рекомендовать близкие к item-ам из истории.\n",
    "## 5.2 Задание: допишите код модели, которая будет рекомендовать ближайших \"соседей\" к истории пользователя, используя lift в качестве меры близости, а именно: \n",
    "- к истории пользователя джойним матрицу lift, из которой взяты топ-к соседей для каждого item-а\n",
    "- считаем relevance как количество раз, сколько встречаются объекты-соседи после join матриц (можно считать count, sum, sum(log(lift)), etc)"
   ]
  },
  {
   "cell_type": "code",
   "execution_count": 76,
   "id": "f348d75f",
   "metadata": {
    "id": "f348d75f"
   },
   "outputs": [],
   "source": [
    "class NeighbourModel(ParentModel):\n",
    "    pairs_lift: pd.DataFrame\n",
    "        \n",
    "    def __init__(self, min_support: int):\n",
    "        self.min_support = min_support\n",
    "        \n",
    "    def fit(self, \n",
    "            log: pd.DataFrame, \n",
    "            user_features: Optional[pd.DataFrame]=None, \n",
    "            item_features: Optional[pd.DataFrame]=None) -> 'NeighbourModel':\n",
    "        self.pairs_lift = get_item_to_item_lift(log, self.min_support)\n",
    "        return self\n",
    "        \n",
    "    def _predict(self, \n",
    "                log: pd.DataFrame, \n",
    "                users: pd.Series, \n",
    "                k: int,\n",
    "                user_features: Optional[pd.DataFrame]=None, \n",
    "                item_features: Optional[pd.DataFrame]=None,\n",
    "                filter_seen:bool = True) -> pd.DataFrame:\n",
    "        history = log.merge(users.drop_duplicates(), on='user_id')\n",
    "        lift_matrix = leave_top_k(self.pairs_lift, k,\n",
    "                                  group_by_col='item_id_x',\n",
    "                                  order_by_col='lift')\n",
    "        \n",
    "        # ======= YOUR CODE HERE ==========\n",
    "        history = history.merge(lift_matrix[['item_id_x', 'item_id_y', 'lift']], left_on='item_id', right_on='item_id_x')\n",
    "        pred = history.groupby(['user_id', 'item_id_y'])['lift'].count().rename('relevance')\n",
    "        pred = pred.reset_index().rename(columns={'item_id_y': 'item_id'})\n",
    "        return pred"
   ]
  },
  {
   "cell_type": "markdown",
   "id": "qqZi5joHj5yy",
   "metadata": {
    "id": "qqZi5joHj5yy"
   },
   "source": [
    "Полезный результат:\n",
    "Мы можем переиспользовать этот код и построить модель для рекомендации пользователям на основе любой матицы сходства item-ов (например, используя сходство по признакам)."
   ]
  },
  {
   "cell_type": "code",
   "execution_count": 77,
   "id": "4880d70e",
   "metadata": {
    "id": "4880d70e"
   },
   "outputs": [],
   "source": [
    "neighbour_rec = NeighbourModel(min_support=7)"
   ]
  },
  {
   "cell_type": "code",
   "execution_count": 78,
   "id": "cfdc2e37",
   "metadata": {
    "colab": {
     "base_uri": "https://localhost:8080/"
    },
    "id": "cfdc2e37",
    "outputId": "efe58f33-21b6-49b7-9103-7f33c16c018a"
   },
   "outputs": [
    {
     "name": "stdout",
     "output_type": "stream",
     "text": [
      "CPU times: user 7.27 s, sys: 2.19 s, total: 9.45 s\n",
      "Wall time: 9.52 s\n"
     ]
    },
    {
     "data": {
      "text/plain": [
       "<__main__.NeighbourModel at 0x132547a60>"
      ]
     },
     "execution_count": 78,
     "metadata": {},
     "output_type": "execute_result"
    }
   ],
   "source": [
    "%%time\n",
    "neighbour_rec.fit(train_by_date)"
   ]
  },
  {
   "cell_type": "code",
   "execution_count": 79,
   "id": "73f6c2ed",
   "metadata": {
    "colab": {
     "base_uri": "https://localhost:8080/"
    },
    "id": "73f6c2ed",
    "outputId": "13471aed-3796-4d49-cb3d-0aefa86f1369"
   },
   "outputs": [
    {
     "name": "stdout",
     "output_type": "stream",
     "text": [
      "CPU times: user 2.07 s, sys: 728 ms, total: 2.8 s\n",
      "Wall time: 2.81 s\n"
     ]
    }
   ],
   "source": [
    "%%time\n",
    "neighbour_pred = neighbour_rec.predict(log=train_by_date, users=test_by_date_users, k=K)"
   ]
  },
  {
   "cell_type": "code",
   "execution_count": 80,
   "id": "09cb5452",
   "metadata": {
    "id": "09cb5452"
   },
   "outputs": [],
   "source": [
    "assert neighbour_pred.shape[0] == 19202"
   ]
  },
  {
   "cell_type": "code",
   "execution_count": 81,
   "id": "49931ab1",
   "metadata": {
    "colab": {
     "base_uri": "https://localhost:8080/"
    },
    "id": "49931ab1",
    "outputId": "799a8c45-5371-43fc-a68e-58d66d957e20"
   },
   "outputs": [
    {
     "name": "stdout",
     "output_type": "stream",
     "text": [
      "CPU times: user 850 ms, sys: 125 ms, total: 975 ms\n",
      "Wall time: 1.79 s\n"
     ]
    },
    {
     "data": {
      "text/html": [
       "<div>\n",
       "<style scoped>\n",
       "    .dataframe tbody tr th:only-of-type {\n",
       "        vertical-align: middle;\n",
       "    }\n",
       "\n",
       "    .dataframe tbody tr th {\n",
       "        vertical-align: top;\n",
       "    }\n",
       "\n",
       "    .dataframe thead th {\n",
       "        text-align: right;\n",
       "    }\n",
       "</style>\n",
       "<table border=\"1\" class=\"dataframe\">\n",
       "  <thead>\n",
       "    <tr style=\"text-align: right;\">\n",
       "      <th></th>\n",
       "      <th>hit_rate@1</th>\n",
       "      <th>hit_rate@K</th>\n",
       "      <th>mrr@K</th>\n",
       "      <th>map@K</th>\n",
       "      <th>coverage@K</th>\n",
       "      <th>surprisal@K</th>\n",
       "    </tr>\n",
       "  </thead>\n",
       "  <tbody>\n",
       "    <tr>\n",
       "      <th>neighbour_rec</th>\n",
       "      <td>0.01346</td>\n",
       "      <td>0.086671</td>\n",
       "      <td>0.031564</td>\n",
       "      <td>0.009043</td>\n",
       "      <td>0.031928</td>\n",
       "      <td>0.531623</td>\n",
       "    </tr>\n",
       "    <tr>\n",
       "      <th>popular</th>\n",
       "      <td>0.002626</td>\n",
       "      <td>0.022324</td>\n",
       "      <td>0.006628</td>\n",
       "      <td>0.001348</td>\n",
       "      <td>0.0003</td>\n",
       "      <td>0.429753</td>\n",
       "    </tr>\n",
       "  </tbody>\n",
       "</table>\n",
       "</div>"
      ],
      "text/plain": [
       "              hit_rate@1 hit_rate@K     mrr@K     map@K coverage@K surprisal@K\n",
       "neighbour_rec    0.01346   0.086671  0.031564  0.009043   0.031928    0.531623\n",
       "popular         0.002626   0.022324  0.006628  0.001348     0.0003    0.429753"
      ]
     },
     "execution_count": 81,
     "metadata": {},
     "output_type": "execute_result"
    }
   ],
   "source": [
    "%%time\n",
    "metrics = measure(neighbour_pred, test_by_date, 'neighbour_rec', metrics, cov_items=filtered_df['item_id'], surp=surp)\n",
    "metrics.sort_values('map@K', ascending=False)"
   ]
  },
  {
   "cell_type": "markdown",
   "id": "4a1cb4e4",
   "metadata": {
    "id": "4a1cb4e4"
   },
   "source": [
    "Почему люди вообще должны считать какое-то отношение вероятностей в 21 веке? \n",
    "- Первое — потому что это работает само по себе на больших объемах данных, быстро учится и не требует ничего.\n",
    "- Второе — если сверху матрицы lift обучить какое-нибудь матричное разложение и использовать ann, можно бюджетно искать похожие item-ы без построения сложных моделей\n",
    "- Третье — люди пишут, что делать матричное разложение на данных shifted pmi (pmi = log(lift)) - это вообще бюджетный способ [получить эмбеддинги, аналогичные word2vec](https://medium.com/radix-ai-blog/unifying-word-embeddings-and-matrix-factorization-part-1-cb3984e95141).\n",
    "- Ну и всем нужен хороший baseline!"
   ]
  },
  {
   "cell_type": "markdown",
   "id": "15dda476",
   "metadata": {
    "id": "15dda476"
   },
   "source": [
    "### Посмотрим глазами на predict-ы для выбранного пользователя"
   ]
  },
  {
   "cell_type": "markdown",
   "id": "alu9qrknJd2w",
   "metadata": {
    "id": "alu9qrknJd2w"
   },
   "source": [
    "История пользователя 21:"
   ]
  },
  {
   "cell_type": "code",
   "execution_count": 82,
   "id": "368c0cfc",
   "metadata": {
    "colab": {
     "base_uri": "https://localhost:8080/",
     "height": 545
    },
    "id": "368c0cfc",
    "outputId": "f1294186-0d42-4e70-adb8-a4fa7482ec68"
   },
   "outputs": [
    {
     "data": {
      "text/html": [
       "<div>\n",
       "<style scoped>\n",
       "    .dataframe tbody tr th:only-of-type {\n",
       "        vertical-align: middle;\n",
       "    }\n",
       "\n",
       "    .dataframe tbody tr th {\n",
       "        vertical-align: top;\n",
       "    }\n",
       "\n",
       "    .dataframe thead th {\n",
       "        text-align: right;\n",
       "    }\n",
       "</style>\n",
       "<table border=\"1\" class=\"dataframe\">\n",
       "  <thead>\n",
       "    <tr style=\"text-align: right;\">\n",
       "      <th></th>\n",
       "      <th>user_id</th>\n",
       "      <th>item_id</th>\n",
       "      <th>progress</th>\n",
       "      <th>rating</th>\n",
       "      <th>start_date</th>\n",
       "      <th>title</th>\n",
       "      <th>authors</th>\n",
       "      <th>year</th>\n",
       "      <th>genres</th>\n",
       "    </tr>\n",
       "  </thead>\n",
       "  <tbody>\n",
       "    <tr>\n",
       "      <th>249157</th>\n",
       "      <td>21</td>\n",
       "      <td>4375</td>\n",
       "      <td>54</td>\n",
       "      <td>NaN</td>\n",
       "      <td>2018-05-01</td>\n",
       "      <td>Выстрел в сердце</td>\n",
       "      <td>Герман Садулаев</td>\n",
       "      <td>2017</td>\n",
       "      <td>Современная русская литература</td>\n",
       "    </tr>\n",
       "    <tr>\n",
       "      <th>293131</th>\n",
       "      <td>21</td>\n",
       "      <td>5909</td>\n",
       "      <td>85</td>\n",
       "      <td>5.0</td>\n",
       "      <td>2018-05-22</td>\n",
       "      <td>Спектр</td>\n",
       "      <td>Сергей Лукьяненко</td>\n",
       "      <td>2001-02</td>\n",
       "      <td>Социальная фантастика,Космическая фантастика,Н...</td>\n",
       "    </tr>\n",
       "    <tr>\n",
       "      <th>707632</th>\n",
       "      <td>21</td>\n",
       "      <td>42197</td>\n",
       "      <td>100</td>\n",
       "      <td>NaN</td>\n",
       "      <td>2018-12-05</td>\n",
       "      <td>История Бледной Моли</td>\n",
       "      <td>Настя Любимка</td>\n",
       "      <td>2017</td>\n",
       "      <td>Героическое фэнтези,Любовное фэнтези</td>\n",
       "    </tr>\n",
       "    <tr>\n",
       "      <th>949315</th>\n",
       "      <td>21</td>\n",
       "      <td>13438</td>\n",
       "      <td>100</td>\n",
       "      <td>NaN</td>\n",
       "      <td>2019-03-30</td>\n",
       "      <td>Честь Белого Волка</td>\n",
       "      <td>Андрей Белянин</td>\n",
       "      <td>2018</td>\n",
       "      <td>Юмористическое фэнтези</td>\n",
       "    </tr>\n",
       "    <tr>\n",
       "      <th>983687</th>\n",
       "      <td>21</td>\n",
       "      <td>28402</td>\n",
       "      <td>100</td>\n",
       "      <td>NaN</td>\n",
       "      <td>2019-04-15</td>\n",
       "      <td>Свирепый ландграф</td>\n",
       "      <td>Андрей Белянин</td>\n",
       "      <td>1998</td>\n",
       "      <td>Юмористическое фэнтези</td>\n",
       "    </tr>\n",
       "    <tr>\n",
       "      <th>1074800</th>\n",
       "      <td>21</td>\n",
       "      <td>5795</td>\n",
       "      <td>99</td>\n",
       "      <td>NaN</td>\n",
       "      <td>2019-05-28</td>\n",
       "      <td>Век святого Скиминока</td>\n",
       "      <td>Андрей Белянин</td>\n",
       "      <td>1998</td>\n",
       "      <td>Героическое фэнтези,Юмористическое фэнтези</td>\n",
       "    </tr>\n",
       "    <tr>\n",
       "      <th>1194397</th>\n",
       "      <td>21</td>\n",
       "      <td>13389</td>\n",
       "      <td>100</td>\n",
       "      <td>NaN</td>\n",
       "      <td>2019-07-23</td>\n",
       "      <td>Страж</td>\n",
       "      <td>Алексей Пехов</td>\n",
       "      <td>2010</td>\n",
       "      <td>Героическое фэнтези,Книги про волшебников</td>\n",
       "    </tr>\n",
       "    <tr>\n",
       "      <th>1197382</th>\n",
       "      <td>21</td>\n",
       "      <td>39338</td>\n",
       "      <td>99</td>\n",
       "      <td>NaN</td>\n",
       "      <td>2019-07-24</td>\n",
       "      <td>Аутодафе</td>\n",
       "      <td>Алексей Пехов</td>\n",
       "      <td>2011</td>\n",
       "      <td>Героическое фэнтези,Боевое фэнтези</td>\n",
       "    </tr>\n",
       "    <tr>\n",
       "      <th>1207323</th>\n",
       "      <td>21</td>\n",
       "      <td>22637</td>\n",
       "      <td>100</td>\n",
       "      <td>5.0</td>\n",
       "      <td>2019-07-29</td>\n",
       "      <td>Золотые костры</td>\n",
       "      <td>Алексей Пехов</td>\n",
       "      <td>2012</td>\n",
       "      <td>Героическое фэнтези,Боевое фэнтези</td>\n",
       "    </tr>\n",
       "    <tr>\n",
       "      <th>1213766</th>\n",
       "      <td>21</td>\n",
       "      <td>7211</td>\n",
       "      <td>96</td>\n",
       "      <td>NaN</td>\n",
       "      <td>2019-08-01</td>\n",
       "      <td>Проклятый горн</td>\n",
       "      <td>Алексей Пехов</td>\n",
       "      <td>2014</td>\n",
       "      <td>Героическое фэнтези,Боевое фэнтези</td>\n",
       "    </tr>\n",
       "    <tr>\n",
       "      <th>1217374</th>\n",
       "      <td>21</td>\n",
       "      <td>8376</td>\n",
       "      <td>97</td>\n",
       "      <td>NaN</td>\n",
       "      <td>2019-08-03</td>\n",
       "      <td>Крадущийся в тени</td>\n",
       "      <td>Алексей Пехов</td>\n",
       "      <td>2001-2002</td>\n",
       "      <td>Героическое фэнтези,Боевое фэнтези</td>\n",
       "    </tr>\n",
       "    <tr>\n",
       "      <th>1253974</th>\n",
       "      <td>21</td>\n",
       "      <td>2459</td>\n",
       "      <td>97</td>\n",
       "      <td>NaN</td>\n",
       "      <td>2019-08-21</td>\n",
       "      <td>Джанга с тенями</td>\n",
       "      <td>Алексей Пехов</td>\n",
       "      <td>2002</td>\n",
       "      <td>Героическое фэнтези,Боевое фэнтези</td>\n",
       "    </tr>\n",
       "    <tr>\n",
       "      <th>1259646</th>\n",
       "      <td>21</td>\n",
       "      <td>30374</td>\n",
       "      <td>100</td>\n",
       "      <td>NaN</td>\n",
       "      <td>2019-08-23</td>\n",
       "      <td>Вьюга теней</td>\n",
       "      <td>Алексей Пехов</td>\n",
       "      <td>2003</td>\n",
       "      <td>Героическое фэнтези,Книги про волшебников</td>\n",
       "    </tr>\n",
       "    <tr>\n",
       "      <th>1264015</th>\n",
       "      <td>21</td>\n",
       "      <td>48430</td>\n",
       "      <td>99</td>\n",
       "      <td>NaN</td>\n",
       "      <td>2019-08-25</td>\n",
       "      <td>Летос</td>\n",
       "      <td>Алексей Пехов</td>\n",
       "      <td>2014</td>\n",
       "      <td>Героическое фэнтези,Боевое фэнтези</td>\n",
       "    </tr>\n",
       "    <tr>\n",
       "      <th>1266898</th>\n",
       "      <td>21</td>\n",
       "      <td>25393</td>\n",
       "      <td>100</td>\n",
       "      <td>5.0</td>\n",
       "      <td>2019-08-27</td>\n",
       "      <td>Синее пламя</td>\n",
       "      <td>Алексей Пехов</td>\n",
       "      <td>2015</td>\n",
       "      <td>Героическое фэнтези,Боевое фэнтези,Книги про в...</td>\n",
       "    </tr>\n",
       "    <tr>\n",
       "      <th>1269789</th>\n",
       "      <td>21</td>\n",
       "      <td>2204</td>\n",
       "      <td>99</td>\n",
       "      <td>5.0</td>\n",
       "      <td>2019-08-28</td>\n",
       "      <td>Талорис</td>\n",
       "      <td>Алексей Пехов</td>\n",
       "      <td>2019</td>\n",
       "      <td>Героическое фэнтези,Боевое фэнтези,Книги про в...</td>\n",
       "    </tr>\n",
       "  </tbody>\n",
       "</table>\n",
       "</div>"
      ],
      "text/plain": [
       "         user_id  item_id  progress  rating start_date                  title  \\\n",
       "249157        21     4375        54     NaN 2018-05-01       Выстрел в сердце   \n",
       "293131        21     5909        85     5.0 2018-05-22                 Спектр   \n",
       "707632        21    42197       100     NaN 2018-12-05   История Бледной Моли   \n",
       "949315        21    13438       100     NaN 2019-03-30     Честь Белого Волка   \n",
       "983687        21    28402       100     NaN 2019-04-15      Свирепый ландграф   \n",
       "1074800       21     5795        99     NaN 2019-05-28  Век святого Скиминока   \n",
       "1194397       21    13389       100     NaN 2019-07-23                  Страж   \n",
       "1197382       21    39338        99     NaN 2019-07-24               Аутодафе   \n",
       "1207323       21    22637       100     5.0 2019-07-29         Золотые костры   \n",
       "1213766       21     7211        96     NaN 2019-08-01         Проклятый горн   \n",
       "1217374       21     8376        97     NaN 2019-08-03      Крадущийся в тени   \n",
       "1253974       21     2459        97     NaN 2019-08-21        Джанга с тенями   \n",
       "1259646       21    30374       100     NaN 2019-08-23            Вьюга теней   \n",
       "1264015       21    48430        99     NaN 2019-08-25                  Летос   \n",
       "1266898       21    25393       100     5.0 2019-08-27            Синее пламя   \n",
       "1269789       21     2204        99     5.0 2019-08-28                Талорис   \n",
       "\n",
       "                   authors       year  \\\n",
       "249157     Герман Садулаев       2017   \n",
       "293131   Сергей Лукьяненко    2001-02   \n",
       "707632       Настя Любимка       2017   \n",
       "949315      Андрей Белянин       2018   \n",
       "983687      Андрей Белянин       1998   \n",
       "1074800     Андрей Белянин       1998   \n",
       "1194397      Алексей Пехов       2010   \n",
       "1197382      Алексей Пехов       2011   \n",
       "1207323      Алексей Пехов       2012   \n",
       "1213766      Алексей Пехов       2014   \n",
       "1217374      Алексей Пехов  2001-2002   \n",
       "1253974      Алексей Пехов       2002   \n",
       "1259646      Алексей Пехов       2003   \n",
       "1264015      Алексей Пехов       2014   \n",
       "1266898      Алексей Пехов       2015   \n",
       "1269789      Алексей Пехов       2019   \n",
       "\n",
       "                                                    genres  \n",
       "249157                      Современная русская литература  \n",
       "293131   Социальная фантастика,Космическая фантастика,Н...  \n",
       "707632                Героическое фэнтези,Любовное фэнтези  \n",
       "949315                              Юмористическое фэнтези  \n",
       "983687                              Юмористическое фэнтези  \n",
       "1074800         Героическое фэнтези,Юмористическое фэнтези  \n",
       "1194397          Героическое фэнтези,Книги про волшебников  \n",
       "1197382                 Героическое фэнтези,Боевое фэнтези  \n",
       "1207323                 Героическое фэнтези,Боевое фэнтези  \n",
       "1213766                 Героическое фэнтези,Боевое фэнтези  \n",
       "1217374                 Героическое фэнтези,Боевое фэнтези  \n",
       "1253974                 Героическое фэнтези,Боевое фэнтези  \n",
       "1259646          Героическое фэнтези,Книги про волшебников  \n",
       "1264015                 Героическое фэнтези,Боевое фэнтези  \n",
       "1266898  Героическое фэнтези,Боевое фэнтези,Книги про в...  \n",
       "1269789  Героическое фэнтези,Боевое фэнтези,Книги про в...  "
      ]
     },
     "execution_count": 82,
     "metadata": {},
     "output_type": "execute_result"
    }
   ],
   "source": [
    "train_by_date[(train_by_date['user_id'] == 21)].merge(i_features[['title', 'authors', 'year', 'genres']], left_on='item_id', right_index=True)"
   ]
  },
  {
   "cell_type": "markdown",
   "id": "HYe4JCcgJnH-",
   "metadata": {
    "id": "HYe4JCcgJnH-"
   },
   "source": [
    "Predict:"
   ]
  },
  {
   "cell_type": "code",
   "execution_count": 83,
   "id": "22e24ee9",
   "metadata": {
    "colab": {
     "base_uri": "https://localhost:8080/",
     "height": 359
    },
    "id": "22e24ee9",
    "outputId": "5f64a3c5-f5ec-4310-a414-b0b849d9a473"
   },
   "outputs": [
    {
     "data": {
      "text/html": [
       "<div>\n",
       "<style scoped>\n",
       "    .dataframe tbody tr th:only-of-type {\n",
       "        vertical-align: middle;\n",
       "    }\n",
       "\n",
       "    .dataframe tbody tr th {\n",
       "        vertical-align: top;\n",
       "    }\n",
       "\n",
       "    .dataframe thead th {\n",
       "        text-align: right;\n",
       "    }\n",
       "</style>\n",
       "<table border=\"1\" class=\"dataframe\">\n",
       "  <thead>\n",
       "    <tr style=\"text-align: right;\">\n",
       "      <th></th>\n",
       "      <th>user_id</th>\n",
       "      <th>item_id</th>\n",
       "      <th>relevance</th>\n",
       "      <th>title</th>\n",
       "      <th>authors</th>\n",
       "      <th>year</th>\n",
       "      <th>genres</th>\n",
       "    </tr>\n",
       "  </thead>\n",
       "  <tbody>\n",
       "    <tr>\n",
       "      <th>0</th>\n",
       "      <td>21</td>\n",
       "      <td>1036</td>\n",
       "      <td>8.0</td>\n",
       "      <td>Искатели ветра</td>\n",
       "      <td>Алексей Пехов</td>\n",
       "      <td>2005</td>\n",
       "      <td>Героическое фэнтези,Боевое фэнтези,Книги про в...</td>\n",
       "    </tr>\n",
       "    <tr>\n",
       "      <th>3</th>\n",
       "      <td>21</td>\n",
       "      <td>12691</td>\n",
       "      <td>6.0</td>\n",
       "      <td>Ловушка для духа</td>\n",
       "      <td>Алексей Пехов,Наталья Турчанинова,Елена Бычкова</td>\n",
       "      <td>2016</td>\n",
       "      <td>Героическое фэнтези,Боевое фэнтези,Книги про в...</td>\n",
       "    </tr>\n",
       "    <tr>\n",
       "      <th>5</th>\n",
       "      <td>21</td>\n",
       "      <td>27283</td>\n",
       "      <td>6.0</td>\n",
       "      <td>Созерцатель</td>\n",
       "      <td>Алексей Пехов</td>\n",
       "      <td>2016</td>\n",
       "      <td>Стимпанк,Героическое фэнтези,Боевое фэнтези</td>\n",
       "    </tr>\n",
       "    <tr>\n",
       "      <th>8</th>\n",
       "      <td>21</td>\n",
       "      <td>41344</td>\n",
       "      <td>6.0</td>\n",
       "      <td>Ветер полыни</td>\n",
       "      <td>Алексей Пехов</td>\n",
       "      <td>2006</td>\n",
       "      <td>Героическое фэнтези,Боевое фэнтези,Книги про в...</td>\n",
       "    </tr>\n",
       "    <tr>\n",
       "      <th>6</th>\n",
       "      <td>21</td>\n",
       "      <td>31099</td>\n",
       "      <td>4.0</td>\n",
       "      <td>Ловцы удачи</td>\n",
       "      <td>Алексей Пехов</td>\n",
       "      <td>2012</td>\n",
       "      <td>Боевое фэнтези</td>\n",
       "    </tr>\n",
       "    <tr>\n",
       "      <th>7</th>\n",
       "      <td>21</td>\n",
       "      <td>38583</td>\n",
       "      <td>4.0</td>\n",
       "      <td>Под знаком мантикоры</td>\n",
       "      <td>Алексей Пехов</td>\n",
       "      <td>2004</td>\n",
       "      <td>Детективное фэнтези,Героическое фэнтези</td>\n",
       "    </tr>\n",
       "    <tr>\n",
       "      <th>9</th>\n",
       "      <td>21</td>\n",
       "      <td>50385</td>\n",
       "      <td>4.0</td>\n",
       "      <td>Струны волшебства. Книга первая. Страшные сказ...</td>\n",
       "      <td>Милена Завойчинская</td>\n",
       "      <td>2018</td>\n",
       "      <td>Героическое фэнтези,Книги про волшебников</td>\n",
       "    </tr>\n",
       "    <tr>\n",
       "      <th>4</th>\n",
       "      <td>21</td>\n",
       "      <td>19477</td>\n",
       "      <td>3.0</td>\n",
       "      <td>Заклинатели</td>\n",
       "      <td>Алексей Пехов,Наталья Турчанинова,Елена Бычкова</td>\n",
       "      <td>2011</td>\n",
       "      <td>Героическое фэнтези,Боевое фэнтези,Книги про в...</td>\n",
       "    </tr>\n",
       "    <tr>\n",
       "      <th>1</th>\n",
       "      <td>21</td>\n",
       "      <td>3303</td>\n",
       "      <td>2.0</td>\n",
       "      <td>Долина драконов. Магическая Практика</td>\n",
       "      <td>Елена Звёздная</td>\n",
       "      <td>2018</td>\n",
       "      <td>Любовное фэнтези,Фэнтези про драконов,Магическ...</td>\n",
       "    </tr>\n",
       "    <tr>\n",
       "      <th>2</th>\n",
       "      <td>21</td>\n",
       "      <td>8513</td>\n",
       "      <td>2.0</td>\n",
       "      <td>Вторая жизнь майора</td>\n",
       "      <td>Владимир Сухинин</td>\n",
       "      <td>2017</td>\n",
       "      <td>Героическое фэнтези,Попаданцы,Боевое фэнтези</td>\n",
       "    </tr>\n",
       "  </tbody>\n",
       "</table>\n",
       "</div>"
      ],
      "text/plain": [
       "   user_id  item_id  relevance  \\\n",
       "0       21     1036        8.0   \n",
       "3       21    12691        6.0   \n",
       "5       21    27283        6.0   \n",
       "8       21    41344        6.0   \n",
       "6       21    31099        4.0   \n",
       "7       21    38583        4.0   \n",
       "9       21    50385        4.0   \n",
       "4       21    19477        3.0   \n",
       "1       21     3303        2.0   \n",
       "2       21     8513        2.0   \n",
       "\n",
       "                                               title  \\\n",
       "0                                     Искатели ветра   \n",
       "3                                   Ловушка для духа   \n",
       "5                                        Созерцатель   \n",
       "8                                       Ветер полыни   \n",
       "6                                        Ловцы удачи   \n",
       "7                               Под знаком мантикоры   \n",
       "9  Струны волшебства. Книга первая. Страшные сказ...   \n",
       "4                                        Заклинатели   \n",
       "1               Долина драконов. Магическая Практика   \n",
       "2                                Вторая жизнь майора   \n",
       "\n",
       "                                           authors  year  \\\n",
       "0                                    Алексей Пехов  2005   \n",
       "3  Алексей Пехов,Наталья Турчанинова,Елена Бычкова  2016   \n",
       "5                                    Алексей Пехов  2016   \n",
       "8                                    Алексей Пехов  2006   \n",
       "6                                    Алексей Пехов  2012   \n",
       "7                                    Алексей Пехов  2004   \n",
       "9                              Милена Завойчинская  2018   \n",
       "4  Алексей Пехов,Наталья Турчанинова,Елена Бычкова  2011   \n",
       "1                                   Елена Звёздная  2018   \n",
       "2                                 Владимир Сухинин  2017   \n",
       "\n",
       "                                              genres  \n",
       "0  Героическое фэнтези,Боевое фэнтези,Книги про в...  \n",
       "3  Героическое фэнтези,Боевое фэнтези,Книги про в...  \n",
       "5        Стимпанк,Героическое фэнтези,Боевое фэнтези  \n",
       "8  Героическое фэнтези,Боевое фэнтези,Книги про в...  \n",
       "6                                     Боевое фэнтези  \n",
       "7            Детективное фэнтези,Героическое фэнтези  \n",
       "9          Героическое фэнтези,Книги про волшебников  \n",
       "4  Героическое фэнтези,Боевое фэнтези,Книги про в...  \n",
       "1  Любовное фэнтези,Фэнтези про драконов,Магическ...  \n",
       "2       Героическое фэнтези,Попаданцы,Боевое фэнтези  "
      ]
     },
     "execution_count": 83,
     "metadata": {},
     "output_type": "execute_result"
    }
   ],
   "source": [
    "neighbour_pred[neighbour_pred['user_id'] == 21].merge(i_features[['title', 'authors', 'year', 'genres']], on='item_id').sort_values('relevance', ascending=False)"
   ]
  },
  {
   "cell_type": "markdown",
   "id": "1ad3edef",
   "metadata": {
    "id": "1ad3edef"
   },
   "source": [
    "# 6 Matrix Factorization"
   ]
  },
  {
   "cell_type": "markdown",
   "id": "JZw67TDcKw1E",
   "metadata": {
    "id": "JZw67TDcKw1E"
   },
   "source": [
    "## SVD"
   ]
  },
  {
   "cell_type": "markdown",
   "id": "e5261747",
   "metadata": {
    "id": "e5261747"
   },
   "source": [
    "На лекции уже говорили: \"в начале были матричные разложения\". Вот и попробуем сделать svd. Вообще изначально матричные разложения лучше подходят для explicit feedback (потому что восстанавливают значения в ячейках матрицы взаимодействий), но существуют и широко используются алгоритмы, [адаптированные под implicit](http://yifanhu.net/PUB/cf.pdf).\n",
    "Реализации есть, например, в [implicit](https://implicit.readthedocs.io/en/latest/) или [pyspark mllib](https://spark.apache.org/docs/latest/api/python/reference/api/pyspark.mllib.recommendation.ALS.html)."
   ]
  },
  {
   "cell_type": "markdown",
   "id": "56d74b2f",
   "metadata": {
    "id": "56d74b2f"
   },
   "source": [
    "Логично ли применять именно SVD к implicit feedback? В общем случае — нет. Например, если пользователь заказал хлеб 10 раз, а кофе - 1, то кофе в 10 раз менее релевантен, чем хлеб?\n",
    "На практике можно все релевантности брать равными 1 или другим способом предобработать implicit feedback."
   ]
  },
  {
   "cell_type": "markdown",
   "id": "08d92088",
   "metadata": {
    "id": "08d92088"
   },
   "source": [
    "## 6.1 Задание: сделайте csr-матрицу с единичными значениями из train и примените к ней [svds](https://docs.scipy.org/doc/scipy/reference/generated/scipy.sparse.linalg.svds.html) из scipy.sparse.linalg\n",
    "\n",
    "- возьмем k = 64, чтобы получить компактные представления для пользователей и item-ов"
   ]
  },
  {
   "cell_type": "markdown",
   "id": "f80cba64",
   "metadata": {},
   "source": [
    "Если svd проходили слишком давно:\n",
    "![svd](https://upload.wikimedia.org/wikipedia/commons/c/c8/Singular_value_decomposition_visualisation.svg)"
   ]
  },
  {
   "cell_type": "code",
   "execution_count": 84,
   "id": "1c479a85",
   "metadata": {
    "id": "1c479a85"
   },
   "outputs": [],
   "source": [
    "from scipy.sparse import csr_matrix\n",
    "from scipy.sparse.linalg import svds"
   ]
  },
  {
   "cell_type": "code",
   "execution_count": 85,
   "id": "303b4e85",
   "metadata": {
    "colab": {
     "base_uri": "https://localhost:8080/"
    },
    "id": "303b4e85",
    "outputId": "a3de2de8-3e7d-4a79-c6b5-648b56dea239"
   },
   "outputs": [
    {
     "name": "stdout",
     "output_type": "stream",
     "text": [
      "CPU times: user 11.3 s, sys: 916 ms, total: 12.3 s\n",
      "Wall time: 3.43 s\n"
     ]
    }
   ],
   "source": [
    "%%time\n",
    "# ======= YOUR CODE HERE ==========\n",
    "csr_train = csr_matrix((np.ones(train_by_date.shape[0]).astype(float), (train_by_date['user_id'], train_by_date['item_id'])))\n",
    "user_vectors, singular_values, item_vectors = svds(A=csr_train, k=64)"
   ]
  },
  {
   "cell_type": "code",
   "execution_count": 86,
   "id": "SBO9EiD-4BbX",
   "metadata": {
    "colab": {
     "base_uri": "https://localhost:8080/"
    },
    "id": "SBO9EiD-4BbX",
    "outputId": "6115b573-a63b-4b75-ccdc-57bf85721818"
   },
   "outputs": [
    {
     "data": {
      "text/plain": [
       "158808"
      ]
     },
     "execution_count": 86,
     "metadata": {},
     "output_type": "execute_result"
    }
   ],
   "source": [
    "train_by_date['user_id'].max()"
   ]
  },
  {
   "cell_type": "code",
   "execution_count": 87,
   "id": "5df702e7",
   "metadata": {
    "colab": {
     "base_uri": "https://localhost:8080/"
    },
    "id": "5df702e7",
    "outputId": "9b7dbbbf-4a33-4287-c8d4-71146e5bf095"
   },
   "outputs": [
    {
     "data": {
      "text/plain": [
       "((158809, 64), (64,), (64, 59599))"
      ]
     },
     "execution_count": 87,
     "metadata": {},
     "output_type": "execute_result"
    }
   ],
   "source": [
    "user_vectors.shape, singular_values.shape, item_vectors.shape"
   ]
  },
  {
   "cell_type": "markdown",
   "id": "5e0923ae",
   "metadata": {
    "id": "5e0923ae"
   },
   "source": [
    "Мы получили векторные представления пользователей и объектов и сингулярные числа. Восстановив матрицу мы получим предсказанные значения вероятностей для новых объектов."
   ]
  },
  {
   "cell_type": "markdown",
   "id": "29d83506",
   "metadata": {
    "id": "29d83506"
   },
   "source": [
    "## 6.2 Задание: получим top-10 рекомендации для пользователя 21"
   ]
  },
  {
   "cell_type": "code",
   "execution_count": 88,
   "id": "114e1a19",
   "metadata": {
    "id": "114e1a19"
   },
   "outputs": [],
   "source": [
    "user = 21\n",
    "# ======= YOUR CODE HERE ==========\n",
    "rel = user_vectors[user, :] @ np.diag(singular_values) @ item_vectors\n",
    "ids = np.argpartition(rel, -K)[-K:]"
   ]
  },
  {
   "cell_type": "code",
   "execution_count": 89,
   "id": "dbdb7f3f",
   "metadata": {},
   "outputs": [
    {
     "data": {
      "text/plain": [
       "array([14862, 16334,  8513, 30877,  8376, 30917, 34835, 46525,  7211,\n",
       "       24786])"
      ]
     },
     "execution_count": 89,
     "metadata": {},
     "output_type": "execute_result"
    }
   ],
   "source": [
    "ids"
   ]
  },
  {
   "cell_type": "code",
   "execution_count": 90,
   "id": "ada08d38",
   "metadata": {
    "colab": {
     "base_uri": "https://localhost:8080/",
     "height": 359
    },
    "id": "ada08d38",
    "outputId": "0a172eae-d02f-4f64-f215-40206e419269"
   },
   "outputs": [
    {
     "data": {
      "text/html": [
       "<div>\n",
       "<style scoped>\n",
       "    .dataframe tbody tr th:only-of-type {\n",
       "        vertical-align: middle;\n",
       "    }\n",
       "\n",
       "    .dataframe tbody tr th {\n",
       "        vertical-align: top;\n",
       "    }\n",
       "\n",
       "    .dataframe thead th {\n",
       "        text-align: right;\n",
       "    }\n",
       "</style>\n",
       "<table border=\"1\" class=\"dataframe\">\n",
       "  <thead>\n",
       "    <tr style=\"text-align: right;\">\n",
       "      <th></th>\n",
       "      <th>item_id</th>\n",
       "      <th>relevance</th>\n",
       "      <th>title</th>\n",
       "      <th>authors</th>\n",
       "      <th>year</th>\n",
       "      <th>genres</th>\n",
       "    </tr>\n",
       "  </thead>\n",
       "  <tbody>\n",
       "    <tr>\n",
       "      <th>9</th>\n",
       "      <td>24786</td>\n",
       "      <td>0.076306</td>\n",
       "      <td>Тень света</td>\n",
       "      <td>Андрей Васильев</td>\n",
       "      <td>2018</td>\n",
       "      <td>Городское фэнтези,Книги про волшебников</td>\n",
       "    </tr>\n",
       "    <tr>\n",
       "      <th>6</th>\n",
       "      <td>34835</td>\n",
       "      <td>0.067044</td>\n",
       "      <td>Разрушитель божественных замыслов</td>\n",
       "      <td>Владимир Сухинин</td>\n",
       "      <td>2017</td>\n",
       "      <td>Героическое фэнтези,Попаданцы,Боевое фэнтези</td>\n",
       "    </tr>\n",
       "    <tr>\n",
       "      <th>8</th>\n",
       "      <td>7211</td>\n",
       "      <td>0.063664</td>\n",
       "      <td>Проклятый горн</td>\n",
       "      <td>Алексей Пехов</td>\n",
       "      <td>2014</td>\n",
       "      <td>Героическое фэнтези,Боевое фэнтези</td>\n",
       "    </tr>\n",
       "    <tr>\n",
       "      <th>7</th>\n",
       "      <td>46525</td>\n",
       "      <td>0.063137</td>\n",
       "      <td>Войны начинают неудачники</td>\n",
       "      <td>Вадим Панов</td>\n",
       "      <td>2003</td>\n",
       "      <td>Героическое фэнтези,Боевое фэнтези,Городское ф...</td>\n",
       "    </tr>\n",
       "    <tr>\n",
       "      <th>5</th>\n",
       "      <td>30917</td>\n",
       "      <td>0.062277</td>\n",
       "      <td>Знаки ночи</td>\n",
       "      <td>Андрей Васильев</td>\n",
       "      <td>2018</td>\n",
       "      <td>Городское фэнтези,Книги про волшебников</td>\n",
       "    </tr>\n",
       "    <tr>\n",
       "      <th>3</th>\n",
       "      <td>30877</td>\n",
       "      <td>0.062091</td>\n",
       "      <td>Великие Спящие. Том 1. Тьма против Тьмы</td>\n",
       "      <td>Виталий Зыков</td>\n",
       "      <td>2017</td>\n",
       "      <td>Героическое фэнтези,Попаданцы,Боевое фэнтези</td>\n",
       "    </tr>\n",
       "    <tr>\n",
       "      <th>1</th>\n",
       "      <td>16334</td>\n",
       "      <td>0.061710</td>\n",
       "      <td>Пешка в большой игре</td>\n",
       "      <td>Владимир Сухинин</td>\n",
       "      <td>2017</td>\n",
       "      <td>Героическое фэнтези,Попаданцы,Боевое фэнтези</td>\n",
       "    </tr>\n",
       "    <tr>\n",
       "      <th>2</th>\n",
       "      <td>8513</td>\n",
       "      <td>0.061215</td>\n",
       "      <td>Вторая жизнь майора</td>\n",
       "      <td>Владимир Сухинин</td>\n",
       "      <td>2017</td>\n",
       "      <td>Героическое фэнтези,Попаданцы,Боевое фэнтези</td>\n",
       "    </tr>\n",
       "    <tr>\n",
       "      <th>4</th>\n",
       "      <td>8376</td>\n",
       "      <td>0.060165</td>\n",
       "      <td>Крадущийся в тени</td>\n",
       "      <td>Алексей Пехов</td>\n",
       "      <td>2001-2002</td>\n",
       "      <td>Героическое фэнтези,Боевое фэнтези</td>\n",
       "    </tr>\n",
       "    <tr>\n",
       "      <th>0</th>\n",
       "      <td>14862</td>\n",
       "      <td>0.059509</td>\n",
       "      <td>Командор войны</td>\n",
       "      <td>Вадим Панов</td>\n",
       "      <td>2003</td>\n",
       "      <td>Героическое фэнтези,Боевое фэнтези,Городское ф...</td>\n",
       "    </tr>\n",
       "  </tbody>\n",
       "</table>\n",
       "</div>"
      ],
      "text/plain": [
       "   item_id  relevance                                    title  \\\n",
       "9    24786   0.076306                               Тень света   \n",
       "6    34835   0.067044        Разрушитель божественных замыслов   \n",
       "8     7211   0.063664                           Проклятый горн   \n",
       "7    46525   0.063137                Войны начинают неудачники   \n",
       "5    30917   0.062277                               Знаки ночи   \n",
       "3    30877   0.062091  Великие Спящие. Том 1. Тьма против Тьмы   \n",
       "1    16334   0.061710                     Пешка в большой игре   \n",
       "2     8513   0.061215                      Вторая жизнь майора   \n",
       "4     8376   0.060165                        Крадущийся в тени   \n",
       "0    14862   0.059509                           Командор войны   \n",
       "\n",
       "            authors       year  \\\n",
       "9   Андрей Васильев       2018   \n",
       "6  Владимир Сухинин       2017   \n",
       "8     Алексей Пехов       2014   \n",
       "7       Вадим Панов       2003   \n",
       "5   Андрей Васильев       2018   \n",
       "3     Виталий Зыков       2017   \n",
       "1  Владимир Сухинин       2017   \n",
       "2  Владимир Сухинин       2017   \n",
       "4     Алексей Пехов  2001-2002   \n",
       "0       Вадим Панов       2003   \n",
       "\n",
       "                                              genres  \n",
       "9            Городское фэнтези,Книги про волшебников  \n",
       "6       Героическое фэнтези,Попаданцы,Боевое фэнтези  \n",
       "8                 Героическое фэнтези,Боевое фэнтези  \n",
       "7  Героическое фэнтези,Боевое фэнтези,Городское ф...  \n",
       "5            Городское фэнтези,Книги про волшебников  \n",
       "3       Героическое фэнтези,Попаданцы,Боевое фэнтези  \n",
       "1       Героическое фэнтези,Попаданцы,Боевое фэнтези  \n",
       "2       Героическое фэнтези,Попаданцы,Боевое фэнтези  \n",
       "4                 Героическое фэнтези,Боевое фэнтези  \n",
       "0  Героическое фэнтези,Боевое фэнтези,Городское ф...  "
      ]
     },
     "execution_count": 90,
     "metadata": {},
     "output_type": "execute_result"
    }
   ],
   "source": [
    "res_pd = pd.DataFrame(list(zip(ids, rel[ids])), columns=['item_id', 'relevance']).merge(i_features[['title', 'authors', 'year', 'genres']], on='item_id')\n",
    "res_pd.sort_values('relevance', ascending=False)"
   ]
  },
  {
   "cell_type": "markdown",
   "id": "83e9eab9",
   "metadata": {
    "id": "83e9eab9"
   },
   "source": [
    "## 6.3 Задание: Обернем SVD в класс и оценим качество"
   ]
  },
  {
   "cell_type": "code",
   "execution_count": 91,
   "id": "4be4c10e",
   "metadata": {
    "id": "4be4c10e"
   },
   "outputs": [],
   "source": [
    "class SVDModel(ParentModel):\n",
    "    user_vectors: np.array\n",
    "    singular_values: np.array\n",
    "    item_vectors:np.array\n",
    "        \n",
    "    def __init__(self, rank: int):\n",
    "        self.rank = rank\n",
    "        \n",
    "    def fit(self, \n",
    "            log: pd.DataFrame, \n",
    "            user_features: Optional[pd.DataFrame]=None, \n",
    "            item_features: Optional[pd.DataFrame]=None) -> 'SVDModel':\n",
    "        csr_train = csr_matrix((np.ones(log.shape[0]).astype(float), (log['user_id'], log['item_id'])))\n",
    "        self.user_vectors, self.singular_values, self.item_vectors = svds(A=csr_train, k=self.rank)\n",
    "        return self\n",
    "        \n",
    "    def _split_pair(self, \n",
    "                    pred):\n",
    "        \"\"\"\n",
    "        Split column of tuples <item_id, relevance>\n",
    "        \"\"\"\n",
    "        pred['item_id'] = pred['recs'].apply(lambda x: x[0])\n",
    "        pred['relevance'] = pred['recs'].apply(lambda x: x[1])\n",
    "        pred.drop(columns=['recs'], inplace=True)\n",
    "        \n",
    "    def _predict(self, \n",
    "                log: pd.DataFrame, \n",
    "                users: pd.Series, \n",
    "                k: int,\n",
    "                user_features: Optional[pd.DataFrame]=None, \n",
    "                item_features: Optional[pd.DataFrame]=None,\n",
    "                filter_seen:bool = True) -> pd.DataFrame:\n",
    "        \n",
    "        # ======= YOUR CODE HERE ==========\n",
    "        def als_pred_by_user(user_id):\n",
    "            \"\"\"\n",
    "            Get top-k recs for user as a list of tuples with <item_id, relevance>\n",
    "            \"\"\"\n",
    "            rel = self.user_vectors[user_id, :] @ np.diag(self.singular_values) @ self.item_vectors\n",
    "            ids = np.argpartition(rel, -k)[-k:]\n",
    "            return list(zip(ids, rel[ids]))\n",
    "        # =================================\n",
    "        \n",
    "        pred = pd.DataFrame(users, columns=['user_id'])\n",
    "        pred['recs'] = pred['user_id'].apply(als_pred_by_user)\n",
    "        pred = pred.explode('recs')\n",
    "        self._split_pair(pred)\n",
    "        return pred"
   ]
  },
  {
   "cell_type": "code",
   "execution_count": 92,
   "id": "df0aa975",
   "metadata": {
    "id": "df0aa975"
   },
   "outputs": [],
   "source": [
    "svd_rec = SVDModel(rank=64)"
   ]
  },
  {
   "cell_type": "code",
   "execution_count": 93,
   "id": "fd8e9deb",
   "metadata": {
    "colab": {
     "base_uri": "https://localhost:8080/"
    },
    "id": "fd8e9deb",
    "outputId": "2737299c-7991-48c1-8461-caf8e1c0e23c"
   },
   "outputs": [
    {
     "name": "stdout",
     "output_type": "stream",
     "text": [
      "CPU times: user 10.9 s, sys: 829 ms, total: 11.7 s\n",
      "Wall time: 3.1 s\n"
     ]
    },
    {
     "data": {
      "text/plain": [
       "<__main__.SVDModel at 0x1322015e0>"
      ]
     },
     "execution_count": 93,
     "metadata": {},
     "output_type": "execute_result"
    }
   ],
   "source": [
    "%%time\n",
    "svd_rec.fit(train_by_date)"
   ]
  },
  {
   "cell_type": "code",
   "execution_count": 94,
   "id": "19c90dc9",
   "metadata": {
    "colab": {
     "base_uri": "https://localhost:8080/"
    },
    "id": "19c90dc9",
    "outputId": "924056f6-aca1-4767-d072-707309b1e035"
   },
   "outputs": [
    {
     "name": "stdout",
     "output_type": "stream",
     "text": [
      "CPU times: user 22 s, sys: 2.45 s, total: 24.4 s\n",
      "Wall time: 9.13 s\n"
     ]
    }
   ],
   "source": [
    "%%time\n",
    "svd_pred = svd_rec.predict(log=train_by_date, users=test_by_date_users, k=K)"
   ]
  },
  {
   "cell_type": "code",
   "execution_count": 95,
   "id": "c1e74c2e",
   "metadata": {
    "colab": {
     "base_uri": "https://localhost:8080/"
    },
    "id": "c1e74c2e",
    "outputId": "081255f1-c083-4b5e-b2d3-5818dc7ca406"
   },
   "outputs": [
    {
     "name": "stdout",
     "output_type": "stream",
     "text": [
      "CPU times: user 1.05 s, sys: 88 ms, total: 1.14 s\n",
      "Wall time: 2.06 s\n"
     ]
    }
   ],
   "source": [
    "%%time\n",
    "metrics = measure(svd_pred, test_by_date, 'svd_rec', metrics, cov_items=filtered_df['item_id'], surp=surp)"
   ]
  },
  {
   "cell_type": "code",
   "execution_count": 96,
   "id": "87zpGz5nMnDP",
   "metadata": {
    "colab": {
     "base_uri": "https://localhost:8080/",
     "height": 142
    },
    "id": "87zpGz5nMnDP",
    "outputId": "87a04134-856a-4c44-fc31-3468a7f878db"
   },
   "outputs": [
    {
     "data": {
      "text/html": [
       "<div>\n",
       "<style scoped>\n",
       "    .dataframe tbody tr th:only-of-type {\n",
       "        vertical-align: middle;\n",
       "    }\n",
       "\n",
       "    .dataframe tbody tr th {\n",
       "        vertical-align: top;\n",
       "    }\n",
       "\n",
       "    .dataframe thead th {\n",
       "        text-align: right;\n",
       "    }\n",
       "</style>\n",
       "<table border=\"1\" class=\"dataframe\">\n",
       "  <thead>\n",
       "    <tr style=\"text-align: right;\">\n",
       "      <th></th>\n",
       "      <th>hit_rate@1</th>\n",
       "      <th>hit_rate@K</th>\n",
       "      <th>mrr@K</th>\n",
       "      <th>map@K</th>\n",
       "      <th>coverage@K</th>\n",
       "      <th>surprisal@K</th>\n",
       "    </tr>\n",
       "  </thead>\n",
       "  <tbody>\n",
       "    <tr>\n",
       "      <th>svd_rec</th>\n",
       "      <td>0.022653</td>\n",
       "      <td>0.10998</td>\n",
       "      <td>0.043634</td>\n",
       "      <td>0.012784</td>\n",
       "      <td>0.026114</td>\n",
       "      <td>0.554712</td>\n",
       "    </tr>\n",
       "    <tr>\n",
       "      <th>neighbour_rec</th>\n",
       "      <td>0.01346</td>\n",
       "      <td>0.086671</td>\n",
       "      <td>0.031564</td>\n",
       "      <td>0.009043</td>\n",
       "      <td>0.031928</td>\n",
       "      <td>0.531623</td>\n",
       "    </tr>\n",
       "    <tr>\n",
       "      <th>popular</th>\n",
       "      <td>0.002626</td>\n",
       "      <td>0.022324</td>\n",
       "      <td>0.006628</td>\n",
       "      <td>0.001348</td>\n",
       "      <td>0.0003</td>\n",
       "      <td>0.429753</td>\n",
       "    </tr>\n",
       "  </tbody>\n",
       "</table>\n",
       "</div>"
      ],
      "text/plain": [
       "              hit_rate@1 hit_rate@K     mrr@K     map@K coverage@K surprisal@K\n",
       "svd_rec         0.022653    0.10998  0.043634  0.012784   0.026114    0.554712\n",
       "neighbour_rec    0.01346   0.086671  0.031564  0.009043   0.031928    0.531623\n",
       "popular         0.002626   0.022324  0.006628  0.001348     0.0003    0.429753"
      ]
     },
     "execution_count": 96,
     "metadata": {},
     "output_type": "execute_result"
    }
   ],
   "source": [
    "metrics.sort_values('map@K', ascending=False)"
   ]
  },
  {
   "cell_type": "markdown",
   "id": "a9803860",
   "metadata": {
    "id": "a9803860"
   },
   "source": [
    "Полезные результаты: теперь у нас есть вектора айтемов, и мы можем искать похожие. Вспомним про косинусное и Евклидово расстояние и скалярное произведение. \n",
    "\n",
    "Если захочется вспомнить про популярные способы оценки близости, можно почитать [тут](https://towardsdatascience.com/9-distance-measures-in-data-science-918109d069fa)"
   ]
  },
  {
   "cell_type": "markdown",
   "id": "6e9666f2",
   "metadata": {
    "id": "6e9666f2"
   },
   "source": [
    "## 6.4 Задание: найдите книги, похожие на \"Магический спецкурс. Второй семестр\" (43272)"
   ]
  },
  {
   "cell_type": "code",
   "execution_count": 97,
   "id": "BH3m0OTfOK4u",
   "metadata": {
    "id": "BH3m0OTfOK4u"
   },
   "outputs": [],
   "source": [
    "popularity = train_by_date.groupby('item_id')['user_id'].count().rename('popularity').sort_values(ascending=False)\n",
    "items_with_pop = i_features.merge(popularity, right_index=True, left_index=True)"
   ]
  },
  {
   "cell_type": "code",
   "execution_count": 98,
   "id": "46baf6ec",
   "metadata": {
    "colab": {
     "base_uri": "https://localhost:8080/"
    },
    "id": "46baf6ec",
    "outputId": "8f9fbe77-bb93-4213-9e87-0dd746651d5a"
   },
   "outputs": [
    {
     "data": {
      "text/plain": [
       "title                       Магический спецкурс. Второй семестр\n",
       "genres        Любовно-фантастические романы,Попаданцы,Любовн...\n",
       "authors                                             Лена Летняя\n",
       "year                                                       2018\n",
       "popularity                                                  219\n",
       "Name: 43272, dtype: object"
      ]
     },
     "execution_count": 98,
     "metadata": {},
     "output_type": "execute_result"
    }
   ],
   "source": [
    "items_with_pop.loc[43272]"
   ]
  },
  {
   "cell_type": "markdown",
   "id": "CyAFxi6l3Bjd",
   "metadata": {
    "id": "CyAFxi6l3Bjd"
   },
   "source": [
    "### cosine similarity"
   ]
  },
  {
   "cell_type": "code",
   "execution_count": 99,
   "id": "d3c0e5b2",
   "metadata": {
    "id": "d3c0e5b2"
   },
   "outputs": [],
   "source": [
    "from sklearn.metrics.pairwise import cosine_similarity"
   ]
  },
  {
   "cell_type": "code",
   "execution_count": 100,
   "id": "9461ee78",
   "metadata": {},
   "outputs": [
    {
     "data": {
      "text/html": [
       "<div>\n",
       "<style scoped>\n",
       "    .dataframe tbody tr th:only-of-type {\n",
       "        vertical-align: middle;\n",
       "    }\n",
       "\n",
       "    .dataframe tbody tr th {\n",
       "        vertical-align: top;\n",
       "    }\n",
       "\n",
       "    .dataframe thead th {\n",
       "        text-align: right;\n",
       "    }\n",
       "</style>\n",
       "<table border=\"1\" class=\"dataframe\">\n",
       "  <thead>\n",
       "    <tr style=\"text-align: right;\">\n",
       "      <th></th>\n",
       "      <th>item_id</th>\n",
       "      <th>relevance</th>\n",
       "      <th>title</th>\n",
       "      <th>genres</th>\n",
       "      <th>authors</th>\n",
       "      <th>year</th>\n",
       "      <th>popularity</th>\n",
       "    </tr>\n",
       "  </thead>\n",
       "  <tbody>\n",
       "    <tr>\n",
       "      <th>7</th>\n",
       "      <td>43272</td>\n",
       "      <td>1.000000</td>\n",
       "      <td>Магический спецкурс. Второй семестр</td>\n",
       "      <td>Любовно-фантастические романы,Попаданцы,Любовн...</td>\n",
       "      <td>Лена Летняя</td>\n",
       "      <td>2018</td>\n",
       "      <td>219</td>\n",
       "    </tr>\n",
       "    <tr>\n",
       "      <th>9</th>\n",
       "      <td>42829</td>\n",
       "      <td>0.989845</td>\n",
       "      <td>Магический спецкурс. Первый семестр</td>\n",
       "      <td>Попаданцы,Книги про волшебников,Любовное фэнтези</td>\n",
       "      <td>Лена Летняя</td>\n",
       "      <td>2017</td>\n",
       "      <td>239</td>\n",
       "    </tr>\n",
       "    <tr>\n",
       "      <th>8</th>\n",
       "      <td>40210</td>\n",
       "      <td>0.963117</td>\n",
       "      <td>Проект «Изоляция»</td>\n",
       "      <td>Боевая фантастика</td>\n",
       "      <td>Кирилл Шарапов</td>\n",
       "      <td>2013</td>\n",
       "      <td>1</td>\n",
       "    </tr>\n",
       "    <tr>\n",
       "      <th>6</th>\n",
       "      <td>36408</td>\n",
       "      <td>0.963104</td>\n",
       "      <td>Чёрная кошка</td>\n",
       "      <td>Книги для подростков,Книги для дошкольников</td>\n",
       "      <td>Александр Кувшинов</td>\n",
       "      <td>2018</td>\n",
       "      <td>2</td>\n",
       "    </tr>\n",
       "    <tr>\n",
       "      <th>5</th>\n",
       "      <td>41537</td>\n",
       "      <td>0.963088</td>\n",
       "      <td>Последний храм. Слово Старших</td>\n",
       "      <td>Героическое фэнтези,Боевое фэнтези</td>\n",
       "      <td>NaN</td>\n",
       "      <td>2019</td>\n",
       "      <td>2</td>\n",
       "    </tr>\n",
       "    <tr>\n",
       "      <th>4</th>\n",
       "      <td>10651</td>\n",
       "      <td>0.962420</td>\n",
       "      <td>Врата Победы: Ленинград-43. Сумерки богов. Вра...</td>\n",
       "      <td>Историческая фантастика,Попаданцы</td>\n",
       "      <td>Владислав Савин</td>\n",
       "      <td>2019</td>\n",
       "      <td>2</td>\n",
       "    </tr>\n",
       "    <tr>\n",
       "      <th>2</th>\n",
       "      <td>12779</td>\n",
       "      <td>0.961550</td>\n",
       "      <td>Вeрните моего сына</td>\n",
       "      <td>Современные детективы,Остросюжетные любовные р...</td>\n",
       "      <td>Анна Исламова</td>\n",
       "      <td>2019</td>\n",
       "      <td>3</td>\n",
       "    </tr>\n",
       "    <tr>\n",
       "      <th>3</th>\n",
       "      <td>36626</td>\n",
       "      <td>0.956396</td>\n",
       "      <td>Телепрограмма 12-2018</td>\n",
       "      <td>Прикладная литература,Газеты,Журнальные издания</td>\n",
       "      <td>Редакция журнала Телепрограмма</td>\n",
       "      <td>2018</td>\n",
       "      <td>2</td>\n",
       "    </tr>\n",
       "    <tr>\n",
       "      <th>1</th>\n",
       "      <td>46006</td>\n",
       "      <td>0.956092</td>\n",
       "      <td>Воспитание и развитие ребенка. Психоаналитичес...</td>\n",
       "      <td>Психоанализ,Воспитание детей,Детская психология</td>\n",
       "      <td>Юлия Бердникова</td>\n",
       "      <td>2018</td>\n",
       "      <td>4</td>\n",
       "    </tr>\n",
       "    <tr>\n",
       "      <th>0</th>\n",
       "      <td>22054</td>\n",
       "      <td>0.954811</td>\n",
       "      <td>Ты самая любимая (сборник)</td>\n",
       "      <td>Современная русская литература</td>\n",
       "      <td>Эдуард Тополь</td>\n",
       "      <td>2011</td>\n",
       "      <td>3</td>\n",
       "    </tr>\n",
       "  </tbody>\n",
       "</table>\n",
       "</div>"
      ],
      "text/plain": [
       "   item_id  relevance                                              title  \\\n",
       "7    43272   1.000000                Магический спецкурс. Второй семестр   \n",
       "9    42829   0.989845                Магический спецкурс. Первый семестр   \n",
       "8    40210   0.963117                                  Проект «Изоляция»   \n",
       "6    36408   0.963104                                       Чёрная кошка   \n",
       "5    41537   0.963088                      Последний храм. Слово Старших   \n",
       "4    10651   0.962420  Врата Победы: Ленинград-43. Сумерки богов. Вра...   \n",
       "2    12779   0.961550                                 Вeрните моего сына   \n",
       "3    36626   0.956396                              Телепрограмма 12-2018   \n",
       "1    46006   0.956092  Воспитание и развитие ребенка. Психоаналитичес...   \n",
       "0    22054   0.954811                         Ты самая любимая (сборник)   \n",
       "\n",
       "                                              genres  \\\n",
       "7  Любовно-фантастические романы,Попаданцы,Любовн...   \n",
       "9   Попаданцы,Книги про волшебников,Любовное фэнтези   \n",
       "8                                  Боевая фантастика   \n",
       "6        Книги для подростков,Книги для дошкольников   \n",
       "5                 Героическое фэнтези,Боевое фэнтези   \n",
       "4                  Историческая фантастика,Попаданцы   \n",
       "2  Современные детективы,Остросюжетные любовные р...   \n",
       "3    Прикладная литература,Газеты,Журнальные издания   \n",
       "1    Психоанализ,Воспитание детей,Детская психология   \n",
       "0                     Современная русская литература   \n",
       "\n",
       "                           authors  year  popularity  \n",
       "7                      Лена Летняя  2018         219  \n",
       "9                      Лена Летняя  2017         239  \n",
       "8                   Кирилл Шарапов  2013           1  \n",
       "6               Александр Кувшинов  2018           2  \n",
       "5                              NaN  2019           2  \n",
       "4                  Владислав Савин  2019           2  \n",
       "2                    Анна Исламова  2019           3  \n",
       "3   Редакция журнала Телепрограмма  2018           2  \n",
       "1                  Юлия Бердникова  2018           4  \n",
       "0                    Эдуард Тополь  2011           3  "
      ]
     },
     "execution_count": 100,
     "metadata": {},
     "output_type": "execute_result"
    }
   ],
   "source": [
    "rel = cosine_similarity(svd_rec.item_vectors.T[[43272], :], svd_rec.item_vectors.T).ravel()\n",
    "ids = np.argpartition(rel, -K)[-K:]\n",
    "pd.DataFrame(list(zip(ids, rel[ids])), columns=['item_id', 'relevance']).merge(items_with_pop, on='item_id').sort_values('relevance', ascending=False)"
   ]
  },
  {
   "cell_type": "markdown",
   "id": "Ox8k6Go63hop",
   "metadata": {
    "id": "Ox8k6Go63hop"
   },
   "source": [
    "### cosine similarity for popular"
   ]
  },
  {
   "cell_type": "code",
   "execution_count": 101,
   "id": "ppba9wdXoc5W",
   "metadata": {
    "colab": {
     "base_uri": "https://localhost:8080/"
    },
    "id": "ppba9wdXoc5W",
    "outputId": "24e4d890-67c3-4fa0-fc14-b5b9fa3819d5"
   },
   "outputs": [
    {
     "data": {
      "text/plain": [
       "(1995,)"
      ]
     },
     "execution_count": 101,
     "metadata": {},
     "output_type": "execute_result"
    }
   ],
   "source": [
    "popular = items_with_pop[items_with_pop['popularity'] > 30].index.values\n",
    "popular.shape"
   ]
  },
  {
   "cell_type": "code",
   "execution_count": 102,
   "id": "6cc5dc66",
   "metadata": {},
   "outputs": [
    {
     "data": {
      "text/html": [
       "<div>\n",
       "<style scoped>\n",
       "    .dataframe tbody tr th:only-of-type {\n",
       "        vertical-align: middle;\n",
       "    }\n",
       "\n",
       "    .dataframe tbody tr th {\n",
       "        vertical-align: top;\n",
       "    }\n",
       "\n",
       "    .dataframe thead th {\n",
       "        text-align: right;\n",
       "    }\n",
       "</style>\n",
       "<table border=\"1\" class=\"dataframe\">\n",
       "  <thead>\n",
       "    <tr style=\"text-align: right;\">\n",
       "      <th></th>\n",
       "      <th>item_id</th>\n",
       "      <th>relevance</th>\n",
       "      <th>title</th>\n",
       "      <th>genres</th>\n",
       "      <th>authors</th>\n",
       "      <th>year</th>\n",
       "      <th>popularity</th>\n",
       "    </tr>\n",
       "  </thead>\n",
       "  <tbody>\n",
       "    <tr>\n",
       "      <th>7</th>\n",
       "      <td>43272</td>\n",
       "      <td>1.000000</td>\n",
       "      <td>Магический спецкурс. Второй семестр</td>\n",
       "      <td>Любовно-фантастические романы,Попаданцы,Любовн...</td>\n",
       "      <td>Лена Летняя</td>\n",
       "      <td>2018</td>\n",
       "      <td>219</td>\n",
       "    </tr>\n",
       "    <tr>\n",
       "      <th>2</th>\n",
       "      <td>42829</td>\n",
       "      <td>0.989845</td>\n",
       "      <td>Магический спецкурс. Первый семестр</td>\n",
       "      <td>Попаданцы,Книги про волшебников,Любовное фэнтези</td>\n",
       "      <td>Лена Летняя</td>\n",
       "      <td>2017</td>\n",
       "      <td>239</td>\n",
       "    </tr>\n",
       "    <tr>\n",
       "      <th>9</th>\n",
       "      <td>4108</td>\n",
       "      <td>0.945705</td>\n",
       "      <td>Проклятый ректор</td>\n",
       "      <td>Детективное фэнтези,Книги про волшебников,Любо...</td>\n",
       "      <td>Лена Летняя</td>\n",
       "      <td>2017</td>\n",
       "      <td>192</td>\n",
       "    </tr>\n",
       "    <tr>\n",
       "      <th>3</th>\n",
       "      <td>9727</td>\n",
       "      <td>0.923746</td>\n",
       "      <td>Академия Легиона</td>\n",
       "      <td>Детективное фэнтези,Книги о приключениях,Любов...</td>\n",
       "      <td>Лена Летняя</td>\n",
       "      <td>2018</td>\n",
       "      <td>127</td>\n",
       "    </tr>\n",
       "    <tr>\n",
       "      <th>5</th>\n",
       "      <td>14575</td>\n",
       "      <td>0.805210</td>\n",
       "      <td>Невеста Смерти</td>\n",
       "      <td>Детективное фэнтези,Любовное фэнтези</td>\n",
       "      <td>Лена Летняя</td>\n",
       "      <td>2018</td>\n",
       "      <td>304</td>\n",
       "    </tr>\n",
       "    <tr>\n",
       "      <th>4</th>\n",
       "      <td>23851</td>\n",
       "      <td>0.458745</td>\n",
       "      <td>Монстр</td>\n",
       "      <td>Детективное фэнтези,Любовное фэнтези</td>\n",
       "      <td>Елена Обухова,Лена Летняя</td>\n",
       "      <td>2018</td>\n",
       "      <td>42</td>\n",
       "    </tr>\n",
       "    <tr>\n",
       "      <th>6</th>\n",
       "      <td>48383</td>\n",
       "      <td>0.303158</td>\n",
       "      <td>Попаданка и король</td>\n",
       "      <td>Любовно-фантастические романы,Остросюжетные лю...</td>\n",
       "      <td>Матильда Старр</td>\n",
       "      <td>2018</td>\n",
       "      <td>51</td>\n",
       "    </tr>\n",
       "    <tr>\n",
       "      <th>8</th>\n",
       "      <td>42432</td>\n",
       "      <td>0.278017</td>\n",
       "      <td>Только ты</td>\n",
       "      <td>Современные любовные романы</td>\n",
       "      <td>Янина Логвин</td>\n",
       "      <td>2018</td>\n",
       "      <td>91</td>\n",
       "    </tr>\n",
       "    <tr>\n",
       "      <th>1</th>\n",
       "      <td>42883</td>\n",
       "      <td>0.250207</td>\n",
       "      <td>Проклятие на троих</td>\n",
       "      <td>Любовно-фантастические романы,Любовное фэнтези...</td>\n",
       "      <td>Матильда Старр</td>\n",
       "      <td>2017</td>\n",
       "      <td>35</td>\n",
       "    </tr>\n",
       "    <tr>\n",
       "      <th>0</th>\n",
       "      <td>4668</td>\n",
       "      <td>0.245036</td>\n",
       "      <td>Яд в его сердце</td>\n",
       "      <td>Детективное фэнтези,Героическое фэнтези,Магиче...</td>\n",
       "      <td>Анна Одувалова</td>\n",
       "      <td>2020</td>\n",
       "      <td>43</td>\n",
       "    </tr>\n",
       "  </tbody>\n",
       "</table>\n",
       "</div>"
      ],
      "text/plain": [
       "   item_id  relevance                                title  \\\n",
       "7    43272   1.000000  Магический спецкурс. Второй семестр   \n",
       "2    42829   0.989845  Магический спецкурс. Первый семестр   \n",
       "9     4108   0.945705                     Проклятый ректор   \n",
       "3     9727   0.923746                     Академия Легиона   \n",
       "5    14575   0.805210                       Невеста Смерти   \n",
       "4    23851   0.458745                               Монстр   \n",
       "6    48383   0.303158                   Попаданка и король   \n",
       "8    42432   0.278017                            Только ты   \n",
       "1    42883   0.250207                   Проклятие на троих   \n",
       "0     4668   0.245036                      Яд в его сердце   \n",
       "\n",
       "                                              genres  \\\n",
       "7  Любовно-фантастические романы,Попаданцы,Любовн...   \n",
       "2   Попаданцы,Книги про волшебников,Любовное фэнтези   \n",
       "9  Детективное фэнтези,Книги про волшебников,Любо...   \n",
       "3  Детективное фэнтези,Книги о приключениях,Любов...   \n",
       "5               Детективное фэнтези,Любовное фэнтези   \n",
       "4               Детективное фэнтези,Любовное фэнтези   \n",
       "6  Любовно-фантастические романы,Остросюжетные лю...   \n",
       "8                        Современные любовные романы   \n",
       "1  Любовно-фантастические романы,Любовное фэнтези...   \n",
       "0  Детективное фэнтези,Героическое фэнтези,Магиче...   \n",
       "\n",
       "                     authors  year  popularity  \n",
       "7                Лена Летняя  2018         219  \n",
       "2                Лена Летняя  2017         239  \n",
       "9                Лена Летняя  2017         192  \n",
       "3                Лена Летняя  2018         127  \n",
       "5                Лена Летняя  2018         304  \n",
       "4  Елена Обухова,Лена Летняя  2018          42  \n",
       "6             Матильда Старр  2018          51  \n",
       "8               Янина Логвин  2018          91  \n",
       "1             Матильда Старр  2017          35  \n",
       "0             Анна Одувалова  2020          43  "
      ]
     },
     "execution_count": 102,
     "metadata": {},
     "output_type": "execute_result"
    }
   ],
   "source": [
    "rel = cosine_similarity(svd_rec.item_vectors.T[[43272], :], svd_rec.item_vectors.T[popular]).ravel()\n",
    "ids = np.argpartition(rel, -K)[-K:]\n",
    "pd.DataFrame(list(zip(popular[ids], rel[ids])), columns=['item_id', 'relevance']).merge(items_with_pop, on='item_id').sort_values('relevance', ascending=False)"
   ]
  },
  {
   "cell_type": "markdown",
   "id": "a1_HJ7Bl3nN1",
   "metadata": {
    "id": "a1_HJ7Bl3nN1"
   },
   "source": [
    "### dot product"
   ]
  },
  {
   "cell_type": "code",
   "execution_count": 103,
   "id": "3138bb3f",
   "metadata": {},
   "outputs": [
    {
     "data": {
      "text/html": [
       "<div>\n",
       "<style scoped>\n",
       "    .dataframe tbody tr th:only-of-type {\n",
       "        vertical-align: middle;\n",
       "    }\n",
       "\n",
       "    .dataframe tbody tr th {\n",
       "        vertical-align: top;\n",
       "    }\n",
       "\n",
       "    .dataframe thead th {\n",
       "        text-align: right;\n",
       "    }\n",
       "</style>\n",
       "<table border=\"1\" class=\"dataframe\">\n",
       "  <thead>\n",
       "    <tr style=\"text-align: right;\">\n",
       "      <th></th>\n",
       "      <th>item_id</th>\n",
       "      <th>relevance</th>\n",
       "      <th>title</th>\n",
       "      <th>genres</th>\n",
       "      <th>authors</th>\n",
       "      <th>year</th>\n",
       "      <th>popularity</th>\n",
       "    </tr>\n",
       "  </thead>\n",
       "  <tbody>\n",
       "    <tr>\n",
       "      <th>6</th>\n",
       "      <td>43272</td>\n",
       "      <td>0.229521</td>\n",
       "      <td>Магический спецкурс. Второй семестр</td>\n",
       "      <td>Любовно-фантастические романы,Попаданцы,Любовн...</td>\n",
       "      <td>Лена Летняя</td>\n",
       "      <td>2018</td>\n",
       "      <td>219</td>\n",
       "    </tr>\n",
       "    <tr>\n",
       "      <th>4</th>\n",
       "      <td>42829</td>\n",
       "      <td>0.227826</td>\n",
       "      <td>Магический спецкурс. Первый семестр</td>\n",
       "      <td>Попаданцы,Книги про волшебников,Любовное фэнтези</td>\n",
       "      <td>Лена Летняя</td>\n",
       "      <td>2017</td>\n",
       "      <td>239</td>\n",
       "    </tr>\n",
       "    <tr>\n",
       "      <th>1</th>\n",
       "      <td>4108</td>\n",
       "      <td>0.174683</td>\n",
       "      <td>Проклятый ректор</td>\n",
       "      <td>Детективное фэнтези,Книги про волшебников,Любо...</td>\n",
       "      <td>Лена Летняя</td>\n",
       "      <td>2017</td>\n",
       "      <td>192</td>\n",
       "    </tr>\n",
       "    <tr>\n",
       "      <th>8</th>\n",
       "      <td>14575</td>\n",
       "      <td>0.150793</td>\n",
       "      <td>Невеста Смерти</td>\n",
       "      <td>Детективное фэнтези,Любовное фэнтези</td>\n",
       "      <td>Лена Летняя</td>\n",
       "      <td>2018</td>\n",
       "      <td>304</td>\n",
       "    </tr>\n",
       "    <tr>\n",
       "      <th>7</th>\n",
       "      <td>9727</td>\n",
       "      <td>0.140584</td>\n",
       "      <td>Академия Легиона</td>\n",
       "      <td>Детективное фэнтези,Книги о приключениях,Любов...</td>\n",
       "      <td>Лена Летняя</td>\n",
       "      <td>2018</td>\n",
       "      <td>127</td>\n",
       "    </tr>\n",
       "    <tr>\n",
       "      <th>5</th>\n",
       "      <td>49263</td>\n",
       "      <td>0.022310</td>\n",
       "      <td>Ключ от твоего мира</td>\n",
       "      <td>Попаданцы,Книги про волшебников,Любовное фэнте...</td>\n",
       "      <td>Екатерина Елизарова</td>\n",
       "      <td>2018</td>\n",
       "      <td>204</td>\n",
       "    </tr>\n",
       "    <tr>\n",
       "      <th>3</th>\n",
       "      <td>23851</td>\n",
       "      <td>0.021191</td>\n",
       "      <td>Монстр</td>\n",
       "      <td>Детективное фэнтези,Любовное фэнтези</td>\n",
       "      <td>Елена Обухова,Лена Летняя</td>\n",
       "      <td>2018</td>\n",
       "      <td>42</td>\n",
       "    </tr>\n",
       "    <tr>\n",
       "      <th>9</th>\n",
       "      <td>39682</td>\n",
       "      <td>0.021024</td>\n",
       "      <td>Опасно быть студентом</td>\n",
       "      <td>Детективное фэнтези,Любовное фэнтези,Юмористич...</td>\n",
       "      <td>Маргарита Блинова</td>\n",
       "      <td>2015</td>\n",
       "      <td>156</td>\n",
       "    </tr>\n",
       "    <tr>\n",
       "      <th>2</th>\n",
       "      <td>43657</td>\n",
       "      <td>0.017185</td>\n",
       "      <td>Задачка для попаданки</td>\n",
       "      <td>Попаданцы,Любовное фэнтези,Юмористическое фэнтези</td>\n",
       "      <td>Анна Одувалова</td>\n",
       "      <td>2018</td>\n",
       "      <td>152</td>\n",
       "    </tr>\n",
       "    <tr>\n",
       "      <th>0</th>\n",
       "      <td>31048</td>\n",
       "      <td>0.017075</td>\n",
       "      <td>Беглянка</td>\n",
       "      <td>Эротическое фэнтези,Любовно-фантастические ром...</td>\n",
       "      <td>Марина Весенняя</td>\n",
       "      <td>2017</td>\n",
       "      <td>104</td>\n",
       "    </tr>\n",
       "  </tbody>\n",
       "</table>\n",
       "</div>"
      ],
      "text/plain": [
       "   item_id  relevance                                title  \\\n",
       "6    43272   0.229521  Магический спецкурс. Второй семестр   \n",
       "4    42829   0.227826  Магический спецкурс. Первый семестр   \n",
       "1     4108   0.174683                     Проклятый ректор   \n",
       "8    14575   0.150793                       Невеста Смерти   \n",
       "7     9727   0.140584                     Академия Легиона   \n",
       "5    49263   0.022310                  Ключ от твоего мира   \n",
       "3    23851   0.021191                               Монстр   \n",
       "9    39682   0.021024                Опасно быть студентом   \n",
       "2    43657   0.017185                Задачка для попаданки   \n",
       "0    31048   0.017075                             Беглянка   \n",
       "\n",
       "                                              genres  \\\n",
       "6  Любовно-фантастические романы,Попаданцы,Любовн...   \n",
       "4   Попаданцы,Книги про волшебников,Любовное фэнтези   \n",
       "1  Детективное фэнтези,Книги про волшебников,Любо...   \n",
       "8               Детективное фэнтези,Любовное фэнтези   \n",
       "7  Детективное фэнтези,Книги о приключениях,Любов...   \n",
       "5  Попаданцы,Книги про волшебников,Любовное фэнте...   \n",
       "3               Детективное фэнтези,Любовное фэнтези   \n",
       "9  Детективное фэнтези,Любовное фэнтези,Юмористич...   \n",
       "2  Попаданцы,Любовное фэнтези,Юмористическое фэнтези   \n",
       "0  Эротическое фэнтези,Любовно-фантастические ром...   \n",
       "\n",
       "                     authors  year  popularity  \n",
       "6                Лена Летняя  2018         219  \n",
       "4                Лена Летняя  2017         239  \n",
       "1                Лена Летняя  2017         192  \n",
       "8                Лена Летняя  2018         304  \n",
       "7                Лена Летняя  2018         127  \n",
       "5        Екатерина Елизарова  2018         204  \n",
       "3  Елена Обухова,Лена Летняя  2018          42  \n",
       "9          Маргарита Блинова  2015         156  \n",
       "2             Анна Одувалова  2018         152  \n",
       "0            Марина Весенняя  2017         104  "
      ]
     },
     "execution_count": 103,
     "metadata": {},
     "output_type": "execute_result"
    }
   ],
   "source": [
    "rel = (svd_rec.item_vectors.T[[43272], :] @ svd_rec.item_vectors).ravel()\n",
    "ids = np.argpartition(rel, -K)[-K:]\n",
    "pd.DataFrame(list(zip(ids, rel[ids])), columns=['item_id', 'relevance']).merge(items_with_pop, on='item_id').sort_values('relevance', ascending=False)\n"
   ]
  },
  {
   "cell_type": "markdown",
   "id": "G5HL57Mt3xe0",
   "metadata": {
    "id": "G5HL57Mt3xe0"
   },
   "source": [
    "### Euclidean distance"
   ]
  },
  {
   "cell_type": "code",
   "execution_count": 104,
   "id": "c7397162",
   "metadata": {},
   "outputs": [
    {
     "data": {
      "text/html": [
       "<div>\n",
       "<style scoped>\n",
       "    .dataframe tbody tr th:only-of-type {\n",
       "        vertical-align: middle;\n",
       "    }\n",
       "\n",
       "    .dataframe tbody tr th {\n",
       "        vertical-align: top;\n",
       "    }\n",
       "\n",
       "    .dataframe thead th {\n",
       "        text-align: right;\n",
       "    }\n",
       "</style>\n",
       "<table border=\"1\" class=\"dataframe\">\n",
       "  <thead>\n",
       "    <tr style=\"text-align: right;\">\n",
       "      <th></th>\n",
       "      <th>item_id</th>\n",
       "      <th>relevance</th>\n",
       "      <th>title</th>\n",
       "      <th>genres</th>\n",
       "      <th>authors</th>\n",
       "      <th>year</th>\n",
       "      <th>popularity</th>\n",
       "    </tr>\n",
       "  </thead>\n",
       "  <tbody>\n",
       "    <tr>\n",
       "      <th>7</th>\n",
       "      <td>43272</td>\n",
       "      <td>0.000000</td>\n",
       "      <td>Магический спецкурс. Второй семестр</td>\n",
       "      <td>Любовно-фантастические романы,Попаданцы,Любовн...</td>\n",
       "      <td>Лена Летняя</td>\n",
       "      <td>2018</td>\n",
       "      <td>219</td>\n",
       "    </tr>\n",
       "    <tr>\n",
       "      <th>5</th>\n",
       "      <td>42829</td>\n",
       "      <td>0.068384</td>\n",
       "      <td>Магический спецкурс. Первый семестр</td>\n",
       "      <td>Попаданцы,Книги про волшебников,Любовное фэнтези</td>\n",
       "      <td>Лена Летняя</td>\n",
       "      <td>2017</td>\n",
       "      <td>239</td>\n",
       "    </tr>\n",
       "    <tr>\n",
       "      <th>4</th>\n",
       "      <td>4108</td>\n",
       "      <td>0.169722</td>\n",
       "      <td>Проклятый ректор</td>\n",
       "      <td>Детективное фэнтези,Книги про волшебников,Любо...</td>\n",
       "      <td>Лена Летняя</td>\n",
       "      <td>2017</td>\n",
       "      <td>192</td>\n",
       "    </tr>\n",
       "    <tr>\n",
       "      <th>0</th>\n",
       "      <td>9727</td>\n",
       "      <td>0.221957</td>\n",
       "      <td>Академия Легиона</td>\n",
       "      <td>Детективное фэнтези,Книги о приключениях,Любов...</td>\n",
       "      <td>Лена Летняя</td>\n",
       "      <td>2018</td>\n",
       "      <td>127</td>\n",
       "    </tr>\n",
       "    <tr>\n",
       "      <th>1</th>\n",
       "      <td>14575</td>\n",
       "      <td>0.284138</td>\n",
       "      <td>Невеста Смерти</td>\n",
       "      <td>Детективное фэнтези,Любовное фэнтези</td>\n",
       "      <td>Лена Летняя</td>\n",
       "      <td>2018</td>\n",
       "      <td>304</td>\n",
       "    </tr>\n",
       "    <tr>\n",
       "      <th>2</th>\n",
       "      <td>23851</td>\n",
       "      <td>0.443210</td>\n",
       "      <td>Монстр</td>\n",
       "      <td>Детективное фэнтези,Любовное фэнтези</td>\n",
       "      <td>Елена Обухова,Лена Летняя</td>\n",
       "      <td>2018</td>\n",
       "      <td>42</td>\n",
       "    </tr>\n",
       "    <tr>\n",
       "      <th>6</th>\n",
       "      <td>48383</td>\n",
       "      <td>0.457822</td>\n",
       "      <td>Попаданка и король</td>\n",
       "      <td>Любовно-фантастические романы,Остросюжетные лю...</td>\n",
       "      <td>Матильда Старр</td>\n",
       "      <td>2018</td>\n",
       "      <td>51</td>\n",
       "    </tr>\n",
       "    <tr>\n",
       "      <th>3</th>\n",
       "      <td>42432</td>\n",
       "      <td>0.460662</td>\n",
       "      <td>Только ты</td>\n",
       "      <td>Современные любовные романы</td>\n",
       "      <td>Янина Логвин</td>\n",
       "      <td>2018</td>\n",
       "      <td>91</td>\n",
       "    </tr>\n",
       "    <tr>\n",
       "      <th>8</th>\n",
       "      <td>52256</td>\n",
       "      <td>0.462823</td>\n",
       "      <td>Виттория</td>\n",
       "      <td>Попаданцы,Городское фэнтези,Магические академии</td>\n",
       "      <td>Екатерина Верхова</td>\n",
       "      <td>2018</td>\n",
       "      <td>20</td>\n",
       "    </tr>\n",
       "    <tr>\n",
       "      <th>9</th>\n",
       "      <td>42883</td>\n",
       "      <td>0.464247</td>\n",
       "      <td>Проклятие на троих</td>\n",
       "      <td>Любовно-фантастические романы,Любовное фэнтези...</td>\n",
       "      <td>Матильда Старр</td>\n",
       "      <td>2017</td>\n",
       "      <td>35</td>\n",
       "    </tr>\n",
       "  </tbody>\n",
       "</table>\n",
       "</div>"
      ],
      "text/plain": [
       "   item_id  relevance                                title  \\\n",
       "7    43272   0.000000  Магический спецкурс. Второй семестр   \n",
       "5    42829   0.068384  Магический спецкурс. Первый семестр   \n",
       "4     4108   0.169722                     Проклятый ректор   \n",
       "0     9727   0.221957                     Академия Легиона   \n",
       "1    14575   0.284138                       Невеста Смерти   \n",
       "2    23851   0.443210                               Монстр   \n",
       "6    48383   0.457822                   Попаданка и король   \n",
       "3    42432   0.460662                            Только ты   \n",
       "8    52256   0.462823                             Виттория   \n",
       "9    42883   0.464247                   Проклятие на троих   \n",
       "\n",
       "                                              genres  \\\n",
       "7  Любовно-фантастические романы,Попаданцы,Любовн...   \n",
       "5   Попаданцы,Книги про волшебников,Любовное фэнтези   \n",
       "4  Детективное фэнтези,Книги про волшебников,Любо...   \n",
       "0  Детективное фэнтези,Книги о приключениях,Любов...   \n",
       "1               Детективное фэнтези,Любовное фэнтези   \n",
       "2               Детективное фэнтези,Любовное фэнтези   \n",
       "6  Любовно-фантастические романы,Остросюжетные лю...   \n",
       "3                        Современные любовные романы   \n",
       "8    Попаданцы,Городское фэнтези,Магические академии   \n",
       "9  Любовно-фантастические романы,Любовное фэнтези...   \n",
       "\n",
       "                     authors  year  popularity  \n",
       "7                Лена Летняя  2018         219  \n",
       "5                Лена Летняя  2017         239  \n",
       "4                Лена Летняя  2017         192  \n",
       "0                Лена Летняя  2018         127  \n",
       "1                Лена Летняя  2018         304  \n",
       "2  Елена Обухова,Лена Летняя  2018          42  \n",
       "6             Матильда Старр  2018          51  \n",
       "3               Янина Логвин  2018          91  \n",
       "8          Екатерина Верхова  2018          20  \n",
       "9             Матильда Старр  2017          35  "
      ]
     },
     "execution_count": 104,
     "metadata": {},
     "output_type": "execute_result"
    }
   ],
   "source": [
    "rel = np.sqrt(np.sum(np.power(svd_rec.item_vectors.T[[43272], :] - svd_rec.item_vectors.T, 2), axis=1))\n",
    "ids = np.argpartition(rel, K)[:K]\n",
    "pd.DataFrame(list(zip(ids, rel[ids])), columns=['item_id', 'relevance']).merge(items_with_pop, on='item_id').sort_values('relevance')"
   ]
  },
  {
   "cell_type": "markdown",
   "id": "fd8b40bd",
   "metadata": {
    "id": "fd8b40bd"
   },
   "source": [
    "Это книга из топа по популярности, поэтому результаты хорошие."
   ]
  },
  {
   "cell_type": "markdown",
   "id": "7d3b21bd",
   "metadata": {
    "id": "7d3b21bd"
   },
   "source": [
    "### Повторим на книге о Гарри Поттере"
   ]
  },
  {
   "cell_type": "code",
   "execution_count": 105,
   "id": "f483f03c",
   "metadata": {
    "colab": {
     "base_uri": "https://localhost:8080/",
     "height": 173
    },
    "id": "f483f03c",
    "outputId": "30b886c4-d8a9-4b42-c89d-7281caac405d"
   },
   "outputs": [
    {
     "data": {
      "text/html": [
       "<div>\n",
       "<style scoped>\n",
       "    .dataframe tbody tr th:only-of-type {\n",
       "        vertical-align: middle;\n",
       "    }\n",
       "\n",
       "    .dataframe tbody tr th {\n",
       "        vertical-align: top;\n",
       "    }\n",
       "\n",
       "    .dataframe thead th {\n",
       "        text-align: right;\n",
       "    }\n",
       "</style>\n",
       "<table border=\"1\" class=\"dataframe\">\n",
       "  <thead>\n",
       "    <tr style=\"text-align: right;\">\n",
       "      <th></th>\n",
       "      <th>title</th>\n",
       "      <th>genres</th>\n",
       "      <th>authors</th>\n",
       "      <th>year</th>\n",
       "      <th>popularity</th>\n",
       "    </tr>\n",
       "    <tr>\n",
       "      <th>item_id</th>\n",
       "      <th></th>\n",
       "      <th></th>\n",
       "      <th></th>\n",
       "      <th></th>\n",
       "      <th></th>\n",
       "    </tr>\n",
       "  </thead>\n",
       "  <tbody>\n",
       "    <tr>\n",
       "      <th>41147</th>\n",
       "      <td>Джоан Роулинг. Всё о Гарри Поттере, жизни и любви</td>\n",
       "      <td>Биографии и мемуары</td>\n",
       "      <td>Софья Бенуа</td>\n",
       "      <td>2016</td>\n",
       "      <td>11</td>\n",
       "    </tr>\n",
       "    <tr>\n",
       "      <th>24306</th>\n",
       "      <td>Гарри Поттер и Кубок огня</td>\n",
       "      <td>Зарубежное фэнтези,Книги про волшебников</td>\n",
       "      <td>Джоан Кэтлин Роулинг</td>\n",
       "      <td>2000</td>\n",
       "      <td>6</td>\n",
       "    </tr>\n",
       "    <tr>\n",
       "      <th>36853</th>\n",
       "      <td>Кто поставил шрам Гарри Поттеру?</td>\n",
       "      <td>Сказки</td>\n",
       "      <td>Наталья Щерба</td>\n",
       "      <td>NaN</td>\n",
       "      <td>5</td>\n",
       "    </tr>\n",
       "  </tbody>\n",
       "</table>\n",
       "</div>"
      ],
      "text/plain": [
       "                                                     title  \\\n",
       "item_id                                                      \n",
       "41147    Джоан Роулинг. Всё о Гарри Поттере, жизни и любви   \n",
       "24306                            Гарри Поттер и Кубок огня   \n",
       "36853                     Кто поставил шрам Гарри Поттеру?   \n",
       "\n",
       "                                           genres               authors  year  \\\n",
       "item_id                                                                         \n",
       "41147                         Биографии и мемуары           Софья Бенуа  2016   \n",
       "24306    Зарубежное фэнтези,Книги про волшебников  Джоан Кэтлин Роулинг  2000   \n",
       "36853                                      Сказки         Наталья Щерба   NaN   \n",
       "\n",
       "         popularity  \n",
       "item_id              \n",
       "41147            11  \n",
       "24306             6  \n",
       "36853             5  "
      ]
     },
     "execution_count": 105,
     "metadata": {},
     "output_type": "execute_result"
    }
   ],
   "source": [
    "items_with_pop[items_with_pop['title'].str.find('Гарри Поттер') != -1].sort_values('popularity', ascending=False)[:3]"
   ]
  },
  {
   "cell_type": "markdown",
   "id": "Iw5gYMJM1CuL",
   "metadata": {
    "id": "Iw5gYMJM1CuL"
   },
   "source": [
    "### dot product"
   ]
  },
  {
   "cell_type": "code",
   "execution_count": 106,
   "id": "Vw8tKkni1CuL",
   "metadata": {
    "colab": {
     "base_uri": "https://localhost:8080/",
     "height": 390
    },
    "id": "Vw8tKkni1CuL",
    "outputId": "c1dd96d6-3df0-4ad0-a9c1-d84c2c455208"
   },
   "outputs": [
    {
     "data": {
      "text/html": [
       "<div>\n",
       "<style scoped>\n",
       "    .dataframe tbody tr th:only-of-type {\n",
       "        vertical-align: middle;\n",
       "    }\n",
       "\n",
       "    .dataframe tbody tr th {\n",
       "        vertical-align: top;\n",
       "    }\n",
       "\n",
       "    .dataframe thead th {\n",
       "        text-align: right;\n",
       "    }\n",
       "</style>\n",
       "<table border=\"1\" class=\"dataframe\">\n",
       "  <thead>\n",
       "    <tr style=\"text-align: right;\">\n",
       "      <th></th>\n",
       "      <th>title</th>\n",
       "      <th>genres</th>\n",
       "      <th>authors</th>\n",
       "      <th>year</th>\n",
       "      <th>popularity</th>\n",
       "    </tr>\n",
       "    <tr>\n",
       "      <th>item_id</th>\n",
       "      <th></th>\n",
       "      <th></th>\n",
       "      <th></th>\n",
       "      <th></th>\n",
       "      <th></th>\n",
       "    </tr>\n",
       "  </thead>\n",
       "  <tbody>\n",
       "    <tr>\n",
       "      <th>20267</th>\n",
       "      <td>Яблоки из сада Шлицбутера</td>\n",
       "      <td>Современная русская литература</td>\n",
       "      <td>Дина Рубина</td>\n",
       "      <td>NaN</td>\n",
       "      <td>219</td>\n",
       "    </tr>\n",
       "    <tr>\n",
       "      <th>18441</th>\n",
       "      <td>Когда дыхание растворяется в воздухе. Иногда с...</td>\n",
       "      <td>Зарубежная публицистика,Современная зарубежная...</td>\n",
       "      <td>Пол Каланити</td>\n",
       "      <td>2016</td>\n",
       "      <td>153</td>\n",
       "    </tr>\n",
       "    <tr>\n",
       "      <th>4431</th>\n",
       "      <td>Магическая уборка. Японское искусство наведени...</td>\n",
       "      <td>Саморазвитие / личностный рост,Руководства,Дом...</td>\n",
       "      <td>Мари Кондо</td>\n",
       "      <td>2011</td>\n",
       "      <td>183</td>\n",
       "    </tr>\n",
       "    <tr>\n",
       "      <th>16467</th>\n",
       "      <td>50 правил умной дуры</td>\n",
       "      <td>Саморазвитие / личностный рост,Семейная психол...</td>\n",
       "      <td>Павел Раков</td>\n",
       "      <td>2015</td>\n",
       "      <td>248</td>\n",
       "    </tr>\n",
       "    <tr>\n",
       "      <th>20021</th>\n",
       "      <td>Женщины непреклонного возраста и др. беспринцЫ...</td>\n",
       "      <td>Современная русская литература,Юмористическая ...</td>\n",
       "      <td>Александр Цыпкин</td>\n",
       "      <td>2018</td>\n",
       "      <td>267</td>\n",
       "    </tr>\n",
       "    <tr>\n",
       "      <th>4883</th>\n",
       "      <td>Шантарам</td>\n",
       "      <td>Зарубежные приключения</td>\n",
       "      <td>Грегори Дэвид Робертс</td>\n",
       "      <td>2003</td>\n",
       "      <td>263</td>\n",
       "    </tr>\n",
       "    <tr>\n",
       "      <th>18388</th>\n",
       "      <td>Сила подсознания, или Как изменить жизнь за 4 ...</td>\n",
       "      <td>Практическая эзотерика,Эзотерика / оккультизм,...</td>\n",
       "      <td>Джо Диспенза</td>\n",
       "      <td>2013</td>\n",
       "      <td>313</td>\n",
       "    </tr>\n",
       "    <tr>\n",
       "      <th>22649</th>\n",
       "      <td>Снеговик</td>\n",
       "      <td>Зарубежные детективы,Триллеры,Полицейские дете...</td>\n",
       "      <td>Ю Несбё</td>\n",
       "      <td>2007</td>\n",
       "      <td>468</td>\n",
       "    </tr>\n",
       "    <tr>\n",
       "      <th>31366</th>\n",
       "      <td>Фиалки в марте</td>\n",
       "      <td>Зарубежные любовные романы,Современные любовны...</td>\n",
       "      <td>Сара Джио</td>\n",
       "      <td>2011</td>\n",
       "      <td>231</td>\n",
       "    </tr>\n",
       "    <tr>\n",
       "      <th>52101</th>\n",
       "      <td>Богатый папа, бедный папа. Роберт Кийосаки (об...</td>\n",
       "      <td>Личная эффективность,Саморазвитие / личностный...</td>\n",
       "      <td>Том Батлер-Боудон</td>\n",
       "      <td>2004</td>\n",
       "      <td>292</td>\n",
       "    </tr>\n",
       "  </tbody>\n",
       "</table>\n",
       "</div>"
      ],
      "text/plain": [
       "                                                     title  \\\n",
       "item_id                                                      \n",
       "20267                            Яблоки из сада Шлицбутера   \n",
       "18441    Когда дыхание растворяется в воздухе. Иногда с...   \n",
       "4431     Магическая уборка. Японское искусство наведени...   \n",
       "16467                                 50 правил умной дуры   \n",
       "20021    Женщины непреклонного возраста и др. беспринцЫ...   \n",
       "4883                                              Шантарам   \n",
       "18388    Сила подсознания, или Как изменить жизнь за 4 ...   \n",
       "22649                                             Снеговик   \n",
       "31366                                       Фиалки в марте   \n",
       "52101    Богатый папа, бедный папа. Роберт Кийосаки (об...   \n",
       "\n",
       "                                                    genres  \\\n",
       "item_id                                                      \n",
       "20267                       Современная русская литература   \n",
       "18441    Зарубежная публицистика,Современная зарубежная...   \n",
       "4431     Саморазвитие / личностный рост,Руководства,Дом...   \n",
       "16467    Саморазвитие / личностный рост,Семейная психол...   \n",
       "20021    Современная русская литература,Юмористическая ...   \n",
       "4883                                Зарубежные приключения   \n",
       "18388    Практическая эзотерика,Эзотерика / оккультизм,...   \n",
       "22649    Зарубежные детективы,Триллеры,Полицейские дете...   \n",
       "31366    Зарубежные любовные романы,Современные любовны...   \n",
       "52101    Личная эффективность,Саморазвитие / личностный...   \n",
       "\n",
       "                       authors  year  popularity  \n",
       "item_id                                           \n",
       "20267              Дина Рубина   NaN         219  \n",
       "18441             Пол Каланити  2016         153  \n",
       "4431                Мари Кондо  2011         183  \n",
       "16467              Павел Раков  2015         248  \n",
       "20021         Александр Цыпкин  2018         267  \n",
       "4883     Грегори Дэвид Робертс  2003         263  \n",
       "18388             Джо Диспенза  2013         313  \n",
       "22649                  Ю Несбё  2007         468  \n",
       "31366                Сара Джио  2011         231  \n",
       "52101        Том Батлер-Боудон  2004         292  "
      ]
     },
     "execution_count": 106,
     "metadata": {},
     "output_type": "execute_result"
    }
   ],
   "source": [
    "items_with_pop.loc[np.argpartition((svd_rec.item_vectors.T[[24306], :] @ svd_rec.item_vectors).ravel(), -K)[-K:]]"
   ]
  },
  {
   "cell_type": "markdown",
   "id": "lCDpA_ns1CuL",
   "metadata": {
    "id": "lCDpA_ns1CuL"
   },
   "source": [
    "### Euclidean distance"
   ]
  },
  {
   "cell_type": "code",
   "execution_count": 107,
   "id": "LDh6pGrs1CuL",
   "metadata": {
    "colab": {
     "base_uri": "https://localhost:8080/",
     "height": 390
    },
    "id": "LDh6pGrs1CuL",
    "outputId": "2338bbcc-e201-4a9a-d470-9356d00c1965"
   },
   "outputs": [
    {
     "data": {
      "text/html": [
       "<div>\n",
       "<style scoped>\n",
       "    .dataframe tbody tr th:only-of-type {\n",
       "        vertical-align: middle;\n",
       "    }\n",
       "\n",
       "    .dataframe tbody tr th {\n",
       "        vertical-align: top;\n",
       "    }\n",
       "\n",
       "    .dataframe thead th {\n",
       "        text-align: right;\n",
       "    }\n",
       "</style>\n",
       "<table border=\"1\" class=\"dataframe\">\n",
       "  <thead>\n",
       "    <tr style=\"text-align: right;\">\n",
       "      <th></th>\n",
       "      <th>title</th>\n",
       "      <th>genres</th>\n",
       "      <th>authors</th>\n",
       "      <th>year</th>\n",
       "      <th>popularity</th>\n",
       "    </tr>\n",
       "    <tr>\n",
       "      <th>item_id</th>\n",
       "      <th></th>\n",
       "      <th></th>\n",
       "      <th></th>\n",
       "      <th></th>\n",
       "      <th></th>\n",
       "    </tr>\n",
       "  </thead>\n",
       "  <tbody>\n",
       "    <tr>\n",
       "      <th>19776</th>\n",
       "      <td>Соседка</td>\n",
       "      <td>Юмор и сатира</td>\n",
       "      <td>Юрий Решетов</td>\n",
       "      <td>2019</td>\n",
       "      <td>3</td>\n",
       "    </tr>\n",
       "    <tr>\n",
       "      <th>1822</th>\n",
       "      <td>Сам себе риэлтор. Юридическая и судебная практика</td>\n",
       "      <td>Правоведение,Недвижимость</td>\n",
       "      <td>Вадим Шабалин</td>\n",
       "      <td>2016</td>\n",
       "      <td>1</td>\n",
       "    </tr>\n",
       "    <tr>\n",
       "      <th>24306</th>\n",
       "      <td>Гарри Поттер и Кубок огня</td>\n",
       "      <td>Зарубежное фэнтези,Книги про волшебников</td>\n",
       "      <td>Джоан Кэтлин Роулинг</td>\n",
       "      <td>2000</td>\n",
       "      <td>6</td>\n",
       "    </tr>\n",
       "    <tr>\n",
       "      <th>33002</th>\n",
       "      <td>Rework: бизнес без предрассудков</td>\n",
       "      <td>Просто о бизнесе,Зарубежная деловая литература</td>\n",
       "      <td>Джейсон Фрайд,Дэвид Хенссон</td>\n",
       "      <td>2010</td>\n",
       "      <td>2</td>\n",
       "    </tr>\n",
       "    <tr>\n",
       "      <th>23963</th>\n",
       "      <td>Профиль 31-2018</td>\n",
       "      <td>Политология,Книги по экономике,Социальная псих...</td>\n",
       "      <td>NaN</td>\n",
       "      <td>2018</td>\n",
       "      <td>4</td>\n",
       "    </tr>\n",
       "    <tr>\n",
       "      <th>26571</th>\n",
       "      <td>Увеличение продаж: работа с возражениями</td>\n",
       "      <td>Просто о бизнесе,Другие справочники,Руководств...</td>\n",
       "      <td>Алексей Номейн</td>\n",
       "      <td>NaN</td>\n",
       "      <td>4</td>\n",
       "    </tr>\n",
       "    <tr>\n",
       "      <th>25095</th>\n",
       "      <td>Римское право. Ответы на экзаменационные билеты</td>\n",
       "      <td>Юриспруденция</td>\n",
       "      <td>Алексей Леонтьев,Ю. Яковлева</td>\n",
       "      <td>2009</td>\n",
       "      <td>4</td>\n",
       "    </tr>\n",
       "    <tr>\n",
       "      <th>9822</th>\n",
       "      <td>Охрана труда</td>\n",
       "      <td>Учебники и пособия для вузов,Техническая литер...</td>\n",
       "      <td>Иван Жмыхов,Александр Челноков,Василий Цап</td>\n",
       "      <td>2013</td>\n",
       "      <td>2</td>\n",
       "    </tr>\n",
       "    <tr>\n",
       "      <th>55092</th>\n",
       "      <td>Экономика предприятия. Ответы на экзаменационн...</td>\n",
       "      <td>Книги по экономике</td>\n",
       "      <td>Сергей Загородников</td>\n",
       "      <td>2009</td>\n",
       "      <td>1</td>\n",
       "    </tr>\n",
       "    <tr>\n",
       "      <th>32925</th>\n",
       "      <td>Юридический ликбез для военнообязанных и их семей</td>\n",
       "      <td>Гражданское право,Уголовное право,Юриспруденция</td>\n",
       "      <td>Юлия Белянинова</td>\n",
       "      <td>2004</td>\n",
       "      <td>2</td>\n",
       "    </tr>\n",
       "  </tbody>\n",
       "</table>\n",
       "</div>"
      ],
      "text/plain": [
       "                                                     title  \\\n",
       "item_id                                                      \n",
       "19776                                              Соседка   \n",
       "1822     Сам себе риэлтор. Юридическая и судебная практика   \n",
       "24306                            Гарри Поттер и Кубок огня   \n",
       "33002                     Rework: бизнес без предрассудков   \n",
       "23963                                      Профиль 31-2018   \n",
       "26571             Увеличение продаж: работа с возражениями   \n",
       "25095      Римское право. Ответы на экзаменационные билеты   \n",
       "9822                                          Охрана труда   \n",
       "55092    Экономика предприятия. Ответы на экзаменационн...   \n",
       "32925    Юридический ликбез для военнообязанных и их семей   \n",
       "\n",
       "                                                    genres  \\\n",
       "item_id                                                      \n",
       "19776                                        Юмор и сатира   \n",
       "1822                             Правоведение,Недвижимость   \n",
       "24306             Зарубежное фэнтези,Книги про волшебников   \n",
       "33002       Просто о бизнесе,Зарубежная деловая литература   \n",
       "23963    Политология,Книги по экономике,Социальная псих...   \n",
       "26571    Просто о бизнесе,Другие справочники,Руководств...   \n",
       "25095                                        Юриспруденция   \n",
       "9822     Учебники и пособия для вузов,Техническая литер...   \n",
       "55092                                   Книги по экономике   \n",
       "32925      Гражданское право,Уголовное право,Юриспруденция   \n",
       "\n",
       "                                            authors  year  popularity  \n",
       "item_id                                                                \n",
       "19776                                  Юрий Решетов  2019           3  \n",
       "1822                                  Вадим Шабалин  2016           1  \n",
       "24306                          Джоан Кэтлин Роулинг  2000           6  \n",
       "33002                   Джейсон Фрайд,Дэвид Хенссон  2010           2  \n",
       "23963                                           NaN  2018           4  \n",
       "26571                                Алексей Номейн   NaN           4  \n",
       "25095                  Алексей Леонтьев,Ю. Яковлева  2009           4  \n",
       "9822     Иван Жмыхов,Александр Челноков,Василий Цап  2013           2  \n",
       "55092                           Сергей Загородников  2009           1  \n",
       "32925                               Юлия Белянинова  2004           2  "
      ]
     },
     "execution_count": 107,
     "metadata": {},
     "output_type": "execute_result"
    }
   ],
   "source": [
    "items_with_pop.loc[np.sum(np.power(svd_rec.item_vectors.T[[24306], :] - svd_rec.item_vectors.T, 2), axis=1).argpartition(K)[:K]]"
   ]
  },
  {
   "cell_type": "markdown",
   "id": "9fabe8eb",
   "metadata": {
    "id": "9fabe8eb"
   },
   "source": [
    "# ALS\n",
    "Довольно популярным базовым методом в рекомендательных системах является ALS.\n",
    "\n",
    "### Explicit ALS\n",
    "\n",
    "Релевантность:\n",
    "$$r_{ui} = q_i^T p_u$$\n",
    "\n",
    "Loss:\n",
    "$$\\min_{p*, q*} \\sum_{(u, i \\in \\mathcal{K})} (r_{ui} - q_i^T p_u)^2 + \\lambda(\\|{q_i}\\|^2 + \\|{p_i}\\|^2)$$\n",
    "\n",
    "### [Implicit ALS](http://yifanhu.net/PUB/cf.pdf)\n",
    "\n",
    "Релевантность:\n",
    "$$r_{ui} = q_i^T p_u$$\n",
    "\n",
    "Loss:\n",
    "$$\\min_{p*, q*} \\sum_{(u, i \\in \\mathcal{K})} c_{ui}(p_{ui} - q_i^T p_u)^2 + \\lambda(\\|{q_i}\\|^2 + \\|{p_i}\\|^2)$$\n",
    "Где $c_{ui}$ - значение в матрице implicit feedback, а $p_{ui}$ равно 1, если пользователь u взаимодействовал с item-ом i, и 0 иначе.\n",
    "\n",
    "### Усложнения ALS\n",
    "Обучив для каждого пользователя и объекта свой bias и добавив регуляризацию можно улучшить качество решения. Подробнее о различных матричных разложениях для задачи рекомендаций можно почитать [в статье на Хабре](https://habr.com/ru/post/486802/).\n",
    "\n",
    "В рейтинг объекта для пользователя, например, может быть представлен:\n",
    "$$r_{ui} = \\mu + b_i + b_u + q_i^T p_u$$\n",
    "\n",
    "А функция потерь будет выглядеть так:\n",
    "$$\\min_{b*, p*, q*} \\sum_{(u, i \\in \\mathcal{K})} (r_{ui} - \\mu - b_i - b_u - q_i^T p_u)^2 + \\lambda(\\|{q_i}\\|^2 + \\|{p_i}\\|^2 + b_i^2 + b_u^2)$$\n",
    "\n",
    "Матричная факторизация — хороший подход, который позволяет получить рекомендации для теплых пользователей, а также находить похожих пользователей и объекты, посчитав расстояния между векторами. Обучив модель и получив вектора можно перейти от задачи рекомендаций к задаче поиска ближайших соседей и использовать ANN-методы."
   ]
  },
  {
   "cell_type": "markdown",
   "id": "u6NLSeqSUyva",
   "metadata": {
    "id": "u6NLSeqSUyva"
   },
   "source": [
    "Реализация Implicit ALS есть в библиотеке [Implicit](https://github.com/benfred/implicit/tree/52a307e97da0a3c2bc1af6ee082d032ad460a157)."
   ]
  },
  {
   "cell_type": "markdown",
   "id": "956c8ff5",
   "metadata": {
    "id": "956c8ff5"
   },
   "source": [
    "# 7 LightFM"
   ]
  },
  {
   "cell_type": "code",
   "execution_count": 108,
   "id": "3780bc5b",
   "metadata": {
    "colab": {
     "base_uri": "https://localhost:8080/"
    },
    "id": "3780bc5b",
    "outputId": "39961474-6c61-4253-fc0d-f284fe34d80b"
   },
   "outputs": [
    {
     "name": "stderr",
     "output_type": "stream",
     "text": [
      "/Users/a18785698/Documents/shad/ml/repo/env39/lib/python3.9/site-packages/lightfm/_lightfm_fast.py:9: UserWarning: LightFM was compiled without OpenMP support. Only a single thread will be used.\n",
      "  warnings.warn(\n"
     ]
    }
   ],
   "source": [
    "# !pip install lightfm\n",
    "from lightfm import LightFM\n",
    "from lightfm.data import Dataset as LFMDataset"
   ]
  },
  {
   "cell_type": "markdown",
   "id": "p7Uz7aAbU1qw",
   "metadata": {
    "id": "p7Uz7aAbU1qw"
   },
   "source": [
    "![als with lightfm](https://habrastorage.org/webt/pj/fd/-o/pjfd-owy8_ujaucnfd1pc4cilbc.jpeg)\n",
    "\n",
    "[source](https://habr.com/ru/company/okko/blog/454224)\n"
   ]
  },
  {
   "cell_type": "markdown",
   "id": "7de11b58",
   "metadata": {
    "id": "7de11b58"
   },
   "source": [
    "Часто у нас есть не только информация о взаимодействиях, но и информация о признаках объектов. \n",
    "Признаки позволяют решить проблему холодного старта и делать рекомендации разнообразнее.\n",
    "\n",
    "Одним из широко используемых подход для учета признаков является модель LightFM, в которой объект и пользователей представляются в виде суммы векторов своих признаков. Вектора обучаются градиентным спуском для минимизации выбранной функции потерь, например LogLoss, WARP Loss (можно почитать в статье от [okko](https://habr.com/ru/company/okko/blog/454224/)), BPR Loss.\n",
    "\n",
    "Почему мы вообще хотим использовать именно LightFM? Потому что по состоянию на несколько лет назад — это одна из моделей, активно побеждавших в соревнованиях и использовавшееся в проде.\n",
    "Например:\n",
    "- [Рекомендации в Okko: как заработать сотни миллионов, перемножив пару матриц](https://habr.com/ru/company/okko/blog/454224)\n",
    "- [Rekko Challenge — как занять 2-е место в конкурсе по созданию рекомендательных систем](https://habr.com/ru/company/tinkoff/blog/454818/)\n",
    "- [Как мы решали задачу продолжения плейлистов на RecSys Challenge и заняли 3 место](https://habr.com/ru/company/avito/blog/439206/)\n",
    "\n"
   ]
  },
  {
   "cell_type": "markdown",
   "id": "85f91dc9",
   "metadata": {
    "id": "85f91dc9"
   },
   "source": [
    "## Формулы\n",
    "$$r_{ui} = <q_u , p_i> + b_u + b_i$$\n",
    "\n",
    "$$q_u = \\sum_{j \\in f_u} e^U_j$$\n",
    "$$ e^U_j = w^U_j  e_j$$ \n",
    "$$b_u = \\sum_{j \\in f_u} b^U_j$$\n",
    "$$ b^U_j = w^U_j  b_j$$ \n",
    "где $q_u, p_i$ - вектора пользователя и объекта, являющиеся суммой векторов их признаков\n",
    "\n",
    "$b_u, b_i$ - смещения для признаков пользователя и объекта\n"
   ]
  },
  {
   "cell_type": "markdown",
   "id": "pwjfM2j8n5Ss",
   "metadata": {
    "id": "pwjfM2j8n5Ss"
   },
   "source": [
    "![lightFM](https://miro.medium.com/max/875/0*pweZNzmzgWPg7D0X.jpg)\n",
    "\n",
    "[source](https://towardsdatascience.com/challenges-solutions-for-production-recommendation-systems-d656024bbdca) "
   ]
  },
  {
   "cell_type": "markdown",
   "id": "e3f8e124",
   "metadata": {
    "id": "e3f8e124"
   },
   "source": [
    "LightFM принимает лог взаимодействия в формате sparse-матрицы, где id пользователей и объектов - int-ы от 0 до n-1, а значения в ячейках — оценки релевантности. Признаки — это тоже sparse-матрица, состоящая из квадратной матрицы признаков-id и дополнительных столбцов, содержащих значения непосредственно признаков.\n",
    "\n",
    "В [оригинальной статье](https://arxiv.org/pdf/1507.08439.pdf) рассматривается задача рекомендации одежды, где признаки — тип одежды, цвет, производитель, коллекция — категориальные. LightFM умеет работать и с числовыми признаками тоже. Но, надо понимать, как он это делает (умножает обученный вектор признака на его значение) Что будет, если, например, использовать год выпуска фильма как признак? Всегда ли зависимость между значением признака и его влиянием на профиль пользователя линейная? Может ли это учесть модель?\n"
   ]
  },
  {
   "cell_type": "markdown",
   "id": "f9ca6774",
   "metadata": {
    "id": "f9ca6774"
   },
   "source": [
    "## Преобразуем данные в формат библиотеки"
   ]
  },
  {
   "cell_type": "markdown",
   "id": "6e1ca0bd",
   "metadata": {
    "id": "6e1ca0bd"
   },
   "source": [
    "В LightFM есть класс Dataset, который преобразует данные в нужный формат.\n",
    "\n",
    "Подготовим признаки в виде series \"id пользователя/объекта - list категориальных признаков, которые ему соответствуют\"."
   ]
  },
  {
   "cell_type": "markdown",
   "id": "3450aa9d",
   "metadata": {
    "id": "3450aa9d"
   },
   "source": [
    "#### user features"
   ]
  },
  {
   "cell_type": "code",
   "execution_count": 109,
   "id": "7916931a",
   "metadata": {
    "colab": {
     "base_uri": "https://localhost:8080/"
    },
    "id": "7916931a",
    "outputId": "51fb7679-3c31-45bc-fc4e-dd3668209032"
   },
   "outputs": [
    {
     "name": "stdout",
     "output_type": "stream",
     "text": [
      "CPU times: user 980 ms, sys: 37.9 ms, total: 1.02 s\n",
      "Wall time: 999 ms\n"
     ]
    }
   ],
   "source": [
    "%%time\n",
    "u_features_list = u_features[u_features.index.isin(filtered_df['user_id'].unique())]\n",
    "u_features_list = u_features_list.apply(lambda x: ['{}_{}'.format(value,x[value]) for value in x.index if not pd.isna(x[value])], axis=1)\n",
    "u_features_list = u_features_list.rename('features')"
   ]
  },
  {
   "cell_type": "code",
   "execution_count": 110,
   "id": "8ceec334",
   "metadata": {
    "colab": {
     "base_uri": "https://localhost:8080/"
    },
    "id": "8ceec334",
    "outputId": "a742b6af-14d6-4703-d956-0e944892b2b0"
   },
   "outputs": [
    {
     "data": {
      "text/plain": [
       "{'age_18_24',\n",
       " 'age_25_34',\n",
       " 'age_35_44',\n",
       " 'age_45_54',\n",
       " 'age_55_64',\n",
       " 'age_65_inf',\n",
       " 'sex_0.0',\n",
       " 'sex_1.0'}"
      ]
     },
     "execution_count": 110,
     "metadata": {},
     "output_type": "execute_result"
    }
   ],
   "source": [
    "unique_user_tags = set(u_features_list.explode().dropna().values)\n",
    "unique_user_tags"
   ]
  },
  {
   "cell_type": "code",
   "execution_count": 111,
   "id": "4f7b4060",
   "metadata": {
    "colab": {
     "base_uri": "https://localhost:8080/"
    },
    "id": "4f7b4060",
    "outputId": "9554ad63-1d4f-4187-f2d2-8ccc8dffba32"
   },
   "outputs": [
    {
     "data": {
      "text/plain": [
       "user_id\n",
       "3     [age_65_inf, sex_0.0]\n",
       "16     [age_45_54, sex_0.0]\n",
       "17     [age_35_44, sex_1.0]\n",
       "Name: features, dtype: object"
      ]
     },
     "execution_count": 111,
     "metadata": {},
     "output_type": "execute_result"
    }
   ],
   "source": [
    "u_features_list[:3]"
   ]
  },
  {
   "cell_type": "markdown",
   "id": "42873743",
   "metadata": {
    "id": "42873743"
   },
   "source": [
    "#### item features"
   ]
  },
  {
   "cell_type": "markdown",
   "id": "b31c30be",
   "metadata": {
    "id": "b31c30be"
   },
   "source": [
    "Предположим, что жанр книги — важный признак. Возьмем жанры из топ-200 в качестве признаков книг."
   ]
  },
  {
   "cell_type": "code",
   "execution_count": 112,
   "id": "fb7f60bd",
   "metadata": {
    "id": "fb7f60bd"
   },
   "outputs": [],
   "source": [
    "i_features_lfm = deepcopy(i_features[i_features.index.isin(filtered_df['item_id'].unique())])\n",
    "i_features_lfm['reads'] = filtered_df.groupby('item_id')['user_id'].count()\n",
    "i_features_lfm.loc[:, 'reads'].fillna(0, inplace=True)\n",
    "i_features_lfm.loc[:, 'genres'] = i_features['genres'].str.lower().str.split(',').apply(lambda x: x if isinstance(x, list) else [])\n",
    "i_features_lfm.loc[:, 'genres'] = i_features_lfm.loc[:, 'genres'].apply(lambda g_list: [genre.strip() for genre in g_list])"
   ]
  },
  {
   "cell_type": "code",
   "execution_count": 113,
   "id": "vJktNjO257-a",
   "metadata": {
    "colab": {
     "base_uri": "https://localhost:8080/",
     "height": 142
    },
    "id": "vJktNjO257-a",
    "outputId": "363f0d5a-ac70-4896-869d-37f5ec34f0ba"
   },
   "outputs": [
    {
     "data": {
      "text/html": [
       "<div>\n",
       "<style scoped>\n",
       "    .dataframe tbody tr th:only-of-type {\n",
       "        vertical-align: middle;\n",
       "    }\n",
       "\n",
       "    .dataframe tbody tr th {\n",
       "        vertical-align: top;\n",
       "    }\n",
       "\n",
       "    .dataframe thead th {\n",
       "        text-align: right;\n",
       "    }\n",
       "</style>\n",
       "<table border=\"1\" class=\"dataframe\">\n",
       "  <thead>\n",
       "    <tr style=\"text-align: right;\">\n",
       "      <th></th>\n",
       "      <th>title</th>\n",
       "      <th>genres</th>\n",
       "      <th>authors</th>\n",
       "      <th>year</th>\n",
       "      <th>reads</th>\n",
       "    </tr>\n",
       "    <tr>\n",
       "      <th>item_id</th>\n",
       "      <th></th>\n",
       "      <th></th>\n",
       "      <th></th>\n",
       "      <th></th>\n",
       "      <th></th>\n",
       "    </tr>\n",
       "  </thead>\n",
       "  <tbody>\n",
       "    <tr>\n",
       "      <th>23831</th>\n",
       "      <td>Ворон-челобитчик</td>\n",
       "      <td>[зарубежные детские книги, сказки, зарубежная ...</td>\n",
       "      <td>Михаил Салтыков-Щедрин</td>\n",
       "      <td>1886</td>\n",
       "      <td>7</td>\n",
       "    </tr>\n",
       "    <tr>\n",
       "      <th>39149</th>\n",
       "      <td>Скрипка Ротшильда</td>\n",
       "      <td>[классическая проза, литература 19 века, русск...</td>\n",
       "      <td>Антон Чехов</td>\n",
       "      <td>1894</td>\n",
       "      <td>69</td>\n",
       "    </tr>\n",
       "  </tbody>\n",
       "</table>\n",
       "</div>"
      ],
      "text/plain": [
       "                     title                                             genres  \\\n",
       "item_id                                                                         \n",
       "23831     Ворон-челобитчик  [зарубежные детские книги, сказки, зарубежная ...   \n",
       "39149    Скрипка Ротшильда  [классическая проза, литература 19 века, русск...   \n",
       "\n",
       "                        authors  year  reads  \n",
       "item_id                                       \n",
       "23831    Михаил Салтыков-Щедрин  1886      7  \n",
       "39149               Антон Чехов  1894     69  "
      ]
     },
     "execution_count": 113,
     "metadata": {},
     "output_type": "execute_result"
    }
   ],
   "source": [
    "i_features_lfm.head(2)"
   ]
  },
  {
   "cell_type": "code",
   "execution_count": 114,
   "id": "a3edc7d8",
   "metadata": {
    "id": "a3edc7d8"
   },
   "outputs": [],
   "source": [
    "genres_count = i_features_lfm[['genres', 'reads']].explode('genres').groupby('genres')['reads'].sum()"
   ]
  },
  {
   "cell_type": "code",
   "execution_count": 115,
   "id": "sbO-5630A-rZ",
   "metadata": {
    "colab": {
     "base_uri": "https://localhost:8080/",
     "height": 265
    },
    "id": "sbO-5630A-rZ",
    "outputId": "2db2553f-e580-4d04-d5b7-7e8603d914f8"
   },
   "outputs": [
    {
     "data": {
      "image/png": "[encoded data removed]",
      "text/plain": [
       "<Figure size 432x288 with 1 Axes>"
      ]
     },
     "metadata": {
      "needs_background": "light"
     },
     "output_type": "display_data"
    }
   ],
   "source": [
    "genres_count.sort_values(ascending=False).reset_index(drop=True).plot();"
   ]
  },
  {
   "cell_type": "code",
   "execution_count": 116,
   "id": "fuGx9S-XBr1L",
   "metadata": {
    "colab": {
     "base_uri": "https://localhost:8080/"
    },
    "id": "fuGx9S-XBr1L",
    "outputId": "e775e6e1-85a4-4af5-9cea-7a7b101544bc"
   },
   "outputs": [
    {
     "data": {
      "text/plain": [
       "Index(['любовное фэнтези', 'попаданцы', 'современные любовные романы',\n",
       "       'современные детективы', 'героическое фэнтези', 'боевая фантастика',\n",
       "       'зарубежные любовные романы', 'боевое фэнтези',\n",
       "       'современная русская литература', 'книги про волшебников'],\n",
       "      dtype='object', name='genres')"
      ]
     },
     "execution_count": 116,
     "metadata": {},
     "output_type": "execute_result"
    }
   ],
   "source": [
    "unique_item_tags = genres_count.sort_values(ascending=False)[:200].index\n",
    "unique_item_tags[:10]"
   ]
  },
  {
   "cell_type": "code",
   "execution_count": 117,
   "id": "61c6d62c",
   "metadata": {
    "id": "61c6d62c"
   },
   "outputs": [],
   "source": [
    "def filter_genres(genres_list, valid_genres=None):\n",
    "    if not genres_list:\n",
    "        return []\n",
    "    return [genre for genre in genres_list if genre in valid_genres]"
   ]
  },
  {
   "cell_type": "code",
   "execution_count": 118,
   "id": "5466b20b",
   "metadata": {
    "colab": {
     "base_uri": "https://localhost:8080/"
    },
    "id": "5466b20b",
    "outputId": "ca0fe0a8-8b11-40c7-9b6a-a4956b63c305"
   },
   "outputs": [
    {
     "name": "stdout",
     "output_type": "stream",
     "text": [
      "CPU times: user 215 ms, sys: 24.3 ms, total: 239 ms\n",
      "Wall time: 159 ms\n"
     ]
    }
   ],
   "source": [
    "%%time\n",
    "i_features_lfm['features'] = i_features_lfm['genres'].apply(filter_genres, valid_genres=set(unique_item_tags))"
   ]
  },
  {
   "cell_type": "code",
   "execution_count": 119,
   "id": "9f7c8d09",
   "metadata": {
    "colab": {
     "base_uri": "https://localhost:8080/"
    },
    "id": "9f7c8d09",
    "outputId": "3a5ffe63-6457-4ffe-aae7-315eac67242a"
   },
   "outputs": [
    {
     "data": {
      "text/plain": [
       "item_id\n",
       "23831    [зарубежные детские книги, сказки, зарубежная ...\n",
       "39149    [классическая проза, литература 19 века, русск...\n",
       "17678    [зарубежная классика, классическая проза, лите...\n",
       "46007            [пьесы и драматургия, литература 19 века]\n",
       "54532    [зарубежная классика, классическая проза, лите...\n",
       "Name: features, dtype: object"
      ]
     },
     "execution_count": 119,
     "metadata": {},
     "output_type": "execute_result"
    }
   ],
   "source": [
    "i_features_list = i_features_lfm['features']\n",
    "i_features_list[:5]"
   ]
  },
  {
   "cell_type": "markdown",
   "id": "1857fe33",
   "metadata": {
    "id": "1857fe33"
   },
   "source": [
    "#### LightFM Dataset\n",
    "Посмотрим на то, как в каком формате принимает данные lightfm и как использовать Dataset для конвертации.\n",
    "\n",
    "LightFM работает со sparse-матрицами, dataset конвертирует данные в coo-формат.\n",
    "Матрица взаимодействий — это просто матрица размером количество пользователей $\\times$ количество объектов.\n",
    "Матрицы признаков выглядят интереснее."
   ]
  },
  {
   "cell_type": "code",
   "execution_count": 120,
   "id": "847e6e0e",
   "metadata": {
    "id": "847e6e0e"
   },
   "outputs": [],
   "source": [
    "lfm_dataset = LFMDataset()"
   ]
  },
  {
   "cell_type": "code",
   "execution_count": 121,
   "id": "55edd5cc",
   "metadata": {
    "id": "55edd5cc"
   },
   "outputs": [],
   "source": [
    "lfm_dataset.fit_partial(users=filtered_df['user_id'].unique(), items=filtered_df['item_id'].unique())\n",
    "lfm_dataset.fit_partial(user_features=unique_user_tags, item_features=unique_item_tags)"
   ]
  },
  {
   "cell_type": "code",
   "execution_count": 122,
   "id": "ab35d1b7",
   "metadata": {},
   "outputs": [
    {
     "data": {
      "text/plain": [
       "{'age_18_24',\n",
       " 'age_25_34',\n",
       " 'age_35_44',\n",
       " 'age_45_54',\n",
       " 'age_55_64',\n",
       " 'age_65_inf',\n",
       " 'sex_0.0',\n",
       " 'sex_1.0'}"
      ]
     },
     "execution_count": 122,
     "metadata": {},
     "output_type": "execute_result"
    }
   ],
   "source": [
    "unique_user_tags"
   ]
  },
  {
   "cell_type": "code",
   "execution_count": 123,
   "id": "d1acbe29",
   "metadata": {
    "id": "d1acbe29"
   },
   "outputs": [],
   "source": [
    "user_mapping, item_mapping = lfm_dataset.mapping()[0], lfm_dataset.mapping()[2]"
   ]
  },
  {
   "cell_type": "code",
   "execution_count": 124,
   "id": "0d69d3d7",
   "metadata": {
    "id": "0d69d3d7"
   },
   "outputs": [],
   "source": [
    "inv_user_mapping = {value: key for key, value in user_mapping.items()}\n",
    "inv_item_mapping = {value: key for key, value in item_mapping.items()}"
   ]
  },
  {
   "cell_type": "markdown",
   "id": "75c54eaa",
   "metadata": {
    "id": "75c54eaa"
   },
   "source": [
    "#### transform features"
   ]
  },
  {
   "cell_type": "code",
   "execution_count": 125,
   "id": "865c62bd",
   "metadata": {
    "id": "865c62bd"
   },
   "outputs": [],
   "source": [
    "sparse_i_features = lfm_dataset.build_item_features([[row.item_id, row.features] for row in i_features_list.reset_index().itertuples()])\n",
    "sparse_u_features = lfm_dataset.build_user_features([[row.user_id, row.features] for row in u_features_list.reset_index().itertuples()])"
   ]
  },
  {
   "cell_type": "code",
   "execution_count": 126,
   "id": "adba7ea8",
   "metadata": {
    "colab": {
     "base_uri": "https://localhost:8080/"
    },
    "id": "adba7ea8",
    "outputId": "05868e76-5be1-4d43-ae96-6d27fb3c0070"
   },
   "outputs": [
    {
     "data": {
      "text/plain": [
       "(56752, 56952)"
      ]
     },
     "execution_count": 126,
     "metadata": {},
     "output_type": "execute_result"
    }
   ],
   "source": [
    "sparse_i_features.shape"
   ]
  },
  {
   "cell_type": "code",
   "execution_count": 127,
   "id": "50cb020a",
   "metadata": {
    "colab": {
     "base_uri": "https://localhost:8080/"
    },
    "id": "50cb020a",
    "outputId": "7583ed24-1446-4340-a8e4-ea19f7aa41ae"
   },
   "outputs": [
    {
     "data": {
      "text/plain": [
       "((array([0, 0, 0, 0], dtype=int32),\n",
       "  array([    0, 56761, 56767, 56789], dtype=int32)),\n",
       " array([0.25, 0.25, 0.25, 0.25], dtype=float32))"
      ]
     },
     "execution_count": 127,
     "metadata": {},
     "output_type": "execute_result"
    }
   ],
   "source": [
    "sparse_i_features[0, :].nonzero(), sparse_i_features[0, :].data"
   ]
  },
  {
   "cell_type": "markdown",
   "id": "01ad9141",
   "metadata": {
    "id": "01ad9141"
   },
   "source": [
    "#### transform log"
   ]
  },
  {
   "cell_type": "code",
   "execution_count": 128,
   "id": "d451ae54",
   "metadata": {
    "colab": {
     "base_uri": "https://localhost:8080/"
    },
    "id": "d451ae54",
    "outputId": "078d03d6-c77e-45dd-b928-77375307cb9c"
   },
   "outputs": [
    {
     "name": "stdout",
     "output_type": "stream",
     "text": [
      "CPU times: user 1.85 s, sys: 55.2 ms, total: 1.91 s\n",
      "Wall time: 1.92 s\n"
     ]
    }
   ],
   "source": [
    "%%time\n",
    "(interactions, weights) = lfm_dataset.build_interactions([(row.user_id, row.item_id, row.progress) for row in train_by_date.itertuples()])"
   ]
  },
  {
   "cell_type": "markdown",
   "id": "df0e23ba",
   "metadata": {
    "id": "df0e23ba"
   },
   "source": [
    "Посмотрим на содержание матриц interactions и weights: использую матрицу interactions можно легко перейти от explicit feedback к implicit. Будем использовать weights, можете поэкспериментировать с interactions самостоятельно."
   ]
  },
  {
   "cell_type": "code",
   "execution_count": 129,
   "id": "65df169d",
   "metadata": {},
   "outputs": [
    {
     "data": {
      "text/plain": [
       "((37004, 56752), array([1, 1, 1, ..., 1, 1, 1], dtype=int32))"
      ]
     },
     "execution_count": 129,
     "metadata": {},
     "output_type": "execute_result"
    }
   ],
   "source": [
    "interactions.shape, interactions.data"
   ]
  },
  {
   "cell_type": "markdown",
   "id": "b3873d2b",
   "metadata": {
    "id": "b3873d2b"
   },
   "source": [
    "Посмотрим на применение модели и воспроизведем подсчет релевантности."
   ]
  },
  {
   "cell_type": "markdown",
   "id": "5-9hishLNOAh",
   "metadata": {
    "id": "5-9hishLNOAh"
   },
   "source": [
    "### model training"
   ]
  },
  {
   "cell_type": "code",
   "execution_count": 130,
   "id": "vI0esKv2NOAh",
   "metadata": {
    "colab": {
     "base_uri": "https://localhost:8080/"
    },
    "id": "vI0esKv2NOAh",
    "outputId": "83c842f3-e368-45e9-fd5f-2ae709aa86e3"
   },
   "outputs": [
    {
     "name": "stdout",
     "output_type": "stream",
     "text": [
      "CPU times: user 1min 1s, sys: 357 ms, total: 1min 2s\n",
      "Wall time: 1min 2s\n"
     ]
    },
    {
     "data": {
      "text/plain": [
       "<lightfm.lightfm.LightFM at 0x13245ba60>"
      ]
     },
     "execution_count": 130,
     "metadata": {},
     "output_type": "execute_result"
    }
   ],
   "source": [
    "%%time\n",
    "lightfm = LightFM(no_components=64, loss='warp', random_state=SEED)\n",
    "lightfm.fit(interactions, user_features=sparse_u_features, item_features=sparse_i_features, epochs=40, num_threads=8)"
   ]
  },
  {
   "cell_type": "markdown",
   "id": "4jxqRNqXNOAi",
   "metadata": {
    "id": "4jxqRNqXNOAi"
   },
   "source": [
    "### predict для одного пользователя"
   ]
  },
  {
   "cell_type": "markdown",
   "id": "GG4o1Zn6NOAi",
   "metadata": {
    "id": "GG4o1Zn6NOAi"
   },
   "source": [
    "Посмотрим рекомендации для любителя боевой фантастики"
   ]
  },
  {
   "cell_type": "code",
   "execution_count": 131,
   "id": "4xH-uk4iNOAi",
   "metadata": {
    "id": "4xH-uk4iNOAi"
   },
   "outputs": [],
   "source": [
    "pred = lightfm.predict(user_ids=user_mapping[21], item_ids=sorted(item_mapping.values()), user_features=sparse_u_features, item_features=sparse_i_features)"
   ]
  },
  {
   "cell_type": "code",
   "execution_count": 132,
   "id": "j36hVI4sNOAi",
   "metadata": {
    "id": "j36hVI4sNOAi"
   },
   "outputs": [],
   "source": [
    "ids = np.argpartition(pred, -K)[-K:]\n",
    "rel = pred[ids]\n",
    "res = pd.DataFrame(zip(ids, rel), columns=['item_id', 'relevance'])\n",
    "res['item_id'] = res['item_id'].map(inv_item_mapping)"
   ]
  },
  {
   "cell_type": "code",
   "execution_count": 133,
   "id": "UEYFXcrSNOAi",
   "metadata": {
    "colab": {
     "base_uri": "https://localhost:8080/",
     "height": 359
    },
    "id": "UEYFXcrSNOAi",
    "outputId": "739919e7-0189-47d0-cdd7-938f7a401499"
   },
   "outputs": [
    {
     "data": {
      "text/html": [
       "<div>\n",
       "<style scoped>\n",
       "    .dataframe tbody tr th:only-of-type {\n",
       "        vertical-align: middle;\n",
       "    }\n",
       "\n",
       "    .dataframe tbody tr th {\n",
       "        vertical-align: top;\n",
       "    }\n",
       "\n",
       "    .dataframe thead th {\n",
       "        text-align: right;\n",
       "    }\n",
       "</style>\n",
       "<table border=\"1\" class=\"dataframe\">\n",
       "  <thead>\n",
       "    <tr style=\"text-align: right;\">\n",
       "      <th></th>\n",
       "      <th>item_id</th>\n",
       "      <th>relevance</th>\n",
       "      <th>title</th>\n",
       "      <th>genres</th>\n",
       "      <th>authors</th>\n",
       "      <th>year</th>\n",
       "      <th>popularity</th>\n",
       "    </tr>\n",
       "  </thead>\n",
       "  <tbody>\n",
       "    <tr>\n",
       "      <th>3</th>\n",
       "      <td>50385</td>\n",
       "      <td>-116.477287</td>\n",
       "      <td>Струны волшебства. Книга первая. Страшные сказ...</td>\n",
       "      <td>Героическое фэнтези,Книги про волшебников</td>\n",
       "      <td>Милена Завойчинская</td>\n",
       "      <td>2018</td>\n",
       "      <td>307</td>\n",
       "    </tr>\n",
       "    <tr>\n",
       "      <th>5</th>\n",
       "      <td>44529</td>\n",
       "      <td>-117.145531</td>\n",
       "      <td>Ведьма-хранительница</td>\n",
       "      <td>Героическое фэнтези,Книги про волшебников,Юмор...</td>\n",
       "      <td>Ольга Громыко</td>\n",
       "      <td>2003</td>\n",
       "      <td>85</td>\n",
       "    </tr>\n",
       "    <tr>\n",
       "      <th>8</th>\n",
       "      <td>16683</td>\n",
       "      <td>-117.183891</td>\n",
       "      <td>Зулейха открывает глаза</td>\n",
       "      <td>Современная русская литература</td>\n",
       "      <td>Гузель Яхина</td>\n",
       "      <td>2015</td>\n",
       "      <td>591</td>\n",
       "    </tr>\n",
       "    <tr>\n",
       "      <th>4</th>\n",
       "      <td>22157</td>\n",
       "      <td>-117.234520</td>\n",
       "      <td>Верховная Ведьма</td>\n",
       "      <td>Героическое фэнтези,Книги про волшебников,Юмор...</td>\n",
       "      <td>Ольга Громыко</td>\n",
       "      <td>2004</td>\n",
       "      <td>81</td>\n",
       "    </tr>\n",
       "    <tr>\n",
       "      <th>6</th>\n",
       "      <td>59157</td>\n",
       "      <td>-117.305099</td>\n",
       "      <td>Черновик</td>\n",
       "      <td>Научная фантастика</td>\n",
       "      <td>Сергей Лукьяненко</td>\n",
       "      <td>2004-05</td>\n",
       "      <td>502</td>\n",
       "    </tr>\n",
       "    <tr>\n",
       "      <th>9</th>\n",
       "      <td>10887</td>\n",
       "      <td>-117.373276</td>\n",
       "      <td>Ведьмак</td>\n",
       "      <td>Героическое фэнтези,Зарубежное фэнтези,Боевое ...</td>\n",
       "      <td>Анджей Сапковский</td>\n",
       "      <td>1993-1997, 1999</td>\n",
       "      <td>83</td>\n",
       "    </tr>\n",
       "    <tr>\n",
       "      <th>1</th>\n",
       "      <td>34563</td>\n",
       "      <td>-117.402168</td>\n",
       "      <td>Ночной Дозор</td>\n",
       "      <td>Боевое фэнтези,Городское фэнтези</td>\n",
       "      <td>Сергей Лукьяненко</td>\n",
       "      <td>1998</td>\n",
       "      <td>51</td>\n",
       "    </tr>\n",
       "    <tr>\n",
       "      <th>2</th>\n",
       "      <td>50905</td>\n",
       "      <td>-117.403206</td>\n",
       "      <td>Чистовик</td>\n",
       "      <td>Научная фантастика</td>\n",
       "      <td>Сергей Лукьяненко</td>\n",
       "      <td>2007</td>\n",
       "      <td>390</td>\n",
       "    </tr>\n",
       "    <tr>\n",
       "      <th>7</th>\n",
       "      <td>56368</td>\n",
       "      <td>-117.452538</td>\n",
       "      <td>Новый Дозор</td>\n",
       "      <td>Боевое фэнтези,Городское фэнтези</td>\n",
       "      <td>Сергей Лукьяненко</td>\n",
       "      <td>2012</td>\n",
       "      <td>114</td>\n",
       "    </tr>\n",
       "    <tr>\n",
       "      <th>0</th>\n",
       "      <td>39338</td>\n",
       "      <td>-117.490440</td>\n",
       "      <td>Аутодафе</td>\n",
       "      <td>Героическое фэнтези,Боевое фэнтези</td>\n",
       "      <td>Алексей Пехов</td>\n",
       "      <td>2011</td>\n",
       "      <td>43</td>\n",
       "    </tr>\n",
       "  </tbody>\n",
       "</table>\n",
       "</div>"
      ],
      "text/plain": [
       "   item_id   relevance                                              title  \\\n",
       "3    50385 -116.477287  Струны волшебства. Книга первая. Страшные сказ...   \n",
       "5    44529 -117.145531                               Ведьма-хранительница   \n",
       "8    16683 -117.183891                            Зулейха открывает глаза   \n",
       "4    22157 -117.234520                                   Верховная Ведьма   \n",
       "6    59157 -117.305099                                           Черновик   \n",
       "9    10887 -117.373276                                            Ведьмак   \n",
       "1    34563 -117.402168                                       Ночной Дозор   \n",
       "2    50905 -117.403206                                           Чистовик   \n",
       "7    56368 -117.452538                                        Новый Дозор   \n",
       "0    39338 -117.490440                                           Аутодафе   \n",
       "\n",
       "                                              genres              authors  \\\n",
       "3          Героическое фэнтези,Книги про волшебников  Милена Завойчинская   \n",
       "5  Героическое фэнтези,Книги про волшебников,Юмор...        Ольга Громыко   \n",
       "8                     Современная русская литература         Гузель Яхина   \n",
       "4  Героическое фэнтези,Книги про волшебников,Юмор...        Ольга Громыко   \n",
       "6                                 Научная фантастика    Сергей Лукьяненко   \n",
       "9  Героическое фэнтези,Зарубежное фэнтези,Боевое ...    Анджей Сапковский   \n",
       "1                   Боевое фэнтези,Городское фэнтези    Сергей Лукьяненко   \n",
       "2                                 Научная фантастика    Сергей Лукьяненко   \n",
       "7                   Боевое фэнтези,Городское фэнтези    Сергей Лукьяненко   \n",
       "0                 Героическое фэнтези,Боевое фэнтези        Алексей Пехов   \n",
       "\n",
       "              year  popularity  \n",
       "3             2018         307  \n",
       "5             2003          85  \n",
       "8             2015         591  \n",
       "4             2004          81  \n",
       "6          2004-05         502  \n",
       "9  1993-1997, 1999          83  \n",
       "1             1998          51  \n",
       "2             2007         390  \n",
       "7             2012         114  \n",
       "0             2011          43  "
      ]
     },
     "execution_count": 133,
     "metadata": {},
     "output_type": "execute_result"
    }
   ],
   "source": [
    "res.merge(items_with_pop, on='item_id').sort_values('relevance', ascending=False)"
   ]
  },
  {
   "cell_type": "markdown",
   "id": "66aabff3",
   "metadata": {
    "id": "66aabff3"
   },
   "source": [
    "Посмотрите на рекомендации, все ли ок? Есть ли какие-то \"лишние\" книги?"
   ]
  },
  {
   "cell_type": "markdown",
   "id": "99089994",
   "metadata": {
    "id": "99089994"
   },
   "source": [
    "## 7.1 Задание: посчитайте релевантность руками\n",
    "Посчитайте релевантность книги \"Магический спецкурс. Второй семестр\" (43272) для пользователя 100017, который читает всякое такое.\n",
    "Используйте методы get_item_representations(), get_user_representations(), которые есть у модели LightFM."
   ]
  },
  {
   "cell_type": "code",
   "execution_count": 134,
   "id": "9d041f4f",
   "metadata": {
    "colab": {
     "base_uri": "https://localhost:8080/"
    },
    "id": "9d041f4f",
    "outputId": "f23f2cad-26f9-414d-cdc2-c47f3b9473f4"
   },
   "outputs": [
    {
     "data": {
      "text/plain": [
       "title                    Магический спецкурс. Второй семестр\n",
       "genres     Любовно-фантастические романы,Попаданцы,Любовн...\n",
       "authors                                          Лена Летняя\n",
       "year                                                    2018\n",
       "Name: 43272, dtype: object"
      ]
     },
     "execution_count": 134,
     "metadata": {},
     "output_type": "execute_result"
    }
   ],
   "source": [
    "i_features.loc[43272]"
   ]
  },
  {
   "cell_type": "code",
   "execution_count": 135,
   "id": "f660f163",
   "metadata": {
    "id": "f660f163"
   },
   "outputs": [],
   "source": [
    "item_id_lfm = item_mapping[43272]\n",
    "user_id_lfm = user_mapping[21]"
   ]
  },
  {
   "cell_type": "code",
   "execution_count": 136,
   "id": "d0d77ed0",
   "metadata": {
    "colab": {
     "base_uri": "https://localhost:8080/"
    },
    "id": "d0d77ed0",
    "outputId": "7d384c6f-f619-440e-d403-b46d1441bfc5"
   },
   "outputs": [
    {
     "data": {
      "text/plain": [
       "-119.28455"
      ]
     },
     "execution_count": 136,
     "metadata": {},
     "output_type": "execute_result"
    }
   ],
   "source": [
    "rel = lightfm.predict(user_ids=user_id_lfm, \n",
    "                      item_ids=[item_id_lfm], \n",
    "                      user_features=sparse_u_features, \n",
    "                      item_features=sparse_i_features)[0]\n",
    "rel"
   ]
  },
  {
   "cell_type": "markdown",
   "id": "931e3952",
   "metadata": {
    "id": "931e3952"
   },
   "source": [
    "Получили релевантность моделью, проверим, что поняли, как оно работает"
   ]
  },
  {
   "cell_type": "markdown",
   "id": "10da4560",
   "metadata": {
    "id": "10da4560"
   },
   "source": [
    "Отлично, разобрались с тем, как использовать модели LightFM, давайте попробуем воспроизвести подсчет релевантности. Для этого вернемся к формуле:\n",
    "\n",
    "$$r_{ui} = <q_u , p_i> + b_u + b_i$$\n",
    "\n",
    "$$q_u = \\sum_{j \\in f_u} e^U_j$$\n",
    "$$ e^U_j = w^U_j  e_j$$ \n",
    "$$b_u = \\sum_{j \\in f_u} b^U_j$$\n",
    "$$ b^U_j = w^U_j  b_j$$ \n",
    "где $q_u, p_i$ - вектора пользователя и объекта, являющиеся суммой векторов их признаков\n",
    "$b_u, b_i$ - смещения для признаков пользователя и объекта\n"
   ]
  },
  {
   "cell_type": "code",
   "execution_count": 137,
   "id": "8ddd6974",
   "metadata": {
    "colab": {
     "base_uri": "https://localhost:8080/"
    },
    "id": "8ddd6974",
    "outputId": "1ca0062c-46a4-48d7-ab72-d5f879b84114"
   },
   "outputs": [
    {
     "data": {
      "text/plain": [
       "((37012, 64), (37012,))"
      ]
     },
     "execution_count": 137,
     "metadata": {},
     "output_type": "execute_result"
    }
   ],
   "source": [
    "u_biases, u_vectors = lightfm.get_user_representations()\n",
    "u_vectors.shape, u_biases.shape"
   ]
  },
  {
   "cell_type": "code",
   "execution_count": 138,
   "id": "4f03b7b2",
   "metadata": {
    "colab": {
     "base_uri": "https://localhost:8080/"
    },
    "id": "4f03b7b2",
    "outputId": "a0636fe2-2262-45b7-90af-336f93ad82d0"
   },
   "outputs": [
    {
     "data": {
      "text/plain": [
       "((56952, 64), (56952,))"
      ]
     },
     "execution_count": 138,
     "metadata": {},
     "output_type": "execute_result"
    }
   ],
   "source": [
    "i_biases, i_vectors =lightfm.get_item_representations()\n",
    "i_vectors.shape, i_biases.shape"
   ]
  },
  {
   "cell_type": "code",
   "execution_count": 139,
   "id": "5f8713ee",
   "metadata": {
    "id": "5f8713ee"
   },
   "outputs": [],
   "source": [
    "# ======= YOUR CODE HERE ==========\n",
    "user_vector = sparse_u_features[user_id_lfm]@u_vectors\n",
    "item_vector = sparse_i_features[item_id_lfm]@i_vectors\n",
    "rel_ours = (user_vector@item_vector.T + sparse_u_features[user_id_lfm]@u_biases + sparse_i_features[item_id_lfm]@i_biases).ravel()[0]"
   ]
  },
  {
   "cell_type": "code",
   "execution_count": 140,
   "id": "eb89e741",
   "metadata": {
    "id": "eb89e741"
   },
   "outputs": [],
   "source": [
    "assert math.isclose(rel, rel_ours, rel_tol=1e-5)"
   ]
  },
  {
   "cell_type": "markdown",
   "id": "6d2c26ee",
   "metadata": {
    "id": "6d2c26ee"
   },
   "source": [
    "Все совпало, мы молодцы! Имея вектора пользователей и объектов, мы можем искать похожих, как делали это в ALS."
   ]
  },
  {
   "cell_type": "markdown",
   "id": "08aa543c",
   "metadata": {
    "id": "08aa543c"
   },
   "source": [
    "## 7.2 Задание: допишите predict, чтобы заработало \n",
    "(авторское решение использует apply для каждого пользователя)"
   ]
  },
  {
   "cell_type": "code",
   "execution_count": 141,
   "id": "a4295479",
   "metadata": {
    "id": "a4295479"
   },
   "outputs": [],
   "source": [
    "from typing import Dict, Iterable\n",
    "class UserFriendlyLightFM(SVDModel):\n",
    "    user_mapping: Dict\n",
    "    item_mapping: Dict\n",
    "    inv_user_mapping: Dict\n",
    "    inv_item_mapping: Dict\n",
    "    lightfm_dataset: LFMDataset\n",
    "        \n",
    "    def __init__(self, \n",
    "                 user_ids: np.ndarray, \n",
    "                 item_ids: np.ndarray,\n",
    "                 user_tags: Optional[Iterable],\n",
    "                 item_tags: Optional[Iterable],\n",
    "                 epochs: int,\n",
    "                 model: LightFM\n",
    "                ):\n",
    "        self.lightfm_dataset = LFMDataset()\n",
    "        self.lightfm_dataset.fit(users=user_ids, \n",
    "                                         items=item_ids,\n",
    "                                         user_features=user_tags,\n",
    "                                         item_features=item_tags,\n",
    "                                        )\n",
    "        self.user_mapping = self.lightfm_dataset.mapping()[0]\n",
    "        self.item_mapping = self.lightfm_dataset.mapping()[2]\n",
    "        self.inv_user_mapping = {value: key for key, value in self.user_mapping.items()}\n",
    "        self.inv_item_mapping = {value: key for key, value in self.item_mapping.items()}\n",
    "        self.epochs = epochs\n",
    "        self.model = model\n",
    "\n",
    "        \n",
    "    def _transform_dataset(self, \n",
    "                           log: Optional[pd.DataFrame],\n",
    "            user_features: Optional[pd.DataFrame]=None, \n",
    "            item_features: Optional[pd.DataFrame]=None):\n",
    "        \n",
    "        (interactions, weights) = self.lightfm_dataset.build_interactions([(row.user_id, row.item_id, row.progress) for row in log.itertuples()]) if log is not None else (None, None)\n",
    "        user_features_sparse = self.lightfm_dataset.build_user_features([[row.user_id, row.features] for row in user_features.reset_index().itertuples()]) if user_features is not None else None\n",
    "        item_features_sparse = self.lightfm_dataset.build_item_features([[row.item_id, row.features] for row in item_features.reset_index().itertuples()]) if item_features is not None else None\n",
    "        return interactions, weights, user_features_sparse, item_features_sparse\n",
    "    \n",
    "    def fit(self, \n",
    "            log: pd.DataFrame, \n",
    "            user_features: Optional[pd.DataFrame]=None, \n",
    "            item_features: Optional[pd.DataFrame]=None) -> 'UserFriendlyLightFM':\n",
    "        \n",
    "        interactions, weights, user_features_sparse, item_features_sparse = self._transform_dataset(log, user_features, item_features)\n",
    "        self.model.fit(interactions, user_features=user_features_sparse, item_features=item_features_sparse, epochs=self.epochs, num_threads=8)\n",
    "        return self\n",
    "\n",
    "    def _predict(self, \n",
    "                log: pd.DataFrame, \n",
    "                users: pd.Series, \n",
    "                k: int,\n",
    "                user_features: Optional[pd.DataFrame]=None, \n",
    "                item_features: Optional[pd.DataFrame]=None,\n",
    "                filter_seen:bool = True) -> pd.DataFrame:\n",
    "        \n",
    "        pred = pd.DataFrame(users.map(self.user_mapping).unique(), columns=['user_id'])\n",
    "        pred.dropna(inplace=True)\n",
    "        interactions, weights, user_features_sparse, item_features_sparse = self._transform_dataset(None, user_features, item_features)\n",
    "        \n",
    "        \n",
    "        # ======= YOUR CODE HERE ==========\n",
    "        def _get_lfm_pred_all_items(user_id):\n",
    "            pred_for_all = self.model.predict(user_ids=user_id, item_ids=sorted(self.item_mapping.values()), user_features=user_features_sparse, item_features=item_features_sparse)\n",
    "            ids = np.argpartition(pred_for_all, -k)[-k:]\n",
    "            rel = pred_for_all[ids]\n",
    "            return list(zip(ids, rel))\n",
    "    \n",
    "        pred['recs'] = pred['user_id'].apply(_get_lfm_pred_all_items)\n",
    "        pred = pred.explode('recs')\n",
    "        self._split_pair(pred)\n",
    "        # =================================\n",
    "        pred['item_id'] = pred['item_id'].map(self.inv_item_mapping)\n",
    "        pred['user_id'] = pred['user_id'].map(self.inv_user_mapping)\n",
    "        return pred"
   ]
  },
  {
   "cell_type": "markdown",
   "id": "97134787",
   "metadata": {
    "id": "97134787"
   },
   "source": [
    "## LightFM без признаков"
   ]
  },
  {
   "cell_type": "code",
   "execution_count": 142,
   "id": "de80db1f",
   "metadata": {
    "id": "de80db1f"
   },
   "outputs": [],
   "source": [
    "lfm = UserFriendlyLightFM(user_ids=filtered_df['user_id'].unique(), \n",
    "                             item_ids=filtered_df['item_id'].unique(),\n",
    "                             user_tags=unique_user_tags,\n",
    "                             item_tags=unique_item_tags,\n",
    "                             epochs=40,\n",
    "                             model=LightFM(no_components=64, loss='warp'))"
   ]
  },
  {
   "cell_type": "code",
   "execution_count": 143,
   "id": "59ef1994",
   "metadata": {
    "colab": {
     "base_uri": "https://localhost:8080/"
    },
    "id": "59ef1994",
    "outputId": "1928f9c8-5870-4f8c-a353-9d973e719e15"
   },
   "outputs": [
    {
     "name": "stdout",
     "output_type": "stream",
     "text": [
      "CPU times: user 31.3 s, sys: 303 ms, total: 31.6 s\n",
      "Wall time: 32 s\n"
     ]
    },
    {
     "data": {
      "text/plain": [
       "<__main__.UserFriendlyLightFM at 0x1321b7700>"
      ]
     },
     "execution_count": 143,
     "metadata": {},
     "output_type": "execute_result"
    }
   ],
   "source": [
    "%%time\n",
    "lfm.fit(log=train_by_date, user_features=None, item_features=None)"
   ]
  },
  {
   "cell_type": "code",
   "execution_count": 144,
   "id": "04091c20",
   "metadata": {
    "colab": {
     "base_uri": "https://localhost:8080/"
    },
    "id": "04091c20",
    "outputId": "1a198311-6c07-48f6-d08a-6ec1c98808be"
   },
   "outputs": [
    {
     "name": "stdout",
     "output_type": "stream",
     "text": [
      "CPU times: user 29.2 s, sys: 904 ms, total: 30.1 s\n",
      "Wall time: 30.4 s\n"
     ]
    }
   ],
   "source": [
    "%%time\n",
    "lfm_pred = lfm.predict(log=train_by_date, users=test_by_date_users, k=K, user_features=None, item_features=None)"
   ]
  },
  {
   "cell_type": "code",
   "execution_count": 145,
   "id": "ff8e78e4",
   "metadata": {
    "colab": {
     "base_uri": "https://localhost:8080/",
     "height": 207
    },
    "id": "ff8e78e4",
    "outputId": "0c7e3f6d-a0d5-48c6-8372-080b0936fc79"
   },
   "outputs": [
    {
     "name": "stdout",
     "output_type": "stream",
     "text": [
      "CPU times: user 997 ms, sys: 78 ms, total: 1.08 s\n",
      "Wall time: 1.91 s\n"
     ]
    },
    {
     "data": {
      "text/html": [
       "<div>\n",
       "<style scoped>\n",
       "    .dataframe tbody tr th:only-of-type {\n",
       "        vertical-align: middle;\n",
       "    }\n",
       "\n",
       "    .dataframe tbody tr th {\n",
       "        vertical-align: top;\n",
       "    }\n",
       "\n",
       "    .dataframe thead th {\n",
       "        text-align: right;\n",
       "    }\n",
       "</style>\n",
       "<table border=\"1\" class=\"dataframe\">\n",
       "  <thead>\n",
       "    <tr style=\"text-align: right;\">\n",
       "      <th></th>\n",
       "      <th>hit_rate@1</th>\n",
       "      <th>hit_rate@K</th>\n",
       "      <th>mrr@K</th>\n",
       "      <th>map@K</th>\n",
       "      <th>coverage@K</th>\n",
       "      <th>surprisal@K</th>\n",
       "    </tr>\n",
       "  </thead>\n",
       "  <tbody>\n",
       "    <tr>\n",
       "      <th>svd_rec</th>\n",
       "      <td>0.022653</td>\n",
       "      <td>0.10998</td>\n",
       "      <td>0.043634</td>\n",
       "      <td>0.012784</td>\n",
       "      <td>0.026114</td>\n",
       "      <td>0.554712</td>\n",
       "    </tr>\n",
       "    <tr>\n",
       "      <th>LightFM_rec_64_40_ep</th>\n",
       "      <td>0.016743</td>\n",
       "      <td>0.094879</td>\n",
       "      <td>0.035008</td>\n",
       "      <td>0.008697</td>\n",
       "      <td>0.101441</td>\n",
       "      <td>0.596702</td>\n",
       "    </tr>\n",
       "    <tr>\n",
       "      <th>neighbour_rec</th>\n",
       "      <td>0.01346</td>\n",
       "      <td>0.086671</td>\n",
       "      <td>0.031564</td>\n",
       "      <td>0.009043</td>\n",
       "      <td>0.031928</td>\n",
       "      <td>0.531623</td>\n",
       "    </tr>\n",
       "    <tr>\n",
       "      <th>popular</th>\n",
       "      <td>0.002626</td>\n",
       "      <td>0.022324</td>\n",
       "      <td>0.006628</td>\n",
       "      <td>0.001348</td>\n",
       "      <td>0.0003</td>\n",
       "      <td>0.429753</td>\n",
       "    </tr>\n",
       "  </tbody>\n",
       "</table>\n",
       "</div>"
      ],
      "text/plain": [
       "                     hit_rate@1 hit_rate@K     mrr@K     map@K coverage@K  \\\n",
       "svd_rec                0.022653    0.10998  0.043634  0.012784   0.026114   \n",
       "LightFM_rec_64_40_ep   0.016743   0.094879  0.035008  0.008697   0.101441   \n",
       "neighbour_rec           0.01346   0.086671  0.031564  0.009043   0.031928   \n",
       "popular                0.002626   0.022324  0.006628  0.001348     0.0003   \n",
       "\n",
       "                     surprisal@K  \n",
       "svd_rec                 0.554712  \n",
       "LightFM_rec_64_40_ep    0.596702  \n",
       "neighbour_rec           0.531623  \n",
       "popular                 0.429753  "
      ]
     },
     "execution_count": 145,
     "metadata": {},
     "output_type": "execute_result"
    }
   ],
   "source": [
    "%%time\n",
    "measure(lfm_pred, test_by_date, 'LightFM_rec_64_40_ep', metrics, cov_items=filtered_df['item_id'], surp=surp).sort_values('hit_rate@K', ascending=False)"
   ]
  },
  {
   "cell_type": "markdown",
   "id": "5ff733a5",
   "metadata": {
    "id": "5ff733a5"
   },
   "source": [
    "## LightFM  c признаками"
   ]
  },
  {
   "cell_type": "code",
   "execution_count": 146,
   "id": "45a27f97",
   "metadata": {
    "id": "45a27f97"
   },
   "outputs": [],
   "source": [
    "lfm_uf = UserFriendlyLightFM(user_ids=filtered_df['user_id'].unique(), \n",
    "                             item_ids=filtered_df['item_id'].unique(),\n",
    "                             user_tags=unique_user_tags,\n",
    "                             item_tags=unique_item_tags,\n",
    "                             epochs=40,\n",
    "                             model=LightFM(no_components=256, loss='warp')\n",
    "                            )"
   ]
  },
  {
   "cell_type": "code",
   "execution_count": 147,
   "id": "faa43a15",
   "metadata": {
    "colab": {
     "base_uri": "https://localhost:8080/"
    },
    "id": "faa43a15",
    "outputId": "dcb75565-4ce0-4e3f-80bc-9b9ebe5f902e"
   },
   "outputs": [
    {
     "name": "stdout",
     "output_type": "stream",
     "text": [
      "CPU times: user 2min 27s, sys: 844 ms, total: 2min 28s\n",
      "Wall time: 2min 29s\n"
     ]
    },
    {
     "data": {
      "text/plain": [
       "<__main__.UserFriendlyLightFM at 0x1321b78e0>"
      ]
     },
     "execution_count": 147,
     "metadata": {},
     "output_type": "execute_result"
    }
   ],
   "source": [
    "%%time\n",
    "lfm_uf.fit(log=train_by_date, item_features=i_features_list, user_features=u_features_list)"
   ]
  },
  {
   "cell_type": "code",
   "execution_count": 148,
   "id": "c7b1f781",
   "metadata": {
    "colab": {
     "base_uri": "https://localhost:8080/"
    },
    "id": "c7b1f781",
    "outputId": "8f8a56ee-8eca-47f0-b118-271a5894b225"
   },
   "outputs": [
    {
     "name": "stdout",
     "output_type": "stream",
     "text": [
      "CPU times: user 58.2 s, sys: 927 ms, total: 59.1 s\n",
      "Wall time: 59.4 s\n"
     ]
    }
   ],
   "source": [
    "%%time\n",
    "pred_feat = lfm_uf.predict(log=train_by_date, users=test_by_date_users, k=K, user_features=u_features_list, item_features=i_features_list)"
   ]
  },
  {
   "cell_type": "code",
   "execution_count": 149,
   "id": "93b9a99a",
   "metadata": {
    "colab": {
     "base_uri": "https://localhost:8080/",
     "height": 238
    },
    "id": "93b9a99a",
    "outputId": "6f339b44-b288-4566-a882-c0971500e6b3"
   },
   "outputs": [
    {
     "name": "stdout",
     "output_type": "stream",
     "text": [
      "CPU times: user 959 ms, sys: 81.4 ms, total: 1.04 s\n",
      "Wall time: 1.9 s\n"
     ]
    },
    {
     "data": {
      "text/html": [
       "<div>\n",
       "<style scoped>\n",
       "    .dataframe tbody tr th:only-of-type {\n",
       "        vertical-align: middle;\n",
       "    }\n",
       "\n",
       "    .dataframe tbody tr th {\n",
       "        vertical-align: top;\n",
       "    }\n",
       "\n",
       "    .dataframe thead th {\n",
       "        text-align: right;\n",
       "    }\n",
       "</style>\n",
       "<table border=\"1\" class=\"dataframe\">\n",
       "  <thead>\n",
       "    <tr style=\"text-align: right;\">\n",
       "      <th></th>\n",
       "      <th>hit_rate@1</th>\n",
       "      <th>hit_rate@K</th>\n",
       "      <th>mrr@K</th>\n",
       "      <th>map@K</th>\n",
       "      <th>coverage@K</th>\n",
       "      <th>surprisal@K</th>\n",
       "    </tr>\n",
       "  </thead>\n",
       "  <tbody>\n",
       "    <tr>\n",
       "      <th>svd_rec</th>\n",
       "      <td>0.022653</td>\n",
       "      <td>0.10998</td>\n",
       "      <td>0.043634</td>\n",
       "      <td>0.012784</td>\n",
       "      <td>0.026114</td>\n",
       "      <td>0.554712</td>\n",
       "    </tr>\n",
       "    <tr>\n",
       "      <th>LightFM_rec_64_40_ep</th>\n",
       "      <td>0.016743</td>\n",
       "      <td>0.094879</td>\n",
       "      <td>0.035008</td>\n",
       "      <td>0.008697</td>\n",
       "      <td>0.101441</td>\n",
       "      <td>0.596702</td>\n",
       "    </tr>\n",
       "    <tr>\n",
       "      <th>neighbour_rec</th>\n",
       "      <td>0.01346</td>\n",
       "      <td>0.086671</td>\n",
       "      <td>0.031564</td>\n",
       "      <td>0.009043</td>\n",
       "      <td>0.031928</td>\n",
       "      <td>0.531623</td>\n",
       "    </tr>\n",
       "    <tr>\n",
       "      <th>LightFM_rec_features_256_40</th>\n",
       "      <td>0.006566</td>\n",
       "      <td>0.061392</td>\n",
       "      <td>0.019619</td>\n",
       "      <td>0.004347</td>\n",
       "      <td>0.121529</td>\n",
       "      <td>0.62383</td>\n",
       "    </tr>\n",
       "    <tr>\n",
       "      <th>popular</th>\n",
       "      <td>0.002626</td>\n",
       "      <td>0.022324</td>\n",
       "      <td>0.006628</td>\n",
       "      <td>0.001348</td>\n",
       "      <td>0.0003</td>\n",
       "      <td>0.429753</td>\n",
       "    </tr>\n",
       "  </tbody>\n",
       "</table>\n",
       "</div>"
      ],
      "text/plain": [
       "                            hit_rate@1 hit_rate@K     mrr@K     map@K  \\\n",
       "svd_rec                       0.022653    0.10998  0.043634  0.012784   \n",
       "LightFM_rec_64_40_ep          0.016743   0.094879  0.035008  0.008697   \n",
       "neighbour_rec                  0.01346   0.086671  0.031564  0.009043   \n",
       "LightFM_rec_features_256_40   0.006566   0.061392  0.019619  0.004347   \n",
       "popular                       0.002626   0.022324  0.006628  0.001348   \n",
       "\n",
       "                            coverage@K surprisal@K  \n",
       "svd_rec                       0.026114    0.554712  \n",
       "LightFM_rec_64_40_ep          0.101441    0.596702  \n",
       "neighbour_rec                 0.031928    0.531623  \n",
       "LightFM_rec_features_256_40   0.121529     0.62383  \n",
       "popular                         0.0003    0.429753  "
      ]
     },
     "execution_count": 149,
     "metadata": {},
     "output_type": "execute_result"
    }
   ],
   "source": [
    "%%time\n",
    "measure(pred_feat, test_by_date, 'LightFM_rec_features_256_40', metrics, cov_items=filtered_df['item_id'], surp=surp).sort_values('hit_rate@K', ascending=False)"
   ]
  },
  {
   "cell_type": "markdown",
   "id": "d9b9644d",
   "metadata": {
    "id": "d9b9644d"
   },
   "source": [
    "Итак, теперь у нас есть следующие модели:\n",
    "\n",
    "- рекомендатель популярного\n",
    "- knn на ассоциативных правилах\n",
    "- svd\n",
    "- lightFM\n",
    "    \n",
    "Но почему бы не решать задачу рекомендаций как задачу ранжирования или классификации с использованием популярных алгоритмов машинного обучения? В таком случае мы будем по вектору признаков пользователя и объекта предсказывать значение релевантности.\n",
    "Вот некоторые причины:\n",
    "\n",
    "- данных очень много, и на инференсе скорить все возможные пары пользователь-объект — очень долго\n",
    "- чаще всего у нас нет класса 0 или этих данных мало, а значит, их нужно сэмплировать\n",
    "- кажется, что модели будет сложно обобщить коллаборативную информацию, т.е. использовать информацию о предыдущих взаимодействиях, потому что на вход подается только одно взаимодействие\n",
    "\n",
    "Как с этим бороться? \n",
    "\n",
    "- Использовать многоуровневые модели (например, ALS + градиентный бустинг/нейросеть)\n",
    "    "
   ]
  },
  {
   "cell_type": "markdown",
   "id": "fcef2ea0",
   "metadata": {
    "id": "fcef2ea0"
   },
   "source": [
    "# 8 Двухуровневая модель"
   ]
  },
  {
   "cell_type": "markdown",
   "id": "54714642",
   "metadata": {
    "id": "54714642"
   },
   "source": [
    "- Как разбить данные без лика?\n",
    "- Сколько кандидатов генерировать и как?\n",
    "- Какие признаки добавить для обучения модели второго уровня?\n",
    "- Как переобучать весь ансамбль?"
   ]
  },
  {
   "cell_type": "markdown",
   "id": "f9efaa1c",
   "metadata": {
    "id": "f9efaa1c"
   },
   "source": [
    "Примеры:\n",
    "- [Рекомендации в Okko: как заработать сотни миллионов, перемножив пару матриц](https://habr.com/ru/company/okko/blog/454224/)\n",
    "- [Rekko Challenge — как занять 2-е место в конкурсе по созданию рекомендательных систем](https://habr.com/ru/company/tinkoff/blog/454818/)\n",
    "- [Дзен-митап: Объяснимые рекомендации](https://www.youtube.com/watch?v=ll-y6I_r_OM&t=357s)\n",
    "- [Дзен-митап: Next-level recommendations — как сделать модель второго уровня в рекомендациях](https://www.youtube.com/watch?v=4NutBpiIHi0&t=1240s)\n",
    "    \n",
    "    "
   ]
  },
  {
   "cell_type": "markdown",
   "id": "hd8h3Pr0ThRP",
   "metadata": {
    "id": "hd8h3Pr0ThRP"
   },
   "source": [
    "Команда MTS выложила лекцию про двухуровневую архитектуру — довольно понятно, быстро объясняется и с кодом.\n",
    "Посмотрите [видео](https://ods.ai/tracks/recsys-course2021/blocks/34e6b8d3-5cf0-4ab8-9443-fbc14ad9cf0b) и [код](https://github.com/sharthZ23/your-second-recsys/tree/master/lecture_5)."
   ]
  },
  {
   "cell_type": "markdown",
   "id": "3691e91c",
   "metadata": {
    "id": "3691e91c"
   },
   "source": [
    "Например, обучим SVD на 70% train, а вторым уровнем выберем Catboost, добавив в качестве признаков название, год выпуска книги и автора "
   ]
  },
  {
   "cell_type": "code",
   "execution_count": 150,
   "id": "gCmFQDtl3fLy",
   "metadata": {
    "colab": {
     "base_uri": "https://localhost:8080/"
    },
    "id": "gCmFQDtl3fLy",
    "outputId": "3b58c42e-8b3c-4df0-ec5b-390c64d29e82"
   },
   "outputs": [],
   "source": [
    "# ! pip install --upgrade catboost"
   ]
  },
  {
   "cell_type": "markdown",
   "id": "0hdCjbiN8gQM",
   "metadata": {
    "id": "0hdCjbiN8gQM"
   },
   "source": [
    "### Разобьем данные"
   ]
  },
  {
   "cell_type": "code",
   "execution_count": 151,
   "id": "07ba4183",
   "metadata": {
    "id": "07ba4183"
   },
   "outputs": [],
   "source": [
    "from sklearn.model_selection import train_test_split"
   ]
  },
  {
   "cell_type": "code",
   "execution_count": 152,
   "id": "c09bab44",
   "metadata": {
    "id": "c09bab44"
   },
   "outputs": [],
   "source": [
    "Q = 0.7\n",
    "train_first = train_by_date[train_by_date['start_date'] <= train_by_date['start_date'].quantile(Q)].copy()\n",
    "train_second = train_by_date[train_by_date['start_date'] > train_by_date['start_date'].quantile(Q)].copy()\n",
    "# убрали холодных для быстроты расчета, а не потому, что так надо\n",
    "train_second = train_second[train_second['user_id'].isin(train_first['user_id'].unique())]\n",
    "train_u_second, val_u_second = train_test_split(train_second['user_id'].unique(), test_size=0.1, random_state=SEED)"
   ]
  },
  {
   "cell_type": "code",
   "execution_count": 153,
   "id": "879a4f7b",
   "metadata": {
    "colab": {
     "base_uri": "https://localhost:8080/"
    },
    "id": "879a4f7b",
    "outputId": "6bbc922e-fc2d-48f1-faa4-b235dd315549"
   },
   "outputs": [
    {
     "name": "stdout",
     "output_type": "stream",
     "text": [
      "Длина лога = 250664,\n",
      "количество пользователей = 36083,\n",
      "количество объектов = 51725\n"
     ]
    }
   ],
   "source": [
    "get_log_info(train_first)"
   ]
  },
  {
   "cell_type": "code",
   "execution_count": 154,
   "id": "d340b700",
   "metadata": {
    "colab": {
     "base_uri": "https://localhost:8080/"
    },
    "id": "d340b700",
    "outputId": "ac88b56a-1ac7-4506-bbbd-f0284363db9d"
   },
   "outputs": [
    {
     "name": "stdout",
     "output_type": "stream",
     "text": [
      "Длина лога = 101765,\n",
      "количество пользователей = 24785,\n",
      "количество объектов = 32282\n"
     ]
    }
   ],
   "source": [
    "get_log_info(train_second)"
   ]
  },
  {
   "cell_type": "markdown",
   "id": "ff9a9bd9",
   "metadata": {
    "id": "ff9a9bd9"
   },
   "source": [
    "## 8.1 Задание: Обучите SVD на данных train first и получите predict топ-50 объектов для пользователей из train_second"
   ]
  },
  {
   "cell_type": "code",
   "execution_count": 155,
   "id": "fe645b4b",
   "metadata": {
    "colab": {
     "base_uri": "https://localhost:8080/"
    },
    "id": "fe645b4b",
    "outputId": "e378df8f-0615-4c19-dd09-9d68e7dda935"
   },
   "outputs": [
    {
     "name": "stdout",
     "output_type": "stream",
     "text": [
      "CPU times: user 3min 10s, sys: 25.1 s, total: 3min 35s\n",
      "Wall time: 1min 24s\n"
     ]
    }
   ],
   "source": [
    "%%time\n",
    "# ======= YOUR CODE HERE ==========\n",
    "first_level = SVDModel(rank=64)\n",
    "first_level.fit(log=train_first, user_features=None, item_features=None)\n",
    "first_level_pred = first_level.predict(log=train_first, users=pd.Series(train_second['user_id'].unique()), k=50, user_features=None, item_features=None, filter_seen=True)"
   ]
  },
  {
   "cell_type": "markdown",
   "id": "d18e2ec3",
   "metadata": {},
   "source": [
    "Здесь самое время подумать, какие еще модели/бейзлайны можно использовать для генерации кандидатов, отдельно подумать над кандидатами для холодных пользователей.\n"
   ]
  },
  {
   "cell_type": "markdown",
   "id": "adc2b431",
   "metadata": {
    "id": "adc2b431"
   },
   "source": [
    "## Задание 8.2 Добавьте столбец target_cb, содержащий метку класса"
   ]
  },
  {
   "cell_type": "code",
   "execution_count": 156,
   "id": "2299cf65",
   "metadata": {
    "id": "2299cf65"
   },
   "outputs": [],
   "source": [
    "train_second['target_cb'] = 1"
   ]
  },
  {
   "cell_type": "code",
   "execution_count": 157,
   "id": "9a48f0b9",
   "metadata": {
    "id": "9a48f0b9"
   },
   "outputs": [],
   "source": [
    "# ======= YOUR CODE HERE ==========\n",
    "first_level_pred = first_level_pred.merge(train_second[['user_id', 'item_id', 'target_cb']], on=['user_id', 'item_id'], how='left')\n",
    "first_level_pred.fillna(0, inplace=True)"
   ]
  },
  {
   "cell_type": "code",
   "execution_count": 158,
   "id": "33cfddf9",
   "metadata": {
    "colab": {
     "base_uri": "https://localhost:8080/",
     "height": 111
    },
    "id": "33cfddf9",
    "outputId": "50e40de6-e09e-460c-fdf7-67e9b3b86399"
   },
   "outputs": [
    {
     "data": {
      "text/html": [
       "<div>\n",
       "<style scoped>\n",
       "    .dataframe tbody tr th:only-of-type {\n",
       "        vertical-align: middle;\n",
       "    }\n",
       "\n",
       "    .dataframe tbody tr th {\n",
       "        vertical-align: top;\n",
       "    }\n",
       "\n",
       "    .dataframe thead th {\n",
       "        text-align: right;\n",
       "    }\n",
       "</style>\n",
       "<table border=\"1\" class=\"dataframe\">\n",
       "  <thead>\n",
       "    <tr style=\"text-align: right;\">\n",
       "      <th></th>\n",
       "      <th>user_id</th>\n",
       "      <th>item_id</th>\n",
       "      <th>relevance</th>\n",
       "      <th>target_cb</th>\n",
       "    </tr>\n",
       "  </thead>\n",
       "  <tbody>\n",
       "    <tr>\n",
       "      <th>0</th>\n",
       "      <td>31251</td>\n",
       "      <td>33050</td>\n",
       "      <td>0.013697</td>\n",
       "      <td>0.0</td>\n",
       "    </tr>\n",
       "    <tr>\n",
       "      <th>1</th>\n",
       "      <td>31251</td>\n",
       "      <td>50903</td>\n",
       "      <td>0.011351</td>\n",
       "      <td>0.0</td>\n",
       "    </tr>\n",
       "  </tbody>\n",
       "</table>\n",
       "</div>"
      ],
      "text/plain": [
       "   user_id  item_id  relevance  target_cb\n",
       "0    31251    33050   0.013697        0.0\n",
       "1    31251    50903   0.011351        0.0"
      ]
     },
     "execution_count": 158,
     "metadata": {},
     "output_type": "execute_result"
    }
   ],
   "source": [
    "first_level_pred.head(2)"
   ]
  },
  {
   "cell_type": "code",
   "execution_count": 159,
   "id": "uW0odsH4lsLZ",
   "metadata": {
    "id": "uW0odsH4lsLZ"
   },
   "outputs": [],
   "source": [
    "assert first_level_pred['target_cb'].sum() > 0"
   ]
  },
  {
   "cell_type": "code",
   "execution_count": 160,
   "id": "1674b279",
   "metadata": {},
   "outputs": [
    {
     "data": {
      "text/html": [
       "<div>\n",
       "<style scoped>\n",
       "    .dataframe tbody tr th:only-of-type {\n",
       "        vertical-align: middle;\n",
       "    }\n",
       "\n",
       "    .dataframe tbody tr th {\n",
       "        vertical-align: top;\n",
       "    }\n",
       "\n",
       "    .dataframe thead th {\n",
       "        text-align: right;\n",
       "    }\n",
       "</style>\n",
       "<table border=\"1\" class=\"dataframe\">\n",
       "  <thead>\n",
       "    <tr style=\"text-align: right;\">\n",
       "      <th></th>\n",
       "      <th>user_id</th>\n",
       "      <th>item_id</th>\n",
       "      <th>relevance</th>\n",
       "    </tr>\n",
       "    <tr>\n",
       "      <th>target_cb</th>\n",
       "      <th></th>\n",
       "      <th></th>\n",
       "      <th></th>\n",
       "    </tr>\n",
       "  </thead>\n",
       "  <tbody>\n",
       "    <tr>\n",
       "      <th>0.0</th>\n",
       "      <td>1232895</td>\n",
       "      <td>1232895</td>\n",
       "      <td>1232895</td>\n",
       "    </tr>\n",
       "    <tr>\n",
       "      <th>1.0</th>\n",
       "      <td>6355</td>\n",
       "      <td>6355</td>\n",
       "      <td>6355</td>\n",
       "    </tr>\n",
       "  </tbody>\n",
       "</table>\n",
       "</div>"
      ],
      "text/plain": [
       "           user_id  item_id  relevance\n",
       "target_cb                             \n",
       "0.0        1232895  1232895    1232895\n",
       "1.0           6355     6355       6355"
      ]
     },
     "execution_count": 160,
     "metadata": {},
     "output_type": "execute_result"
    }
   ],
   "source": [
    "first_level_pred.groupby('target_cb').count()"
   ]
  },
  {
   "cell_type": "markdown",
   "id": "a0281d78",
   "metadata": {
    "id": "a0281d78"
   },
   "source": [
    "## Добавим признаки"
   ]
  },
  {
   "cell_type": "code",
   "execution_count": 161,
   "id": "500aebe2",
   "metadata": {
    "id": "500aebe2"
   },
   "outputs": [],
   "source": [
    "i_features['year_conv'] = i_features.loc[:, 'year'].str.extract(r'(\\d{4})', expand=False).astype(float)"
   ]
  },
  {
   "cell_type": "code",
   "execution_count": 162,
   "id": "FWhzDRBLOp8X",
   "metadata": {
    "id": "FWhzDRBLOp8X"
   },
   "outputs": [],
   "source": [
    "CAT_COLS = [1, 2, 3]\n",
    "\n",
    "def preprocess_cb(pd_df):\n",
    "    full_feat = pd_df.merge(u_features, left_on='user_id', right_index=True, how='left')\n",
    "    full_feat = full_feat.merge(i_features[['authors', 'year_conv']], left_on='item_id', right_index=True, how='left')\n",
    "    target = full_feat['target_cb']\n",
    "    full_feat['rank'] = full_feat.groupby('user_id')['relevance'].rank(method=\"first\", ascending=False)\n",
    "    ids = full_feat[['user_id', 'item_id']]\n",
    "    cb_train = full_feat.drop(columns=['user_id', 'item_id', 'target_cb'])\n",
    "    cb_train['sex'] = cb_train['sex'].astype('str')\n",
    "    cb_train.iloc[:, CAT_COLS] = cb_train.iloc[:, CAT_COLS].fillna('nan')\n",
    "    return cb_train, target, ids"
   ]
  },
  {
   "cell_type": "code",
   "execution_count": 163,
   "id": "94f31370",
   "metadata": {
    "id": "94f31370"
   },
   "outputs": [],
   "source": [
    "cb_train, target, ids = preprocess_cb(first_level_pred)"
   ]
  },
  {
   "cell_type": "code",
   "execution_count": 164,
   "id": "USuA85ZdEOKU",
   "metadata": {
    "colab": {
     "base_uri": "https://localhost:8080/",
     "height": 111
    },
    "id": "USuA85ZdEOKU",
    "outputId": "d905ec28-b5c9-485f-c6c0-0c831b4d2612"
   },
   "outputs": [
    {
     "data": {
      "text/html": [
       "<div>\n",
       "<style scoped>\n",
       "    .dataframe tbody tr th:only-of-type {\n",
       "        vertical-align: middle;\n",
       "    }\n",
       "\n",
       "    .dataframe tbody tr th {\n",
       "        vertical-align: top;\n",
       "    }\n",
       "\n",
       "    .dataframe thead th {\n",
       "        text-align: right;\n",
       "    }\n",
       "</style>\n",
       "<table border=\"1\" class=\"dataframe\">\n",
       "  <thead>\n",
       "    <tr style=\"text-align: right;\">\n",
       "      <th></th>\n",
       "      <th>relevance</th>\n",
       "      <th>age</th>\n",
       "      <th>sex</th>\n",
       "      <th>authors</th>\n",
       "      <th>year_conv</th>\n",
       "      <th>rank</th>\n",
       "    </tr>\n",
       "  </thead>\n",
       "  <tbody>\n",
       "    <tr>\n",
       "      <th>0</th>\n",
       "      <td>0.013697</td>\n",
       "      <td>55_64</td>\n",
       "      <td>0.0</td>\n",
       "      <td>Маргарита Гришаева</td>\n",
       "      <td>2015.0</td>\n",
       "      <td>11.0</td>\n",
       "    </tr>\n",
       "    <tr>\n",
       "      <th>1</th>\n",
       "      <td>0.011351</td>\n",
       "      <td>55_64</td>\n",
       "      <td>0.0</td>\n",
       "      <td>Елена Звёздная</td>\n",
       "      <td>2017.0</td>\n",
       "      <td>24.0</td>\n",
       "    </tr>\n",
       "  </tbody>\n",
       "</table>\n",
       "</div>"
      ],
      "text/plain": [
       "   relevance    age  sex             authors  year_conv  rank\n",
       "0   0.013697  55_64  0.0  Маргарита Гришаева     2015.0  11.0\n",
       "1   0.011351  55_64  0.0      Елена Звёздная     2017.0  24.0"
      ]
     },
     "execution_count": 164,
     "metadata": {},
     "output_type": "execute_result"
    }
   ],
   "source": [
    "cb_train.head(2)"
   ]
  },
  {
   "cell_type": "markdown",
   "id": "68ufIWSgEWxI",
   "metadata": {
    "id": "68ufIWSgEWxI"
   },
   "source": [
    "## Обучим Catboost"
   ]
  },
  {
   "cell_type": "code",
   "execution_count": 165,
   "id": "7OKbEBFi3cdZ",
   "metadata": {
    "id": "7OKbEBFi3cdZ"
   },
   "outputs": [],
   "source": [
    "from catboost import CatBoostClassifier"
   ]
  },
  {
   "cell_type": "code",
   "execution_count": 166,
   "id": "839a7650",
   "metadata": {
    "id": "839a7650"
   },
   "outputs": [],
   "source": [
    "catcls = CatBoostClassifier(iterations=30)"
   ]
  },
  {
   "cell_type": "code",
   "execution_count": 167,
   "id": "faf93f9a",
   "metadata": {
    "colab": {
     "base_uri": "https://localhost:8080/"
    },
    "id": "faf93f9a",
    "outputId": "dc246506-88ea-48fb-9f5e-241b4ba15028"
   },
   "outputs": [
    {
     "name": "stdout",
     "output_type": "stream",
     "text": [
      "Learning rate set to 0.5\n",
      "0:\tlearn: 0.3209359\ttest: 0.3211705\tbest: 0.3211705 (0)\ttotal: 218ms\tremaining: 6.33s\n",
      "1:\tlearn: 0.1818171\ttest: 0.1822051\tbest: 0.1822051 (1)\ttotal: 344ms\tremaining: 4.82s\n",
      "2:\tlearn: 0.1123601\ttest: 0.1128960\tbest: 0.1128960 (2)\ttotal: 390ms\tremaining: 3.51s\n",
      "3:\tlearn: 0.0743679\ttest: 0.0749064\tbest: 0.0749064 (3)\ttotal: 492ms\tremaining: 3.2s\n",
      "4:\tlearn: 0.0528413\ttest: 0.0533165\tbest: 0.0533165 (4)\ttotal: 569ms\tremaining: 2.85s\n",
      "5:\tlearn: 0.0406456\ttest: 0.0411368\tbest: 0.0411368 (5)\ttotal: 625ms\tremaining: 2.5s\n",
      "6:\tlearn: 0.0337893\ttest: 0.0341614\tbest: 0.0341614 (6)\ttotal: 681ms\tremaining: 2.24s\n",
      "7:\tlearn: 0.0296702\ttest: 0.0299764\tbest: 0.0299764 (7)\ttotal: 739ms\tremaining: 2.03s\n",
      "8:\tlearn: 0.0274677\ttest: 0.0276930\tbest: 0.0276930 (8)\ttotal: 789ms\tremaining: 1.84s\n",
      "9:\tlearn: 0.0260766\ttest: 0.0262320\tbest: 0.0262320 (9)\ttotal: 883ms\tremaining: 1.77s\n",
      "10:\tlearn: 0.0253054\ttest: 0.0254445\tbest: 0.0254445 (10)\ttotal: 983ms\tremaining: 1.7s\n",
      "11:\tlearn: 0.0248991\ttest: 0.0250445\tbest: 0.0250445 (11)\ttotal: 1.08s\tremaining: 1.62s\n",
      "12:\tlearn: 0.0246501\ttest: 0.0248230\tbest: 0.0248230 (12)\ttotal: 1.17s\tremaining: 1.53s\n",
      "13:\tlearn: 0.0245827\ttest: 0.0247624\tbest: 0.0247624 (13)\ttotal: 1.26s\tremaining: 1.44s\n",
      "14:\tlearn: 0.0244806\ttest: 0.0246099\tbest: 0.0246099 (14)\ttotal: 1.35s\tremaining: 1.35s\n",
      "15:\tlearn: 0.0244405\ttest: 0.0245871\tbest: 0.0245871 (15)\ttotal: 1.44s\tremaining: 1.26s\n",
      "16:\tlearn: 0.0243895\ttest: 0.0245589\tbest: 0.0245589 (16)\ttotal: 1.55s\tremaining: 1.19s\n",
      "17:\tlearn: 0.0243648\ttest: 0.0245449\tbest: 0.0245449 (17)\ttotal: 1.7s\tremaining: 1.13s\n",
      "18:\tlearn: 0.0243240\ttest: 0.0245222\tbest: 0.0245222 (18)\ttotal: 1.85s\tremaining: 1.07s\n",
      "19:\tlearn: 0.0242819\ttest: 0.0245086\tbest: 0.0245086 (19)\ttotal: 1.96s\tremaining: 980ms\n",
      "20:\tlearn: 0.0242391\ttest: 0.0245650\tbest: 0.0245086 (19)\ttotal: 2.06s\tremaining: 883ms\n",
      "21:\tlearn: 0.0242143\ttest: 0.0245748\tbest: 0.0245086 (19)\ttotal: 2.18s\tremaining: 792ms\n",
      "22:\tlearn: 0.0242109\ttest: 0.0245760\tbest: 0.0245086 (19)\ttotal: 2.3s\tremaining: 699ms\n",
      "23:\tlearn: 0.0241862\ttest: 0.0245686\tbest: 0.0245086 (19)\ttotal: 2.41s\tremaining: 602ms\n",
      "24:\tlearn: 0.0241747\ttest: 0.0245670\tbest: 0.0245086 (19)\ttotal: 2.5s\tremaining: 499ms\n",
      "25:\tlearn: 0.0241740\ttest: 0.0245708\tbest: 0.0245086 (19)\ttotal: 2.6s\tremaining: 401ms\n",
      "26:\tlearn: 0.0241740\ttest: 0.0245714\tbest: 0.0245086 (19)\ttotal: 2.68s\tremaining: 298ms\n",
      "27:\tlearn: 0.0241725\ttest: 0.0245716\tbest: 0.0245086 (19)\ttotal: 2.79s\tremaining: 200ms\n",
      "28:\tlearn: 0.0241716\ttest: 0.0245703\tbest: 0.0245086 (19)\ttotal: 2.87s\tremaining: 99.1ms\n",
      "29:\tlearn: 0.0241421\ttest: 0.0245727\tbest: 0.0245086 (19)\ttotal: 2.96s\tremaining: 0us\n",
      "\n",
      "bestTest = 0.0245085902\n",
      "bestIteration = 19\n",
      "\n",
      "Shrink model to first 20 iterations.\n",
      "CPU times: user 16.4 s, sys: 699 ms, total: 17.1 s\n",
      "Wall time: 4.17 s\n"
     ]
    }
   ],
   "source": [
    "%%time\n",
    "cb_fitted = catcls.fit(cb_train[first_level_pred['user_id'].isin(train_u_second)], \n",
    "                       target[first_level_pred['user_id'].isin(train_u_second)], \n",
    "                       eval_set=(cb_train[~first_level_pred['user_id'].isin(train_u_second)], \n",
    "                       target[~first_level_pred['user_id'].isin(train_u_second)]),\n",
    "                       cat_features=[1, 2, 3], \n",
    "                       early_stopping_rounds=10)"
   ]
  },
  {
   "cell_type": "code",
   "execution_count": 168,
   "id": "Q-llXX0f4l3L",
   "metadata": {
    "colab": {
     "base_uri": "https://localhost:8080/"
    },
    "id": "Q-llXX0f4l3L",
    "outputId": "849be0b1-bb19-47eb-f9e1-1c72b7a8a662"
   },
   "outputs": [
    {
     "data": {
      "text/plain": [
       "[('relevance', 75.34222184932723),\n",
       " ('age', 7.2438218854447705),\n",
       " ('rank', 5.753456611994693),\n",
       " ('authors', 4.153943012974433),\n",
       " ('year_conv', 3.8451018222114373),\n",
       " ('sex', 3.661454818047455)]"
      ]
     },
     "execution_count": 168,
     "metadata": {},
     "output_type": "execute_result"
    }
   ],
   "source": [
    "imp = list(zip(catcls.feature_names_, catcls.feature_importances_))\n",
    "imp.sort(key=lambda x: -x[1])\n",
    "imp"
   ]
  },
  {
   "cell_type": "markdown",
   "id": "4b34i1lwFWo0",
   "metadata": {
    "id": "4b34i1lwFWo0"
   },
   "source": [
    "### Получим predict"
   ]
  },
  {
   "cell_type": "code",
   "execution_count": 169,
   "id": "MxML9kZ-TOFx",
   "metadata": {
    "id": "MxML9kZ-TOFx"
   },
   "outputs": [],
   "source": [
    "first_level_pred_for_test = first_level.predict(log=train_by_date[train_by_date['user_id'].isin(test_by_date_users.values)], users=pd.Series([21], name='user_id'), k=100)\n",
    "first_level_pred_for_test['target_cb'] = 0\n",
    "cb_for_test, target_for_test, ids_for_test = preprocess_cb(first_level_pred_for_test)"
   ]
  },
  {
   "cell_type": "code",
   "execution_count": 170,
   "id": "GPKDNMUaTOFx",
   "metadata": {
    "id": "GPKDNMUaTOFx"
   },
   "outputs": [],
   "source": [
    "cb_pred = catcls.predict_proba(cb_for_test)\n",
    "ids_for_test['relevance'] = cb_pred[:, 1]\n",
    "res = filter_seen_items(train_by_date, ids_for_test)\n",
    "res = leave_top_k(res, k=K)"
   ]
  },
  {
   "cell_type": "code",
   "execution_count": 171,
   "id": "8fTjqN68TT3k",
   "metadata": {
    "colab": {
     "base_uri": "https://localhost:8080/",
     "height": 359
    },
    "id": "8fTjqN68TT3k",
    "outputId": "acbe1455-5af6-4596-9d27-1830cd62738e"
   },
   "outputs": [
    {
     "data": {
      "text/html": [
       "<div>\n",
       "<style scoped>\n",
       "    .dataframe tbody tr th:only-of-type {\n",
       "        vertical-align: middle;\n",
       "    }\n",
       "\n",
       "    .dataframe tbody tr th {\n",
       "        vertical-align: top;\n",
       "    }\n",
       "\n",
       "    .dataframe thead th {\n",
       "        text-align: right;\n",
       "    }\n",
       "</style>\n",
       "<table border=\"1\" class=\"dataframe\">\n",
       "  <thead>\n",
       "    <tr style=\"text-align: right;\">\n",
       "      <th></th>\n",
       "      <th>user_id</th>\n",
       "      <th>item_id</th>\n",
       "      <th>relevance</th>\n",
       "      <th>title</th>\n",
       "      <th>genres</th>\n",
       "      <th>authors</th>\n",
       "      <th>year</th>\n",
       "      <th>popularity</th>\n",
       "    </tr>\n",
       "  </thead>\n",
       "  <tbody>\n",
       "    <tr>\n",
       "      <th>3</th>\n",
       "      <td>21</td>\n",
       "      <td>27304</td>\n",
       "      <td>0.001568</td>\n",
       "      <td>Шестой Дозор</td>\n",
       "      <td>Городское фэнтези,Книги про вампиров</td>\n",
       "      <td>Сергей Лукьяненко</td>\n",
       "      <td>2014</td>\n",
       "      <td>161</td>\n",
       "    </tr>\n",
       "    <tr>\n",
       "      <th>2</th>\n",
       "      <td>21</td>\n",
       "      <td>56368</td>\n",
       "      <td>0.001242</td>\n",
       "      <td>Новый Дозор</td>\n",
       "      <td>Боевое фэнтези,Городское фэнтези</td>\n",
       "      <td>Сергей Лукьяненко</td>\n",
       "      <td>2012</td>\n",
       "      <td>114</td>\n",
       "    </tr>\n",
       "    <tr>\n",
       "      <th>8</th>\n",
       "      <td>21</td>\n",
       "      <td>57410</td>\n",
       "      <td>0.001228</td>\n",
       "      <td>КВАЗИ</td>\n",
       "      <td>Социальная фантастика,Детективная фантастика</td>\n",
       "      <td>Сергей Лукьяненко</td>\n",
       "      <td>2016</td>\n",
       "      <td>39</td>\n",
       "    </tr>\n",
       "    <tr>\n",
       "      <th>0</th>\n",
       "      <td>21</td>\n",
       "      <td>21461</td>\n",
       "      <td>0.001218</td>\n",
       "      <td>Самоволка</td>\n",
       "      <td>Боевая фантастика,Попаданцы</td>\n",
       "      <td>Сергей Лукьяненко,Михаил Тырин</td>\n",
       "      <td>2014</td>\n",
       "      <td>73</td>\n",
       "    </tr>\n",
       "    <tr>\n",
       "      <th>5</th>\n",
       "      <td>21</td>\n",
       "      <td>11395</td>\n",
       "      <td>0.001211</td>\n",
       "      <td>Магическая сделка</td>\n",
       "      <td>Книги про волшебников,Любовное фэнтези,Фэнтези...</td>\n",
       "      <td>Елена Звёздная</td>\n",
       "      <td>2018</td>\n",
       "      <td>175</td>\n",
       "    </tr>\n",
       "    <tr>\n",
       "      <th>6</th>\n",
       "      <td>21</td>\n",
       "      <td>28373</td>\n",
       "      <td>0.001198</td>\n",
       "      <td>Дозоры. От Ночного до Шестого (сборник)</td>\n",
       "      <td>Героическое фэнтези,Городское фэнтези</td>\n",
       "      <td>Владимир Васильев,Сергей Лукьяненко</td>\n",
       "      <td>NaN</td>\n",
       "      <td>70</td>\n",
       "    </tr>\n",
       "    <tr>\n",
       "      <th>1</th>\n",
       "      <td>21</td>\n",
       "      <td>54115</td>\n",
       "      <td>0.001166</td>\n",
       "      <td>Девушка в тумане</td>\n",
       "      <td>Зарубежные детективы,Триллеры</td>\n",
       "      <td>Донато Карризи</td>\n",
       "      <td>2015</td>\n",
       "      <td>296</td>\n",
       "    </tr>\n",
       "    <tr>\n",
       "      <th>4</th>\n",
       "      <td>21</td>\n",
       "      <td>34960</td>\n",
       "      <td>0.001144</td>\n",
       "      <td>Лабиринт отражений</td>\n",
       "      <td>Киберпанк,Научная фантастика</td>\n",
       "      <td>Сергей Лукьяненко</td>\n",
       "      <td>1996</td>\n",
       "      <td>36</td>\n",
       "    </tr>\n",
       "    <tr>\n",
       "      <th>9</th>\n",
       "      <td>21</td>\n",
       "      <td>31079</td>\n",
       "      <td>0.001137</td>\n",
       "      <td>Линия Грез</td>\n",
       "      <td>Социальная фантастика,Космическая фантастика,Н...</td>\n",
       "      <td>Сергей Лукьяненко</td>\n",
       "      <td>1995</td>\n",
       "      <td>33</td>\n",
       "    </tr>\n",
       "    <tr>\n",
       "      <th>7</th>\n",
       "      <td>21</td>\n",
       "      <td>29104</td>\n",
       "      <td>0.001126</td>\n",
       "      <td>Печать Сумрака</td>\n",
       "      <td>Боевое фэнтези,Городское фэнтези</td>\n",
       "      <td>Сергей Лукьяненко,Иван Кузнецов</td>\n",
       "      <td>2014</td>\n",
       "      <td>51</td>\n",
       "    </tr>\n",
       "  </tbody>\n",
       "</table>\n",
       "</div>"
      ],
      "text/plain": [
       "   user_id  item_id  relevance                                    title  \\\n",
       "3       21    27304   0.001568                             Шестой Дозор   \n",
       "2       21    56368   0.001242                              Новый Дозор   \n",
       "8       21    57410   0.001228                                    КВАЗИ   \n",
       "0       21    21461   0.001218                                Самоволка   \n",
       "5       21    11395   0.001211                        Магическая сделка   \n",
       "6       21    28373   0.001198  Дозоры. От Ночного до Шестого (сборник)   \n",
       "1       21    54115   0.001166                         Девушка в тумане   \n",
       "4       21    34960   0.001144                       Лабиринт отражений   \n",
       "9       21    31079   0.001137                               Линия Грез   \n",
       "7       21    29104   0.001126                           Печать Сумрака   \n",
       "\n",
       "                                              genres  \\\n",
       "3               Городское фэнтези,Книги про вампиров   \n",
       "2                   Боевое фэнтези,Городское фэнтези   \n",
       "8       Социальная фантастика,Детективная фантастика   \n",
       "0                        Боевая фантастика,Попаданцы   \n",
       "5  Книги про волшебников,Любовное фэнтези,Фэнтези...   \n",
       "6              Героическое фэнтези,Городское фэнтези   \n",
       "1                      Зарубежные детективы,Триллеры   \n",
       "4                       Киберпанк,Научная фантастика   \n",
       "9  Социальная фантастика,Космическая фантастика,Н...   \n",
       "7                   Боевое фэнтези,Городское фэнтези   \n",
       "\n",
       "                               authors  year  popularity  \n",
       "3                    Сергей Лукьяненко  2014         161  \n",
       "2                    Сергей Лукьяненко  2012         114  \n",
       "8                    Сергей Лукьяненко  2016          39  \n",
       "0       Сергей Лукьяненко,Михаил Тырин  2014          73  \n",
       "5                       Елена Звёздная  2018         175  \n",
       "6  Владимир Васильев,Сергей Лукьяненко   NaN          70  \n",
       "1                       Донато Карризи  2015         296  \n",
       "4                    Сергей Лукьяненко  1996          36  \n",
       "9                    Сергей Лукьяненко  1995          33  \n",
       "7      Сергей Лукьяненко,Иван Кузнецов  2014          51  "
      ]
     },
     "execution_count": 171,
     "metadata": {},
     "output_type": "execute_result"
    }
   ],
   "source": [
    "res.merge(items_with_pop, on='item_id').sort_values('relevance', ascending=False)"
   ]
  },
  {
   "cell_type": "markdown",
   "id": "im4vxWIw5cEx",
   "metadata": {
    "id": "im4vxWIw5cEx"
   },
   "source": [
    "Чтобы двухуровневая модель стала работать лучше коллаборативных моделей, обученных на полных данных, нужно:\n",
    "- чтобы данных было достаточно\n",
    "- подобрать модели первого уровня, дающие хороший recall (много релевантных кандидатов) как для холодных, так и для теплых пользователей\n",
    "- подумать над задачей и областью и сгенерировать дополнительные признаки. Почитать о том, какие признаки можно генерировать для обучения двухуровневой модели на задачу рекомендаций можно в статьях с решениями конкурсов из раздела про LightFM.\n",
    "\n",
    "Примеры признаков для MTS библиотеки:\n",
    "- как давно последний раз читали эту книгу\n",
    "- доля книг этого автора от общего числа прочтенных\n",
    "- популярность книги всего/за последнюю неделю/месяц\n",
    "- вектора пользователей и айтемов из модели 1 уровня\n",
    "- падает или растет популярность книги за последнее время\n",
    "\n",
    "Возможность сгенерировать признаки и использовать на первом уровне не одну модель, а несколько, еще ждет вас в лабе/конкурсе."
   ]
  },
  {
   "cell_type": "markdown",
   "id": "45a3d2f6",
   "metadata": {
    "id": "45a3d2f6"
   },
   "source": [
    "# 9 Нейросети"
   ]
  },
  {
   "cell_type": "markdown",
   "id": "05b0957f",
   "metadata": {},
   "source": [
    "Практически любые нейросетевые архитектуры можно перенести в рекомендации\n",
    "\n",
    "![nlp_recsys](https://miro.medium.com/max/1400/0*BYMSTEtMuf8Blk34)\n",
    "\n",
    "[source](https://nvidia-merlin.github.io/Transformers4Rec/main/why_transformers4rec.html)\n",
    "\n",
    "- Нейроколлаборативная матричная факторизация\n",
    "- Embeddings + MLP/кастомные слои на признаках, обучающиеся на вероятность клика/релевантность: DSSM, DLRM, Wide&Deep, DeepFM, Deep&Cross)\n",
    "- сверточные: Caser\n",
    "- рекуррентные: GRU4Rec, \n",
    "- трансформеры: Bert4Rec, Transformers4Rec\n",
    "- автоэнкодеры: MultVAE, RecVAE"
   ]
  },
  {
   "cell_type": "markdown",
   "id": "00713a59",
   "metadata": {},
   "source": [
    "## MultVAE"
   ]
  },
  {
   "cell_type": "markdown",
   "id": "x2L-XisUPRYb",
   "metadata": {
    "id": "x2L-XisUPRYb"
   },
   "source": [
    "Почему MultVAE? \n",
    "- Авторы MultVAE в своей [статье](https://arxiv.org/pdf/1802.05814.pdf) 2018 года писали, что MultVAE дает хорошее качество рекомендаций по сравнению с классическими методами. В статье 2019 года [Are We Really Making Much Progress? A Worrying Analysis of Recent Neural Recommendation Approaches](https://arxiv.org/pdf/1907.06902.pdf) о воспроизводимости результатов это было подтверждено. Предлагаю им поверить)\n",
    "- Выглядит элегантно + с ним часто сравниваются в статьях!"
   ]
  },
  {
   "cell_type": "markdown",
   "id": "U2pQrRL6Sma_",
   "metadata": {
    "id": "U2pQrRL6Sma_"
   },
   "source": [
    "![multvae](https://sberbank-ai-lab.github.io/RePlay/_images/vae-gaussian.png)"
   ]
  },
  {
   "cell_type": "markdown",
   "id": "fOnYZ5rTb48K",
   "metadata": {
    "id": "fOnYZ5rTb48K"
   },
   "source": [
    "Подаем на вход:\n",
    "- Историю пользователя (вектор из 0 и единиц)\n",
    "\n",
    "Хотим получить:\n",
    "- Восстановленный x, содержащий релевантности для объектов, с которыми не было взаимодействий (берем Softmax от выходов decoder-а)"
   ]
  },
  {
   "cell_type": "code",
   "execution_count": 172,
   "id": "12b8aa61",
   "metadata": {},
   "outputs": [],
   "source": [
    "# ! pip install torch\n",
    "# ! pip install tqdm"
   ]
  },
  {
   "cell_type": "code",
   "execution_count": 173,
   "id": "pdaZusZ6T-Pv",
   "metadata": {
    "id": "pdaZusZ6T-Pv"
   },
   "outputs": [],
   "source": [
    "import torch\n",
    "from torch import nn\n",
    "from torch.nn import functional as F\n",
    "from torch.utils.data import Dataset\n",
    "from torch.utils.data import DataLoader\n",
    "\n",
    "from scipy.sparse import csr_matrix\n",
    "from sklearn.model_selection import train_test_split"
   ]
  },
  {
   "cell_type": "markdown",
   "id": "b9j1jkb8FQwm",
   "metadata": {
    "id": "b9j1jkb8FQwm"
   },
   "source": [
    "### Подготовка данных"
   ]
  },
  {
   "cell_type": "code",
   "execution_count": 174,
   "id": "lWCjHr9wT-Pv",
   "metadata": {
    "id": "lWCjHr9wT-Pv"
   },
   "outputs": [],
   "source": [
    "class MultVAEDataset(Dataset):\n",
    "    def __init__(self, X, item_count):\n",
    "        self.item_count = item_count\n",
    "        # introduce new user ids to reduce sparse matrix size\n",
    "        self.user_mapping = {u_id: i for i, u_id in enumerate(X[\"user_id\"].unique())}\n",
    "        self.inverse_users_mapping ={i: u_id for u_id, i in self.user_mapping.items()}\n",
    "        self.X = csr_matrix((\n",
    "                np.ones(len(X[\"user_id\"])),\n",
    "                (X[\"user_id\"].map(self.user_mapping).values, X[\"item_id\"].values)),\n",
    "                shape=(len(self.user_mapping), self.item_count))\n",
    "        \n",
    "        \n",
    "    def __len__(self):\n",
    "        return len(self.user_mapping)\n",
    "\n",
    "    def get_vector(self, u_id):\n",
    "        return self.X[self.user_mapping[u_id]].toarray().ravel().astype('float32')\n",
    "\n",
    "    def __getitem__(self, idx):\n",
    "        return self.X[idx].toarray().ravel().astype('float32'), self.inverse_users_mapping[idx]"
   ]
  },
  {
   "cell_type": "code",
   "execution_count": 175,
   "id": "8tuzMO85T-Pq",
   "metadata": {
    "id": "8tuzMO85T-Pq"
   },
   "outputs": [],
   "source": [
    "train_u_mult, val_u_mult = train_test_split(train_by_date['user_id'].unique(), test_size=0.2, random_state=SEED)\n",
    "X_train = train_by_date[train_by_date['user_id'].isin(train_u_mult)]\n",
    "X_val = train_by_date[train_by_date['user_id'].isin(val_u_mult)]"
   ]
  },
  {
   "cell_type": "code",
   "execution_count": 176,
   "id": "6iPEisldT-Pw",
   "metadata": {
    "id": "6iPEisldT-Pw"
   },
   "outputs": [],
   "source": [
    "vector_len = train_by_date['item_id'].max() + 1\n",
    "train_dataset = MultVAEDataset(X_train, vector_len)\n",
    "val_dataset = MultVAEDataset(X_val, vector_len)"
   ]
  },
  {
   "cell_type": "code",
   "execution_count": 177,
   "id": "Np8hJSzMT-Pw",
   "metadata": {
    "id": "Np8hJSzMT-Pw"
   },
   "outputs": [],
   "source": [
    "batch_size = 1024\n",
    "train_dl = DataLoader(train_dataset, batch_size=batch_size, shuffle=True)\n",
    "valid_dl = DataLoader(val_dataset, batch_size=batch_size, shuffle=True)"
   ]
  },
  {
   "cell_type": "code",
   "execution_count": 178,
   "id": "uY97Doq1HnfV",
   "metadata": {
    "colab": {
     "base_uri": "https://localhost:8080/"
    },
    "id": "uY97Doq1HnfV",
    "outputId": "f3523086-9589-4e47-be5b-ee06df5ed2c7"
   },
   "outputs": [
    {
     "name": "stdout",
     "output_type": "stream",
     "text": [
      "CPU times: user 279 ms, sys: 179 ms, total: 458 ms\n",
      "Wall time: 384 ms\n"
     ]
    }
   ],
   "source": [
    "%%time\n",
    "test_b = next(iter(train_dl))\n",
    "assert test_b[0].size() == (batch_size, vector_len)"
   ]
  },
  {
   "cell_type": "markdown",
   "id": "qz2qxMjuFhJi",
   "metadata": {
    "id": "qz2qxMjuFhJi"
   },
   "source": [
    "### Архитектура сетки\n",
    "\n",
    "#### Задание: \n",
    "Если вы еще живы, набросайте свою архитектуру согласно картинке и статье. Можно использовать такие размерности линейных слоев:\n",
    "\n",
    "энкодер: I(число item-ов)→600→200*2\n",
    "\n",
    "декодер: 200→600→I.\n",
    "\n",
    "Получив из энкодера вектор длины 200*2, используйте первые 200 значений как $\\mu$ многомерного распределения, а оставшиеся как $log(variance)$.\n",
    "Обратите внимание, что мы сэмплируем латентное представление во время обучения, а для inference используем только значения $\\mu$.\n",
    "\n",
    "Выделите encoder/decoder как отдельные атрибуты модели. "
   ]
  },
  {
   "cell_type": "code",
   "execution_count": 179,
   "id": "tOD5vDPLtEdd",
   "metadata": {
    "id": "tOD5vDPLtEdd"
   },
   "outputs": [],
   "source": [
    "class MultVAE(nn.Module):\n",
    "    def __init__(self, input_size, latent_size, drop=0.2):\n",
    "        self.latent = latent_size\n",
    "        super().__init__()\n",
    "        # ======= YOUR CODE HERE ==========\n",
    "        self.encoder = nn.Sequential(\n",
    "                    nn.Dropout(drop),\n",
    "                    nn.Linear(input_size, latent_size * 4),\n",
    "                    nn.ReLU(),\n",
    "                    nn.Linear(latent_size * 4, latent_size * 2)\n",
    "        )\n",
    "        # =================================\n",
    "        \n",
    "        # ======= YOUR CODE HERE ==========\n",
    "        self.decoder = nn.Sequential(\n",
    "            nn.Linear(latent_size, latent_size * 4),\n",
    "            nn.ReLU(),\n",
    "            nn.Linear(latent_size * 4, input_size),\n",
    "        )\n",
    "        # =================================\n",
    "        \n",
    "    def encode(self, batch):\n",
    "        x = F.normalize(batch, dim=1)\n",
    "        mu_logvar = self.encoder(x)\n",
    "        mu = mu_logvar[:, : self.latent]\n",
    "        logvar = mu_logvar[:, self.latent :]\n",
    "        return mu, logvar\n",
    "\n",
    "    def decode(self, batch):\n",
    "        return self.decoder(batch)\n",
    "\n",
    "\n",
    "    def forward(self, batch):\n",
    "        # ======= YOUR CODE HERE ==========\n",
    "        mu, logvar = self.encode(batch)\n",
    "        if self.training:\n",
    "            std = torch.exp(0.5 * logvar)\n",
    "            eps = torch.randn_like(std)\n",
    "            latent = mu + std * eps\n",
    "        else:\n",
    "            latent = mu\n",
    "        output = self.decode(latent)\n",
    "        # ======= YOUR CODE HERE ==========\n",
    "        return output, mu, logvar"
   ]
  },
  {
   "cell_type": "markdown",
   "id": "7-_Mt_MaY_4S",
   "metadata": {
    "id": "7-_Mt_MaY_4S"
   },
   "source": [
    "### loss\n",
    "\n",
    "![multvae](https://sberbank-ai-lab.github.io/RePlay/_images/vae-gaussian.png)\n",
    "\n",
    "В модели используется evidence lower bound(ELBO) loss function с гиперпараметром $\\beta$, позволяющем настраивать степень регуляризации (влияния KL-дивергенции). Почему loss такой и как это связано с максимизацией правдоподобия, можно почитать [тут](https://colab.research.google.com/github/jrzaurin/infinitoml/blob/master/_notebooks/2020-05-15-mult-vae.ipynb).\n",
    "\n",
    "\n",
    "ELBO: \n",
    "\n",
    "$$\n",
    "\\mathcal L(\\mathbf{\\text{X}}^M, \\phi,\\theta) \\simeq \\frac{1}{M} \\sum_{u=1}^{M} - D_{KL}\\left(q_\\phi(\\textbf{z}_u\\vert \\textbf{x}_u) \\| p_\\theta(\\textbf{z}_u) \\right) + \\log  p_{\\theta}(\\mathbf{x}_u \\vert \\mathbf{z}_u)\n",
    "$$\n",
    "\n",
    "\n",
    "Распределение для $z_u$ - стандартное нормальное.\n",
    "$$p(\\textbf{z}_u) \\sim \\mathcal N(0, I)$$\n",
    "\n",
    "Пусть мы получаем на выходе сети $\\pi(\\mathbf{z}_u)$:\n",
    "$$\\pi(\\mathbf{z}_u) = Softmax(MLP(\\mathbf{z}_u))$$\n",
    "\n",
    "и $x_u$ имеет мультиномиальное распределение, где $N_u$ - общее число item-ов, оцененное пользователем, $\\pi(\\mathbf{z}_u)$ - вектор вероятностей выбора item-ов:\n",
    "$$\n",
    "\\textbf{x}_u \\sim \\text{Mult}(N_u, \\pi(\\mathbf{z}_u))\n",
    "$$\n",
    "\n",
    "Первый компонент функции потерь представим в виде:\n",
    "$$\n",
    "\\begin{equation*}\n",
    "\\log(p_{\\theta}(\\textbf{x}_u\\vert \\textbf{z}_u)) = \\mathbf{x}_u \\log(\\pi(\\mathbf{z}_u))\n",
    "\\end{equation*}\n",
    "$$\n",
    "\n",
    "\n",
    "Второй - KL-дивергенция для двух нормальных распределений, одно из которых стандартное:\n",
    "$$KL(q_\\phi(z | x) || p(z)) = -\\frac{1}{2}\\sum_{j=1}^{dimZ}(1+\n",
    "log(\\sigma_j^2) - \\mu_j^2-\\sigma_j^2)$$\n",
    "\n",
    "\n",
    "Получим такую функцию потерь, которую и предлагается закодить:\n",
    "$$\n",
    "Loss = -\\frac{1}{M} \\sum_{u=1}^{M} \\left[ \\mathbf{x}_u \\log(\\pi(\\mathbf{z}_u)) + \\frac{\\beta}{2}  \\sum_{j=1}^{dimZ}( 1 + \\log(\\sigma_{uj}^2) - \\mu_{uj}^2 - \\sigma_{uj}^2 )  \\right]\n",
    "$$\n",
    "\n",
    "\n",
    "\n",
    "\n",
    "Более развернуто и строго о loss для MultVAE можно почитать в [статье](https://arxiv.org/pdf/1802.05814.pdf), [в подробном туториале](https://colab.research.google.com/github/jrzaurin/infinitoml/blob/master/_notebooks/2020-05-15-mult-vae.ipynb) и [документации к одной из реализаций](https://sberbank-ai-lab.github.io/RePlay/pages/modules/models.html#mult-vae)."
   ]
  },
  {
   "cell_type": "code",
   "execution_count": 180,
   "id": "90119b94",
   "metadata": {
    "id": "90119b94"
   },
   "outputs": [],
   "source": [
    "def mult_vae_loss(y_pred, y_true, mu, logvar, anneal):\n",
    "    # ======= YOUR CODE HERE ==========\n",
    "    log_softmax_var = F.log_softmax(y_pred, dim=1)\n",
    "    neg_ll = -(log_softmax_var * y_true).sum(dim=1).mean()\n",
    "    kld = (\n",
    "            -0.5\n",
    "            * torch.sum(\n",
    "                1 + logvar - mu.pow(2) - logvar.exp(),\n",
    "                dim=1,\n",
    "            ).mean()\n",
    "        )\n",
    "    # =================================\n",
    "    return neg_ll + anneal * kld"
   ]
  },
  {
   "cell_type": "markdown",
   "id": "0LsOYJRWcbt_",
   "metadata": {
    "id": "0LsOYJRWcbt_"
   },
   "source": [
    "### Обучение/валидация"
   ]
  },
  {
   "cell_type": "code",
   "execution_count": 181,
   "id": "A9kV_z7FbOaU",
   "metadata": {
    "id": "A9kV_z7FbOaU"
   },
   "outputs": [],
   "source": [
    "from tqdm.notebook import tqdm\n",
    "ANNEAL = 0.2\n",
    "\n",
    "def train(model, optimizer, loader, criterion):\n",
    "    model.train()\n",
    "    losses_tr = []\n",
    "    for batch, ids in tqdm(loader):\n",
    "        batch = batch.to(device)\n",
    "        \n",
    "        optimizer.zero_grad()\n",
    "        out, mu, logvar = model(batch)\n",
    "        loss = criterion(out, batch, mu, logvar, ANNEAL)\n",
    "        \n",
    "        loss.backward()\n",
    "        optimizer.step()\n",
    "        losses_tr.append(loss.item()) \n",
    "    \n",
    "    return model, optimizer, np.mean(losses_tr)\n",
    "\n",
    "def val(model, loader, criterion):\n",
    "    model.eval()\n",
    "    losses_val = []\n",
    "    with torch.no_grad():\n",
    "        for batch, ids in tqdm(loader):\n",
    "            batch = batch.to(device)\n",
    "            \n",
    "            out, mu, logvar = model(batch)\n",
    "            loss = criterion(out, batch, mu, logvar, ANNEAL)\n",
    "\n",
    "            losses_val.append(loss.item())\n",
    "    \n",
    "    return np.mean(losses_val)"
   ]
  },
  {
   "cell_type": "markdown",
   "id": "DwsKFWSXckv0",
   "metadata": {
    "id": "DwsKFWSXckv0"
   },
   "source": [
    "### Цикл обучения"
   ]
  },
  {
   "cell_type": "code",
   "execution_count": 182,
   "id": "R59UFO8GbqFR",
   "metadata": {
    "id": "R59UFO8GbqFR"
   },
   "outputs": [],
   "source": [
    "import matplotlib.pyplot as plt\n",
    "from IPython.display import clear_output\n",
    "\n",
    "\n",
    "def get_lr(optimizer):\n",
    "    for param_group in optimizer.param_groups:\n",
    "        return param_group['lr']\n",
    "    \n",
    "\n",
    "def learning_loop(model, optimizer, train_loader, val_loader, criterion, scheduler=None, min_lr=None, epochs=10, val_every=1, draw_every=1, separate_show=False):\n",
    "    losses = {'train': [], 'val': []}\n",
    "\n",
    "    for epoch in range(1, epochs+1):\n",
    "        print(f'#{epoch}/{epochs}:')\n",
    "        model, optimizer, loss = train(model, optimizer, train_loader, criterion)\n",
    "        losses['train'].append(loss)\n",
    "\n",
    "        if not (epoch % val_every):\n",
    "            loss = val(model, val_loader, criterion)\n",
    "            losses['val'].append(loss)\n",
    "            if scheduler:\n",
    "                scheduler.step(loss)\n",
    "\n",
    "        if not (epoch % draw_every):\n",
    "            clear_output(True)\n",
    "            fig, ax = plt.subplots(1, 2 if separate_show else 1, figsize=(20, 10))\n",
    "            fig.suptitle(f'#{epoch}/{epochs}:')\n",
    "\n",
    "            if separate_show:\n",
    "                plt.subplot(121)\n",
    "                plt.title('loss on train')\n",
    "            # plt.yscale('log')\n",
    "            plt.plot(losses['train'], 'r.-', label='train')\n",
    "            plt.legend()\n",
    "\n",
    "            if separate_show:\n",
    "                plt.subplot(122)\n",
    "                plt.title('loss on validation')\n",
    "            else:\n",
    "                plt.title('losses')\n",
    "            plt.plot(losses['val'], 'g.-', label='val')\n",
    "            plt.legend()\n",
    "            \n",
    "            plt.show()\n",
    "        \n",
    "        if min_lr and get_lr(optimizer) <= min_lr:\n",
    "            print(f'Learning process ended with early stop after epoch {epoch}')\n",
    "            break\n",
    "    \n",
    "    return model, optimizer, losses"
   ]
  },
  {
   "cell_type": "code",
   "execution_count": 183,
   "id": "rFqEtbiyTbdt",
   "metadata": {
    "id": "rFqEtbiyTbdt"
   },
   "outputs": [],
   "source": [
    "device = torch.device('cuda:0') if torch.cuda.is_available() else torch.device('cpu')\n",
    "\n",
    "model = MultVAE(vector_len, 300)\n",
    "model = model.to(device)\n",
    "\n",
    "optimizer = torch.optim.Adam(model.parameters(), lr=1e-3)"
   ]
  },
  {
   "cell_type": "code",
   "execution_count": 184,
   "id": "rxpoqduhTbdu",
   "metadata": {
    "colab": {
     "base_uri": "https://localhost:8080/",
     "height": 585
    },
    "id": "rxpoqduhTbdu",
    "outputId": "874d1888-9d0b-4d92-8ab5-196f63abe8d3"
   },
   "outputs": [
    {
     "data": {
      "image/png": "[encoded data removed]",
      "text/plain": [
       "<Figure size 1440x720 with 1 Axes>"
      ]
     },
     "metadata": {
      "needs_background": "light"
     },
     "output_type": "display_data"
    }
   ],
   "source": [
    "model, optimizer, losses = learning_loop(model=model, \n",
    "              optimizer=optimizer, \n",
    "              train_loader=train_dl, \n",
    "              val_loader=valid_dl, \n",
    "              criterion=mult_vae_loss, \n",
    "              scheduler=torch.optim.lr_scheduler.ReduceLROnPlateau(optimizer, mode='min', factor=0.25, patience=4, threshold=0.001, verbose=True), \n",
    "              min_lr=1e-6, \n",
    "              epochs=20, \n",
    "              val_every=1, \n",
    "              draw_every=1, \n",
    "              separate_show=False)"
   ]
  },
  {
   "cell_type": "markdown",
   "id": "jKl3m4Yjp-pH",
   "metadata": {
    "id": "jKl3m4Yjp-pH"
   },
   "source": [
    "Это упрощенная реализация модели, для улучшения результата можно заняться, например, подбором параметров или настройкой anneal по расписанию."
   ]
  },
  {
   "cell_type": "code",
   "execution_count": 185,
   "id": "ADDulRbFk-6L",
   "metadata": {
    "id": "ADDulRbFk-6L"
   },
   "outputs": [],
   "source": [
    "seen = train_by_date[train_by_date['user_id'] == 21].shape[0]\n",
    "output= model(torch.tensor(train_dataset.get_vector(21)).reshape(1, -1).to(device))[0].detach().cpu().numpy().flatten()\n",
    "ids = np.argpartition(output, -(seen + K))[-(seen + K):]\n",
    "rel = output[ids]\n",
    "res = pd.DataFrame({'item_id' : ids, 'relevance': rel})\n",
    "res['user_id'] = 21\n",
    "pred_21 = filter_seen_items(X_train, res)\n",
    "pred_21 = leave_top_k(pred_21, K)"
   ]
  },
  {
   "cell_type": "code",
   "execution_count": 186,
   "id": "Vs_VsibGo-Vp",
   "metadata": {
    "colab": {
     "base_uri": "https://localhost:8080/",
     "height": 529
    },
    "id": "Vs_VsibGo-Vp",
    "outputId": "25d6ca94-73c3-4dc3-90e0-23b0a2ebb1e6"
   },
   "outputs": [
    {
     "data": {
      "text/html": [
       "<div>\n",
       "<style scoped>\n",
       "    .dataframe tbody tr th:only-of-type {\n",
       "        vertical-align: middle;\n",
       "    }\n",
       "\n",
       "    .dataframe tbody tr th {\n",
       "        vertical-align: top;\n",
       "    }\n",
       "\n",
       "    .dataframe thead th {\n",
       "        text-align: right;\n",
       "    }\n",
       "</style>\n",
       "<table border=\"1\" class=\"dataframe\">\n",
       "  <thead>\n",
       "    <tr style=\"text-align: right;\">\n",
       "      <th></th>\n",
       "      <th>item_id</th>\n",
       "      <th>relevance</th>\n",
       "      <th>user_id</th>\n",
       "      <th>title</th>\n",
       "      <th>genres</th>\n",
       "      <th>authors</th>\n",
       "      <th>year</th>\n",
       "      <th>year_conv</th>\n",
       "    </tr>\n",
       "  </thead>\n",
       "  <tbody>\n",
       "    <tr>\n",
       "      <th>4</th>\n",
       "      <td>19477</td>\n",
       "      <td>2.361789</td>\n",
       "      <td>21</td>\n",
       "      <td>Заклинатели</td>\n",
       "      <td>Героическое фэнтези,Боевое фэнтези,Книги про в...</td>\n",
       "      <td>Алексей Пехов,Наталья Турчанинова,Елена Бычкова</td>\n",
       "      <td>2011</td>\n",
       "      <td>2011.0</td>\n",
       "    </tr>\n",
       "    <tr>\n",
       "      <th>9</th>\n",
       "      <td>1036</td>\n",
       "      <td>2.305557</td>\n",
       "      <td>21</td>\n",
       "      <td>Искатели ветра</td>\n",
       "      <td>Героическое фэнтези,Боевое фэнтези,Книги про в...</td>\n",
       "      <td>Алексей Пехов</td>\n",
       "      <td>2005</td>\n",
       "      <td>2005.0</td>\n",
       "    </tr>\n",
       "    <tr>\n",
       "      <th>6</th>\n",
       "      <td>41344</td>\n",
       "      <td>2.179372</td>\n",
       "      <td>21</td>\n",
       "      <td>Ветер полыни</td>\n",
       "      <td>Героическое фэнтези,Боевое фэнтези,Книги про в...</td>\n",
       "      <td>Алексей Пехов</td>\n",
       "      <td>2006</td>\n",
       "      <td>2006.0</td>\n",
       "    </tr>\n",
       "    <tr>\n",
       "      <th>8</th>\n",
       "      <td>12691</td>\n",
       "      <td>1.979916</td>\n",
       "      <td>21</td>\n",
       "      <td>Ловушка для духа</td>\n",
       "      <td>Героическое фэнтези,Боевое фэнтези,Книги про в...</td>\n",
       "      <td>Алексей Пехов,Наталья Турчанинова,Елена Бычкова</td>\n",
       "      <td>2016</td>\n",
       "      <td>2016.0</td>\n",
       "    </tr>\n",
       "    <tr>\n",
       "      <th>7</th>\n",
       "      <td>42917</td>\n",
       "      <td>1.893412</td>\n",
       "      <td>21</td>\n",
       "      <td>Особый почтовый</td>\n",
       "      <td>Героическое фэнтези,Книги про волшебников</td>\n",
       "      <td>Алексей Пехов</td>\n",
       "      <td>2006</td>\n",
       "      <td>2006.0</td>\n",
       "    </tr>\n",
       "    <tr>\n",
       "      <th>5</th>\n",
       "      <td>6642</td>\n",
       "      <td>1.806769</td>\n",
       "      <td>21</td>\n",
       "      <td>Клан Белого Волка</td>\n",
       "      <td>Героическое фэнтези,Юмористическое фэнтези</td>\n",
       "      <td>Андрей Белянин</td>\n",
       "      <td>2016</td>\n",
       "      <td>2016.0</td>\n",
       "    </tr>\n",
       "    <tr>\n",
       "      <th>3</th>\n",
       "      <td>10074</td>\n",
       "      <td>1.775588</td>\n",
       "      <td>21</td>\n",
       "      <td>Ветер и искры (сборник)</td>\n",
       "      <td>Героическое фэнтези,Боевое фэнтези,Книги про в...</td>\n",
       "      <td>Алексей Пехов</td>\n",
       "      <td>2005-2008</td>\n",
       "      <td>2005.0</td>\n",
       "    </tr>\n",
       "    <tr>\n",
       "      <th>1</th>\n",
       "      <td>52265</td>\n",
       "      <td>1.748888</td>\n",
       "      <td>21</td>\n",
       "      <td>Жнецы ветра</td>\n",
       "      <td>Героическое фэнтези,Боевое фэнтези,Книги про в...</td>\n",
       "      <td>Алексей Пехов</td>\n",
       "      <td>2008</td>\n",
       "      <td>2008.0</td>\n",
       "    </tr>\n",
       "    <tr>\n",
       "      <th>0</th>\n",
       "      <td>31099</td>\n",
       "      <td>1.702055</td>\n",
       "      <td>21</td>\n",
       "      <td>Ловцы удачи</td>\n",
       "      <td>Боевое фэнтези</td>\n",
       "      <td>Алексей Пехов</td>\n",
       "      <td>2012</td>\n",
       "      <td>2012.0</td>\n",
       "    </tr>\n",
       "    <tr>\n",
       "      <th>2</th>\n",
       "      <td>29966</td>\n",
       "      <td>1.529413</td>\n",
       "      <td>21</td>\n",
       "      <td>Замок Белого Волка</td>\n",
       "      <td>Героическое фэнтези,Юмористическое фэнтези</td>\n",
       "      <td>Андрей Белянин</td>\n",
       "      <td>2013</td>\n",
       "      <td>2013.0</td>\n",
       "    </tr>\n",
       "  </tbody>\n",
       "</table>\n",
       "</div>"
      ],
      "text/plain": [
       "   item_id  relevance  user_id                    title  \\\n",
       "4    19477   2.361789       21              Заклинатели   \n",
       "9     1036   2.305557       21           Искатели ветра   \n",
       "6    41344   2.179372       21             Ветер полыни   \n",
       "8    12691   1.979916       21         Ловушка для духа   \n",
       "7    42917   1.893412       21          Особый почтовый   \n",
       "5     6642   1.806769       21        Клан Белого Волка   \n",
       "3    10074   1.775588       21  Ветер и искры (сборник)   \n",
       "1    52265   1.748888       21              Жнецы ветра   \n",
       "0    31099   1.702055       21              Ловцы удачи   \n",
       "2    29966   1.529413       21       Замок Белого Волка   \n",
       "\n",
       "                                              genres  \\\n",
       "4  Героическое фэнтези,Боевое фэнтези,Книги про в...   \n",
       "9  Героическое фэнтези,Боевое фэнтези,Книги про в...   \n",
       "6  Героическое фэнтези,Боевое фэнтези,Книги про в...   \n",
       "8  Героическое фэнтези,Боевое фэнтези,Книги про в...   \n",
       "7          Героическое фэнтези,Книги про волшебников   \n",
       "5         Героическое фэнтези,Юмористическое фэнтези   \n",
       "3  Героическое фэнтези,Боевое фэнтези,Книги про в...   \n",
       "1  Героическое фэнтези,Боевое фэнтези,Книги про в...   \n",
       "0                                     Боевое фэнтези   \n",
       "2         Героическое фэнтези,Юмористическое фэнтези   \n",
       "\n",
       "                                           authors       year  year_conv  \n",
       "4  Алексей Пехов,Наталья Турчанинова,Елена Бычкова       2011     2011.0  \n",
       "9                                    Алексей Пехов       2005     2005.0  \n",
       "6                                    Алексей Пехов       2006     2006.0  \n",
       "8  Алексей Пехов,Наталья Турчанинова,Елена Бычкова       2016     2016.0  \n",
       "7                                    Алексей Пехов       2006     2006.0  \n",
       "5                                   Андрей Белянин       2016     2016.0  \n",
       "3                                    Алексей Пехов  2005-2008     2005.0  \n",
       "1                                    Алексей Пехов       2008     2008.0  \n",
       "0                                    Алексей Пехов       2012     2012.0  \n",
       "2                                   Андрей Белянин       2013     2013.0  "
      ]
     },
     "execution_count": 186,
     "metadata": {},
     "output_type": "execute_result"
    }
   ],
   "source": [
    "pred_21.merge(i_features, on='item_id').sort_values('relevance', ascending=False)"
   ]
  },
  {
   "cell_type": "markdown",
   "id": "7e4caefc",
   "metadata": {},
   "source": [
    "**UPD от 5.04.2022:** Почему нет метрик? \n",
    "\n",
    "Для MultVAE и двухуровневой модели мы уже не считали метрики для тестовой выборки, потому что в этих блоках семинара поменялась задача — хотелось посмотреть на архитектуру и логику реализации отдельных частей кода, а не запустить \"из коробки\" библиотечную модель, примерно поняв, как она работает.\n",
    "\n",
    "Чтобы посчитать метрики MultVAE на нашем датасете можно:\n",
    "- Настроить расписание lr и сохранение лучшей модели в цикле обучения\n",
    "- Возможное улучшение: Дополнительно отслеживать не только loss на валидации (т.к. он слабо связан с задачей рекомендаций), но и метрику качества (NDCG/MAP), чтобы выбрать лучшую модель\n",
    "- Дописать predict моделью на группу пользователей по аналогии с предыдущими моделями, обернутыми в класс.\n",
    "\n",
    "Или попробовать запустить одну из готовых реализаций, например, из [RecBole](https://recbole.io/docs/user_guide/model/general/multivae.html) или [RePlay](https://sberbank-ai-lab.github.io/RePlay/pages/modules/models.html#mult-vae)."
   ]
  },
  {
   "cell_type": "markdown",
   "id": "KyyxYbmv4zk-",
   "metadata": {
    "id": "KyyxYbmv4zk-"
   },
   "source": [
    "# Выводы\n",
    "- мы поговорили про особенности задачи, метрики и разнообразные требования к рекомендательным системам\n",
    "- получили примеры кода для моделей и подсчета метрик, которые могут быть полезны в лабе и конкурсе\n",
    "- попробовали SVD, LightFM\n",
    "- поговорили немного про двухуровневые архитектуры\n",
    "- поняли, что рекомендательные системы — это не только матричная факторизация. Можно учить нейронки, хотя до сих пор в конкурсах часто побеждает бустинг со сложной генерацией признаков.\n",
    "- все архитектуры рекомендательных систем уже реализовали и выложили на github до нас, и надо просто найти нужную библиотеку. Например: [NVIDIA-Merlin](https://github.com/NVIDIA-Merlin/Merlin), [MS recommenders](https://github.com/microsoft/recommenders), [RecBole](https://github.com/RUCAIBox/RecBole), [Elliot](https://github.com/sisinflab/elliot), [RePlay](https://github.com/sberbank-ai-lab/RePlay)."
   ]
  },
  {
   "cell_type": "markdown",
   "id": "c8a9af26",
   "metadata": {},
   "source": [
    "*[Репозиторий](https://github.com/monkey0head/recsys_sem)*\n",
    "\n",
    "Делайте pull request-ы, чтобы сделать этот ноутбук лучше\n",
    "\n",
    "*Автор:* \n",
    "@monkey_head\n",
    "\n",
    "Напишите, если в этом семинаре очень нужно что-нибудь исправить"
   ]
  },
  {
   "cell_type": "code",
   "execution_count": null,
   "id": "0cc30858",
   "metadata": {},
   "outputs": [],
   "source": []
  }
 ],
 "metadata": {
  "colab": {
   "collapsed_sections": [
    "95ff2f12",
    "zLnJd7T5l-HR",
    "RPhKfiXhVTNz",
    "f70543a4",
    "9a766a35",
    "5e9b14ae",
    "488c0a0b",
    "a13fc208",
    "d99a7c72",
    "77eddff6",
    "a6f0377d",
    "a15860e0",
    "7d707085",
    "70619ed7",
    "f2edbbbe",
    "52ad0220",
    "76d83d86",
    "24857dca",
    "3e90898d",
    "5907a573",
    "60888ddf",
    "ef6ddc1f",
    "45e6c745",
    "69ef31ac",
    "06757a62",
    "7c114fe2",
    "2d48ecb9",
    "029a3075",
    "776db674",
    "2adfb25d",
    "145e78ab",
    "ESDjMudjAm2W",
    "BmzngqI_Am2W",
    "d4b4b542",
    "02c48652",
    "6bb5183a",
    "a86210bf",
    "e51d10aa",
    "86921403",
    "7214b6c3",
    "a8204cd8",
    "97ffd08e",
    "15dda476",
    "1ad3edef",
    "JZw67TDcKw1E",
    "08d92088",
    "29d83506",
    "83e9eab9",
    "6e9666f2",
    "CyAFxi6l3Bjd",
    "Ox8k6Go63hop",
    "a1_HJ7Bl3nN1",
    "G5HL57Mt3xe0",
    "7d3b21bd",
    "Iw5gYMJM1CuL",
    "lCDpA_ns1CuL",
    "9fabe8eb",
    "99089994",
    "08aa543c",
    "97134787",
    "5ff733a5"
   ],
   "name": "mts_dataset_rec_sem.ipynb",
   "provenance": []
  },
  "kernelspec": {
   "display_name": "Python 3 (ipykernel)",
   "language": "python",
   "name": "python3"
  },
  "language_info": {
   "codemirror_mode": {
    "name": "ipython",
    "version": 3
   },
   "file_extension": ".py",
   "mimetype": "text/x-python",
   "name": "python",
   "nbconvert_exporter": "python",
   "pygments_lexer": "ipython3",
   "version": "3.9.7"
  }
 },
 "nbformat": 4,
 "nbformat_minor": 5
}