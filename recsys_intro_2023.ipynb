{
  "cells": [
    {
      "cell_type": "code",
      "source": [
        "! python --version"
      ],
      "metadata": {
        "colab": {
          "base_uri": "https://localhost:8080/"
        },
        "id": "uTvYUPOrF09o",
        "outputId": "bb7ebe62-1743-4725-efe3-eb3f8e19565b"
      },
      "id": "uTvYUPOrF09o",
      "execution_count": 1,
      "outputs": [
        {
          "output_type": "stream",
          "name": "stdout",
          "text": [
            "Python 3.10.11\n"
          ]
        }
      ]
    },
    {
      "cell_type": "code",
      "source": [
        "! pip install lightfm"
      ],
      "metadata": {
        "colab": {
          "base_uri": "https://localhost:8080/"
        },
        "id": "PZH-5D5cLvEo",
        "outputId": "7c575558-dca4-45e5-8197-0e1fa6763e76"
      },
      "id": "PZH-5D5cLvEo",
      "execution_count": 2,
      "outputs": [
        {
          "output_type": "stream",
          "name": "stdout",
          "text": [
            "Looking in indexes: https://pypi.org/simple, https://us-python.pkg.dev/colab-wheels/public/simple/\n",
            "Requirement already satisfied: lightfm in /usr/local/lib/python3.10/dist-packages (1.17)\n",
            "Requirement already satisfied: numpy in /usr/local/lib/python3.10/dist-packages (from lightfm) (1.22.4)\n",
            "Requirement already satisfied: scipy>=0.17.0 in /usr/local/lib/python3.10/dist-packages (from lightfm) (1.10.1)\n",
            "Requirement already satisfied: requests in /usr/local/lib/python3.10/dist-packages (from lightfm) (2.27.1)\n",
            "Requirement already satisfied: scikit-learn in /usr/local/lib/python3.10/dist-packages (from lightfm) (1.2.2)\n",
            "Requirement already satisfied: urllib3<1.27,>=1.21.1 in /usr/local/lib/python3.10/dist-packages (from requests->lightfm) (1.26.15)\n",
            "Requirement already satisfied: certifi>=2017.4.17 in /usr/local/lib/python3.10/dist-packages (from requests->lightfm) (2022.12.7)\n",
            "Requirement already satisfied: charset-normalizer~=2.0.0 in /usr/local/lib/python3.10/dist-packages (from requests->lightfm) (2.0.12)\n",
            "Requirement already satisfied: idna<4,>=2.5 in /usr/local/lib/python3.10/dist-packages (from requests->lightfm) (3.4)\n",
            "Requirement already satisfied: joblib>=1.1.1 in /usr/local/lib/python3.10/dist-packages (from scikit-learn->lightfm) (1.2.0)\n",
            "Requirement already satisfied: threadpoolctl>=2.0.0 in /usr/local/lib/python3.10/dist-packages (from scikit-learn->lightfm) (3.1.0)\n"
          ]
        }
      ]
    },
    {
      "cell_type": "code",
      "execution_count": 3,
      "id": "df293c4b",
      "metadata": {
        "id": "df293c4b"
      },
      "outputs": [],
      "source": [
        "from typing import Optional\n",
        "\n",
        "import abc\n",
        "import numpy as np\n",
        "import math\n",
        "import pandas as pd\n",
        "\n",
        "from sklearn.preprocessing import LabelEncoder"
      ]
    },
    {
      "cell_type": "code",
      "execution_count": 4,
      "id": "hTeuGltmvAo6",
      "metadata": {
        "colab": {
          "base_uri": "https://localhost:8080/"
        },
        "id": "hTeuGltmvAo6",
        "outputId": "b2a0e8cc-ada6-4ed4-9c27-bbf60d29135d"
      },
      "outputs": [
        {
          "output_type": "stream",
          "name": "stdout",
          "text": [
            "Drive already mounted at /content/drive; to attempt to forcibly remount, call drive.mount(\"/content/drive\", force_remount=True).\n"
          ]
        }
      ],
      "source": [
        "from google.colab import drive\n",
        "drive.mount('/content/drive')"
      ]
    },
    {
      "cell_type": "code",
      "execution_count": 5,
      "id": "eec5dc84",
      "metadata": {
        "id": "eec5dc84"
      },
      "outputs": [],
      "source": [
        "data_path = 'drive/MyDrive/mts_lib_copy/'\n",
        "# data_path = 'data/'\n",
        "log_name = 'interactions.csv'\n",
        "u_features_name = 'users.csv'\n",
        "i_features_name = 'items.csv'"
      ]
    },
    {
      "cell_type": "code",
      "execution_count": 6,
      "id": "87e2655f",
      "metadata": {
        "id": "87e2655f"
      },
      "outputs": [],
      "source": [
        "SEED = 123\n",
        "K=10\n",
        "\n"
      ]
    },
    {
      "cell_type": "markdown",
      "id": "95ff2f12",
      "metadata": {
        "id": "95ff2f12"
      },
      "source": [
        "# Рекомендательные системы\n",
        "\n",
        "Обсудим задачи рекомендательных систем и особенности данных. \n",
        "Реализуем базовую рекомендательную систему и простейшую метрику."
      ]
    },
    {
      "cell_type": "markdown",
      "id": "efea94ba",
      "metadata": {
        "id": "efea94ba"
      },
      "source": [
        "# Датасет"
      ]
    },
    {
      "cell_type": "markdown",
      "id": "9bbb36c1",
      "metadata": {
        "id": "9bbb36c1"
      },
      "source": [
        "Будем использовать датасет [MTS Library](https://www.kaggle.com/sharthz23/mts-library), содержащий данные об истории чтения книг пользователями МТС Библиотеки."
      ]
    },
    {
      "cell_type": "markdown",
      "id": "d98dab69",
      "metadata": {
        "id": "d98dab69"
      },
      "source": [
        "### Предобработка"
      ]
    },
    {
      "cell_type": "code",
      "execution_count": 7,
      "id": "228f4ce3",
      "metadata": {
        "id": "228f4ce3"
      },
      "outputs": [],
      "source": [
        "df = pd.read_csv(data_path+log_name, sep=',')"
      ]
    },
    {
      "cell_type": "code",
      "execution_count": 8,
      "id": "XDjzHP11vW7V",
      "metadata": {
        "id": "XDjzHP11vW7V"
      },
      "outputs": [],
      "source": [
        "assert df.shape[0] == 1533078"
      ]
    },
    {
      "cell_type": "code",
      "source": [
        "df.head(2)"
      ],
      "metadata": {
        "colab": {
          "base_uri": "https://localhost:8080/",
          "height": 112
        },
        "id": "rcXRk7N3YPZn",
        "outputId": "4cb4dcd1-45e4-43df-fd11-42aaf0f3ed27"
      },
      "id": "rcXRk7N3YPZn",
      "execution_count": 9,
      "outputs": [
        {
          "output_type": "execute_result",
          "data": {
            "text/plain": [
              "   user_id  item_id  progress  rating  start_date\n",
              "0   126706    14433        80     NaN  2018-01-01\n",
              "1   127290   140952        58     NaN  2018-01-01"
            ],
            "text/html": [
              "\n",
              "  <div id=\"df-f760a3b5-8a0d-4275-b1d9-f314cac6f63f\">\n",
              "    <div class=\"colab-df-container\">\n",
              "      <div>\n",
              "<style scoped>\n",
              "    .dataframe tbody tr th:only-of-type {\n",
              "        vertical-align: middle;\n",
              "    }\n",
              "\n",
              "    .dataframe tbody tr th {\n",
              "        vertical-align: top;\n",
              "    }\n",
              "\n",
              "    .dataframe thead th {\n",
              "        text-align: right;\n",
              "    }\n",
              "</style>\n",
              "<table border=\"1\" class=\"dataframe\">\n",
              "  <thead>\n",
              "    <tr style=\"text-align: right;\">\n",
              "      <th></th>\n",
              "      <th>user_id</th>\n",
              "      <th>item_id</th>\n",
              "      <th>progress</th>\n",
              "      <th>rating</th>\n",
              "      <th>start_date</th>\n",
              "    </tr>\n",
              "  </thead>\n",
              "  <tbody>\n",
              "    <tr>\n",
              "      <th>0</th>\n",
              "      <td>126706</td>\n",
              "      <td>14433</td>\n",
              "      <td>80</td>\n",
              "      <td>NaN</td>\n",
              "      <td>2018-01-01</td>\n",
              "    </tr>\n",
              "    <tr>\n",
              "      <th>1</th>\n",
              "      <td>127290</td>\n",
              "      <td>140952</td>\n",
              "      <td>58</td>\n",
              "      <td>NaN</td>\n",
              "      <td>2018-01-01</td>\n",
              "    </tr>\n",
              "  </tbody>\n",
              "</table>\n",
              "</div>\n",
              "      <button class=\"colab-df-convert\" onclick=\"convertToInteractive('df-f760a3b5-8a0d-4275-b1d9-f314cac6f63f')\"\n",
              "              title=\"Convert this dataframe to an interactive table.\"\n",
              "              style=\"display:none;\">\n",
              "        \n",
              "  <svg xmlns=\"http://www.w3.org/2000/svg\" height=\"24px\"viewBox=\"0 0 24 24\"\n",
              "       width=\"24px\">\n",
              "    <path d=\"M0 0h24v24H0V0z\" fill=\"none\"/>\n",
              "    <path d=\"M18.56 5.44l.94 2.06.94-2.06 2.06-.94-2.06-.94-.94-2.06-.94 2.06-2.06.94zm-11 1L8.5 8.5l.94-2.06 2.06-.94-2.06-.94L8.5 2.5l-.94 2.06-2.06.94zm10 10l.94 2.06.94-2.06 2.06-.94-2.06-.94-.94-2.06-.94 2.06-2.06.94z\"/><path d=\"M17.41 7.96l-1.37-1.37c-.4-.4-.92-.59-1.43-.59-.52 0-1.04.2-1.43.59L10.3 9.45l-7.72 7.72c-.78.78-.78 2.05 0 2.83L4 21.41c.39.39.9.59 1.41.59.51 0 1.02-.2 1.41-.59l7.78-7.78 2.81-2.81c.8-.78.8-2.07 0-2.86zM5.41 20L4 18.59l7.72-7.72 1.47 1.35L5.41 20z\"/>\n",
              "  </svg>\n",
              "      </button>\n",
              "      \n",
              "  <style>\n",
              "    .colab-df-container {\n",
              "      display:flex;\n",
              "      flex-wrap:wrap;\n",
              "      gap: 12px;\n",
              "    }\n",
              "\n",
              "    .colab-df-convert {\n",
              "      background-color: #E8F0FE;\n",
              "      border: none;\n",
              "      border-radius: 50%;\n",
              "      cursor: pointer;\n",
              "      display: none;\n",
              "      fill: #1967D2;\n",
              "      height: 32px;\n",
              "      padding: 0 0 0 0;\n",
              "      width: 32px;\n",
              "    }\n",
              "\n",
              "    .colab-df-convert:hover {\n",
              "      background-color: #E2EBFA;\n",
              "      box-shadow: 0px 1px 2px rgba(60, 64, 67, 0.3), 0px 1px 3px 1px rgba(60, 64, 67, 0.15);\n",
              "      fill: #174EA6;\n",
              "    }\n",
              "\n",
              "    [theme=dark] .colab-df-convert {\n",
              "      background-color: #3B4455;\n",
              "      fill: #D2E3FC;\n",
              "    }\n",
              "\n",
              "    [theme=dark] .colab-df-convert:hover {\n",
              "      background-color: #434B5C;\n",
              "      box-shadow: 0px 1px 3px 1px rgba(0, 0, 0, 0.15);\n",
              "      filter: drop-shadow(0px 1px 2px rgba(0, 0, 0, 0.3));\n",
              "      fill: #FFFFFF;\n",
              "    }\n",
              "  </style>\n",
              "\n",
              "      <script>\n",
              "        const buttonEl =\n",
              "          document.querySelector('#df-f760a3b5-8a0d-4275-b1d9-f314cac6f63f button.colab-df-convert');\n",
              "        buttonEl.style.display =\n",
              "          google.colab.kernel.accessAllowed ? 'block' : 'none';\n",
              "\n",
              "        async function convertToInteractive(key) {\n",
              "          const element = document.querySelector('#df-f760a3b5-8a0d-4275-b1d9-f314cac6f63f');\n",
              "          const dataTable =\n",
              "            await google.colab.kernel.invokeFunction('convertToInteractive',\n",
              "                                                     [key], {});\n",
              "          if (!dataTable) return;\n",
              "\n",
              "          const docLinkHtml = 'Like what you see? Visit the ' +\n",
              "            '<a target=\"_blank\" href=https://colab.research.google.com/notebooks/data_table.ipynb>data table notebook</a>'\n",
              "            + ' to learn more about interactive tables.';\n",
              "          element.innerHTML = '';\n",
              "          dataTable['output_type'] = 'display_data';\n",
              "          await google.colab.output.renderOutput(dataTable, element);\n",
              "          const docLink = document.createElement('div');\n",
              "          docLink.innerHTML = docLinkHtml;\n",
              "          element.appendChild(docLink);\n",
              "        }\n",
              "      </script>\n",
              "    </div>\n",
              "  </div>\n",
              "  "
            ]
          },
          "metadata": {},
          "execution_count": 9
        }
      ]
    },
    {
      "cell_type": "code",
      "execution_count": 10,
      "id": "a9239191",
      "metadata": {
        "colab": {
          "base_uri": "https://localhost:8080/"
        },
        "id": "a9239191",
        "outputId": "fcf573c1-3713-4bf9-dbbc-47ca45de2457"
      },
      "outputs": [
        {
          "output_type": "stream",
          "name": "stderr",
          "text": [
            "<timed exec>:2: DeprecationWarning: In a future version, `df.iloc[:, i] = newvals` will attempt to set the values inplace instead of always setting a new array. To retain the old behavior, use either `df[df.columns[i]] = newvals` or, if columns are non-unique, `df.isetitem(i, newvals)`\n"
          ]
        },
        {
          "output_type": "stream",
          "name": "stdout",
          "text": [
            "CPU times: user 686 ms, sys: 49.1 ms, total: 735 ms\n",
            "Wall time: 847 ms\n"
          ]
        }
      ],
      "source": [
        "%%time\n",
        "# конвертируем в дату\n",
        "df.loc[:, 'start_date'] = pd.to_datetime(df['start_date'], format=\"%Y-%m-%d\")\n",
        "# удаляем дубликаты, оставляя последний по времени\n",
        "df = df.sort_values('start_date').drop_duplicates(subset=['user_id', 'item_id'], keep='last')\n",
        "\n",
        "u_features = pd.read_csv(data_path+u_features_name, sep=',')\n",
        "i_features = pd.read_csv(data_path+i_features_name, sep=',')\n",
        "i_features.rename(columns={'id': 'item_id'}, inplace=True)"
      ]
    },
    {
      "cell_type": "markdown",
      "id": "3e8ee1e6",
      "metadata": {
        "id": "3e8ee1e6"
      },
      "source": [
        "### Данные"
      ]
    },
    {
      "cell_type": "code",
      "execution_count": 11,
      "id": "99a13299",
      "metadata": {
        "colab": {
          "base_uri": "https://localhost:8080/",
          "height": 112
        },
        "id": "99a13299",
        "outputId": "fa4aaae3-f4c3-462c-d4fc-bba7fa8dc2c5"
      },
      "outputs": [
        {
          "output_type": "execute_result",
          "data": {
            "text/plain": [
              "   user_id    age  sex\n",
              "0        1  45_54  NaN\n",
              "1        2  18_24  0.0"
            ],
            "text/html": [
              "\n",
              "  <div id=\"df-b73f4c69-de45-4d24-a441-55c0de0c849c\">\n",
              "    <div class=\"colab-df-container\">\n",
              "      <div>\n",
              "<style scoped>\n",
              "    .dataframe tbody tr th:only-of-type {\n",
              "        vertical-align: middle;\n",
              "    }\n",
              "\n",
              "    .dataframe tbody tr th {\n",
              "        vertical-align: top;\n",
              "    }\n",
              "\n",
              "    .dataframe thead th {\n",
              "        text-align: right;\n",
              "    }\n",
              "</style>\n",
              "<table border=\"1\" class=\"dataframe\">\n",
              "  <thead>\n",
              "    <tr style=\"text-align: right;\">\n",
              "      <th></th>\n",
              "      <th>user_id</th>\n",
              "      <th>age</th>\n",
              "      <th>sex</th>\n",
              "    </tr>\n",
              "  </thead>\n",
              "  <tbody>\n",
              "    <tr>\n",
              "      <th>0</th>\n",
              "      <td>1</td>\n",
              "      <td>45_54</td>\n",
              "      <td>NaN</td>\n",
              "    </tr>\n",
              "    <tr>\n",
              "      <th>1</th>\n",
              "      <td>2</td>\n",
              "      <td>18_24</td>\n",
              "      <td>0.0</td>\n",
              "    </tr>\n",
              "  </tbody>\n",
              "</table>\n",
              "</div>\n",
              "      <button class=\"colab-df-convert\" onclick=\"convertToInteractive('df-b73f4c69-de45-4d24-a441-55c0de0c849c')\"\n",
              "              title=\"Convert this dataframe to an interactive table.\"\n",
              "              style=\"display:none;\">\n",
              "        \n",
              "  <svg xmlns=\"http://www.w3.org/2000/svg\" height=\"24px\"viewBox=\"0 0 24 24\"\n",
              "       width=\"24px\">\n",
              "    <path d=\"M0 0h24v24H0V0z\" fill=\"none\"/>\n",
              "    <path d=\"M18.56 5.44l.94 2.06.94-2.06 2.06-.94-2.06-.94-.94-2.06-.94 2.06-2.06.94zm-11 1L8.5 8.5l.94-2.06 2.06-.94-2.06-.94L8.5 2.5l-.94 2.06-2.06.94zm10 10l.94 2.06.94-2.06 2.06-.94-2.06-.94-.94-2.06-.94 2.06-2.06.94z\"/><path d=\"M17.41 7.96l-1.37-1.37c-.4-.4-.92-.59-1.43-.59-.52 0-1.04.2-1.43.59L10.3 9.45l-7.72 7.72c-.78.78-.78 2.05 0 2.83L4 21.41c.39.39.9.59 1.41.59.51 0 1.02-.2 1.41-.59l7.78-7.78 2.81-2.81c.8-.78.8-2.07 0-2.86zM5.41 20L4 18.59l7.72-7.72 1.47 1.35L5.41 20z\"/>\n",
              "  </svg>\n",
              "      </button>\n",
              "      \n",
              "  <style>\n",
              "    .colab-df-container {\n",
              "      display:flex;\n",
              "      flex-wrap:wrap;\n",
              "      gap: 12px;\n",
              "    }\n",
              "\n",
              "    .colab-df-convert {\n",
              "      background-color: #E8F0FE;\n",
              "      border: none;\n",
              "      border-radius: 50%;\n",
              "      cursor: pointer;\n",
              "      display: none;\n",
              "      fill: #1967D2;\n",
              "      height: 32px;\n",
              "      padding: 0 0 0 0;\n",
              "      width: 32px;\n",
              "    }\n",
              "\n",
              "    .colab-df-convert:hover {\n",
              "      background-color: #E2EBFA;\n",
              "      box-shadow: 0px 1px 2px rgba(60, 64, 67, 0.3), 0px 1px 3px 1px rgba(60, 64, 67, 0.15);\n",
              "      fill: #174EA6;\n",
              "    }\n",
              "\n",
              "    [theme=dark] .colab-df-convert {\n",
              "      background-color: #3B4455;\n",
              "      fill: #D2E3FC;\n",
              "    }\n",
              "\n",
              "    [theme=dark] .colab-df-convert:hover {\n",
              "      background-color: #434B5C;\n",
              "      box-shadow: 0px 1px 3px 1px rgba(0, 0, 0, 0.15);\n",
              "      filter: drop-shadow(0px 1px 2px rgba(0, 0, 0, 0.3));\n",
              "      fill: #FFFFFF;\n",
              "    }\n",
              "  </style>\n",
              "\n",
              "      <script>\n",
              "        const buttonEl =\n",
              "          document.querySelector('#df-b73f4c69-de45-4d24-a441-55c0de0c849c button.colab-df-convert');\n",
              "        buttonEl.style.display =\n",
              "          google.colab.kernel.accessAllowed ? 'block' : 'none';\n",
              "\n",
              "        async function convertToInteractive(key) {\n",
              "          const element = document.querySelector('#df-b73f4c69-de45-4d24-a441-55c0de0c849c');\n",
              "          const dataTable =\n",
              "            await google.colab.kernel.invokeFunction('convertToInteractive',\n",
              "                                                     [key], {});\n",
              "          if (!dataTable) return;\n",
              "\n",
              "          const docLinkHtml = 'Like what you see? Visit the ' +\n",
              "            '<a target=\"_blank\" href=https://colab.research.google.com/notebooks/data_table.ipynb>data table notebook</a>'\n",
              "            + ' to learn more about interactive tables.';\n",
              "          element.innerHTML = '';\n",
              "          dataTable['output_type'] = 'display_data';\n",
              "          await google.colab.output.renderOutput(dataTable, element);\n",
              "          const docLink = document.createElement('div');\n",
              "          docLink.innerHTML = docLinkHtml;\n",
              "          element.appendChild(docLink);\n",
              "        }\n",
              "      </script>\n",
              "    </div>\n",
              "  </div>\n",
              "  "
            ]
          },
          "metadata": {},
          "execution_count": 11
        }
      ],
      "source": [
        "u_features.head(2)"
      ]
    },
    {
      "cell_type": "code",
      "execution_count": 12,
      "id": "65d70ce6",
      "metadata": {
        "colab": {
          "base_uri": "https://localhost:8080/",
          "height": 148
        },
        "id": "65d70ce6",
        "outputId": "5f9572a6-1153-4c20-b9a5-6657d21eefa4"
      },
      "outputs": [
        {
          "output_type": "stream",
          "name": "stdout",
          "text": [
            "CPU times: user 154 µs, sys: 0 ns, total: 154 µs\n",
            "Wall time: 160 µs\n"
          ]
        },
        {
          "output_type": "execute_result",
          "data": {
            "text/plain": [
              "   item_id              title  \\\n",
              "0   128115   Ворон-челобитчик   \n",
              "1   210979  Скрипка Ротшильда   \n",
              "\n",
              "                                              genres                 authors  \\\n",
              "0  Зарубежные детские книги,Сказки,Зарубежная кла...  Михаил Салтыков-Щедрин   \n",
              "1  Классическая проза,Литература 19 века,Русская ...             Антон Чехов   \n",
              "\n",
              "   year  \n",
              "0  1886  \n",
              "1  1894  "
            ],
            "text/html": [
              "\n",
              "  <div id=\"df-e0c90f15-6061-4110-91f4-dd975a1a4c2c\">\n",
              "    <div class=\"colab-df-container\">\n",
              "      <div>\n",
              "<style scoped>\n",
              "    .dataframe tbody tr th:only-of-type {\n",
              "        vertical-align: middle;\n",
              "    }\n",
              "\n",
              "    .dataframe tbody tr th {\n",
              "        vertical-align: top;\n",
              "    }\n",
              "\n",
              "    .dataframe thead th {\n",
              "        text-align: right;\n",
              "    }\n",
              "</style>\n",
              "<table border=\"1\" class=\"dataframe\">\n",
              "  <thead>\n",
              "    <tr style=\"text-align: right;\">\n",
              "      <th></th>\n",
              "      <th>item_id</th>\n",
              "      <th>title</th>\n",
              "      <th>genres</th>\n",
              "      <th>authors</th>\n",
              "      <th>year</th>\n",
              "    </tr>\n",
              "  </thead>\n",
              "  <tbody>\n",
              "    <tr>\n",
              "      <th>0</th>\n",
              "      <td>128115</td>\n",
              "      <td>Ворон-челобитчик</td>\n",
              "      <td>Зарубежные детские книги,Сказки,Зарубежная кла...</td>\n",
              "      <td>Михаил Салтыков-Щедрин</td>\n",
              "      <td>1886</td>\n",
              "    </tr>\n",
              "    <tr>\n",
              "      <th>1</th>\n",
              "      <td>210979</td>\n",
              "      <td>Скрипка Ротшильда</td>\n",
              "      <td>Классическая проза,Литература 19 века,Русская ...</td>\n",
              "      <td>Антон Чехов</td>\n",
              "      <td>1894</td>\n",
              "    </tr>\n",
              "  </tbody>\n",
              "</table>\n",
              "</div>\n",
              "      <button class=\"colab-df-convert\" onclick=\"convertToInteractive('df-e0c90f15-6061-4110-91f4-dd975a1a4c2c')\"\n",
              "              title=\"Convert this dataframe to an interactive table.\"\n",
              "              style=\"display:none;\">\n",
              "        \n",
              "  <svg xmlns=\"http://www.w3.org/2000/svg\" height=\"24px\"viewBox=\"0 0 24 24\"\n",
              "       width=\"24px\">\n",
              "    <path d=\"M0 0h24v24H0V0z\" fill=\"none\"/>\n",
              "    <path d=\"M18.56 5.44l.94 2.06.94-2.06 2.06-.94-2.06-.94-.94-2.06-.94 2.06-2.06.94zm-11 1L8.5 8.5l.94-2.06 2.06-.94-2.06-.94L8.5 2.5l-.94 2.06-2.06.94zm10 10l.94 2.06.94-2.06 2.06-.94-2.06-.94-.94-2.06-.94 2.06-2.06.94z\"/><path d=\"M17.41 7.96l-1.37-1.37c-.4-.4-.92-.59-1.43-.59-.52 0-1.04.2-1.43.59L10.3 9.45l-7.72 7.72c-.78.78-.78 2.05 0 2.83L4 21.41c.39.39.9.59 1.41.59.51 0 1.02-.2 1.41-.59l7.78-7.78 2.81-2.81c.8-.78.8-2.07 0-2.86zM5.41 20L4 18.59l7.72-7.72 1.47 1.35L5.41 20z\"/>\n",
              "  </svg>\n",
              "      </button>\n",
              "      \n",
              "  <style>\n",
              "    .colab-df-container {\n",
              "      display:flex;\n",
              "      flex-wrap:wrap;\n",
              "      gap: 12px;\n",
              "    }\n",
              "\n",
              "    .colab-df-convert {\n",
              "      background-color: #E8F0FE;\n",
              "      border: none;\n",
              "      border-radius: 50%;\n",
              "      cursor: pointer;\n",
              "      display: none;\n",
              "      fill: #1967D2;\n",
              "      height: 32px;\n",
              "      padding: 0 0 0 0;\n",
              "      width: 32px;\n",
              "    }\n",
              "\n",
              "    .colab-df-convert:hover {\n",
              "      background-color: #E2EBFA;\n",
              "      box-shadow: 0px 1px 2px rgba(60, 64, 67, 0.3), 0px 1px 3px 1px rgba(60, 64, 67, 0.15);\n",
              "      fill: #174EA6;\n",
              "    }\n",
              "\n",
              "    [theme=dark] .colab-df-convert {\n",
              "      background-color: #3B4455;\n",
              "      fill: #D2E3FC;\n",
              "    }\n",
              "\n",
              "    [theme=dark] .colab-df-convert:hover {\n",
              "      background-color: #434B5C;\n",
              "      box-shadow: 0px 1px 3px 1px rgba(0, 0, 0, 0.15);\n",
              "      filter: drop-shadow(0px 1px 2px rgba(0, 0, 0, 0.3));\n",
              "      fill: #FFFFFF;\n",
              "    }\n",
              "  </style>\n",
              "\n",
              "      <script>\n",
              "        const buttonEl =\n",
              "          document.querySelector('#df-e0c90f15-6061-4110-91f4-dd975a1a4c2c button.colab-df-convert');\n",
              "        buttonEl.style.display =\n",
              "          google.colab.kernel.accessAllowed ? 'block' : 'none';\n",
              "\n",
              "        async function convertToInteractive(key) {\n",
              "          const element = document.querySelector('#df-e0c90f15-6061-4110-91f4-dd975a1a4c2c');\n",
              "          const dataTable =\n",
              "            await google.colab.kernel.invokeFunction('convertToInteractive',\n",
              "                                                     [key], {});\n",
              "          if (!dataTable) return;\n",
              "\n",
              "          const docLinkHtml = 'Like what you see? Visit the ' +\n",
              "            '<a target=\"_blank\" href=https://colab.research.google.com/notebooks/data_table.ipynb>data table notebook</a>'\n",
              "            + ' to learn more about interactive tables.';\n",
              "          element.innerHTML = '';\n",
              "          dataTable['output_type'] = 'display_data';\n",
              "          await google.colab.output.renderOutput(dataTable, element);\n",
              "          const docLink = document.createElement('div');\n",
              "          docLink.innerHTML = docLinkHtml;\n",
              "          element.appendChild(docLink);\n",
              "        }\n",
              "      </script>\n",
              "    </div>\n",
              "  </div>\n",
              "  "
            ]
          },
          "metadata": {},
          "execution_count": 12
        }
      ],
      "source": [
        "%%time\n",
        "i_features.head(2)"
      ]
    },
    {
      "cell_type": "code",
      "source": [
        "i_features.shape, i_features['item_id'].isin(df['item_id'].unique()).shape"
      ],
      "metadata": {
        "colab": {
          "base_uri": "https://localhost:8080/"
        },
        "id": "0-E94qWuOZAN",
        "outputId": "9cb5dd75-80ca-48cc-fa0a-5f541616e31c"
      },
      "id": "0-E94qWuOZAN",
      "execution_count": 13,
      "outputs": [
        {
          "output_type": "execute_result",
          "data": {
            "text/plain": [
              "((59599, 5), (59599,))"
            ]
          },
          "metadata": {},
          "execution_count": 13
        }
      ]
    },
    {
      "cell_type": "code",
      "execution_count": 14,
      "id": "1867acd5",
      "metadata": {
        "id": "1867acd5"
      },
      "outputs": [],
      "source": [
        "def get_log_info(log, user_id='user_id', item_id='item_id'):\n",
        "    print(f'Длина лога = {log.shape[0]},\\nколичество пользователей = {log[user_id].nunique()},\\nколичество объектов = {log[item_id].nunique()}')"
      ]
    },
    {
      "cell_type": "code",
      "execution_count": 15,
      "id": "c3286062",
      "metadata": {
        "colab": {
          "base_uri": "https://localhost:8080/"
        },
        "id": "c3286062",
        "outputId": "fc208639-5b91-4e1f-f54d-50ca281c2431"
      },
      "outputs": [
        {
          "output_type": "stream",
          "name": "stdout",
          "text": [
            "Длина лога = 1532998,\n",
            "количество пользователей = 151600,\n",
            "количество объектов = 59599\n"
          ]
        }
      ],
      "source": [
        "get_log_info(df)"
      ]
    },
    {
      "cell_type": "code",
      "execution_count": 16,
      "id": "e2ff635b",
      "metadata": {
        "colab": {
          "base_uri": "https://localhost:8080/",
          "height": 35
        },
        "id": "e2ff635b",
        "outputId": "2e5d4143-aed8-40d7-ac70-807eac46a4e7"
      },
      "outputs": [
        {
          "output_type": "execute_result",
          "data": {
            "text/plain": [
              "'Количество рейтингов = 285337, что сильно меньше, чем количество данных о прогрессе чтения (1532998)'"
            ],
            "application/vnd.google.colaboratory.intrinsic+json": {
              "type": "string"
            }
          },
          "metadata": {},
          "execution_count": 16
        }
      ],
      "source": [
        "f\"Количество рейтингов = {(~df['rating'].isna()).sum()}, что сильно меньше, чем количество данных о прогрессе чтения ({(~df['progress'].isna()).sum()})\"\n"
      ]
    },
    {
      "cell_type": "code",
      "source": [
        "df.head(2)"
      ],
      "metadata": {
        "colab": {
          "base_uri": "https://localhost:8080/",
          "height": 112
        },
        "id": "D6EjAiRRZmo4",
        "outputId": "8f352ff9-feda-4184-ef11-1d4864d2d945"
      },
      "id": "D6EjAiRRZmo4",
      "execution_count": 17,
      "outputs": [
        {
          "output_type": "execute_result",
          "data": {
            "text/plain": [
              "      user_id  item_id  progress  rating start_date\n",
              "0      126706    14433        80     NaN 2018-01-01\n",
              "1437    97128   245669         1     NaN 2018-01-01"
            ],
            "text/html": [
              "\n",
              "  <div id=\"df-9a31adaf-c384-4ba8-aecc-10b6ade557da\">\n",
              "    <div class=\"colab-df-container\">\n",
              "      <div>\n",
              "<style scoped>\n",
              "    .dataframe tbody tr th:only-of-type {\n",
              "        vertical-align: middle;\n",
              "    }\n",
              "\n",
              "    .dataframe tbody tr th {\n",
              "        vertical-align: top;\n",
              "    }\n",
              "\n",
              "    .dataframe thead th {\n",
              "        text-align: right;\n",
              "    }\n",
              "</style>\n",
              "<table border=\"1\" class=\"dataframe\">\n",
              "  <thead>\n",
              "    <tr style=\"text-align: right;\">\n",
              "      <th></th>\n",
              "      <th>user_id</th>\n",
              "      <th>item_id</th>\n",
              "      <th>progress</th>\n",
              "      <th>rating</th>\n",
              "      <th>start_date</th>\n",
              "    </tr>\n",
              "  </thead>\n",
              "  <tbody>\n",
              "    <tr>\n",
              "      <th>0</th>\n",
              "      <td>126706</td>\n",
              "      <td>14433</td>\n",
              "      <td>80</td>\n",
              "      <td>NaN</td>\n",
              "      <td>2018-01-01</td>\n",
              "    </tr>\n",
              "    <tr>\n",
              "      <th>1437</th>\n",
              "      <td>97128</td>\n",
              "      <td>245669</td>\n",
              "      <td>1</td>\n",
              "      <td>NaN</td>\n",
              "      <td>2018-01-01</td>\n",
              "    </tr>\n",
              "  </tbody>\n",
              "</table>\n",
              "</div>\n",
              "      <button class=\"colab-df-convert\" onclick=\"convertToInteractive('df-9a31adaf-c384-4ba8-aecc-10b6ade557da')\"\n",
              "              title=\"Convert this dataframe to an interactive table.\"\n",
              "              style=\"display:none;\">\n",
              "        \n",
              "  <svg xmlns=\"http://www.w3.org/2000/svg\" height=\"24px\"viewBox=\"0 0 24 24\"\n",
              "       width=\"24px\">\n",
              "    <path d=\"M0 0h24v24H0V0z\" fill=\"none\"/>\n",
              "    <path d=\"M18.56 5.44l.94 2.06.94-2.06 2.06-.94-2.06-.94-.94-2.06-.94 2.06-2.06.94zm-11 1L8.5 8.5l.94-2.06 2.06-.94-2.06-.94L8.5 2.5l-.94 2.06-2.06.94zm10 10l.94 2.06.94-2.06 2.06-.94-2.06-.94-.94-2.06-.94 2.06-2.06.94z\"/><path d=\"M17.41 7.96l-1.37-1.37c-.4-.4-.92-.59-1.43-.59-.52 0-1.04.2-1.43.59L10.3 9.45l-7.72 7.72c-.78.78-.78 2.05 0 2.83L4 21.41c.39.39.9.59 1.41.59.51 0 1.02-.2 1.41-.59l7.78-7.78 2.81-2.81c.8-.78.8-2.07 0-2.86zM5.41 20L4 18.59l7.72-7.72 1.47 1.35L5.41 20z\"/>\n",
              "  </svg>\n",
              "      </button>\n",
              "      \n",
              "  <style>\n",
              "    .colab-df-container {\n",
              "      display:flex;\n",
              "      flex-wrap:wrap;\n",
              "      gap: 12px;\n",
              "    }\n",
              "\n",
              "    .colab-df-convert {\n",
              "      background-color: #E8F0FE;\n",
              "      border: none;\n",
              "      border-radius: 50%;\n",
              "      cursor: pointer;\n",
              "      display: none;\n",
              "      fill: #1967D2;\n",
              "      height: 32px;\n",
              "      padding: 0 0 0 0;\n",
              "      width: 32px;\n",
              "    }\n",
              "\n",
              "    .colab-df-convert:hover {\n",
              "      background-color: #E2EBFA;\n",
              "      box-shadow: 0px 1px 2px rgba(60, 64, 67, 0.3), 0px 1px 3px 1px rgba(60, 64, 67, 0.15);\n",
              "      fill: #174EA6;\n",
              "    }\n",
              "\n",
              "    [theme=dark] .colab-df-convert {\n",
              "      background-color: #3B4455;\n",
              "      fill: #D2E3FC;\n",
              "    }\n",
              "\n",
              "    [theme=dark] .colab-df-convert:hover {\n",
              "      background-color: #434B5C;\n",
              "      box-shadow: 0px 1px 3px 1px rgba(0, 0, 0, 0.15);\n",
              "      filter: drop-shadow(0px 1px 2px rgba(0, 0, 0, 0.3));\n",
              "      fill: #FFFFFF;\n",
              "    }\n",
              "  </style>\n",
              "\n",
              "      <script>\n",
              "        const buttonEl =\n",
              "          document.querySelector('#df-9a31adaf-c384-4ba8-aecc-10b6ade557da button.colab-df-convert');\n",
              "        buttonEl.style.display =\n",
              "          google.colab.kernel.accessAllowed ? 'block' : 'none';\n",
              "\n",
              "        async function convertToInteractive(key) {\n",
              "          const element = document.querySelector('#df-9a31adaf-c384-4ba8-aecc-10b6ade557da');\n",
              "          const dataTable =\n",
              "            await google.colab.kernel.invokeFunction('convertToInteractive',\n",
              "                                                     [key], {});\n",
              "          if (!dataTable) return;\n",
              "\n",
              "          const docLinkHtml = 'Like what you see? Visit the ' +\n",
              "            '<a target=\"_blank\" href=https://colab.research.google.com/notebooks/data_table.ipynb>data table notebook</a>'\n",
              "            + ' to learn more about interactive tables.';\n",
              "          element.innerHTML = '';\n",
              "          dataTable['output_type'] = 'display_data';\n",
              "          await google.colab.output.renderOutput(dataTable, element);\n",
              "          const docLink = document.createElement('div');\n",
              "          docLink.innerHTML = docLinkHtml;\n",
              "          element.appendChild(docLink);\n",
              "        }\n",
              "      </script>\n",
              "    </div>\n",
              "  </div>\n",
              "  "
            ]
          },
          "metadata": {},
          "execution_count": 17
        }
      ]
    },
    {
      "cell_type": "markdown",
      "id": "9a766a35",
      "metadata": {
        "id": "9a766a35"
      },
      "source": [
        "## Особенности данных в задаче рекомендаций\n",
        "- всегда есть id пользователей/сессий и объектов\n",
        "- часто есть timestamp (знаем об изменениях предпочтений пользователей во времени)\n",
        "- есть оценка релевантности объектов для пользователей"
      ]
    },
    {
      "cell_type": "code",
      "source": [
        "df['progress'].min(), df['progress'].max(), df['rating'].min(), df['rating'].max()"
      ],
      "metadata": {
        "colab": {
          "base_uri": "https://localhost:8080/"
        },
        "id": "ChVj1oquaGuL",
        "outputId": "feb90853-713d-4e8b-bd60-7812298f4e40"
      },
      "id": "ChVj1oquaGuL",
      "execution_count": 18,
      "outputs": [
        {
          "output_type": "execute_result",
          "data": {
            "text/plain": [
              "(0, 100, 1.0, 5.0)"
            ]
          },
          "metadata": {},
          "execution_count": 18
        }
      ]
    },
    {
      "cell_type": "markdown",
      "id": "5e9b14ae",
      "metadata": {
        "id": "5e9b14ae"
      },
      "source": [
        "## Типы feedback\n",
        "В нашем датасете есть progress - процент прочтения книги и rating - оценка, которую пользователь поставил. \n",
        "Это отличная иллюстрация для implicit и explicit feedback. Если пользователь поставил оценку, мы можем быть сильно уверены в том, насколько ему нравится книга. Но факт прочтения какой-то доли контента — тоже важный сигнал, и этой информации гораздо больше.\n",
        "\n",
        "**Explicit**\n",
        "- мало, но четко отражает предпочтения пользователя\n",
        "- можно учить модели регрессии и ранжирования\n",
        "- смещен в сторону \"оценивает лучшая версия меня\" (хоть мы и не говорим сегодня о вопросах психологии/этики)\n",
        "- может быть двумодальное распределение (хочу похвалить или хочу поругать)\n",
        "\n",
        "**Implicit**\n",
        "- много\n",
        "- разнородный\n",
        "- часто не содержит негативного опыта/его надо извлекать на основе правил\n",
        "- показывал реальные предпочтения пользователей"
      ]
    },
    {
      "cell_type": "markdown",
      "id": "77eddff6",
      "metadata": {
        "id": "77eddff6"
      },
      "source": [
        "## Задачи\n",
        "\n",
        "* предсказать для пользователя top-k релевантных объектов\n",
        "* оценить релевантность выбранных пар пользователь-объект / переранжировать объекты для пользователя\n",
        "* найти похожие объекты/похожих пользователей\n",
        "* рекомендовать к сессии/корзине/товару"
      ]
    },
    {
      "cell_type": "markdown",
      "id": "d6d1e28f",
      "metadata": {
        "id": "d6d1e28f"
      },
      "source": [
        "# EDA"
      ]
    },
    {
      "cell_type": "markdown",
      "id": "488c0a0b",
      "metadata": {
        "id": "488c0a0b"
      },
      "source": [
        "## Распределение рейтинга и доли прочтения"
      ]
    },
    {
      "cell_type": "code",
      "execution_count": 19,
      "id": "a5e390d3",
      "metadata": {
        "colab": {
          "base_uri": "https://localhost:8080/",
          "height": 445
        },
        "id": "a5e390d3",
        "outputId": "93de8f13-d743-4702-afb8-ab9870c05c81"
      },
      "outputs": [
        {
          "output_type": "display_data",
          "data": {
            "text/plain": [
              "<Figure size 1000x500 with 1 Axes>"
            ],
            "image/png": "[encoded data removed]"
          },
          "metadata": {}
        }
      ],
      "source": [
        "df['progress'].hist(bins=50, figsize=(10, 5));"
      ]
    },
    {
      "cell_type": "markdown",
      "id": "2f0cc915",
      "metadata": {
        "id": "2f0cc915"
      },
      "source": [
        "Либо бросают быстро, либо дочитывают до конца"
      ]
    },
    {
      "cell_type": "code",
      "execution_count": 20,
      "id": "0754cc49",
      "metadata": {
        "colab": {
          "base_uri": "https://localhost:8080/",
          "height": 445
        },
        "id": "0754cc49",
        "outputId": "b9804c2d-3b2e-4ddf-b94a-80c0bfc13a15"
      },
      "outputs": [
        {
          "output_type": "display_data",
          "data": {
            "text/plain": [
              "<Figure size 1000x500 with 1 Axes>"
            ],
            "image/png": "[encoded data removed]"
          },
          "metadata": {}
        }
      ],
      "source": [
        "df['rating'].hist(bins=10, figsize=(10, 5));"
      ]
    },
    {
      "cell_type": "markdown",
      "id": "70284fd0",
      "metadata": {
        "id": "70284fd0"
      },
      "source": [
        "Пользователи взаимодействуют с айтемами, которые им, скорее всего, понравятся, и предпочитают ставить оценки понравившимся, поэтому в реальных данных часто наблюдается смещение в сторону положительных оценок."
      ]
    },
    {
      "cell_type": "code",
      "execution_count": 21,
      "id": "50e731ec",
      "metadata": {
        "colab": {
          "base_uri": "https://localhost:8080/"
        },
        "id": "50e731ec",
        "outputId": "f5ea9d3e-4890-4f06-a2eb-2887109d2f03"
      },
      "outputs": [
        {
          "output_type": "execute_result",
          "data": {
            "text/plain": [
              "5.0    214703\n",
              "4.0     40382\n",
              "3.0     18273\n",
              "1.0      6115\n",
              "2.0      5864\n",
              "Name: rating, dtype: int64"
            ]
          },
          "metadata": {},
          "execution_count": 21
        }
      ],
      "source": [
        "df['rating'].value_counts()"
      ]
    },
    {
      "cell_type": "markdown",
      "id": "a13fc208",
      "metadata": {
        "id": "a13fc208"
      },
      "source": [
        "## Распределение числа прочтений у пользователя / книги"
      ]
    },
    {
      "cell_type": "code",
      "execution_count": 22,
      "id": "61c3f05f",
      "metadata": {
        "id": "61c3f05f"
      },
      "outputs": [],
      "source": [
        "def group_by_and_plot(df, group_by_name, rating_col_name, quantile=0.99, title=''):\n",
        "    grouped = df.groupby(group_by_name)[rating_col_name].count()\n",
        "    print(grouped.describe(percentiles=[0.05, .25, .5, .75, 0.95]))\n",
        "    grouped[grouped < grouped.quantile(quantile)].plot(kind='hist', bins=50, figsize=(10, 5), title=title)\n",
        "    return grouped"
      ]
    },
    {
      "cell_type": "code",
      "execution_count": 23,
      "id": "5c962564",
      "metadata": {
        "colab": {
          "base_uri": "https://localhost:8080/",
          "height": 664
        },
        "id": "5c962564",
        "outputId": "2c736604-4a82-4554-d714-81cabe0333f7"
      },
      "outputs": [
        {
          "output_type": "stream",
          "name": "stdout",
          "text": [
            "count    151600.000000\n",
            "mean         10.112124\n",
            "std          20.922963\n",
            "min           1.000000\n",
            "5%            3.000000\n",
            "25%           5.000000\n",
            "50%           7.000000\n",
            "75%          10.000000\n",
            "95%          20.000000\n",
            "max        2091.000000\n",
            "Name: progress, dtype: float64\n"
          ]
        },
        {
          "output_type": "display_data",
          "data": {
            "text/plain": [
              "<Figure size 1000x500 with 1 Axes>"
            ],
            "image/png": "[encoded data removed]"
          },
          "metadata": {}
        }
      ],
      "source": [
        "user_count = group_by_and_plot(df, group_by_name='user_id', rating_col_name='progress', quantile=0.99, title='Количество прочтений у пользователя')"
      ]
    },
    {
      "cell_type": "code",
      "execution_count": 24,
      "id": "bfd74bf3",
      "metadata": {
        "colab": {
          "base_uri": "https://localhost:8080/",
          "height": 664
        },
        "id": "bfd74bf3",
        "outputId": "41e72b6f-605e-499b-fdfb-0643c364e3e8"
      },
      "outputs": [
        {
          "output_type": "stream",
          "name": "stdout",
          "text": [
            "count    59599.000000\n",
            "mean        25.721875\n",
            "std         60.665733\n",
            "min          2.000000\n",
            "5%           9.000000\n",
            "25%         13.000000\n",
            "50%         16.000000\n",
            "75%         21.000000\n",
            "95%         65.000000\n",
            "max       6575.000000\n",
            "Name: progress, dtype: float64\n"
          ]
        },
        {
          "output_type": "display_data",
          "data": {
            "text/plain": [
              "<Figure size 1000x500 with 1 Axes>"
            ],
            "image/png": "[encoded data removed]"
          },
          "metadata": {}
        }
      ],
      "source": [
        "item_count = group_by_and_plot(df, group_by_name='item_id', rating_col_name='progress', quantile=0.99, title='Количество прочтений у книги')"
      ]
    },
    {
      "cell_type": "markdown",
      "id": "8db8372a",
      "metadata": {
        "id": "8db8372a"
      },
      "source": [
        "Данные довольно плотные, у 95% пользователей более трех взаимодействий, у 95% книг более 9 прочтений"
      ]
    },
    {
      "cell_type": "code",
      "execution_count": 25,
      "id": "4e811a8b",
      "metadata": {
        "colab": {
          "base_uri": "https://localhost:8080/",
          "height": 664
        },
        "id": "4e811a8b",
        "outputId": "376dd1ec-8f19-484a-b33f-79fa836d4040"
      },
      "outputs": [
        {
          "output_type": "stream",
          "name": "stdout",
          "text": [
            "count    101885.000000\n",
            "mean          2.800579\n",
            "std          10.026988\n",
            "min           1.000000\n",
            "5%            1.000000\n",
            "25%           1.000000\n",
            "50%           1.000000\n",
            "75%           2.000000\n",
            "95%           5.000000\n",
            "max         691.000000\n",
            "Name: rating, dtype: float64\n"
          ]
        },
        {
          "output_type": "display_data",
          "data": {
            "text/plain": [
              "<Figure size 1000x500 with 1 Axes>"
            ],
            "image/png": "[encoded data removed]"
          },
          "metadata": {}
        }
      ],
      "source": [
        "group_by_and_plot(df[~df['rating'].isna()], group_by_name='user_id', rating_col_name='rating', quantile=0.99, title='Количество оценок у пользователя');"
      ]
    },
    {
      "cell_type": "markdown",
      "id": "9f440890",
      "metadata": {
        "id": "9f440890"
      },
      "source": [
        "Оценок гораздо меньше. Часто мы не хотим что-то рекомендовать человеку на основании одной оценки или строить матричные разложения/учить сетки на супер-разреженных данных, и поэтому используем implicit feedback."
      ]
    },
    {
      "cell_type": "markdown",
      "id": "a6f0377d",
      "metadata": {
        "id": "a6f0377d"
      },
      "source": [
        "<a id='filter'></a>\n",
        "# 0 Фильтрация данных"
      ]
    },
    {
      "cell_type": "markdown",
      "id": "390d4551",
      "metadata": {
        "id": "390d4551"
      },
      "source": [
        "Будем использовать историю чтения книг, а не оценки, так как этих данных больше и они могут лучше характеризовать актуальные предпочтения пользователей. \n",
        "\n",
        "Что такое релевантная книга по доле прочитанного? Прочитанная на 100%? А если на 60%?\n",
        "Самый простой способ — отталкиваться от бизнес-требований и бизнес-метрик.\n"
      ]
    },
    {
      "cell_type": "markdown",
      "id": "a15860e0",
      "metadata": {
        "id": "a15860e0"
      },
      "source": [
        "### Оставим взаимодействия с progress > 50"
      ]
    },
    {
      "cell_type": "code",
      "execution_count": 26,
      "id": "1ffca0fb",
      "metadata": {
        "id": "1ffca0fb"
      },
      "outputs": [],
      "source": [
        "filtered_df = df[df['progress'] > 50]"
      ]
    },
    {
      "cell_type": "code",
      "execution_count": 27,
      "id": "067ffdae",
      "metadata": {
        "colab": {
          "base_uri": "https://localhost:8080/"
        },
        "id": "067ffdae",
        "outputId": "300d6998-f8ae-4c93-dd6c-5b12210e253d"
      },
      "outputs": [
        {
          "output_type": "stream",
          "name": "stdout",
          "text": [
            "Длина лога = 712368,\n",
            "количество пользователей = 143465,\n",
            "количество объектов = 59560\n"
          ]
        }
      ],
      "source": [
        "get_log_info(filtered_df)"
      ]
    },
    {
      "cell_type": "markdown",
      "id": "7d707085",
      "metadata": {
        "id": "7d707085"
      },
      "source": [
        "### Удалим объекты и пользователей менее чем с 5 взаимодействиями\n",
        "\n",
        "Облегчим себе жизнь и уменьшим размеры датасета. В индустрии и академии тоже так делают, так как качество коллаборативных моделей для пользователей и айтемов с небольшим числом взаимодействий с большой вероятностью будет низким. \n",
        "\n",
        "1) оставьте в filtered_df книги с 5 и более взаимодействиями, \n",
        "\n",
        "2) после этого оставьте в filtered_df пользователей с 5 и более взаимодействиями"
      ]
    },
    {
      "cell_type": "code",
      "execution_count": 28,
      "id": "f89a5186",
      "metadata": {
        "id": "f89a5186"
      },
      "outputs": [],
      "source": [
        "item_counts = filtered_df.groupby('item_id')['user_id'].count()\n",
        "pop_items = item_counts[item_counts > 4]\n",
        "filtered_df = filtered_df[filtered_df['item_id'].isin(pop_items.index)]"
      ]
    },
    {
      "cell_type": "code",
      "execution_count": 29,
      "id": "0c30e757",
      "metadata": {
        "id": "0c30e757"
      },
      "outputs": [],
      "source": [
        "user_counts = filtered_df.groupby('user_id')['item_id'].count()\n",
        "pop_users = user_counts[user_counts > 4]\n",
        "filtered_df = filtered_df[filtered_df['user_id'].isin(pop_users.index)].copy()"
      ]
    },
    {
      "cell_type": "code",
      "execution_count": 30,
      "id": "df4d5fa2",
      "metadata": {
        "colab": {
          "base_uri": "https://localhost:8080/"
        },
        "id": "df4d5fa2",
        "outputId": "6e5e96f1-4a64-4b3f-9fa7-96eea50f1ac4"
      },
      "outputs": [
        {
          "output_type": "stream",
          "name": "stdout",
          "text": [
            "Длина лога = 423599,\n",
            "количество пользователей = 33875,\n",
            "количество объектов = 50982\n"
          ]
        }
      ],
      "source": [
        "get_log_info(filtered_df)"
      ]
    },
    {
      "cell_type": "code",
      "execution_count": 31,
      "id": "1e824962",
      "metadata": {
        "id": "1e824962"
      },
      "outputs": [],
      "source": [
        "assert filtered_df.shape[0] == 423599\n",
        "assert filtered_df['user_id'].nunique() == 33875"
      ]
    },
    {
      "cell_type": "markdown",
      "source": [
        "### Конвертация id"
      ],
      "metadata": {
        "id": "IG2Yf_aXMxJ9"
      },
      "id": "IG2Yf_aXMxJ9"
    },
    {
      "cell_type": "code",
      "execution_count": 32,
      "metadata": {
        "colab": {
          "base_uri": "https://localhost:8080/",
          "height": 110
        },
        "outputId": "3f81075f-9146-4567-ca40-feeddc3947aa",
        "id": "z6NqoSE0MxnN"
      },
      "outputs": [
        {
          "output_type": "stream",
          "name": "stdout",
          "text": [
            "CPU times: user 51.9 ms, sys: 1 µs, total: 51.9 ms\n",
            "Wall time: 54.9 ms\n"
          ]
        },
        {
          "output_type": "execute_result",
          "data": {
            "text/plain": [
              "LabelEncoder()"
            ],
            "text/html": [
              "<style>#sk-container-id-1 {color: black;background-color: white;}#sk-container-id-1 pre{padding: 0;}#sk-container-id-1 div.sk-toggleable {background-color: white;}#sk-container-id-1 label.sk-toggleable__label {cursor: pointer;display: block;width: 100%;margin-bottom: 0;padding: 0.3em;box-sizing: border-box;text-align: center;}#sk-container-id-1 label.sk-toggleable__label-arrow:before {content: \"▸\";float: left;margin-right: 0.25em;color: #696969;}#sk-container-id-1 label.sk-toggleable__label-arrow:hover:before {color: black;}#sk-container-id-1 div.sk-estimator:hover label.sk-toggleable__label-arrow:before {color: black;}#sk-container-id-1 div.sk-toggleable__content {max-height: 0;max-width: 0;overflow: hidden;text-align: left;background-color: #f0f8ff;}#sk-container-id-1 div.sk-toggleable__content pre {margin: 0.2em;color: black;border-radius: 0.25em;background-color: #f0f8ff;}#sk-container-id-1 input.sk-toggleable__control:checked~div.sk-toggleable__content {max-height: 200px;max-width: 100%;overflow: auto;}#sk-container-id-1 input.sk-toggleable__control:checked~label.sk-toggleable__label-arrow:before {content: \"▾\";}#sk-container-id-1 div.sk-estimator input.sk-toggleable__control:checked~label.sk-toggleable__label {background-color: #d4ebff;}#sk-container-id-1 div.sk-label input.sk-toggleable__control:checked~label.sk-toggleable__label {background-color: #d4ebff;}#sk-container-id-1 input.sk-hidden--visually {border: 0;clip: rect(1px 1px 1px 1px);clip: rect(1px, 1px, 1px, 1px);height: 1px;margin: -1px;overflow: hidden;padding: 0;position: absolute;width: 1px;}#sk-container-id-1 div.sk-estimator {font-family: monospace;background-color: #f0f8ff;border: 1px dotted black;border-radius: 0.25em;box-sizing: border-box;margin-bottom: 0.5em;}#sk-container-id-1 div.sk-estimator:hover {background-color: #d4ebff;}#sk-container-id-1 div.sk-parallel-item::after {content: \"\";width: 100%;border-bottom: 1px solid gray;flex-grow: 1;}#sk-container-id-1 div.sk-label:hover label.sk-toggleable__label {background-color: #d4ebff;}#sk-container-id-1 div.sk-serial::before {content: \"\";position: absolute;border-left: 1px solid gray;box-sizing: border-box;top: 0;bottom: 0;left: 50%;z-index: 0;}#sk-container-id-1 div.sk-serial {display: flex;flex-direction: column;align-items: center;background-color: white;padding-right: 0.2em;padding-left: 0.2em;position: relative;}#sk-container-id-1 div.sk-item {position: relative;z-index: 1;}#sk-container-id-1 div.sk-parallel {display: flex;align-items: stretch;justify-content: center;background-color: white;position: relative;}#sk-container-id-1 div.sk-item::before, #sk-container-id-1 div.sk-parallel-item::before {content: \"\";position: absolute;border-left: 1px solid gray;box-sizing: border-box;top: 0;bottom: 0;left: 50%;z-index: -1;}#sk-container-id-1 div.sk-parallel-item {display: flex;flex-direction: column;z-index: 1;position: relative;background-color: white;}#sk-container-id-1 div.sk-parallel-item:first-child::after {align-self: flex-end;width: 50%;}#sk-container-id-1 div.sk-parallel-item:last-child::after {align-self: flex-start;width: 50%;}#sk-container-id-1 div.sk-parallel-item:only-child::after {width: 0;}#sk-container-id-1 div.sk-dashed-wrapped {border: 1px dashed gray;margin: 0 0.4em 0.5em 0.4em;box-sizing: border-box;padding-bottom: 0.4em;background-color: white;}#sk-container-id-1 div.sk-label label {font-family: monospace;font-weight: bold;display: inline-block;line-height: 1.2em;}#sk-container-id-1 div.sk-label-container {text-align: center;}#sk-container-id-1 div.sk-container {/* jupyter's `normalize.less` sets `[hidden] { display: none; }` but bootstrap.min.css set `[hidden] { display: none !important; }` so we also need the `!important` here to be able to override the default hidden behavior on the sphinx rendered scikit-learn.org. See: https://github.com/scikit-learn/scikit-learn/issues/21755 */display: inline-block !important;position: relative;}#sk-container-id-1 div.sk-text-repr-fallback {display: none;}</style><div id=\"sk-container-id-1\" class=\"sk-top-container\"><div class=\"sk-text-repr-fallback\"><pre>LabelEncoder()</pre><b>In a Jupyter environment, please rerun this cell to show the HTML representation or trust the notebook. <br />On GitHub, the HTML representation is unable to render, please try loading this page with nbviewer.org.</b></div><div class=\"sk-container\" hidden><div class=\"sk-item\"><div class=\"sk-estimator sk-toggleable\"><input class=\"sk-toggleable__control sk-hidden--visually\" id=\"sk-estimator-id-1\" type=\"checkbox\" checked><label for=\"sk-estimator-id-1\" class=\"sk-toggleable__label sk-toggleable__label-arrow\">LabelEncoder</label><div class=\"sk-toggleable__content\"><pre>LabelEncoder()</pre></div></div></div></div></div>"
            ]
          },
          "metadata": {},
          "execution_count": 32
        }
      ],
      "source": [
        "%%time\n",
        "# конвертируем id пользователей и item-ов в подряд идущие номера\n",
        "user_encoder = LabelEncoder()\n",
        "item_encoder = LabelEncoder()\n",
        "user_encoder.fit(filtered_df['user_id'])\n",
        "item_encoder.fit(filtered_df['item_id'])"
      ],
      "id": "z6NqoSE0MxnN"
    },
    {
      "cell_type": "code",
      "source": [
        "i_features_filtered = i_features[i_features['item_id'].isin(filtered_df['item_id'].unique())].copy()\n",
        "u_features_filtered = u_features[u_features['user_id'].isin(filtered_df['user_id'].unique())].copy()"
      ],
      "metadata": {
        "id": "4Jloj7FtNkgF"
      },
      "id": "4Jloj7FtNkgF",
      "execution_count": 33,
      "outputs": []
    },
    {
      "cell_type": "code",
      "execution_count": 34,
      "metadata": {
        "colab": {
          "base_uri": "https://localhost:8080/"
        },
        "outputId": "7bbb8f04-b669-4e3e-cfed-6fa76f8d0386",
        "id": "Xo_lPQFbMxnO"
      },
      "outputs": [
        {
          "output_type": "stream",
          "name": "stdout",
          "text": [
            "CPU times: user 140 ms, sys: 123 µs, total: 140 ms\n",
            "Wall time: 143 ms\n"
          ]
        }
      ],
      "source": [
        "%%time\n",
        "filtered_df.loc[:, 'user_id'] = user_encoder.transform(filtered_df['user_id'])\n",
        "filtered_df.loc[:, 'item_id'] = item_encoder.transform(filtered_df['item_id'])"
      ],
      "id": "Xo_lPQFbMxnO"
    },
    {
      "cell_type": "code",
      "source": [
        "%%time\n",
        "i_features_filtered.loc[:, 'item_id'] = item_encoder.transform(i_features_filtered['item_id'])\n",
        "u_features_filtered.loc[:, 'user_id'] = user_encoder.transform(u_features_filtered['user_id'])\n",
        "# i_features_filtered.set_index('item_id', inplace=True)"
      ],
      "metadata": {
        "colab": {
          "base_uri": "https://localhost:8080/"
        },
        "id": "Xeh03OThNSzf",
        "outputId": "420c9f0c-47f7-4c29-96d3-9e3af5f1d226"
      },
      "id": "Xeh03OThNSzf",
      "execution_count": 35,
      "outputs": [
        {
          "output_type": "stream",
          "name": "stdout",
          "text": [
            "CPU times: user 12.1 ms, sys: 12 µs, total: 12.1 ms\n",
            "Wall time: 12.1 ms\n"
          ]
        }
      ]
    },
    {
      "cell_type": "code",
      "source": [
        "TEST_BOOK = 36618\n",
        "i_features_filtered[i_features_filtered['item_id'] == TEST_BOOK]"
      ],
      "metadata": {
        "colab": {
          "base_uri": "https://localhost:8080/",
          "height": 81
        },
        "id": "DIGiqKhzfhQ5",
        "outputId": "6621a962-5e88-4fd1-a7df-ce3eb50c0b21"
      },
      "id": "DIGiqKhzfhQ5",
      "execution_count": 38,
      "outputs": [
        {
          "output_type": "execute_result",
          "data": {
            "text/plain": [
              "       item_id                                title  \\\n",
              "43954    36618  Магический спецкурс. Первый семестр   \n",
              "\n",
              "                                                 genres      authors  year  \n",
              "43954  Попаданцы,Книги про волшебников,Любовное фэнтези  Лена Летняя  2017  "
            ],
            "text/html": [
              "\n",
              "  <div id=\"df-c2e90736-68b2-4db0-a826-acd00e80477d\">\n",
              "    <div class=\"colab-df-container\">\n",
              "      <div>\n",
              "<style scoped>\n",
              "    .dataframe tbody tr th:only-of-type {\n",
              "        vertical-align: middle;\n",
              "    }\n",
              "\n",
              "    .dataframe tbody tr th {\n",
              "        vertical-align: top;\n",
              "    }\n",
              "\n",
              "    .dataframe thead th {\n",
              "        text-align: right;\n",
              "    }\n",
              "</style>\n",
              "<table border=\"1\" class=\"dataframe\">\n",
              "  <thead>\n",
              "    <tr style=\"text-align: right;\">\n",
              "      <th></th>\n",
              "      <th>item_id</th>\n",
              "      <th>title</th>\n",
              "      <th>genres</th>\n",
              "      <th>authors</th>\n",
              "      <th>year</th>\n",
              "    </tr>\n",
              "  </thead>\n",
              "  <tbody>\n",
              "    <tr>\n",
              "      <th>43954</th>\n",
              "      <td>36618</td>\n",
              "      <td>Магический спецкурс. Первый семестр</td>\n",
              "      <td>Попаданцы,Книги про волшебников,Любовное фэнтези</td>\n",
              "      <td>Лена Летняя</td>\n",
              "      <td>2017</td>\n",
              "    </tr>\n",
              "  </tbody>\n",
              "</table>\n",
              "</div>\n",
              "      <button class=\"colab-df-convert\" onclick=\"convertToInteractive('df-c2e90736-68b2-4db0-a826-acd00e80477d')\"\n",
              "              title=\"Convert this dataframe to an interactive table.\"\n",
              "              style=\"display:none;\">\n",
              "        \n",
              "  <svg xmlns=\"http://www.w3.org/2000/svg\" height=\"24px\"viewBox=\"0 0 24 24\"\n",
              "       width=\"24px\">\n",
              "    <path d=\"M0 0h24v24H0V0z\" fill=\"none\"/>\n",
              "    <path d=\"M18.56 5.44l.94 2.06.94-2.06 2.06-.94-2.06-.94-.94-2.06-.94 2.06-2.06.94zm-11 1L8.5 8.5l.94-2.06 2.06-.94-2.06-.94L8.5 2.5l-.94 2.06-2.06.94zm10 10l.94 2.06.94-2.06 2.06-.94-2.06-.94-.94-2.06-.94 2.06-2.06.94z\"/><path d=\"M17.41 7.96l-1.37-1.37c-.4-.4-.92-.59-1.43-.59-.52 0-1.04.2-1.43.59L10.3 9.45l-7.72 7.72c-.78.78-.78 2.05 0 2.83L4 21.41c.39.39.9.59 1.41.59.51 0 1.02-.2 1.41-.59l7.78-7.78 2.81-2.81c.8-.78.8-2.07 0-2.86zM5.41 20L4 18.59l7.72-7.72 1.47 1.35L5.41 20z\"/>\n",
              "  </svg>\n",
              "      </button>\n",
              "      \n",
              "  <style>\n",
              "    .colab-df-container {\n",
              "      display:flex;\n",
              "      flex-wrap:wrap;\n",
              "      gap: 12px;\n",
              "    }\n",
              "\n",
              "    .colab-df-convert {\n",
              "      background-color: #E8F0FE;\n",
              "      border: none;\n",
              "      border-radius: 50%;\n",
              "      cursor: pointer;\n",
              "      display: none;\n",
              "      fill: #1967D2;\n",
              "      height: 32px;\n",
              "      padding: 0 0 0 0;\n",
              "      width: 32px;\n",
              "    }\n",
              "\n",
              "    .colab-df-convert:hover {\n",
              "      background-color: #E2EBFA;\n",
              "      box-shadow: 0px 1px 2px rgba(60, 64, 67, 0.3), 0px 1px 3px 1px rgba(60, 64, 67, 0.15);\n",
              "      fill: #174EA6;\n",
              "    }\n",
              "\n",
              "    [theme=dark] .colab-df-convert {\n",
              "      background-color: #3B4455;\n",
              "      fill: #D2E3FC;\n",
              "    }\n",
              "\n",
              "    [theme=dark] .colab-df-convert:hover {\n",
              "      background-color: #434B5C;\n",
              "      box-shadow: 0px 1px 3px 1px rgba(0, 0, 0, 0.15);\n",
              "      filter: drop-shadow(0px 1px 2px rgba(0, 0, 0, 0.3));\n",
              "      fill: #FFFFFF;\n",
              "    }\n",
              "  </style>\n",
              "\n",
              "      <script>\n",
              "        const buttonEl =\n",
              "          document.querySelector('#df-c2e90736-68b2-4db0-a826-acd00e80477d button.colab-df-convert');\n",
              "        buttonEl.style.display =\n",
              "          google.colab.kernel.accessAllowed ? 'block' : 'none';\n",
              "\n",
              "        async function convertToInteractive(key) {\n",
              "          const element = document.querySelector('#df-c2e90736-68b2-4db0-a826-acd00e80477d');\n",
              "          const dataTable =\n",
              "            await google.colab.kernel.invokeFunction('convertToInteractive',\n",
              "                                                     [key], {});\n",
              "          if (!dataTable) return;\n",
              "\n",
              "          const docLinkHtml = 'Like what you see? Visit the ' +\n",
              "            '<a target=\"_blank\" href=https://colab.research.google.com/notebooks/data_table.ipynb>data table notebook</a>'\n",
              "            + ' to learn more about interactive tables.';\n",
              "          element.innerHTML = '';\n",
              "          dataTable['output_type'] = 'display_data';\n",
              "          await google.colab.output.renderOutput(dataTable, element);\n",
              "          const docLink = document.createElement('div');\n",
              "          docLink.innerHTML = docLinkHtml;\n",
              "          element.appendChild(docLink);\n",
              "        }\n",
              "      </script>\n",
              "    </div>\n",
              "  </div>\n",
              "  "
            ]
          },
          "metadata": {},
          "execution_count": 38
        }
      ]
    },
    {
      "cell_type": "code",
      "source": [
        "TEST_USER = 4\n",
        "u_features_filtered[u_features_filtered['user_id'] == TEST_USER]"
      ],
      "metadata": {
        "colab": {
          "base_uri": "https://localhost:8080/",
          "height": 81
        },
        "id": "B3lXRPmLfxqS",
        "outputId": "2ef310c0-a4d3-4361-d6f0-82ac93cf136b"
      },
      "id": "B3lXRPmLfxqS",
      "execution_count": 39,
      "outputs": [
        {
          "output_type": "execute_result",
          "data": {
            "text/plain": [
              "    user_id    age  sex\n",
              "19        4  18_24  0.0"
            ],
            "text/html": [
              "\n",
              "  <div id=\"df-99dcf1c8-1ff1-4c35-b80c-dac2d5e3f5ae\">\n",
              "    <div class=\"colab-df-container\">\n",
              "      <div>\n",
              "<style scoped>\n",
              "    .dataframe tbody tr th:only-of-type {\n",
              "        vertical-align: middle;\n",
              "    }\n",
              "\n",
              "    .dataframe tbody tr th {\n",
              "        vertical-align: top;\n",
              "    }\n",
              "\n",
              "    .dataframe thead th {\n",
              "        text-align: right;\n",
              "    }\n",
              "</style>\n",
              "<table border=\"1\" class=\"dataframe\">\n",
              "  <thead>\n",
              "    <tr style=\"text-align: right;\">\n",
              "      <th></th>\n",
              "      <th>user_id</th>\n",
              "      <th>age</th>\n",
              "      <th>sex</th>\n",
              "    </tr>\n",
              "  </thead>\n",
              "  <tbody>\n",
              "    <tr>\n",
              "      <th>19</th>\n",
              "      <td>4</td>\n",
              "      <td>18_24</td>\n",
              "      <td>0.0</td>\n",
              "    </tr>\n",
              "  </tbody>\n",
              "</table>\n",
              "</div>\n",
              "      <button class=\"colab-df-convert\" onclick=\"convertToInteractive('df-99dcf1c8-1ff1-4c35-b80c-dac2d5e3f5ae')\"\n",
              "              title=\"Convert this dataframe to an interactive table.\"\n",
              "              style=\"display:none;\">\n",
              "        \n",
              "  <svg xmlns=\"http://www.w3.org/2000/svg\" height=\"24px\"viewBox=\"0 0 24 24\"\n",
              "       width=\"24px\">\n",
              "    <path d=\"M0 0h24v24H0V0z\" fill=\"none\"/>\n",
              "    <path d=\"M18.56 5.44l.94 2.06.94-2.06 2.06-.94-2.06-.94-.94-2.06-.94 2.06-2.06.94zm-11 1L8.5 8.5l.94-2.06 2.06-.94-2.06-.94L8.5 2.5l-.94 2.06-2.06.94zm10 10l.94 2.06.94-2.06 2.06-.94-2.06-.94-.94-2.06-.94 2.06-2.06.94z\"/><path d=\"M17.41 7.96l-1.37-1.37c-.4-.4-.92-.59-1.43-.59-.52 0-1.04.2-1.43.59L10.3 9.45l-7.72 7.72c-.78.78-.78 2.05 0 2.83L4 21.41c.39.39.9.59 1.41.59.51 0 1.02-.2 1.41-.59l7.78-7.78 2.81-2.81c.8-.78.8-2.07 0-2.86zM5.41 20L4 18.59l7.72-7.72 1.47 1.35L5.41 20z\"/>\n",
              "  </svg>\n",
              "      </button>\n",
              "      \n",
              "  <style>\n",
              "    .colab-df-container {\n",
              "      display:flex;\n",
              "      flex-wrap:wrap;\n",
              "      gap: 12px;\n",
              "    }\n",
              "\n",
              "    .colab-df-convert {\n",
              "      background-color: #E8F0FE;\n",
              "      border: none;\n",
              "      border-radius: 50%;\n",
              "      cursor: pointer;\n",
              "      display: none;\n",
              "      fill: #1967D2;\n",
              "      height: 32px;\n",
              "      padding: 0 0 0 0;\n",
              "      width: 32px;\n",
              "    }\n",
              "\n",
              "    .colab-df-convert:hover {\n",
              "      background-color: #E2EBFA;\n",
              "      box-shadow: 0px 1px 2px rgba(60, 64, 67, 0.3), 0px 1px 3px 1px rgba(60, 64, 67, 0.15);\n",
              "      fill: #174EA6;\n",
              "    }\n",
              "\n",
              "    [theme=dark] .colab-df-convert {\n",
              "      background-color: #3B4455;\n",
              "      fill: #D2E3FC;\n",
              "    }\n",
              "\n",
              "    [theme=dark] .colab-df-convert:hover {\n",
              "      background-color: #434B5C;\n",
              "      box-shadow: 0px 1px 3px 1px rgba(0, 0, 0, 0.15);\n",
              "      filter: drop-shadow(0px 1px 2px rgba(0, 0, 0, 0.3));\n",
              "      fill: #FFFFFF;\n",
              "    }\n",
              "  </style>\n",
              "\n",
              "      <script>\n",
              "        const buttonEl =\n",
              "          document.querySelector('#df-99dcf1c8-1ff1-4c35-b80c-dac2d5e3f5ae button.colab-df-convert');\n",
              "        buttonEl.style.display =\n",
              "          google.colab.kernel.accessAllowed ? 'block' : 'none';\n",
              "\n",
              "        async function convertToInteractive(key) {\n",
              "          const element = document.querySelector('#df-99dcf1c8-1ff1-4c35-b80c-dac2d5e3f5ae');\n",
              "          const dataTable =\n",
              "            await google.colab.kernel.invokeFunction('convertToInteractive',\n",
              "                                                     [key], {});\n",
              "          if (!dataTable) return;\n",
              "\n",
              "          const docLinkHtml = 'Like what you see? Visit the ' +\n",
              "            '<a target=\"_blank\" href=https://colab.research.google.com/notebooks/data_table.ipynb>data table notebook</a>'\n",
              "            + ' to learn more about interactive tables.';\n",
              "          element.innerHTML = '';\n",
              "          dataTable['output_type'] = 'display_data';\n",
              "          await google.colab.output.renderOutput(dataTable, element);\n",
              "          const docLink = document.createElement('div');\n",
              "          docLink.innerHTML = docLinkHtml;\n",
              "          element.appendChild(docLink);\n",
              "        }\n",
              "      </script>\n",
              "    </div>\n",
              "  </div>\n",
              "  "
            ]
          },
          "metadata": {},
          "execution_count": 39
        }
      ]
    },
    {
      "cell_type": "markdown",
      "id": "02c48652",
      "metadata": {
        "id": "02c48652"
      },
      "source": [
        "# 1 Разбиение данных\n",
        "\n",
        "Как построить локальную валидацию? \n",
        "Опять же, исходя из реальной задачи. В реальности у нас есть срез истории взаимодействия в прошлом и мы хотим предсказать предпочтения пользователей в будущем.\n",
        "В статьях разных лет используются:\n",
        "- случайное разбиение\n",
        "- случайное внутри истории пользователя (k item-ов каждого пользователя в test)\n",
        "- leave-one-out / leave-k-out  по времени\n",
        "- time-based (например, взаимодействия в течение будущих 7 дней)\n",
        "\n",
        "Почему плохо разбивать без учета timestamp? "
      ]
    },
    {
      "cell_type": "markdown",
      "id": "49be822a",
      "metadata": {
        "id": "49be822a"
      },
      "source": [
        "Реализуем time-based разбиение, оставим в test только активных пользователей и возьмем первые K взаимодействий."
      ]
    },
    {
      "cell_type": "code",
      "execution_count": 40,
      "id": "tRNRQEoqfeGk",
      "metadata": {
        "colab": {
          "base_uri": "https://localhost:8080/",
          "height": 505
        },
        "id": "tRNRQEoqfeGk",
        "outputId": "a57055ff-1306-418b-87e5-7de01b42d1df"
      },
      "outputs": [
        {
          "output_type": "display_data",
          "data": {
            "text/plain": [
              "<IPython.core.display.HTML object>"
            ],
            "text/html": [
              "<iframe src=\"https://drive.google.com/file/d/1L7dgH9lMYHBpxPASPJEUjm8U3_f9VrdQ/preview\" width=\"640\" height=\"480\" allow=\"autoplay\"></iframe>\n"
            ]
          },
          "metadata": {}
        }
      ],
      "source": [
        "%%html\n",
        "<iframe src=\"https://drive.google.com/file/d/1L7dgH9lMYHBpxPASPJEUjm8U3_f9VrdQ/preview\" width=\"640\" height=\"480\" allow=\"autoplay\"></iframe>"
      ]
    },
    {
      "cell_type": "markdown",
      "id": "40300326",
      "metadata": {
        "id": "40300326"
      },
      "source": [
        "Лучше не ограничиваться одним сплитом, а выполнять кросс-валидацию, так как поведение пользователей, а с ним и метрики, могут меняться в зависимости от времени, дня недели, погодных условий и других внешних факторов."
      ]
    },
    {
      "cell_type": "markdown",
      "id": "6bb5183a",
      "metadata": {
        "id": "6bb5183a"
      },
      "source": [
        "## Разобьем датасет на train и test по времени, взяв 20% наиболее свежих взаимодействий в test"
      ]
    },
    {
      "cell_type": "code",
      "execution_count": 41,
      "id": "37e42e4b",
      "metadata": {
        "id": "37e42e4b"
      },
      "outputs": [],
      "source": [
        "train_by_date = filtered_df[filtered_df['start_date'] <= filtered_df['start_date'].quantile(0.8)]\n",
        "test_by_date = filtered_df[filtered_df['start_date'] > filtered_df['start_date'].quantile(0.8)]"
      ]
    },
    {
      "cell_type": "code",
      "execution_count": 42,
      "id": "4b854eab",
      "metadata": {
        "id": "4b854eab"
      },
      "outputs": [],
      "source": [
        "assert train_by_date.shape[0] == 339083\n",
        "assert test_by_date.shape[0] == 84516"
      ]
    },
    {
      "cell_type": "markdown",
      "id": "a86210bf",
      "metadata": {
        "id": "a86210bf"
      },
      "source": [
        "## Оставим в test только пользователей, у которых в test 5 и более взаимодействий и возьмем первые 5 из них"
      ]
    },
    {
      "cell_type": "code",
      "execution_count": 43,
      "id": "33475ca7",
      "metadata": {
        "id": "33475ca7"
      },
      "outputs": [],
      "source": [
        "counts_in_test = test_by_date.groupby('user_id')['item_id'].count()\n",
        "test_by_date = test_by_date[test_by_date['user_id'].isin(counts_in_test[counts_in_test > 4].index)].copy()\n",
        "test_by_date['rank'] = test_by_date.groupby('user_id')['start_date'].rank(method=\"first\", ascending=True)\n",
        "test_by_date = test_by_date[test_by_date['rank'] <= 5].drop(columns=['rank'])\n",
        "\n",
        "# удалим холодных пользователей\n",
        "test_by_date = test_by_date[test_by_date['user_id'].isin(train_by_date['user_id'].unique())]\n",
        "test_by_date_users = test_by_date['user_id'].drop_duplicates()"
      ]
    },
    {
      "cell_type": "code",
      "execution_count": 44,
      "id": "115a5422",
      "metadata": {
        "id": "115a5422"
      },
      "outputs": [],
      "source": [
        "assert test_by_date.shape[0] == 14995"
      ]
    },
    {
      "cell_type": "code",
      "execution_count": 45,
      "id": "bb950a49",
      "metadata": {
        "colab": {
          "base_uri": "https://localhost:8080/"
        },
        "id": "bb950a49",
        "outputId": "dd105c7c-81a5-4b98-e061-01c6d78671b8"
      },
      "outputs": [
        {
          "output_type": "stream",
          "name": "stdout",
          "text": [
            "Длина лога = 339083,\n",
            "количество пользователей = 33685,\n",
            "количество объектов = 49664\n"
          ]
        }
      ],
      "source": [
        "get_log_info(train_by_date)"
      ]
    },
    {
      "cell_type": "code",
      "execution_count": 46,
      "id": "6b779b69",
      "metadata": {
        "colab": {
          "base_uri": "https://localhost:8080/"
        },
        "id": "6b779b69",
        "outputId": "0590744b-dcae-4c01-e853-8655074b2842"
      },
      "outputs": [
        {
          "output_type": "stream",
          "name": "stdout",
          "text": [
            "Длина лога = 14995,\n",
            "количество пользователей = 2999,\n",
            "количество объектов = 7635\n"
          ]
        }
      ],
      "source": [
        "get_log_info(test_by_date)"
      ]
    },
    {
      "cell_type": "markdown",
      "id": "52ad0220",
      "metadata": {
        "id": "52ad0220"
      },
      "source": [
        "# 2 Первая модель — рекомендуем популярное"
      ]
    },
    {
      "cell_type": "markdown",
      "id": "191b6c35",
      "metadata": {
        "id": "191b6c35"
      },
      "source": [
        "Самый простой рекомендатель — модель, которая будет рекомендовать популярные книги (книги, которые чаще всего читали). Построим такую модель."
      ]
    },
    {
      "cell_type": "code",
      "execution_count": 47,
      "id": "d2eb7c0f",
      "metadata": {
        "id": "d2eb7c0f"
      },
      "outputs": [],
      "source": [
        "popularity = train_by_date.groupby('item_id')['user_id'].count().rename('popularity').sort_values(ascending=False)\n",
        "popularity /= train_by_date['user_id'].nunique()"
      ]
    },
    {
      "cell_type": "code",
      "execution_count": 48,
      "id": "82f011f9",
      "metadata": {
        "id": "82f011f9"
      },
      "outputs": [],
      "source": [
        "assert math.isclose(popularity[14267], 0.016951, abs_tol=1e-6)"
      ]
    },
    {
      "cell_type": "code",
      "execution_count": 49,
      "id": "d29d6ffe",
      "metadata": {
        "colab": {
          "base_uri": "https://localhost:8080/",
          "height": 363
        },
        "id": "d29d6ffe",
        "outputId": "25c3b2df-e107-4aa3-de68-4ccd2b09e106"
      },
      "outputs": [
        {
          "output_type": "execute_result",
          "data": {
            "text/plain": [
              "   item_id  popularity                                              title  \\\n",
              "0    14267    0.016951                            Зулейха открывает глаза   \n",
              "1    50597    0.014547                                           Черновик   \n",
              "2    42084    0.013626                                              После   \n",
              "3    19385    0.013626                                           Снеговик   \n",
              "4    39972    0.011340                                  Земное притяжение   \n",
              "5    17922    0.011281                                        После ссоры   \n",
              "6    43572    0.011222                                           Чистовик   \n",
              "7    25325    0.009351                          Пятьдесят оттенков серого   \n",
              "8    43119    0.009084  Струны волшебства. Книга первая. Страшные сказ...   \n",
              "9    15722    0.009025  Сила подсознания, или Как изменить жизнь за 4 ...   \n",
              "\n",
              "                                              genres              authors  \\\n",
              "0                     Современная русская литература         Гузель Яхина   \n",
              "1                                 Научная фантастика    Сергей Лукьяненко   \n",
              "2  Зарубежные любовные романы,Современные любовны...            Анна Тодд   \n",
              "3  Зарубежные детективы,Триллеры,Полицейские дете...              Ю Несбё   \n",
              "4  Современные детективы,Остросюжетные любовные р...     Татьяна Устинова   \n",
              "5  Зарубежные любовные романы,Современные любовны...            Анна Тодд   \n",
              "6                                 Научная фантастика    Сергей Лукьяненко   \n",
              "7      Эротические романы,Зарубежные любовные романы         Э. Л. Джеймс   \n",
              "8          Героическое фэнтези,Книги про волшебников  Милена Завойчинская   \n",
              "9  Практическая эзотерика,Эзотерика / оккультизм,...         Джо Диспенза   \n",
              "\n",
              "      year  \n",
              "0     2015  \n",
              "1  2004-05  \n",
              "2     2014  \n",
              "3     2007  \n",
              "4     2017  \n",
              "5     2014  \n",
              "6     2007  \n",
              "7     2012  \n",
              "8     2018  \n",
              "9     2013  "
            ],
            "text/html": [
              "\n",
              "  <div id=\"df-e365f7ce-e058-4a7b-b389-1194c999a101\">\n",
              "    <div class=\"colab-df-container\">\n",
              "      <div>\n",
              "<style scoped>\n",
              "    .dataframe tbody tr th:only-of-type {\n",
              "        vertical-align: middle;\n",
              "    }\n",
              "\n",
              "    .dataframe tbody tr th {\n",
              "        vertical-align: top;\n",
              "    }\n",
              "\n",
              "    .dataframe thead th {\n",
              "        text-align: right;\n",
              "    }\n",
              "</style>\n",
              "<table border=\"1\" class=\"dataframe\">\n",
              "  <thead>\n",
              "    <tr style=\"text-align: right;\">\n",
              "      <th></th>\n",
              "      <th>item_id</th>\n",
              "      <th>popularity</th>\n",
              "      <th>title</th>\n",
              "      <th>genres</th>\n",
              "      <th>authors</th>\n",
              "      <th>year</th>\n",
              "    </tr>\n",
              "  </thead>\n",
              "  <tbody>\n",
              "    <tr>\n",
              "      <th>0</th>\n",
              "      <td>14267</td>\n",
              "      <td>0.016951</td>\n",
              "      <td>Зулейха открывает глаза</td>\n",
              "      <td>Современная русская литература</td>\n",
              "      <td>Гузель Яхина</td>\n",
              "      <td>2015</td>\n",
              "    </tr>\n",
              "    <tr>\n",
              "      <th>1</th>\n",
              "      <td>50597</td>\n",
              "      <td>0.014547</td>\n",
              "      <td>Черновик</td>\n",
              "      <td>Научная фантастика</td>\n",
              "      <td>Сергей Лукьяненко</td>\n",
              "      <td>2004-05</td>\n",
              "    </tr>\n",
              "    <tr>\n",
              "      <th>2</th>\n",
              "      <td>42084</td>\n",
              "      <td>0.013626</td>\n",
              "      <td>После</td>\n",
              "      <td>Зарубежные любовные романы,Современные любовны...</td>\n",
              "      <td>Анна Тодд</td>\n",
              "      <td>2014</td>\n",
              "    </tr>\n",
              "    <tr>\n",
              "      <th>3</th>\n",
              "      <td>19385</td>\n",
              "      <td>0.013626</td>\n",
              "      <td>Снеговик</td>\n",
              "      <td>Зарубежные детективы,Триллеры,Полицейские дете...</td>\n",
              "      <td>Ю Несбё</td>\n",
              "      <td>2007</td>\n",
              "    </tr>\n",
              "    <tr>\n",
              "      <th>4</th>\n",
              "      <td>39972</td>\n",
              "      <td>0.011340</td>\n",
              "      <td>Земное притяжение</td>\n",
              "      <td>Современные детективы,Остросюжетные любовные р...</td>\n",
              "      <td>Татьяна Устинова</td>\n",
              "      <td>2017</td>\n",
              "    </tr>\n",
              "    <tr>\n",
              "      <th>5</th>\n",
              "      <td>17922</td>\n",
              "      <td>0.011281</td>\n",
              "      <td>После ссоры</td>\n",
              "      <td>Зарубежные любовные романы,Современные любовны...</td>\n",
              "      <td>Анна Тодд</td>\n",
              "      <td>2014</td>\n",
              "    </tr>\n",
              "    <tr>\n",
              "      <th>6</th>\n",
              "      <td>43572</td>\n",
              "      <td>0.011222</td>\n",
              "      <td>Чистовик</td>\n",
              "      <td>Научная фантастика</td>\n",
              "      <td>Сергей Лукьяненко</td>\n",
              "      <td>2007</td>\n",
              "    </tr>\n",
              "    <tr>\n",
              "      <th>7</th>\n",
              "      <td>25325</td>\n",
              "      <td>0.009351</td>\n",
              "      <td>Пятьдесят оттенков серого</td>\n",
              "      <td>Эротические романы,Зарубежные любовные романы</td>\n",
              "      <td>Э. Л. Джеймс</td>\n",
              "      <td>2012</td>\n",
              "    </tr>\n",
              "    <tr>\n",
              "      <th>8</th>\n",
              "      <td>43119</td>\n",
              "      <td>0.009084</td>\n",
              "      <td>Струны волшебства. Книга первая. Страшные сказ...</td>\n",
              "      <td>Героическое фэнтези,Книги про волшебников</td>\n",
              "      <td>Милена Завойчинская</td>\n",
              "      <td>2018</td>\n",
              "    </tr>\n",
              "    <tr>\n",
              "      <th>9</th>\n",
              "      <td>15722</td>\n",
              "      <td>0.009025</td>\n",
              "      <td>Сила подсознания, или Как изменить жизнь за 4 ...</td>\n",
              "      <td>Практическая эзотерика,Эзотерика / оккультизм,...</td>\n",
              "      <td>Джо Диспенза</td>\n",
              "      <td>2013</td>\n",
              "    </tr>\n",
              "  </tbody>\n",
              "</table>\n",
              "</div>\n",
              "      <button class=\"colab-df-convert\" onclick=\"convertToInteractive('df-e365f7ce-e058-4a7b-b389-1194c999a101')\"\n",
              "              title=\"Convert this dataframe to an interactive table.\"\n",
              "              style=\"display:none;\">\n",
              "        \n",
              "  <svg xmlns=\"http://www.w3.org/2000/svg\" height=\"24px\"viewBox=\"0 0 24 24\"\n",
              "       width=\"24px\">\n",
              "    <path d=\"M0 0h24v24H0V0z\" fill=\"none\"/>\n",
              "    <path d=\"M18.56 5.44l.94 2.06.94-2.06 2.06-.94-2.06-.94-.94-2.06-.94 2.06-2.06.94zm-11 1L8.5 8.5l.94-2.06 2.06-.94-2.06-.94L8.5 2.5l-.94 2.06-2.06.94zm10 10l.94 2.06.94-2.06 2.06-.94-2.06-.94-.94-2.06-.94 2.06-2.06.94z\"/><path d=\"M17.41 7.96l-1.37-1.37c-.4-.4-.92-.59-1.43-.59-.52 0-1.04.2-1.43.59L10.3 9.45l-7.72 7.72c-.78.78-.78 2.05 0 2.83L4 21.41c.39.39.9.59 1.41.59.51 0 1.02-.2 1.41-.59l7.78-7.78 2.81-2.81c.8-.78.8-2.07 0-2.86zM5.41 20L4 18.59l7.72-7.72 1.47 1.35L5.41 20z\"/>\n",
              "  </svg>\n",
              "      </button>\n",
              "      \n",
              "  <style>\n",
              "    .colab-df-container {\n",
              "      display:flex;\n",
              "      flex-wrap:wrap;\n",
              "      gap: 12px;\n",
              "    }\n",
              "\n",
              "    .colab-df-convert {\n",
              "      background-color: #E8F0FE;\n",
              "      border: none;\n",
              "      border-radius: 50%;\n",
              "      cursor: pointer;\n",
              "      display: none;\n",
              "      fill: #1967D2;\n",
              "      height: 32px;\n",
              "      padding: 0 0 0 0;\n",
              "      width: 32px;\n",
              "    }\n",
              "\n",
              "    .colab-df-convert:hover {\n",
              "      background-color: #E2EBFA;\n",
              "      box-shadow: 0px 1px 2px rgba(60, 64, 67, 0.3), 0px 1px 3px 1px rgba(60, 64, 67, 0.15);\n",
              "      fill: #174EA6;\n",
              "    }\n",
              "\n",
              "    [theme=dark] .colab-df-convert {\n",
              "      background-color: #3B4455;\n",
              "      fill: #D2E3FC;\n",
              "    }\n",
              "\n",
              "    [theme=dark] .colab-df-convert:hover {\n",
              "      background-color: #434B5C;\n",
              "      box-shadow: 0px 1px 3px 1px rgba(0, 0, 0, 0.15);\n",
              "      filter: drop-shadow(0px 1px 2px rgba(0, 0, 0, 0.3));\n",
              "      fill: #FFFFFF;\n",
              "    }\n",
              "  </style>\n",
              "\n",
              "      <script>\n",
              "        const buttonEl =\n",
              "          document.querySelector('#df-e365f7ce-e058-4a7b-b389-1194c999a101 button.colab-df-convert');\n",
              "        buttonEl.style.display =\n",
              "          google.colab.kernel.accessAllowed ? 'block' : 'none';\n",
              "\n",
              "        async function convertToInteractive(key) {\n",
              "          const element = document.querySelector('#df-e365f7ce-e058-4a7b-b389-1194c999a101');\n",
              "          const dataTable =\n",
              "            await google.colab.kernel.invokeFunction('convertToInteractive',\n",
              "                                                     [key], {});\n",
              "          if (!dataTable) return;\n",
              "\n",
              "          const docLinkHtml = 'Like what you see? Visit the ' +\n",
              "            '<a target=\"_blank\" href=https://colab.research.google.com/notebooks/data_table.ipynb>data table notebook</a>'\n",
              "            + ' to learn more about interactive tables.';\n",
              "          element.innerHTML = '';\n",
              "          dataTable['output_type'] = 'display_data';\n",
              "          await google.colab.output.renderOutput(dataTable, element);\n",
              "          const docLink = document.createElement('div');\n",
              "          docLink.innerHTML = docLinkHtml;\n",
              "          element.appendChild(docLink);\n",
              "        }\n",
              "      </script>\n",
              "    </div>\n",
              "  </div>\n",
              "  "
            ]
          },
          "metadata": {},
          "execution_count": 49
        }
      ],
      "source": [
        "pd.DataFrame(popularity).merge(i_features_filtered, on='item_id').head(10)"
      ]
    },
    {
      "cell_type": "markdown",
      "id": "24857dca",
      "metadata": {
        "id": "24857dca"
      },
      "source": [
        "### Первая книга — Зулейха открывает глаза? Поздравляю, вы написали первую рекомендательную систему!"
      ]
    },
    {
      "cell_type": "markdown",
      "id": "9bc04c15",
      "metadata": {
        "id": "9bc04c15"
      },
      "source": [
        "Что не так?\n",
        "- Мы все-таки хотим предсказывать для пользователя, и хотим отфильтровать уже прочитанные им книги\n",
        "- Хотим получить predict для пользователей в виде датафрейма с колонками `user_id - item_id - relevance`\n",
        "- Хотим уметь получать нужное количество рекомендаций для каждого пользователя\n",
        "\n",
        "Поэтому сделаем базовый класс для рекомендателя, и будем наследовать от него наши алгоритмы."
      ]
    },
    {
      "cell_type": "markdown",
      "id": "3e90898d",
      "metadata": {
        "id": "3e90898d"
      },
      "source": [
        "# Класс ParentModel"
      ]
    },
    {
      "cell_type": "markdown",
      "id": "5907a573",
      "metadata": {
        "id": "5907a573"
      },
      "source": [
        "Давайте разберемся\n",
        "- как работают leave_top_k и _filter_seen\n",
        "- что делает predict\n",
        "\n",
        "Функционал Parent Model вдохновлен кодом нашей разработки - библиотеки для рекомендательных систем [RePlay](https://github.com/sb-ai-lab/RePlay). В самой библиотеке можно найти реализацию популярных метрик, алгоритмов и сплиттеров, а в [документации](https://sb-ai-lab.github.io/RePlay/pages/modules/models.html) к ней - необходимые пояснения и формулы.\n"
      ]
    },
    {
      "cell_type": "code",
      "execution_count": 50,
      "id": "8dc00e6e",
      "metadata": {
        "id": "8dc00e6e"
      },
      "outputs": [],
      "source": [
        "from copy import deepcopy"
      ]
    },
    {
      "cell_type": "code",
      "execution_count": 51,
      "id": "c0497b4a",
      "metadata": {
        "id": "c0497b4a"
      },
      "outputs": [],
      "source": [
        "def leave_top_k(pred: pd.DataFrame, \n",
        "                 k: int,\n",
        "                 group_by_col: str='user_id',\n",
        "                 order_by_col: str='relevance') -> pd.DataFrame:\n",
        "    \"\"\"\n",
        "    crop predictions to leave top-k recommendations for each user\n",
        "    \"\"\"\n",
        "    if pred.groupby(group_by_col)[group_by_col].count().max() <= k:\n",
        "        return pred\n",
        "    cropped_pred = deepcopy(pred)\n",
        "    cropped_pred['rank'] = (cropped_pred\n",
        "                            .groupby(group_by_col)[[order_by_col]]\n",
        "                            .rank(method=\"first\", ascending=False))\n",
        "    cropped_pred = cropped_pred[cropped_pred['rank'] <= k].drop(columns=['rank'])\n",
        "    return cropped_pred\n",
        "\n",
        "\n",
        "def filter_seen_items(log: pd.DataFrame, \n",
        "                 pred: pd.DataFrame) -> pd.DataFrame:\n",
        "    \"\"\"\n",
        "    filter pairs `user-item` present in log out of pred\n",
        "    \"\"\"\n",
        "    log_filtered = log[log['user_id'].isin(pred['user_id'].unique())]\n",
        "    pred = pred.merge(log_filtered[['user_id', 'item_id']].drop_duplicates(), \n",
        "                                on=['user_id', 'item_id'], \n",
        "                                how='outer', \n",
        "                                indicator = True)\n",
        "    return pred[pred['_merge'] == 'left_only'].drop(columns=['_merge'])\n",
        "\n",
        "\n",
        "class ParentModel:\n",
        "    @abc.abstractmethod\n",
        "    def fit(self, \n",
        "            log: pd.DataFrame, \n",
        "            user_features: Optional[pd.DataFrame]=None, \n",
        "            item_features: Optional[pd.DataFrame]=None):\n",
        "        \"\"\"\n",
        "        fit recommender\n",
        "        \n",
        "        Parameters\n",
        "        ----------\n",
        "        log : pandas dataframe with columns [user_id, item_id, timestamp, relevance]\n",
        "        user_features : pandas dataframe with column `user_id` and features columns\n",
        "        item_features : pandas dataframe with column `item_id` and features columns\n",
        "\n",
        "        Returns\n",
        "        -------\n",
        "        \n",
        "        \"\"\"\n",
        "    \n",
        "    \n",
        "    def predict(self, \n",
        "                log: pd.DataFrame, \n",
        "                users: pd.Series, \n",
        "                k: int,\n",
        "                user_features: Optional[pd.DataFrame]=None, \n",
        "                item_features: Optional[pd.DataFrame]=None,\n",
        "                filter_seen: bool = True) -> pd.DataFrame:\n",
        "        \"\"\"\n",
        "        predict with fitted model, filter seen and crop to top-k for each user\n",
        "        \n",
        "        Parameters\n",
        "        ----------\n",
        "        log: pandas dataframe with columns [user_id, item_id, timestamp, relevance]\n",
        "            used to filter seen and to make predictions by some models\n",
        "        users: user ids to recommend for\n",
        "        k: number of recommendations for each user\n",
        "        user_features: pandas dataframe with column `user_id` and features columns\n",
        "        item_features: pandas dataframe with column `item_id` and features columns\n",
        "        filter_seen: if True, items present in user history are filtered from predictions\n",
        "\n",
        "        Returns\n",
        "        -------\n",
        "        pandas dataframe with columns [user_id, item_id, relevance] \n",
        "            top-k recommended items for each user from `users`.\n",
        "        \"\"\"\n",
        "        \n",
        "        # overhead\n",
        "        max_items_in_train = log.groupby('user_id')[['item_id']].count().max()[0] if filter_seen else 0\n",
        "        \n",
        "        pred = self._predict(\n",
        "            log=log,\n",
        "            users=users, \n",
        "            k=max_items_in_train+k,\n",
        "            user_features=user_features, \n",
        "            item_features=item_features,\n",
        "            filter_seen=filter_seen)\n",
        "        if filter_seen:\n",
        "            pred = filter_seen_items(log, pred)\n",
        "            \n",
        "        return leave_top_k(pred, k)\n",
        "    \n",
        "    \n",
        "    @abc.abstractmethod    \n",
        "    def _predict(self, \n",
        "                log: pd.DataFrame, \n",
        "                users: pd.Series, \n",
        "                k: int,\n",
        "                user_features: Optional[pd.DataFrame]=None, \n",
        "                item_features: Optional[pd.DataFrame]=None,\n",
        "                filter_seen:bool = True) -> pd.DataFrame:\n",
        "        \"\"\"\n",
        "        predict with fitted model\n",
        "        \"\"\""
      ]
    },
    {
      "cell_type": "markdown",
      "id": "60888ddf",
      "metadata": {
        "id": "60888ddf"
      },
      "source": [
        "## Модель для рекомендаций популярного\n",
        "relevance = популярность книги, число пользователей, читавших книгу, деленное на общее число пользователей"
      ]
    },
    {
      "cell_type": "code",
      "execution_count": 52,
      "id": "565efd80",
      "metadata": {
        "id": "565efd80"
      },
      "outputs": [],
      "source": [
        "class PopularModel(ParentModel):\n",
        "    items_popularity: pd.DataFrame\n",
        "        \n",
        "    def fit(self, \n",
        "            log: pd.DataFrame, \n",
        "            user_features: Optional[pd.DataFrame]=None, \n",
        "            item_features: Optional[pd.DataFrame]=None) -> 'PopularModel':\n",
        "        \n",
        "        self.items_popularity = log.groupby('item_id')['user_id'].count().sort_values(ascending=False).rename('popularity') / log['user_id'].nunique()\n",
        "        return self\n",
        "        \n",
        "    def _predict(self, \n",
        "                log: pd.DataFrame, \n",
        "                users: pd.Series, \n",
        "                k: int,\n",
        "                user_features: Optional[pd.DataFrame]=None, \n",
        "                item_features: Optional[pd.DataFrame]=None,\n",
        "                filter_seen:bool = True) -> pd.DataFrame:\n",
        "\n",
        "        users_to_join = pd.DataFrame(users)\n",
        "        users_to_join['key'] = 0\n",
        "        pred = pd.DataFrame({'item_id': self.items_popularity[:k].index.to_list(),\n",
        "                     'relevance': self.items_popularity[:k].values})\n",
        "        pred['key'] = 0\n",
        "        return users_to_join.merge(pred, on='key', how='outer').drop(columns=['key']).reset_index(drop=True)\n"
      ]
    },
    {
      "cell_type": "code",
      "execution_count": 53,
      "id": "8b914c87",
      "metadata": {
        "colab": {
          "base_uri": "https://localhost:8080/"
        },
        "id": "8b914c87",
        "outputId": "cdcb93f7-9638-460a-abae-17113ac16a33"
      },
      "outputs": [
        {
          "output_type": "stream",
          "name": "stdout",
          "text": [
            "CPU times: user 18.4 ms, sys: 66 µs, total: 18.5 ms\n",
            "Wall time: 18.6 ms\n"
          ]
        },
        {
          "output_type": "execute_result",
          "data": {
            "text/plain": [
              "<__main__.PopularModel at 0x7f352f5cf2e0>"
            ]
          },
          "metadata": {},
          "execution_count": 53
        }
      ],
      "source": [
        "%%time\n",
        "rec = PopularModel()\n",
        "rec.fit(train_by_date)"
      ]
    },
    {
      "cell_type": "code",
      "execution_count": 54,
      "id": "8c2400f7",
      "metadata": {
        "colab": {
          "base_uri": "https://localhost:8080/"
        },
        "id": "8c2400f7",
        "outputId": "88d401c7-7b7b-4463-d79a-c28a5fd23b8a"
      },
      "outputs": [
        {
          "output_type": "stream",
          "name": "stdout",
          "text": [
            "CPU times: user 865 ms, sys: 149 ms, total: 1.01 s\n",
            "Wall time: 1.01 s\n"
          ]
        }
      ],
      "source": [
        "%%time\n",
        "pred = rec.predict(log=train_by_date, users=test_by_date_users, k=K, filter_seen=True)"
      ]
    },
    {
      "cell_type": "code",
      "execution_count": 55,
      "id": "Q1qpMYrZfK2q",
      "metadata": {
        "colab": {
          "base_uri": "https://localhost:8080/",
          "height": 394
        },
        "id": "Q1qpMYrZfK2q",
        "outputId": "d127267c-9740-46d4-f845-e10c8cb22309"
      },
      "outputs": [
        {
          "output_type": "execute_result",
          "data": {
            "text/plain": [
              "     user_id  item_id  relevance\n",
              "0      24036    14267   0.016951\n",
              "1      24036    50597   0.014547\n",
              "2      24036    42084   0.013626\n",
              "3      24036    19385   0.013626\n",
              "4      24036    39972   0.011340\n",
              "5      24036    17922   0.011281\n",
              "6      24036    43572   0.011222\n",
              "7      24036    25325   0.009351\n",
              "8      24036    43119   0.009084\n",
              "9      24036    15722   0.009025\n",
              "840    18452    14267   0.016951"
            ],
            "text/html": [
              "\n",
              "  <div id=\"df-3cebf438-83f8-4922-a510-c19ca34bc616\">\n",
              "    <div class=\"colab-df-container\">\n",
              "      <div>\n",
              "<style scoped>\n",
              "    .dataframe tbody tr th:only-of-type {\n",
              "        vertical-align: middle;\n",
              "    }\n",
              "\n",
              "    .dataframe tbody tr th {\n",
              "        vertical-align: top;\n",
              "    }\n",
              "\n",
              "    .dataframe thead th {\n",
              "        text-align: right;\n",
              "    }\n",
              "</style>\n",
              "<table border=\"1\" class=\"dataframe\">\n",
              "  <thead>\n",
              "    <tr style=\"text-align: right;\">\n",
              "      <th></th>\n",
              "      <th>user_id</th>\n",
              "      <th>item_id</th>\n",
              "      <th>relevance</th>\n",
              "    </tr>\n",
              "  </thead>\n",
              "  <tbody>\n",
              "    <tr>\n",
              "      <th>0</th>\n",
              "      <td>24036</td>\n",
              "      <td>14267</td>\n",
              "      <td>0.016951</td>\n",
              "    </tr>\n",
              "    <tr>\n",
              "      <th>1</th>\n",
              "      <td>24036</td>\n",
              "      <td>50597</td>\n",
              "      <td>0.014547</td>\n",
              "    </tr>\n",
              "    <tr>\n",
              "      <th>2</th>\n",
              "      <td>24036</td>\n",
              "      <td>42084</td>\n",
              "      <td>0.013626</td>\n",
              "    </tr>\n",
              "    <tr>\n",
              "      <th>3</th>\n",
              "      <td>24036</td>\n",
              "      <td>19385</td>\n",
              "      <td>0.013626</td>\n",
              "    </tr>\n",
              "    <tr>\n",
              "      <th>4</th>\n",
              "      <td>24036</td>\n",
              "      <td>39972</td>\n",
              "      <td>0.011340</td>\n",
              "    </tr>\n",
              "    <tr>\n",
              "      <th>5</th>\n",
              "      <td>24036</td>\n",
              "      <td>17922</td>\n",
              "      <td>0.011281</td>\n",
              "    </tr>\n",
              "    <tr>\n",
              "      <th>6</th>\n",
              "      <td>24036</td>\n",
              "      <td>43572</td>\n",
              "      <td>0.011222</td>\n",
              "    </tr>\n",
              "    <tr>\n",
              "      <th>7</th>\n",
              "      <td>24036</td>\n",
              "      <td>25325</td>\n",
              "      <td>0.009351</td>\n",
              "    </tr>\n",
              "    <tr>\n",
              "      <th>8</th>\n",
              "      <td>24036</td>\n",
              "      <td>43119</td>\n",
              "      <td>0.009084</td>\n",
              "    </tr>\n",
              "    <tr>\n",
              "      <th>9</th>\n",
              "      <td>24036</td>\n",
              "      <td>15722</td>\n",
              "      <td>0.009025</td>\n",
              "    </tr>\n",
              "    <tr>\n",
              "      <th>840</th>\n",
              "      <td>18452</td>\n",
              "      <td>14267</td>\n",
              "      <td>0.016951</td>\n",
              "    </tr>\n",
              "  </tbody>\n",
              "</table>\n",
              "</div>\n",
              "      <button class=\"colab-df-convert\" onclick=\"convertToInteractive('df-3cebf438-83f8-4922-a510-c19ca34bc616')\"\n",
              "              title=\"Convert this dataframe to an interactive table.\"\n",
              "              style=\"display:none;\">\n",
              "        \n",
              "  <svg xmlns=\"http://www.w3.org/2000/svg\" height=\"24px\"viewBox=\"0 0 24 24\"\n",
              "       width=\"24px\">\n",
              "    <path d=\"M0 0h24v24H0V0z\" fill=\"none\"/>\n",
              "    <path d=\"M18.56 5.44l.94 2.06.94-2.06 2.06-.94-2.06-.94-.94-2.06-.94 2.06-2.06.94zm-11 1L8.5 8.5l.94-2.06 2.06-.94-2.06-.94L8.5 2.5l-.94 2.06-2.06.94zm10 10l.94 2.06.94-2.06 2.06-.94-2.06-.94-.94-2.06-.94 2.06-2.06.94z\"/><path d=\"M17.41 7.96l-1.37-1.37c-.4-.4-.92-.59-1.43-.59-.52 0-1.04.2-1.43.59L10.3 9.45l-7.72 7.72c-.78.78-.78 2.05 0 2.83L4 21.41c.39.39.9.59 1.41.59.51 0 1.02-.2 1.41-.59l7.78-7.78 2.81-2.81c.8-.78.8-2.07 0-2.86zM5.41 20L4 18.59l7.72-7.72 1.47 1.35L5.41 20z\"/>\n",
              "  </svg>\n",
              "      </button>\n",
              "      \n",
              "  <style>\n",
              "    .colab-df-container {\n",
              "      display:flex;\n",
              "      flex-wrap:wrap;\n",
              "      gap: 12px;\n",
              "    }\n",
              "\n",
              "    .colab-df-convert {\n",
              "      background-color: #E8F0FE;\n",
              "      border: none;\n",
              "      border-radius: 50%;\n",
              "      cursor: pointer;\n",
              "      display: none;\n",
              "      fill: #1967D2;\n",
              "      height: 32px;\n",
              "      padding: 0 0 0 0;\n",
              "      width: 32px;\n",
              "    }\n",
              "\n",
              "    .colab-df-convert:hover {\n",
              "      background-color: #E2EBFA;\n",
              "      box-shadow: 0px 1px 2px rgba(60, 64, 67, 0.3), 0px 1px 3px 1px rgba(60, 64, 67, 0.15);\n",
              "      fill: #174EA6;\n",
              "    }\n",
              "\n",
              "    [theme=dark] .colab-df-convert {\n",
              "      background-color: #3B4455;\n",
              "      fill: #D2E3FC;\n",
              "    }\n",
              "\n",
              "    [theme=dark] .colab-df-convert:hover {\n",
              "      background-color: #434B5C;\n",
              "      box-shadow: 0px 1px 3px 1px rgba(0, 0, 0, 0.15);\n",
              "      filter: drop-shadow(0px 1px 2px rgba(0, 0, 0, 0.3));\n",
              "      fill: #FFFFFF;\n",
              "    }\n",
              "  </style>\n",
              "\n",
              "      <script>\n",
              "        const buttonEl =\n",
              "          document.querySelector('#df-3cebf438-83f8-4922-a510-c19ca34bc616 button.colab-df-convert');\n",
              "        buttonEl.style.display =\n",
              "          google.colab.kernel.accessAllowed ? 'block' : 'none';\n",
              "\n",
              "        async function convertToInteractive(key) {\n",
              "          const element = document.querySelector('#df-3cebf438-83f8-4922-a510-c19ca34bc616');\n",
              "          const dataTable =\n",
              "            await google.colab.kernel.invokeFunction('convertToInteractive',\n",
              "                                                     [key], {});\n",
              "          if (!dataTable) return;\n",
              "\n",
              "          const docLinkHtml = 'Like what you see? Visit the ' +\n",
              "            '<a target=\"_blank\" href=https://colab.research.google.com/notebooks/data_table.ipynb>data table notebook</a>'\n",
              "            + ' to learn more about interactive tables.';\n",
              "          element.innerHTML = '';\n",
              "          dataTable['output_type'] = 'display_data';\n",
              "          await google.colab.output.renderOutput(dataTable, element);\n",
              "          const docLink = document.createElement('div');\n",
              "          docLink.innerHTML = docLinkHtml;\n",
              "          element.appendChild(docLink);\n",
              "        }\n",
              "      </script>\n",
              "    </div>\n",
              "  </div>\n",
              "  "
            ]
          },
          "metadata": {},
          "execution_count": 55
        }
      ],
      "source": [
        "pred.head(11)"
      ]
    },
    {
      "cell_type": "code",
      "execution_count": 56,
      "id": "86176cf7",
      "metadata": {
        "id": "86176cf7"
      },
      "outputs": [],
      "source": [
        "assert pred.shape[0] == test_by_date_users.shape[0] * K\n",
        "assert (pred.groupby('user_id')['item_id'].count() == K).all()\n",
        "assert pred['item_id'].nunique() > K"
      ]
    },
    {
      "cell_type": "markdown",
      "id": "ef6ddc1f",
      "metadata": {
        "id": "ef6ddc1f"
      },
      "source": [
        "## Улучшение рекомендаций популярного\n",
        "Мы рекомендовали популярное, это максимально простая модель, у которой могут быть простые улучшения. Например, можно подобрать период, за который берутся данные или учитывать более \"свежие\" взаимодействия с большим весом или сэмплировать рекомендации с вероятностями, пропорциональными популярности, чтобы достичь большего разнообразия."
      ]
    },
    {
      "cell_type": "markdown",
      "id": "45e6c745",
      "metadata": {
        "id": "45e6c745"
      },
      "source": [
        "# Метрики"
      ]
    },
    {
      "cell_type": "markdown",
      "id": "dfd66a31",
      "metadata": {
        "id": "dfd66a31"
      },
      "source": [
        "Как понять, что понравится пользователю? Для максимальной достоверности — порекомендовать и посмотреть на его поведение (кликнет/купит/посмотрит ли рекомендованные айтемы).\n",
        "\n",
        "Но жизнь устроена по-другому!\n",
        "\n",
        "A/B-тестирование - честно, но:\n",
        "- дорого\n",
        "- сложно\n",
        "- рискованно\n",
        "- не походит для прототипирования.\n",
        "\n",
        "A/B на синтетических данных:\n",
        "- не научились пока качественно моделировать поведение пользователей\n",
        "\n",
        "Поэтому в первую очередь для оценки качества применяются offline эксперименты, и измеряют offline-метрики.\n",
        "\n",
        "Метрики качества:\n",
        "- регрессионные метрики (RMSE, MAE)\n",
        "- метрики классификации и ранжирования (precision, recall, Mean Average Precision, NDCG)\n",
        "\n",
        "Метрики разнообразия:\n",
        "- coverage, surprisal, diversity, ets"
      ]
    },
    {
      "cell_type": "markdown",
      "source": [
        "[Статья](https://dl.acm.org/doi/10.1145/3460231.3478848) Лаборатории ИИ Сбера о том, что в науке и индустрии зачастую используют различные реализации одних и тех метрик, что приводит к несогласованности результатов исследований.\n",
        "\n",
        "[Библиотека для рекомендаций](https://github.com/sb-ai-lab/RePlay) от Сбера с реализацией метрик, разбиений и baseline-ов."
      ],
      "metadata": {
        "id": "mD-ocjLwl3Ep"
      },
      "id": "mD-ocjLwl3Ep"
    },
    {
      "cell_type": "markdown",
      "id": "69ef31ac",
      "metadata": {
        "id": "69ef31ac"
      },
      "source": [
        "## Реализуем HitRate"
      ]
    },
    {
      "cell_type": "markdown",
      "id": "c2938542",
      "metadata": {
        "id": "c2938542"
      },
      "source": [
        "Метрики в рекомендациях часто рассчитываются для каждого пользователя для top-к рекомендаций, в ground truth при этом учитываются все релевантные объекты, а не только top-К. Затем метрики усредняются по пользователям."
      ]
    },
    {
      "cell_type": "markdown",
      "id": "06757a62",
      "metadata": {
        "id": "06757a62"
      },
      "source": [
        "## HitRate\n",
        " = 1, если среди рекомендаций есть хотя бы одна релевантная и 0 иначе\n"
      ]
    },
    {
      "cell_type": "code",
      "execution_count": 57,
      "id": "6cac080a",
      "metadata": {
        "id": "6cac080a"
      },
      "outputs": [],
      "source": [
        "def user_hr(row):\n",
        "    \"\"\"\n",
        "    Calculate HitRate value for pandas row with user_id, a list of ground truth items in ``gt_items``\n",
        "    and list or recommended items in ``pred_list``.\n",
        "    \"\"\"\n",
        "    for item in row['pred_list']:\n",
        "        if item in row['gt_list']:\n",
        "            return 1\n",
        "    return 0"
      ]
    },
    {
      "cell_type": "code",
      "execution_count": 58,
      "id": "2af5baa0",
      "metadata": {
        "id": "2af5baa0"
      },
      "outputs": [],
      "source": [
        "assert user_hr(pd.Series({'user_id': 1, 'pred_list': [1, 2, 3], 'gt_list': [4, 5, 2, 6]})) == 1\n",
        "assert user_hr(pd.Series({'user_id': 1, 'pred_list': [1, 3], 'gt_list': [4, 5, 2, 6]})) == 0\n",
        "assert user_hr(pd.Series({'user_id': 1, 'pred_list': [], 'gt_list': [4, 5, 2, 6]})) == 0"
      ]
    },
    {
      "cell_type": "markdown",
      "id": "7c114fe2",
      "metadata": {
        "id": "7c114fe2"
      },
      "source": [
        "Вопросы, на которые надо ответить при подсчете метрики:\n",
        "\n",
        "1) Как должны учитываться в метриках пользователи, для которых мы что-то предсказали, но в test они отсутствуют (ничего не купили / не начали читать / вообще не пользовались сервисом)?\n",
        "\n",
        "2) Как должны учитываться пользователи, которые есть в test, но мы не смогли получить для них предсказания (например, модель не предсказывает для холодных)\n",
        "\n",
        "3) Как на значение метрики будут влиять пользователи, у которых много/мало взаимодействий в test? "
      ]
    },
    {
      "cell_type": "code",
      "source": [
        "!pip install rs_metrics"
      ],
      "metadata": {
        "colab": {
          "base_uri": "https://localhost:8080/"
        },
        "id": "eX-V25xQcBOc",
        "outputId": "89fd91bc-e397-4386-d215-4ae1d171a425"
      },
      "id": "eX-V25xQcBOc",
      "execution_count": 59,
      "outputs": [
        {
          "output_type": "stream",
          "name": "stdout",
          "text": [
            "Looking in indexes: https://pypi.org/simple, https://us-python.pkg.dev/colab-wheels/public/simple/\n",
            "Requirement already satisfied: rs_metrics in /usr/local/lib/python3.10/dist-packages (0.5.0)\n",
            "Requirement already satisfied: pandas in /usr/local/lib/python3.10/dist-packages (from rs_metrics) (1.5.3)\n",
            "Requirement already satisfied: numpy in /usr/local/lib/python3.10/dist-packages (from rs_metrics) (1.22.4)\n",
            "Requirement already satisfied: python-dateutil>=2.8.1 in /usr/local/lib/python3.10/dist-packages (from pandas->rs_metrics) (2.8.2)\n",
            "Requirement already satisfied: pytz>=2020.1 in /usr/local/lib/python3.10/dist-packages (from pandas->rs_metrics) (2022.7.1)\n",
            "Requirement already satisfied: six>=1.5 in /usr/local/lib/python3.10/dist-packages (from python-dateutil>=2.8.1->pandas->rs_metrics) (1.16.0)\n"
          ]
        }
      ]
    },
    {
      "cell_type": "code",
      "source": [
        "from rs_metrics import mapr, ndcg"
      ],
      "metadata": {
        "id": "kt3qif03b5n_"
      },
      "id": "kt3qif03b5n_",
      "execution_count": 60,
      "outputs": []
    },
    {
      "cell_type": "code",
      "execution_count": 61,
      "id": "75290aaf",
      "metadata": {
        "id": "75290aaf"
      },
      "outputs": [],
      "source": [
        "def metric_wrap(pred, ground_truth, k, metric_by_user):\n",
        "    \"\"\"\n",
        "    Prepare data for metric calculation (create dataframe with columns 'user_id', 'pred_list', 'gt_list').\n",
        "    'pred_list' is a list of top-k recommendation ordered by relevance (most relevant is the first)\n",
        "    'gt_list' is a list of items from tests data.\n",
        "    Return mean metric value and dataframe with metric value for each user\n",
        "    \"\"\"  \n",
        "    # оставляем первые k рекомендаций\n",
        "    pred_cropped = leave_top_k(pred, k)\n",
        "    # собираем list-ы\n",
        "    pred_grouped = (pred_cropped\n",
        "                .sort_values(['user_id', 'relevance'], ascending=[False, False])\n",
        "                .groupby('user_id')['item_id']\n",
        "                .apply(list).rename('pred_list')\n",
        "               )\n",
        "    gt_grouped = ground_truth.groupby('user_id')['item_id'].apply(list).rename('gt_list')\n",
        "    to_compare = gt_grouped.to_frame().join(pred_grouped, how='left')\n",
        "    to_compare['pred_list'] = to_compare['pred_list'].apply(lambda x: x if isinstance(x, list) else [])\n",
        "    # применяем метрику\n",
        "    metric_by_user = to_compare.apply(metric_by_user, axis=1)\n",
        "    return metric_by_user.mean(), metric_by_user"
      ]
    },
    {
      "cell_type": "code",
      "execution_count": 62,
      "id": "68a468dd",
      "metadata": {
        "id": "68a468dd"
      },
      "outputs": [],
      "source": [
        "metric_all, _ = metric_wrap(pred, test_by_date, k=K, metric_by_user=user_hr)\n",
        "assert math.isclose(metric_all, 0.023007, abs_tol=1e-6)"
      ]
    },
    {
      "cell_type": "code",
      "execution_count": 63,
      "id": "0c6df717",
      "metadata": {
        "id": "0c6df717"
      },
      "outputs": [],
      "source": [
        "metric_part, _ = metric_wrap(pred[:1000], test_by_date, k=K, metric_by_user=user_hr)\n",
        "assert metric_part < metric_all"
      ]
    },
    {
      "cell_type": "markdown",
      "metadata": {
        "id": "2adfb25d"
      },
      "source": [
        "## Coverage\n",
        "Оценим насколько такие рекомендации хороши с точки зрения разнообразия, и для этого реализуем метрику coverage, которая определяется как доля объектов, которые модель в принципе способна порекомендовать. На практике для сравнения нескольких алгоритмов может реализовываться как доля объектов, присутствующих в выдаче."
      ],
      "id": "2adfb25d"
    },
    {
      "cell_type": "markdown",
      "metadata": {
        "id": "145e78ab"
      },
      "source": [
        "Обратите внимание, что эта метрика не требует ground truth и считается сразу по всем пользователям"
      ],
      "id": "145e78ab"
    },
    {
      "cell_type": "code",
      "execution_count": 64,
      "metadata": {
        "id": "3cde59c8"
      },
      "outputs": [],
      "source": [
        "def coverage(pred, k, all_items):\n",
        "    pred_to_consider = set(leave_top_k(pred, k)['item_id'].values)\n",
        "    all_items = set(all_items.values)\n",
        "    return len(pred_to_consider & all_items) / len(all_items)"
      ],
      "id": "3cde59c8"
    },
    {
      "cell_type": "code",
      "execution_count": 65,
      "metadata": {
        "id": "dfa24587"
      },
      "outputs": [],
      "source": [
        "cov = coverage(pred, K, train_by_date['item_id'])"
      ],
      "id": "dfa24587"
    },
    {
      "cell_type": "code",
      "execution_count": 66,
      "metadata": {
        "id": "acdc9f73",
        "colab": {
          "base_uri": "https://localhost:8080/"
        },
        "outputId": "d0dfc72a-ece5-44e8-d829-f838f100fb7e"
      },
      "outputs": [
        {
          "output_type": "stream",
          "name": "stdout",
          "text": [
            "CPU times: user 7 µs, sys: 0 ns, total: 7 µs\n",
            "Wall time: 11 µs\n"
          ]
        }
      ],
      "source": [
        "%%time\n",
        "assert math.isclose(cov, 0.000362, abs_tol=1e-6)"
      ],
      "id": "acdc9f73"
    },
    {
      "cell_type": "code",
      "source": [],
      "metadata": {
        "id": "8N7k3WoDckpn"
      },
      "id": "8N7k3WoDckpn",
      "execution_count": 66,
      "outputs": []
    },
    {
      "cell_type": "markdown",
      "metadata": {
        "id": "ESDjMudjAm2W"
      },
      "source": [
        "## Surprisal (Mean Inverse User Frequency, Mean Self-Information)\n",
        "Посмотрим, насколько наши рекомендации хороши с точки зрения новизны для пользователя. В качестве новизны будем рассматривать \"непопулярность\" айтемов в рекомендациях.\n",
        "\n",
        "1. Будем рассматривать собственную информацию item-а как меру его новизны для пользователей.\n",
        "\n",
        "    $$selfInformation(i) = -\\log_2 \\frac{|u_i|}{N}, $$ \n",
        "    где $i$ - объект (item), $N$ - число пользователей в обучающей выборке, $|u_i|$ - число пользователей, взаимодействовавших с объектом $i$ в обучающей выборке.\n",
        "\n",
        "\n",
        "2. Собственная информация определяется для item-а, а значение метрики мы хотим считать для пользователя и $k$ - количества рекомендаций. Для подсчета Surprisal пользователя усредним значения собственной информации в топ-k рекомендациях этого пользователя.\n",
        "\n",
        "    Чтобы получить значения от 0 до 1, разделим значение метрики для пользователя на максимально возможно значение метрики равное $log_2 N$.\n",
        "\n",
        "$$Surprisal(u, k) = \\frac{1}{k log_2 N} \\sum_{i}^{k}selfInformation(i)$$\n",
        "\n",
        "\n",
        "3. Результат усредним по пользователям.\n",
        "\n",
        "Что делать с холодными item-ами при подсчете $selfInformation$? Максимально простой вариант — считать, что для них было взаимодействие с одним пользователем.\n",
        "\n",
        "Обратите внимание, что эта метрика не требует ground truth, но требует предпосчитанных популярностей item-ов"
      ],
      "id": "ESDjMudjAm2W"
    },
    {
      "cell_type": "code",
      "execution_count": 67,
      "metadata": {
        "id": "sMGzX9fgcsJ1"
      },
      "outputs": [],
      "source": [
        "class Surprisal:\n",
        "    def __init__(self, log: pd.DataFrame):\n",
        "        self.num_users = log['user_id'].nunique()\n",
        "        self.item_pop = (log.groupby('item_id')[['user_id']].count() / self.num_users).rename(columns={'user_id':'rel'})\n",
        "\n",
        "    def __call__(self, pred, k):\n",
        "        \"\"\"\n",
        "        Calculate Surprisal value for ``pred`` with pre-calculated items' popularity\n",
        "        \"\"\"\n",
        "        # ======= YOUR CODE HERE ==========\n",
        "        top_k_recs = leave_top_k(pred, k)\n",
        "        matrix = top_k_recs[['item_id', 'user_id']].merge(self.item_pop, left_on='item_id', right_index=True, how='left').fillna(1 / self.num_users)\n",
        "        matrix.loc[:, 'rel'] = - np.log2(matrix['rel'])\n",
        "        user_self_inf = matrix.groupby('user_id')['rel'].sum()\n",
        "        user_self_inf /= k * np.log2(self.num_users)\n",
        "        return user_self_inf.mean()"
      ],
      "id": "sMGzX9fgcsJ1"
    },
    {
      "cell_type": "code",
      "execution_count": 68,
      "metadata": {
        "id": "v940NgRgcsJ1"
      },
      "outputs": [],
      "source": [
        "surp = Surprisal(train_by_date)"
      ],
      "id": "v940NgRgcsJ1"
    },
    {
      "cell_type": "code",
      "execution_count": 69,
      "metadata": {
        "id": "KikMtntNcsJ1"
      },
      "outputs": [],
      "source": [
        "assert math.isclose(surp(pred, K), 0.426938, abs_tol=1e-6)"
      ],
      "id": "KikMtntNcsJ1"
    },
    {
      "cell_type": "code",
      "execution_count": 70,
      "metadata": {
        "id": "1fab7b5f"
      },
      "outputs": [],
      "source": [
        "def measure(pred, true, name, df=None, cov_items=None, surp=None):\n",
        "    if df is None:\n",
        "        df = pd.DataFrame(columns=['hit_rate@1', 'hit_rate@K', 'map@K', 'ndcg@K', 'coverage@K', 'surprisal@K'])\n",
        "    df.loc[name, 'hit_rate@1'] = metric_wrap(pred=pred, ground_truth=true, k=1, metric_by_user=user_hr)[0]\n",
        "    df.loc[name, 'hit_rate@K'] = metric_wrap(pred=pred, ground_truth=true, k=K, metric_by_user=user_hr)[0]\n",
        "    df.loc[name, 'hit_rate@K'] = metric_wrap(pred=pred, ground_truth=true, k=K, metric_by_user=user_hr)[0]\n",
        "    df.loc[name, 'map@K'] = mapr(true=true, pred=pred, k=K)\n",
        "    df.loc[name, 'ndcg@K'] = ndcg(true=true, pred=pred, k=K)\n",
        "\n",
        "    if cov_items is not None:\n",
        "        df.loc[name, 'coverage@K'] = coverage(pred=pred, k=K, all_items=cov_items)\n",
        "    if surp is not None:\n",
        "        df.loc[name, 'surprisal@K'] = surp(pred=pred, k=K)\n",
        "    return df"
      ],
      "id": "1fab7b5f"
    },
    {
      "cell_type": "code",
      "execution_count": 71,
      "metadata": {
        "colab": {
          "base_uri": "https://localhost:8080/"
        },
        "id": "46f6b2be",
        "outputId": "7468d752-5673-43f1-f0fd-3754e6ac33a8"
      },
      "outputs": [
        {
          "output_type": "stream",
          "name": "stdout",
          "text": [
            "CPU times: user 967 ms, sys: 50.5 ms, total: 1.02 s\n",
            "Wall time: 1.32 s\n"
          ]
        }
      ],
      "source": [
        "%%time\n",
        "metrics = measure(pred, test_by_date, 'popular', cov_items=filtered_df['item_id'], surp=surp)"
      ],
      "id": "46f6b2be"
    },
    {
      "cell_type": "code",
      "source": [
        "metrics"
      ],
      "metadata": {
        "colab": {
          "base_uri": "https://localhost:8080/",
          "height": 81
        },
        "id": "cVvhBhazfGcA",
        "outputId": "25a8b5db-a001-41eb-8d86-257b9d4b911e"
      },
      "id": "cVvhBhazfGcA",
      "execution_count": 72,
      "outputs": [
        {
          "output_type": "execute_result",
          "data": {
            "text/plain": [
              "        hit_rate@1 hit_rate@K     map@K    ndcg@K coverage@K surprisal@K\n",
              "popular   0.002668   0.023008  0.001435  0.003687   0.000353    0.426938"
            ],
            "text/html": [
              "\n",
              "  <div id=\"df-74316da6-bb8a-423d-b995-9990d4cdf134\">\n",
              "    <div class=\"colab-df-container\">\n",
              "      <div>\n",
              "<style scoped>\n",
              "    .dataframe tbody tr th:only-of-type {\n",
              "        vertical-align: middle;\n",
              "    }\n",
              "\n",
              "    .dataframe tbody tr th {\n",
              "        vertical-align: top;\n",
              "    }\n",
              "\n",
              "    .dataframe thead th {\n",
              "        text-align: right;\n",
              "    }\n",
              "</style>\n",
              "<table border=\"1\" class=\"dataframe\">\n",
              "  <thead>\n",
              "    <tr style=\"text-align: right;\">\n",
              "      <th></th>\n",
              "      <th>hit_rate@1</th>\n",
              "      <th>hit_rate@K</th>\n",
              "      <th>map@K</th>\n",
              "      <th>ndcg@K</th>\n",
              "      <th>coverage@K</th>\n",
              "      <th>surprisal@K</th>\n",
              "    </tr>\n",
              "  </thead>\n",
              "  <tbody>\n",
              "    <tr>\n",
              "      <th>popular</th>\n",
              "      <td>0.002668</td>\n",
              "      <td>0.023008</td>\n",
              "      <td>0.001435</td>\n",
              "      <td>0.003687</td>\n",
              "      <td>0.000353</td>\n",
              "      <td>0.426938</td>\n",
              "    </tr>\n",
              "  </tbody>\n",
              "</table>\n",
              "</div>\n",
              "      <button class=\"colab-df-convert\" onclick=\"convertToInteractive('df-74316da6-bb8a-423d-b995-9990d4cdf134')\"\n",
              "              title=\"Convert this dataframe to an interactive table.\"\n",
              "              style=\"display:none;\">\n",
              "        \n",
              "  <svg xmlns=\"http://www.w3.org/2000/svg\" height=\"24px\"viewBox=\"0 0 24 24\"\n",
              "       width=\"24px\">\n",
              "    <path d=\"M0 0h24v24H0V0z\" fill=\"none\"/>\n",
              "    <path d=\"M18.56 5.44l.94 2.06.94-2.06 2.06-.94-2.06-.94-.94-2.06-.94 2.06-2.06.94zm-11 1L8.5 8.5l.94-2.06 2.06-.94-2.06-.94L8.5 2.5l-.94 2.06-2.06.94zm10 10l.94 2.06.94-2.06 2.06-.94-2.06-.94-.94-2.06-.94 2.06-2.06.94z\"/><path d=\"M17.41 7.96l-1.37-1.37c-.4-.4-.92-.59-1.43-.59-.52 0-1.04.2-1.43.59L10.3 9.45l-7.72 7.72c-.78.78-.78 2.05 0 2.83L4 21.41c.39.39.9.59 1.41.59.51 0 1.02-.2 1.41-.59l7.78-7.78 2.81-2.81c.8-.78.8-2.07 0-2.86zM5.41 20L4 18.59l7.72-7.72 1.47 1.35L5.41 20z\"/>\n",
              "  </svg>\n",
              "      </button>\n",
              "      \n",
              "  <style>\n",
              "    .colab-df-container {\n",
              "      display:flex;\n",
              "      flex-wrap:wrap;\n",
              "      gap: 12px;\n",
              "    }\n",
              "\n",
              "    .colab-df-convert {\n",
              "      background-color: #E8F0FE;\n",
              "      border: none;\n",
              "      border-radius: 50%;\n",
              "      cursor: pointer;\n",
              "      display: none;\n",
              "      fill: #1967D2;\n",
              "      height: 32px;\n",
              "      padding: 0 0 0 0;\n",
              "      width: 32px;\n",
              "    }\n",
              "\n",
              "    .colab-df-convert:hover {\n",
              "      background-color: #E2EBFA;\n",
              "      box-shadow: 0px 1px 2px rgba(60, 64, 67, 0.3), 0px 1px 3px 1px rgba(60, 64, 67, 0.15);\n",
              "      fill: #174EA6;\n",
              "    }\n",
              "\n",
              "    [theme=dark] .colab-df-convert {\n",
              "      background-color: #3B4455;\n",
              "      fill: #D2E3FC;\n",
              "    }\n",
              "\n",
              "    [theme=dark] .colab-df-convert:hover {\n",
              "      background-color: #434B5C;\n",
              "      box-shadow: 0px 1px 3px 1px rgba(0, 0, 0, 0.15);\n",
              "      filter: drop-shadow(0px 1px 2px rgba(0, 0, 0, 0.3));\n",
              "      fill: #FFFFFF;\n",
              "    }\n",
              "  </style>\n",
              "\n",
              "      <script>\n",
              "        const buttonEl =\n",
              "          document.querySelector('#df-74316da6-bb8a-423d-b995-9990d4cdf134 button.colab-df-convert');\n",
              "        buttonEl.style.display =\n",
              "          google.colab.kernel.accessAllowed ? 'block' : 'none';\n",
              "\n",
              "        async function convertToInteractive(key) {\n",
              "          const element = document.querySelector('#df-74316da6-bb8a-423d-b995-9990d4cdf134');\n",
              "          const dataTable =\n",
              "            await google.colab.kernel.invokeFunction('convertToInteractive',\n",
              "                                                     [key], {});\n",
              "          if (!dataTable) return;\n",
              "\n",
              "          const docLinkHtml = 'Like what you see? Visit the ' +\n",
              "            '<a target=\"_blank\" href=https://colab.research.google.com/notebooks/data_table.ipynb>data table notebook</a>'\n",
              "            + ' to learn more about interactive tables.';\n",
              "          element.innerHTML = '';\n",
              "          dataTable['output_type'] = 'display_data';\n",
              "          await google.colab.output.renderOutput(dataTable, element);\n",
              "          const docLink = document.createElement('div');\n",
              "          docLink.innerHTML = docLinkHtml;\n",
              "          element.appendChild(docLink);\n",
              "        }\n",
              "      </script>\n",
              "    </div>\n",
              "  </div>\n",
              "  "
            ]
          },
          "metadata": {},
          "execution_count": 72
        }
      ]
    },
    {
      "cell_type": "markdown",
      "metadata": {
        "id": "JZw67TDcKw1E"
      },
      "source": [
        "# SVD"
      ],
      "id": "JZw67TDcKw1E"
    },
    {
      "cell_type": "markdown",
      "metadata": {
        "id": "e5261747"
      },
      "source": [
        "Используем самую простую из моделей матричной факторизации для рекомендаций - Truncated SVD. Будем использовать [svds](https://docs.scipy.org/doc/scipy/reference/generated/scipy.sparse.linalg.svds.html) из scipy.sparse.linalg. Как мы помним с лекции, пропущенные значения будут учтены как нули. Подумайте, какие из подходов (Truncated SVD, Funk SVD, ImplicitALS) можно применить на имеющихся данных (оценки и процент прочтения).\n",
        "\n",
        "\n",
        "Оптимизированные реализации ALS есть, например, в [implicit](https://implicit.readthedocs.io/en/latest/) или [pyspark mllib](https://spark.apache.org/docs/latest/api/python/reference/api/pyspark.mllib.recommendation.ALS.html)."
      ],
      "id": "e5261747"
    },
    {
      "cell_type": "markdown",
      "metadata": {
        "id": "08d92088"
      },
      "source": [
        "- возьмем k = 64, чтобы получить компактные представления для пользователей и item-ов\n",
        "- в реальных задачах необходимо подбирать k"
      ],
      "id": "08d92088"
    },
    {
      "cell_type": "code",
      "execution_count": 77,
      "metadata": {
        "id": "1c479a85"
      },
      "outputs": [],
      "source": [
        "from scipy.sparse import csr_matrix\n",
        "from scipy.sparse.linalg import svds"
      ],
      "id": "1c479a85"
    },
    {
      "cell_type": "code",
      "execution_count": 78,
      "metadata": {
        "colab": {
          "base_uri": "https://localhost:8080/"
        },
        "id": "303b4e85",
        "outputId": "365bfdcd-dbbb-4921-a109-319eb95480f6"
      },
      "outputs": [
        {
          "output_type": "stream",
          "name": "stdout",
          "text": [
            "CPU times: user 2.43 s, sys: 716 ms, total: 3.15 s\n",
            "Wall time: 2.69 s\n"
          ]
        }
      ],
      "source": [
        "%%time\n",
        "csr_train = csr_matrix((np.ones(train_by_date.shape[0]).astype(float), (train_by_date['user_id'], train_by_date['item_id'])))\n",
        "user_vectors, singular_values, item_vectors = svds(A=csr_train, k=64)"
      ],
      "id": "303b4e85"
    },
    {
      "cell_type": "code",
      "execution_count": 79,
      "metadata": {
        "colab": {
          "base_uri": "https://localhost:8080/"
        },
        "id": "5df702e7",
        "outputId": "2e737a46-3cef-4d29-931a-cf0e0af5f1dc"
      },
      "outputs": [
        {
          "output_type": "execute_result",
          "data": {
            "text/plain": [
              "((33875, 64), (64,), (64, 50982))"
            ]
          },
          "metadata": {},
          "execution_count": 79
        }
      ],
      "source": [
        "user_vectors.shape, singular_values.shape, item_vectors.shape"
      ],
      "id": "5df702e7"
    },
    {
      "cell_type": "markdown",
      "metadata": {
        "id": "5e0923ae"
      },
      "source": [
        "Мы получили векторные представления пользователей и объектов и сингулярные числа. Восстановив матрицу мы получим предсказанные значения вероятностей для новых объектов."
      ],
      "id": "5e0923ae"
    },
    {
      "cell_type": "markdown",
      "metadata": {
        "id": "29d83506"
      },
      "source": [
        "## Получим top-10 рекомендации для пользователя 4"
      ],
      "id": "29d83506"
    },
    {
      "cell_type": "code",
      "source": [
        "u_features_filtered[u_features_filtered['user_id'] == TEST_USER]"
      ],
      "metadata": {
        "colab": {
          "base_uri": "https://localhost:8080/",
          "height": 81
        },
        "id": "ln9BoZTizp51",
        "outputId": "1db5b8eb-83cf-45ca-a05a-3ad3a24eb5c9"
      },
      "id": "ln9BoZTizp51",
      "execution_count": 80,
      "outputs": [
        {
          "output_type": "execute_result",
          "data": {
            "text/plain": [
              "    user_id    age  sex\n",
              "19        4  18_24  0.0"
            ],
            "text/html": [
              "\n",
              "  <div id=\"df-3610b597-d53f-4a2a-a0e0-e254ed675f23\">\n",
              "    <div class=\"colab-df-container\">\n",
              "      <div>\n",
              "<style scoped>\n",
              "    .dataframe tbody tr th:only-of-type {\n",
              "        vertical-align: middle;\n",
              "    }\n",
              "\n",
              "    .dataframe tbody tr th {\n",
              "        vertical-align: top;\n",
              "    }\n",
              "\n",
              "    .dataframe thead th {\n",
              "        text-align: right;\n",
              "    }\n",
              "</style>\n",
              "<table border=\"1\" class=\"dataframe\">\n",
              "  <thead>\n",
              "    <tr style=\"text-align: right;\">\n",
              "      <th></th>\n",
              "      <th>user_id</th>\n",
              "      <th>age</th>\n",
              "      <th>sex</th>\n",
              "    </tr>\n",
              "  </thead>\n",
              "  <tbody>\n",
              "    <tr>\n",
              "      <th>19</th>\n",
              "      <td>4</td>\n",
              "      <td>18_24</td>\n",
              "      <td>0.0</td>\n",
              "    </tr>\n",
              "  </tbody>\n",
              "</table>\n",
              "</div>\n",
              "      <button class=\"colab-df-convert\" onclick=\"convertToInteractive('df-3610b597-d53f-4a2a-a0e0-e254ed675f23')\"\n",
              "              title=\"Convert this dataframe to an interactive table.\"\n",
              "              style=\"display:none;\">\n",
              "        \n",
              "  <svg xmlns=\"http://www.w3.org/2000/svg\" height=\"24px\"viewBox=\"0 0 24 24\"\n",
              "       width=\"24px\">\n",
              "    <path d=\"M0 0h24v24H0V0z\" fill=\"none\"/>\n",
              "    <path d=\"M18.56 5.44l.94 2.06.94-2.06 2.06-.94-2.06-.94-.94-2.06-.94 2.06-2.06.94zm-11 1L8.5 8.5l.94-2.06 2.06-.94-2.06-.94L8.5 2.5l-.94 2.06-2.06.94zm10 10l.94 2.06.94-2.06 2.06-.94-2.06-.94-.94-2.06-.94 2.06-2.06.94z\"/><path d=\"M17.41 7.96l-1.37-1.37c-.4-.4-.92-.59-1.43-.59-.52 0-1.04.2-1.43.59L10.3 9.45l-7.72 7.72c-.78.78-.78 2.05 0 2.83L4 21.41c.39.39.9.59 1.41.59.51 0 1.02-.2 1.41-.59l7.78-7.78 2.81-2.81c.8-.78.8-2.07 0-2.86zM5.41 20L4 18.59l7.72-7.72 1.47 1.35L5.41 20z\"/>\n",
              "  </svg>\n",
              "      </button>\n",
              "      \n",
              "  <style>\n",
              "    .colab-df-container {\n",
              "      display:flex;\n",
              "      flex-wrap:wrap;\n",
              "      gap: 12px;\n",
              "    }\n",
              "\n",
              "    .colab-df-convert {\n",
              "      background-color: #E8F0FE;\n",
              "      border: none;\n",
              "      border-radius: 50%;\n",
              "      cursor: pointer;\n",
              "      display: none;\n",
              "      fill: #1967D2;\n",
              "      height: 32px;\n",
              "      padding: 0 0 0 0;\n",
              "      width: 32px;\n",
              "    }\n",
              "\n",
              "    .colab-df-convert:hover {\n",
              "      background-color: #E2EBFA;\n",
              "      box-shadow: 0px 1px 2px rgba(60, 64, 67, 0.3), 0px 1px 3px 1px rgba(60, 64, 67, 0.15);\n",
              "      fill: #174EA6;\n",
              "    }\n",
              "\n",
              "    [theme=dark] .colab-df-convert {\n",
              "      background-color: #3B4455;\n",
              "      fill: #D2E3FC;\n",
              "    }\n",
              "\n",
              "    [theme=dark] .colab-df-convert:hover {\n",
              "      background-color: #434B5C;\n",
              "      box-shadow: 0px 1px 3px 1px rgba(0, 0, 0, 0.15);\n",
              "      filter: drop-shadow(0px 1px 2px rgba(0, 0, 0, 0.3));\n",
              "      fill: #FFFFFF;\n",
              "    }\n",
              "  </style>\n",
              "\n",
              "      <script>\n",
              "        const buttonEl =\n",
              "          document.querySelector('#df-3610b597-d53f-4a2a-a0e0-e254ed675f23 button.colab-df-convert');\n",
              "        buttonEl.style.display =\n",
              "          google.colab.kernel.accessAllowed ? 'block' : 'none';\n",
              "\n",
              "        async function convertToInteractive(key) {\n",
              "          const element = document.querySelector('#df-3610b597-d53f-4a2a-a0e0-e254ed675f23');\n",
              "          const dataTable =\n",
              "            await google.colab.kernel.invokeFunction('convertToInteractive',\n",
              "                                                     [key], {});\n",
              "          if (!dataTable) return;\n",
              "\n",
              "          const docLinkHtml = 'Like what you see? Visit the ' +\n",
              "            '<a target=\"_blank\" href=https://colab.research.google.com/notebooks/data_table.ipynb>data table notebook</a>'\n",
              "            + ' to learn more about interactive tables.';\n",
              "          element.innerHTML = '';\n",
              "          dataTable['output_type'] = 'display_data';\n",
              "          await google.colab.output.renderOutput(dataTable, element);\n",
              "          const docLink = document.createElement('div');\n",
              "          docLink.innerHTML = docLinkHtml;\n",
              "          element.appendChild(docLink);\n",
              "        }\n",
              "      </script>\n",
              "    </div>\n",
              "  </div>\n",
              "  "
            ]
          },
          "metadata": {},
          "execution_count": 80
        }
      ]
    },
    {
      "cell_type": "code",
      "source": [
        "train_by_date[train_by_date['user_id']== TEST_USER].merge(i_features_filtered, on='item_id').sort_values(by='start_date', ascending=False)"
      ],
      "metadata": {
        "colab": {
          "base_uri": "https://localhost:8080/",
          "height": 551
        },
        "id": "ME-pExLcz51J",
        "outputId": "3c570eee-d642-4b34-f291-a2a3d289004c"
      },
      "id": "ME-pExLcz51J",
      "execution_count": 81,
      "outputs": [
        {
          "output_type": "execute_result",
          "data": {
            "text/plain": [
              "    user_id  item_id  progress  rating start_date                  title  \\\n",
              "15        4     1910        99     5.0 2019-08-28                Талорис   \n",
              "14        4    21713       100     5.0 2019-08-27            Синее пламя   \n",
              "13        4    41443        99     NaN 2019-08-25                  Летос   \n",
              "12        4    25988       100     NaN 2019-08-23            Вьюга теней   \n",
              "11        4     2121        97     NaN 2019-08-21        Джанга с тенями   \n",
              "10        4     7220        97     NaN 2019-08-03      Крадущийся в тени   \n",
              "9         4     6225        96     NaN 2019-08-01         Проклятый горн   \n",
              "8         4    19374       100     5.0 2019-07-29         Золотые костры   \n",
              "7         4    33648        99     NaN 2019-07-24               Аутодафе   \n",
              "6         4    11448       100     NaN 2019-07-23                  Страж   \n",
              "5         4     5004        99     NaN 2019-05-28  Век святого Скиминока   \n",
              "4         4    24286       100     NaN 2019-04-15      Свирепый ландграф   \n",
              "3         4    11491       100     NaN 2019-03-30     Честь Белого Волка   \n",
              "2         4    36082       100     NaN 2018-12-05   История Бледной Моли   \n",
              "1         4     5097        85     5.0 2018-05-22                 Спектр   \n",
              "0         4     3793        54     NaN 2018-05-01       Выстрел в сердце   \n",
              "\n",
              "                                               genres            authors  \\\n",
              "15  Героическое фэнтези,Боевое фэнтези,Книги про в...      Алексей Пехов   \n",
              "14  Героическое фэнтези,Боевое фэнтези,Книги про в...      Алексей Пехов   \n",
              "13                 Героическое фэнтези,Боевое фэнтези      Алексей Пехов   \n",
              "12          Героическое фэнтези,Книги про волшебников      Алексей Пехов   \n",
              "11                 Героическое фэнтези,Боевое фэнтези      Алексей Пехов   \n",
              "10                 Героическое фэнтези,Боевое фэнтези      Алексей Пехов   \n",
              "9                  Героическое фэнтези,Боевое фэнтези      Алексей Пехов   \n",
              "8                  Героическое фэнтези,Боевое фэнтези      Алексей Пехов   \n",
              "7                  Героическое фэнтези,Боевое фэнтези      Алексей Пехов   \n",
              "6           Героическое фэнтези,Книги про волшебников      Алексей Пехов   \n",
              "5          Героическое фэнтези,Юмористическое фэнтези     Андрей Белянин   \n",
              "4                              Юмористическое фэнтези     Андрей Белянин   \n",
              "3                              Юмористическое фэнтези     Андрей Белянин   \n",
              "2                Героическое фэнтези,Любовное фэнтези      Настя Любимка   \n",
              "1   Социальная фантастика,Космическая фантастика,Н...  Сергей Лукьяненко   \n",
              "0                      Современная русская литература    Герман Садулаев   \n",
              "\n",
              "         year  \n",
              "15       2019  \n",
              "14       2015  \n",
              "13       2014  \n",
              "12       2003  \n",
              "11       2002  \n",
              "10  2001-2002  \n",
              "9        2014  \n",
              "8        2012  \n",
              "7        2011  \n",
              "6        2010  \n",
              "5        1998  \n",
              "4        1998  \n",
              "3        2018  \n",
              "2        2017  \n",
              "1     2001-02  \n",
              "0        2017  "
            ],
            "text/html": [
              "\n",
              "  <div id=\"df-a6b21e51-6afa-44b9-bce0-4cb5314c3ffa\">\n",
              "    <div class=\"colab-df-container\">\n",
              "      <div>\n",
              "<style scoped>\n",
              "    .dataframe tbody tr th:only-of-type {\n",
              "        vertical-align: middle;\n",
              "    }\n",
              "\n",
              "    .dataframe tbody tr th {\n",
              "        vertical-align: top;\n",
              "    }\n",
              "\n",
              "    .dataframe thead th {\n",
              "        text-align: right;\n",
              "    }\n",
              "</style>\n",
              "<table border=\"1\" class=\"dataframe\">\n",
              "  <thead>\n",
              "    <tr style=\"text-align: right;\">\n",
              "      <th></th>\n",
              "      <th>user_id</th>\n",
              "      <th>item_id</th>\n",
              "      <th>progress</th>\n",
              "      <th>rating</th>\n",
              "      <th>start_date</th>\n",
              "      <th>title</th>\n",
              "      <th>genres</th>\n",
              "      <th>authors</th>\n",
              "      <th>year</th>\n",
              "    </tr>\n",
              "  </thead>\n",
              "  <tbody>\n",
              "    <tr>\n",
              "      <th>15</th>\n",
              "      <td>4</td>\n",
              "      <td>1910</td>\n",
              "      <td>99</td>\n",
              "      <td>5.0</td>\n",
              "      <td>2019-08-28</td>\n",
              "      <td>Талорис</td>\n",
              "      <td>Героическое фэнтези,Боевое фэнтези,Книги про в...</td>\n",
              "      <td>Алексей Пехов</td>\n",
              "      <td>2019</td>\n",
              "    </tr>\n",
              "    <tr>\n",
              "      <th>14</th>\n",
              "      <td>4</td>\n",
              "      <td>21713</td>\n",
              "      <td>100</td>\n",
              "      <td>5.0</td>\n",
              "      <td>2019-08-27</td>\n",
              "      <td>Синее пламя</td>\n",
              "      <td>Героическое фэнтези,Боевое фэнтези,Книги про в...</td>\n",
              "      <td>Алексей Пехов</td>\n",
              "      <td>2015</td>\n",
              "    </tr>\n",
              "    <tr>\n",
              "      <th>13</th>\n",
              "      <td>4</td>\n",
              "      <td>41443</td>\n",
              "      <td>99</td>\n",
              "      <td>NaN</td>\n",
              "      <td>2019-08-25</td>\n",
              "      <td>Летос</td>\n",
              "      <td>Героическое фэнтези,Боевое фэнтези</td>\n",
              "      <td>Алексей Пехов</td>\n",
              "      <td>2014</td>\n",
              "    </tr>\n",
              "    <tr>\n",
              "      <th>12</th>\n",
              "      <td>4</td>\n",
              "      <td>25988</td>\n",
              "      <td>100</td>\n",
              "      <td>NaN</td>\n",
              "      <td>2019-08-23</td>\n",
              "      <td>Вьюга теней</td>\n",
              "      <td>Героическое фэнтези,Книги про волшебников</td>\n",
              "      <td>Алексей Пехов</td>\n",
              "      <td>2003</td>\n",
              "    </tr>\n",
              "    <tr>\n",
              "      <th>11</th>\n",
              "      <td>4</td>\n",
              "      <td>2121</td>\n",
              "      <td>97</td>\n",
              "      <td>NaN</td>\n",
              "      <td>2019-08-21</td>\n",
              "      <td>Джанга с тенями</td>\n",
              "      <td>Героическое фэнтези,Боевое фэнтези</td>\n",
              "      <td>Алексей Пехов</td>\n",
              "      <td>2002</td>\n",
              "    </tr>\n",
              "    <tr>\n",
              "      <th>10</th>\n",
              "      <td>4</td>\n",
              "      <td>7220</td>\n",
              "      <td>97</td>\n",
              "      <td>NaN</td>\n",
              "      <td>2019-08-03</td>\n",
              "      <td>Крадущийся в тени</td>\n",
              "      <td>Героическое фэнтези,Боевое фэнтези</td>\n",
              "      <td>Алексей Пехов</td>\n",
              "      <td>2001-2002</td>\n",
              "    </tr>\n",
              "    <tr>\n",
              "      <th>9</th>\n",
              "      <td>4</td>\n",
              "      <td>6225</td>\n",
              "      <td>96</td>\n",
              "      <td>NaN</td>\n",
              "      <td>2019-08-01</td>\n",
              "      <td>Проклятый горн</td>\n",
              "      <td>Героическое фэнтези,Боевое фэнтези</td>\n",
              "      <td>Алексей Пехов</td>\n",
              "      <td>2014</td>\n",
              "    </tr>\n",
              "    <tr>\n",
              "      <th>8</th>\n",
              "      <td>4</td>\n",
              "      <td>19374</td>\n",
              "      <td>100</td>\n",
              "      <td>5.0</td>\n",
              "      <td>2019-07-29</td>\n",
              "      <td>Золотые костры</td>\n",
              "      <td>Героическое фэнтези,Боевое фэнтези</td>\n",
              "      <td>Алексей Пехов</td>\n",
              "      <td>2012</td>\n",
              "    </tr>\n",
              "    <tr>\n",
              "      <th>7</th>\n",
              "      <td>4</td>\n",
              "      <td>33648</td>\n",
              "      <td>99</td>\n",
              "      <td>NaN</td>\n",
              "      <td>2019-07-24</td>\n",
              "      <td>Аутодафе</td>\n",
              "      <td>Героическое фэнтези,Боевое фэнтези</td>\n",
              "      <td>Алексей Пехов</td>\n",
              "      <td>2011</td>\n",
              "    </tr>\n",
              "    <tr>\n",
              "      <th>6</th>\n",
              "      <td>4</td>\n",
              "      <td>11448</td>\n",
              "      <td>100</td>\n",
              "      <td>NaN</td>\n",
              "      <td>2019-07-23</td>\n",
              "      <td>Страж</td>\n",
              "      <td>Героическое фэнтези,Книги про волшебников</td>\n",
              "      <td>Алексей Пехов</td>\n",
              "      <td>2010</td>\n",
              "    </tr>\n",
              "    <tr>\n",
              "      <th>5</th>\n",
              "      <td>4</td>\n",
              "      <td>5004</td>\n",
              "      <td>99</td>\n",
              "      <td>NaN</td>\n",
              "      <td>2019-05-28</td>\n",
              "      <td>Век святого Скиминока</td>\n",
              "      <td>Героическое фэнтези,Юмористическое фэнтези</td>\n",
              "      <td>Андрей Белянин</td>\n",
              "      <td>1998</td>\n",
              "    </tr>\n",
              "    <tr>\n",
              "      <th>4</th>\n",
              "      <td>4</td>\n",
              "      <td>24286</td>\n",
              "      <td>100</td>\n",
              "      <td>NaN</td>\n",
              "      <td>2019-04-15</td>\n",
              "      <td>Свирепый ландграф</td>\n",
              "      <td>Юмористическое фэнтези</td>\n",
              "      <td>Андрей Белянин</td>\n",
              "      <td>1998</td>\n",
              "    </tr>\n",
              "    <tr>\n",
              "      <th>3</th>\n",
              "      <td>4</td>\n",
              "      <td>11491</td>\n",
              "      <td>100</td>\n",
              "      <td>NaN</td>\n",
              "      <td>2019-03-30</td>\n",
              "      <td>Честь Белого Волка</td>\n",
              "      <td>Юмористическое фэнтези</td>\n",
              "      <td>Андрей Белянин</td>\n",
              "      <td>2018</td>\n",
              "    </tr>\n",
              "    <tr>\n",
              "      <th>2</th>\n",
              "      <td>4</td>\n",
              "      <td>36082</td>\n",
              "      <td>100</td>\n",
              "      <td>NaN</td>\n",
              "      <td>2018-12-05</td>\n",
              "      <td>История Бледной Моли</td>\n",
              "      <td>Героическое фэнтези,Любовное фэнтези</td>\n",
              "      <td>Настя Любимка</td>\n",
              "      <td>2017</td>\n",
              "    </tr>\n",
              "    <tr>\n",
              "      <th>1</th>\n",
              "      <td>4</td>\n",
              "      <td>5097</td>\n",
              "      <td>85</td>\n",
              "      <td>5.0</td>\n",
              "      <td>2018-05-22</td>\n",
              "      <td>Спектр</td>\n",
              "      <td>Социальная фантастика,Космическая фантастика,Н...</td>\n",
              "      <td>Сергей Лукьяненко</td>\n",
              "      <td>2001-02</td>\n",
              "    </tr>\n",
              "    <tr>\n",
              "      <th>0</th>\n",
              "      <td>4</td>\n",
              "      <td>3793</td>\n",
              "      <td>54</td>\n",
              "      <td>NaN</td>\n",
              "      <td>2018-05-01</td>\n",
              "      <td>Выстрел в сердце</td>\n",
              "      <td>Современная русская литература</td>\n",
              "      <td>Герман Садулаев</td>\n",
              "      <td>2017</td>\n",
              "    </tr>\n",
              "  </tbody>\n",
              "</table>\n",
              "</div>\n",
              "      <button class=\"colab-df-convert\" onclick=\"convertToInteractive('df-a6b21e51-6afa-44b9-bce0-4cb5314c3ffa')\"\n",
              "              title=\"Convert this dataframe to an interactive table.\"\n",
              "              style=\"display:none;\">\n",
              "        \n",
              "  <svg xmlns=\"http://www.w3.org/2000/svg\" height=\"24px\"viewBox=\"0 0 24 24\"\n",
              "       width=\"24px\">\n",
              "    <path d=\"M0 0h24v24H0V0z\" fill=\"none\"/>\n",
              "    <path d=\"M18.56 5.44l.94 2.06.94-2.06 2.06-.94-2.06-.94-.94-2.06-.94 2.06-2.06.94zm-11 1L8.5 8.5l.94-2.06 2.06-.94-2.06-.94L8.5 2.5l-.94 2.06-2.06.94zm10 10l.94 2.06.94-2.06 2.06-.94-2.06-.94-.94-2.06-.94 2.06-2.06.94z\"/><path d=\"M17.41 7.96l-1.37-1.37c-.4-.4-.92-.59-1.43-.59-.52 0-1.04.2-1.43.59L10.3 9.45l-7.72 7.72c-.78.78-.78 2.05 0 2.83L4 21.41c.39.39.9.59 1.41.59.51 0 1.02-.2 1.41-.59l7.78-7.78 2.81-2.81c.8-.78.8-2.07 0-2.86zM5.41 20L4 18.59l7.72-7.72 1.47 1.35L5.41 20z\"/>\n",
              "  </svg>\n",
              "      </button>\n",
              "      \n",
              "  <style>\n",
              "    .colab-df-container {\n",
              "      display:flex;\n",
              "      flex-wrap:wrap;\n",
              "      gap: 12px;\n",
              "    }\n",
              "\n",
              "    .colab-df-convert {\n",
              "      background-color: #E8F0FE;\n",
              "      border: none;\n",
              "      border-radius: 50%;\n",
              "      cursor: pointer;\n",
              "      display: none;\n",
              "      fill: #1967D2;\n",
              "      height: 32px;\n",
              "      padding: 0 0 0 0;\n",
              "      width: 32px;\n",
              "    }\n",
              "\n",
              "    .colab-df-convert:hover {\n",
              "      background-color: #E2EBFA;\n",
              "      box-shadow: 0px 1px 2px rgba(60, 64, 67, 0.3), 0px 1px 3px 1px rgba(60, 64, 67, 0.15);\n",
              "      fill: #174EA6;\n",
              "    }\n",
              "\n",
              "    [theme=dark] .colab-df-convert {\n",
              "      background-color: #3B4455;\n",
              "      fill: #D2E3FC;\n",
              "    }\n",
              "\n",
              "    [theme=dark] .colab-df-convert:hover {\n",
              "      background-color: #434B5C;\n",
              "      box-shadow: 0px 1px 3px 1px rgba(0, 0, 0, 0.15);\n",
              "      filter: drop-shadow(0px 1px 2px rgba(0, 0, 0, 0.3));\n",
              "      fill: #FFFFFF;\n",
              "    }\n",
              "  </style>\n",
              "\n",
              "      <script>\n",
              "        const buttonEl =\n",
              "          document.querySelector('#df-a6b21e51-6afa-44b9-bce0-4cb5314c3ffa button.colab-df-convert');\n",
              "        buttonEl.style.display =\n",
              "          google.colab.kernel.accessAllowed ? 'block' : 'none';\n",
              "\n",
              "        async function convertToInteractive(key) {\n",
              "          const element = document.querySelector('#df-a6b21e51-6afa-44b9-bce0-4cb5314c3ffa');\n",
              "          const dataTable =\n",
              "            await google.colab.kernel.invokeFunction('convertToInteractive',\n",
              "                                                     [key], {});\n",
              "          if (!dataTable) return;\n",
              "\n",
              "          const docLinkHtml = 'Like what you see? Visit the ' +\n",
              "            '<a target=\"_blank\" href=https://colab.research.google.com/notebooks/data_table.ipynb>data table notebook</a>'\n",
              "            + ' to learn more about interactive tables.';\n",
              "          element.innerHTML = '';\n",
              "          dataTable['output_type'] = 'display_data';\n",
              "          await google.colab.output.renderOutput(dataTable, element);\n",
              "          const docLink = document.createElement('div');\n",
              "          docLink.innerHTML = docLinkHtml;\n",
              "          element.appendChild(docLink);\n",
              "        }\n",
              "      </script>\n",
              "    </div>\n",
              "  </div>\n",
              "  "
            ]
          },
          "metadata": {},
          "execution_count": 81
        }
      ]
    },
    {
      "cell_type": "code",
      "execution_count": 82,
      "metadata": {
        "id": "114e1a19"
      },
      "outputs": [],
      "source": [
        "rel = user_vectors[TEST_USER, :] @ np.diag(singular_values) @ item_vectors\n",
        "ids = np.argpartition(rel, -K)[-K:]"
      ],
      "id": "114e1a19"
    },
    {
      "cell_type": "code",
      "execution_count": 83,
      "metadata": {
        "id": "dbdb7f3f",
        "outputId": "c53bd298-9bec-4fdc-e930-6cc597b936d6",
        "colab": {
          "base_uri": "https://localhost:8080/"
        }
      },
      "outputs": [
        {
          "output_type": "execute_result",
          "data": {
            "text/plain": [
              "array([12710, 43119, 26448,  6225, 39817, 26414,  7330, 21194, 29766,\n",
              "       13963])"
            ]
          },
          "metadata": {},
          "execution_count": 83
        }
      ],
      "source": [
        "ids"
      ],
      "id": "dbdb7f3f"
    },
    {
      "cell_type": "code",
      "execution_count": 84,
      "metadata": {
        "colab": {
          "base_uri": "https://localhost:8080/",
          "height": 363
        },
        "id": "ada08d38",
        "outputId": "fa4f67e5-aec0-4fa1-86ae-2407bee73949"
      },
      "outputs": [
        {
          "output_type": "execute_result",
          "data": {
            "text/plain": [
              "   item_id  relevance                                              title  \\\n",
              "7    21194   0.074483                                         Тень света   \n",
              "8    29766   0.069951                  Разрушитель божественных замыслов   \n",
              "9    13963   0.065284                               Пешка в большой игре   \n",
              "6     7330   0.064756                                Вторая жизнь майора   \n",
              "4    39817   0.063497                          Войны начинают неудачники   \n",
              "3     6225   0.063036                                     Проклятый горн   \n",
              "5    26414   0.062419            Великие Спящие. Том 1. Тьма против Тьмы   \n",
              "2    26448   0.060571                                         Знаки ночи   \n",
              "1    43119   0.060058  Струны волшебства. Книга первая. Страшные сказ...   \n",
              "0    12710   0.059824                                     Командор войны   \n",
              "\n",
              "               authors  year  \\\n",
              "7      Андрей Васильев  2018   \n",
              "8     Владимир Сухинин  2017   \n",
              "9     Владимир Сухинин  2017   \n",
              "6     Владимир Сухинин  2017   \n",
              "4          Вадим Панов  2003   \n",
              "3        Алексей Пехов  2014   \n",
              "5        Виталий Зыков  2017   \n",
              "2      Андрей Васильев  2018   \n",
              "1  Милена Завойчинская  2018   \n",
              "0          Вадим Панов  2003   \n",
              "\n",
              "                                              genres  \n",
              "7            Городское фэнтези,Книги про волшебников  \n",
              "8       Героическое фэнтези,Попаданцы,Боевое фэнтези  \n",
              "9       Героическое фэнтези,Попаданцы,Боевое фэнтези  \n",
              "6       Героическое фэнтези,Попаданцы,Боевое фэнтези  \n",
              "4  Героическое фэнтези,Боевое фэнтези,Городское ф...  \n",
              "3                 Героическое фэнтези,Боевое фэнтези  \n",
              "5       Героическое фэнтези,Попаданцы,Боевое фэнтези  \n",
              "2            Городское фэнтези,Книги про волшебников  \n",
              "1          Героическое фэнтези,Книги про волшебников  \n",
              "0  Героическое фэнтези,Боевое фэнтези,Городское ф...  "
            ],
            "text/html": [
              "\n",
              "  <div id=\"df-5026a15f-d001-4eb4-8a09-2d5200ced8ea\">\n",
              "    <div class=\"colab-df-container\">\n",
              "      <div>\n",
              "<style scoped>\n",
              "    .dataframe tbody tr th:only-of-type {\n",
              "        vertical-align: middle;\n",
              "    }\n",
              "\n",
              "    .dataframe tbody tr th {\n",
              "        vertical-align: top;\n",
              "    }\n",
              "\n",
              "    .dataframe thead th {\n",
              "        text-align: right;\n",
              "    }\n",
              "</style>\n",
              "<table border=\"1\" class=\"dataframe\">\n",
              "  <thead>\n",
              "    <tr style=\"text-align: right;\">\n",
              "      <th></th>\n",
              "      <th>item_id</th>\n",
              "      <th>relevance</th>\n",
              "      <th>title</th>\n",
              "      <th>authors</th>\n",
              "      <th>year</th>\n",
              "      <th>genres</th>\n",
              "    </tr>\n",
              "  </thead>\n",
              "  <tbody>\n",
              "    <tr>\n",
              "      <th>7</th>\n",
              "      <td>21194</td>\n",
              "      <td>0.074483</td>\n",
              "      <td>Тень света</td>\n",
              "      <td>Андрей Васильев</td>\n",
              "      <td>2018</td>\n",
              "      <td>Городское фэнтези,Книги про волшебников</td>\n",
              "    </tr>\n",
              "    <tr>\n",
              "      <th>8</th>\n",
              "      <td>29766</td>\n",
              "      <td>0.069951</td>\n",
              "      <td>Разрушитель божественных замыслов</td>\n",
              "      <td>Владимир Сухинин</td>\n",
              "      <td>2017</td>\n",
              "      <td>Героическое фэнтези,Попаданцы,Боевое фэнтези</td>\n",
              "    </tr>\n",
              "    <tr>\n",
              "      <th>9</th>\n",
              "      <td>13963</td>\n",
              "      <td>0.065284</td>\n",
              "      <td>Пешка в большой игре</td>\n",
              "      <td>Владимир Сухинин</td>\n",
              "      <td>2017</td>\n",
              "      <td>Героическое фэнтези,Попаданцы,Боевое фэнтези</td>\n",
              "    </tr>\n",
              "    <tr>\n",
              "      <th>6</th>\n",
              "      <td>7330</td>\n",
              "      <td>0.064756</td>\n",
              "      <td>Вторая жизнь майора</td>\n",
              "      <td>Владимир Сухинин</td>\n",
              "      <td>2017</td>\n",
              "      <td>Героическое фэнтези,Попаданцы,Боевое фэнтези</td>\n",
              "    </tr>\n",
              "    <tr>\n",
              "      <th>4</th>\n",
              "      <td>39817</td>\n",
              "      <td>0.063497</td>\n",
              "      <td>Войны начинают неудачники</td>\n",
              "      <td>Вадим Панов</td>\n",
              "      <td>2003</td>\n",
              "      <td>Героическое фэнтези,Боевое фэнтези,Городское ф...</td>\n",
              "    </tr>\n",
              "    <tr>\n",
              "      <th>3</th>\n",
              "      <td>6225</td>\n",
              "      <td>0.063036</td>\n",
              "      <td>Проклятый горн</td>\n",
              "      <td>Алексей Пехов</td>\n",
              "      <td>2014</td>\n",
              "      <td>Героическое фэнтези,Боевое фэнтези</td>\n",
              "    </tr>\n",
              "    <tr>\n",
              "      <th>5</th>\n",
              "      <td>26414</td>\n",
              "      <td>0.062419</td>\n",
              "      <td>Великие Спящие. Том 1. Тьма против Тьмы</td>\n",
              "      <td>Виталий Зыков</td>\n",
              "      <td>2017</td>\n",
              "      <td>Героическое фэнтези,Попаданцы,Боевое фэнтези</td>\n",
              "    </tr>\n",
              "    <tr>\n",
              "      <th>2</th>\n",
              "      <td>26448</td>\n",
              "      <td>0.060571</td>\n",
              "      <td>Знаки ночи</td>\n",
              "      <td>Андрей Васильев</td>\n",
              "      <td>2018</td>\n",
              "      <td>Городское фэнтези,Книги про волшебников</td>\n",
              "    </tr>\n",
              "    <tr>\n",
              "      <th>1</th>\n",
              "      <td>43119</td>\n",
              "      <td>0.060058</td>\n",
              "      <td>Струны волшебства. Книга первая. Страшные сказ...</td>\n",
              "      <td>Милена Завойчинская</td>\n",
              "      <td>2018</td>\n",
              "      <td>Героическое фэнтези,Книги про волшебников</td>\n",
              "    </tr>\n",
              "    <tr>\n",
              "      <th>0</th>\n",
              "      <td>12710</td>\n",
              "      <td>0.059824</td>\n",
              "      <td>Командор войны</td>\n",
              "      <td>Вадим Панов</td>\n",
              "      <td>2003</td>\n",
              "      <td>Героическое фэнтези,Боевое фэнтези,Городское ф...</td>\n",
              "    </tr>\n",
              "  </tbody>\n",
              "</table>\n",
              "</div>\n",
              "      <button class=\"colab-df-convert\" onclick=\"convertToInteractive('df-5026a15f-d001-4eb4-8a09-2d5200ced8ea')\"\n",
              "              title=\"Convert this dataframe to an interactive table.\"\n",
              "              style=\"display:none;\">\n",
              "        \n",
              "  <svg xmlns=\"http://www.w3.org/2000/svg\" height=\"24px\"viewBox=\"0 0 24 24\"\n",
              "       width=\"24px\">\n",
              "    <path d=\"M0 0h24v24H0V0z\" fill=\"none\"/>\n",
              "    <path d=\"M18.56 5.44l.94 2.06.94-2.06 2.06-.94-2.06-.94-.94-2.06-.94 2.06-2.06.94zm-11 1L8.5 8.5l.94-2.06 2.06-.94-2.06-.94L8.5 2.5l-.94 2.06-2.06.94zm10 10l.94 2.06.94-2.06 2.06-.94-2.06-.94-.94-2.06-.94 2.06-2.06.94z\"/><path d=\"M17.41 7.96l-1.37-1.37c-.4-.4-.92-.59-1.43-.59-.52 0-1.04.2-1.43.59L10.3 9.45l-7.72 7.72c-.78.78-.78 2.05 0 2.83L4 21.41c.39.39.9.59 1.41.59.51 0 1.02-.2 1.41-.59l7.78-7.78 2.81-2.81c.8-.78.8-2.07 0-2.86zM5.41 20L4 18.59l7.72-7.72 1.47 1.35L5.41 20z\"/>\n",
              "  </svg>\n",
              "      </button>\n",
              "      \n",
              "  <style>\n",
              "    .colab-df-container {\n",
              "      display:flex;\n",
              "      flex-wrap:wrap;\n",
              "      gap: 12px;\n",
              "    }\n",
              "\n",
              "    .colab-df-convert {\n",
              "      background-color: #E8F0FE;\n",
              "      border: none;\n",
              "      border-radius: 50%;\n",
              "      cursor: pointer;\n",
              "      display: none;\n",
              "      fill: #1967D2;\n",
              "      height: 32px;\n",
              "      padding: 0 0 0 0;\n",
              "      width: 32px;\n",
              "    }\n",
              "\n",
              "    .colab-df-convert:hover {\n",
              "      background-color: #E2EBFA;\n",
              "      box-shadow: 0px 1px 2px rgba(60, 64, 67, 0.3), 0px 1px 3px 1px rgba(60, 64, 67, 0.15);\n",
              "      fill: #174EA6;\n",
              "    }\n",
              "\n",
              "    [theme=dark] .colab-df-convert {\n",
              "      background-color: #3B4455;\n",
              "      fill: #D2E3FC;\n",
              "    }\n",
              "\n",
              "    [theme=dark] .colab-df-convert:hover {\n",
              "      background-color: #434B5C;\n",
              "      box-shadow: 0px 1px 3px 1px rgba(0, 0, 0, 0.15);\n",
              "      filter: drop-shadow(0px 1px 2px rgba(0, 0, 0, 0.3));\n",
              "      fill: #FFFFFF;\n",
              "    }\n",
              "  </style>\n",
              "\n",
              "      <script>\n",
              "        const buttonEl =\n",
              "          document.querySelector('#df-5026a15f-d001-4eb4-8a09-2d5200ced8ea button.colab-df-convert');\n",
              "        buttonEl.style.display =\n",
              "          google.colab.kernel.accessAllowed ? 'block' : 'none';\n",
              "\n",
              "        async function convertToInteractive(key) {\n",
              "          const element = document.querySelector('#df-5026a15f-d001-4eb4-8a09-2d5200ced8ea');\n",
              "          const dataTable =\n",
              "            await google.colab.kernel.invokeFunction('convertToInteractive',\n",
              "                                                     [key], {});\n",
              "          if (!dataTable) return;\n",
              "\n",
              "          const docLinkHtml = 'Like what you see? Visit the ' +\n",
              "            '<a target=\"_blank\" href=https://colab.research.google.com/notebooks/data_table.ipynb>data table notebook</a>'\n",
              "            + ' to learn more about interactive tables.';\n",
              "          element.innerHTML = '';\n",
              "          dataTable['output_type'] = 'display_data';\n",
              "          await google.colab.output.renderOutput(dataTable, element);\n",
              "          const docLink = document.createElement('div');\n",
              "          docLink.innerHTML = docLinkHtml;\n",
              "          element.appendChild(docLink);\n",
              "        }\n",
              "      </script>\n",
              "    </div>\n",
              "  </div>\n",
              "  "
            ]
          },
          "metadata": {},
          "execution_count": 84
        }
      ],
      "source": [
        "res_pd = pd.DataFrame(list(zip(ids, rel[ids])), columns=['item_id', 'relevance']).merge(i_features_filtered[['item_id', 'title', 'authors', 'year', 'genres']], on='item_id')\n",
        "res_pd.sort_values('relevance', ascending=False)"
      ],
      "id": "ada08d38"
    },
    {
      "cell_type": "markdown",
      "metadata": {
        "id": "83e9eab9"
      },
      "source": [
        "## Обернем SVD в класс и оценим качество"
      ],
      "id": "83e9eab9"
    },
    {
      "cell_type": "code",
      "execution_count": 85,
      "metadata": {
        "id": "4be4c10e"
      },
      "outputs": [],
      "source": [
        "class SVDModel(ParentModel):\n",
        "    user_vectors: np.array\n",
        "    singular_values: np.array\n",
        "    item_vectors:np.array\n",
        "        \n",
        "    def __init__(self, rank: int):\n",
        "        self.rank = rank\n",
        "        \n",
        "    def fit(self, \n",
        "            log: pd.DataFrame, \n",
        "            user_features: Optional[pd.DataFrame]=None, \n",
        "            item_features: Optional[pd.DataFrame]=None) -> 'SVDModel':\n",
        "        csr_train = csr_matrix((np.ones(log.shape[0]).astype(float), (log['user_id'], log['item_id'])))\n",
        "        self.user_vectors, self.singular_values, self.item_vectors = svds(A=csr_train, k=self.rank)\n",
        "        return self\n",
        "        \n",
        "    def _split_pair(self, \n",
        "                    pred):\n",
        "        \"\"\"\n",
        "        Split column of tuples <item_id, relevance>\n",
        "        \"\"\"\n",
        "        pred['item_id'] = pred['recs'].apply(lambda x: x[0])\n",
        "        pred['relevance'] = pred['recs'].apply(lambda x: x[1])\n",
        "        pred.drop(columns=['recs'], inplace=True)\n",
        "        \n",
        "    def _predict(self, \n",
        "                log: pd.DataFrame, \n",
        "                users: pd.Series, \n",
        "                k: int,\n",
        "                user_features: Optional[pd.DataFrame]=None, \n",
        "                item_features: Optional[pd.DataFrame]=None,\n",
        "                filter_seen:bool = True) -> pd.DataFrame:\n",
        "        \n",
        "        def als_pred_by_user(user_id):\n",
        "            \"\"\"\n",
        "            Get top-k recs for user as a list of tuples with <item_id, relevance>\n",
        "            \"\"\"\n",
        "            rel = self.user_vectors[user_id, :] @ np.diag(self.singular_values) @ self.item_vectors\n",
        "            ids = np.argpartition(rel, -k)[-k:]\n",
        "            return list(zip(ids, rel[ids]))\n",
        "        \n",
        "        pred = pd.DataFrame(users, columns=['user_id'])\n",
        "        pred['recs'] = pred['user_id'].apply(als_pred_by_user)\n",
        "        pred = pred.explode('recs')\n",
        "        self._split_pair(pred)\n",
        "        return pred"
      ],
      "id": "4be4c10e"
    },
    {
      "cell_type": "code",
      "execution_count": 86,
      "metadata": {
        "id": "df0aa975"
      },
      "outputs": [],
      "source": [
        "svd_rec = SVDModel(rank=64)"
      ],
      "id": "df0aa975"
    },
    {
      "cell_type": "code",
      "execution_count": 87,
      "metadata": {
        "colab": {
          "base_uri": "https://localhost:8080/"
        },
        "id": "fd8e9deb",
        "outputId": "cfc342f6-899b-47d9-ea66-313840b2279e"
      },
      "outputs": [
        {
          "output_type": "stream",
          "name": "stdout",
          "text": [
            "CPU times: user 2.62 s, sys: 781 ms, total: 3.4 s\n",
            "Wall time: 1.8 s\n"
          ]
        },
        {
          "output_type": "execute_result",
          "data": {
            "text/plain": [
              "<__main__.SVDModel at 0x7f352f563e80>"
            ]
          },
          "metadata": {},
          "execution_count": 87
        }
      ],
      "source": [
        "%%time\n",
        "svd_rec.fit(train_by_date)"
      ],
      "id": "fd8e9deb"
    },
    {
      "cell_type": "code",
      "execution_count": 88,
      "metadata": {
        "colab": {
          "base_uri": "https://localhost:8080/"
        },
        "id": "19c90dc9",
        "outputId": "487aa88c-d3dc-495f-9cc0-e0b45363adde"
      },
      "outputs": [
        {
          "output_type": "stream",
          "name": "stdout",
          "text": [
            "CPU times: user 24.7 s, sys: 441 ms, total: 25.1 s\n",
            "Wall time: 28.4 s\n"
          ]
        }
      ],
      "source": [
        "%%time\n",
        "svd_pred = svd_rec.predict(log=train_by_date, users=test_by_date_users, k=K)"
      ],
      "id": "19c90dc9"
    },
    {
      "cell_type": "code",
      "execution_count": 89,
      "metadata": {
        "colab": {
          "base_uri": "https://localhost:8080/"
        },
        "id": "c1e74c2e",
        "outputId": "58da72c6-671e-4a5f-f440-01466a3e4ee4"
      },
      "outputs": [
        {
          "output_type": "stream",
          "name": "stdout",
          "text": [
            "CPU times: user 706 ms, sys: 38 ms, total: 744 ms\n",
            "Wall time: 862 ms\n"
          ]
        }
      ],
      "source": [
        "%%time\n",
        "metrics = measure(svd_pred, test_by_date, 'svd_rec', metrics, cov_items=filtered_df['item_id'], surp=surp)"
      ],
      "id": "c1e74c2e"
    },
    {
      "cell_type": "code",
      "execution_count": 90,
      "metadata": {
        "colab": {
          "base_uri": "https://localhost:8080/",
          "height": 112
        },
        "id": "87zpGz5nMnDP",
        "outputId": "4cb8d100-41bf-4c38-9ed9-54ef8557d0f0"
      },
      "outputs": [
        {
          "output_type": "execute_result",
          "data": {
            "text/plain": [
              "        hit_rate@1 hit_rate@K     map@K    ndcg@K coverage@K surprisal@K\n",
              "svd_rec   0.023008   0.112704  0.013908  0.028075   0.029226     0.55263\n",
              "popular   0.002668   0.023008  0.001435  0.003687   0.000353    0.426938"
            ],
            "text/html": [
              "\n",
              "  <div id=\"df-2c06f694-0885-498c-aedc-ee1f2ee076a9\">\n",
              "    <div class=\"colab-df-container\">\n",
              "      <div>\n",
              "<style scoped>\n",
              "    .dataframe tbody tr th:only-of-type {\n",
              "        vertical-align: middle;\n",
              "    }\n",
              "\n",
              "    .dataframe tbody tr th {\n",
              "        vertical-align: top;\n",
              "    }\n",
              "\n",
              "    .dataframe thead th {\n",
              "        text-align: right;\n",
              "    }\n",
              "</style>\n",
              "<table border=\"1\" class=\"dataframe\">\n",
              "  <thead>\n",
              "    <tr style=\"text-align: right;\">\n",
              "      <th></th>\n",
              "      <th>hit_rate@1</th>\n",
              "      <th>hit_rate@K</th>\n",
              "      <th>map@K</th>\n",
              "      <th>ndcg@K</th>\n",
              "      <th>coverage@K</th>\n",
              "      <th>surprisal@K</th>\n",
              "    </tr>\n",
              "  </thead>\n",
              "  <tbody>\n",
              "    <tr>\n",
              "      <th>svd_rec</th>\n",
              "      <td>0.023008</td>\n",
              "      <td>0.112704</td>\n",
              "      <td>0.013908</td>\n",
              "      <td>0.028075</td>\n",
              "      <td>0.029226</td>\n",
              "      <td>0.55263</td>\n",
              "    </tr>\n",
              "    <tr>\n",
              "      <th>popular</th>\n",
              "      <td>0.002668</td>\n",
              "      <td>0.023008</td>\n",
              "      <td>0.001435</td>\n",
              "      <td>0.003687</td>\n",
              "      <td>0.000353</td>\n",
              "      <td>0.426938</td>\n",
              "    </tr>\n",
              "  </tbody>\n",
              "</table>\n",
              "</div>\n",
              "      <button class=\"colab-df-convert\" onclick=\"convertToInteractive('df-2c06f694-0885-498c-aedc-ee1f2ee076a9')\"\n",
              "              title=\"Convert this dataframe to an interactive table.\"\n",
              "              style=\"display:none;\">\n",
              "        \n",
              "  <svg xmlns=\"http://www.w3.org/2000/svg\" height=\"24px\"viewBox=\"0 0 24 24\"\n",
              "       width=\"24px\">\n",
              "    <path d=\"M0 0h24v24H0V0z\" fill=\"none\"/>\n",
              "    <path d=\"M18.56 5.44l.94 2.06.94-2.06 2.06-.94-2.06-.94-.94-2.06-.94 2.06-2.06.94zm-11 1L8.5 8.5l.94-2.06 2.06-.94-2.06-.94L8.5 2.5l-.94 2.06-2.06.94zm10 10l.94 2.06.94-2.06 2.06-.94-2.06-.94-.94-2.06-.94 2.06-2.06.94z\"/><path d=\"M17.41 7.96l-1.37-1.37c-.4-.4-.92-.59-1.43-.59-.52 0-1.04.2-1.43.59L10.3 9.45l-7.72 7.72c-.78.78-.78 2.05 0 2.83L4 21.41c.39.39.9.59 1.41.59.51 0 1.02-.2 1.41-.59l7.78-7.78 2.81-2.81c.8-.78.8-2.07 0-2.86zM5.41 20L4 18.59l7.72-7.72 1.47 1.35L5.41 20z\"/>\n",
              "  </svg>\n",
              "      </button>\n",
              "      \n",
              "  <style>\n",
              "    .colab-df-container {\n",
              "      display:flex;\n",
              "      flex-wrap:wrap;\n",
              "      gap: 12px;\n",
              "    }\n",
              "\n",
              "    .colab-df-convert {\n",
              "      background-color: #E8F0FE;\n",
              "      border: none;\n",
              "      border-radius: 50%;\n",
              "      cursor: pointer;\n",
              "      display: none;\n",
              "      fill: #1967D2;\n",
              "      height: 32px;\n",
              "      padding: 0 0 0 0;\n",
              "      width: 32px;\n",
              "    }\n",
              "\n",
              "    .colab-df-convert:hover {\n",
              "      background-color: #E2EBFA;\n",
              "      box-shadow: 0px 1px 2px rgba(60, 64, 67, 0.3), 0px 1px 3px 1px rgba(60, 64, 67, 0.15);\n",
              "      fill: #174EA6;\n",
              "    }\n",
              "\n",
              "    [theme=dark] .colab-df-convert {\n",
              "      background-color: #3B4455;\n",
              "      fill: #D2E3FC;\n",
              "    }\n",
              "\n",
              "    [theme=dark] .colab-df-convert:hover {\n",
              "      background-color: #434B5C;\n",
              "      box-shadow: 0px 1px 3px 1px rgba(0, 0, 0, 0.15);\n",
              "      filter: drop-shadow(0px 1px 2px rgba(0, 0, 0, 0.3));\n",
              "      fill: #FFFFFF;\n",
              "    }\n",
              "  </style>\n",
              "\n",
              "      <script>\n",
              "        const buttonEl =\n",
              "          document.querySelector('#df-2c06f694-0885-498c-aedc-ee1f2ee076a9 button.colab-df-convert');\n",
              "        buttonEl.style.display =\n",
              "          google.colab.kernel.accessAllowed ? 'block' : 'none';\n",
              "\n",
              "        async function convertToInteractive(key) {\n",
              "          const element = document.querySelector('#df-2c06f694-0885-498c-aedc-ee1f2ee076a9');\n",
              "          const dataTable =\n",
              "            await google.colab.kernel.invokeFunction('convertToInteractive',\n",
              "                                                     [key], {});\n",
              "          if (!dataTable) return;\n",
              "\n",
              "          const docLinkHtml = 'Like what you see? Visit the ' +\n",
              "            '<a target=\"_blank\" href=https://colab.research.google.com/notebooks/data_table.ipynb>data table notebook</a>'\n",
              "            + ' to learn more about interactive tables.';\n",
              "          element.innerHTML = '';\n",
              "          dataTable['output_type'] = 'display_data';\n",
              "          await google.colab.output.renderOutput(dataTable, element);\n",
              "          const docLink = document.createElement('div');\n",
              "          docLink.innerHTML = docLinkHtml;\n",
              "          element.appendChild(docLink);\n",
              "        }\n",
              "      </script>\n",
              "    </div>\n",
              "  </div>\n",
              "  "
            ]
          },
          "metadata": {},
          "execution_count": 90
        }
      ],
      "source": [
        "metrics.sort_values('hit_rate@K', ascending=False)"
      ],
      "id": "87zpGz5nMnDP"
    },
    {
      "cell_type": "markdown",
      "metadata": {
        "id": "a9803860"
      },
      "source": [
        "Полезные результаты: теперь у нас есть вектора айтемов, и мы можем искать похожие. Вспомним про косинусное и Евклидово расстояние и скалярное произведение. \n",
        "\n",
        "Если захочется вспомнить про популярные способы оценки близости, можно почитать [тут](https://towardsdatascience.com/9-distance-measures-in-data-science-918109d069fa)"
      ],
      "id": "a9803860"
    },
    {
      "cell_type": "markdown",
      "metadata": {
        "id": "6e9666f2"
      },
      "source": [
        "## Поиск похожих айтемов"
      ],
      "id": "6e9666f2"
    },
    {
      "cell_type": "code",
      "source": [
        "i_features_filtered[i_features_filtered['item_id'] == TEST_BOOK]"
      ],
      "metadata": {
        "colab": {
          "base_uri": "https://localhost:8080/",
          "height": 81
        },
        "id": "jguGSXEV2fHR",
        "outputId": "68821f63-12cd-4dfe-a2f3-acabfe38e86e"
      },
      "id": "jguGSXEV2fHR",
      "execution_count": 91,
      "outputs": [
        {
          "output_type": "execute_result",
          "data": {
            "text/plain": [
              "       item_id                                title  \\\n",
              "43954    36618  Магический спецкурс. Первый семестр   \n",
              "\n",
              "                                                 genres      authors  year  \n",
              "43954  Попаданцы,Книги про волшебников,Любовное фэнтези  Лена Летняя  2017  "
            ],
            "text/html": [
              "\n",
              "  <div id=\"df-2dfcdf16-58c9-43cd-86d9-611824f8e0c2\">\n",
              "    <div class=\"colab-df-container\">\n",
              "      <div>\n",
              "<style scoped>\n",
              "    .dataframe tbody tr th:only-of-type {\n",
              "        vertical-align: middle;\n",
              "    }\n",
              "\n",
              "    .dataframe tbody tr th {\n",
              "        vertical-align: top;\n",
              "    }\n",
              "\n",
              "    .dataframe thead th {\n",
              "        text-align: right;\n",
              "    }\n",
              "</style>\n",
              "<table border=\"1\" class=\"dataframe\">\n",
              "  <thead>\n",
              "    <tr style=\"text-align: right;\">\n",
              "      <th></th>\n",
              "      <th>item_id</th>\n",
              "      <th>title</th>\n",
              "      <th>genres</th>\n",
              "      <th>authors</th>\n",
              "      <th>year</th>\n",
              "    </tr>\n",
              "  </thead>\n",
              "  <tbody>\n",
              "    <tr>\n",
              "      <th>43954</th>\n",
              "      <td>36618</td>\n",
              "      <td>Магический спецкурс. Первый семестр</td>\n",
              "      <td>Попаданцы,Книги про волшебников,Любовное фэнтези</td>\n",
              "      <td>Лена Летняя</td>\n",
              "      <td>2017</td>\n",
              "    </tr>\n",
              "  </tbody>\n",
              "</table>\n",
              "</div>\n",
              "      <button class=\"colab-df-convert\" onclick=\"convertToInteractive('df-2dfcdf16-58c9-43cd-86d9-611824f8e0c2')\"\n",
              "              title=\"Convert this dataframe to an interactive table.\"\n",
              "              style=\"display:none;\">\n",
              "        \n",
              "  <svg xmlns=\"http://www.w3.org/2000/svg\" height=\"24px\"viewBox=\"0 0 24 24\"\n",
              "       width=\"24px\">\n",
              "    <path d=\"M0 0h24v24H0V0z\" fill=\"none\"/>\n",
              "    <path d=\"M18.56 5.44l.94 2.06.94-2.06 2.06-.94-2.06-.94-.94-2.06-.94 2.06-2.06.94zm-11 1L8.5 8.5l.94-2.06 2.06-.94-2.06-.94L8.5 2.5l-.94 2.06-2.06.94zm10 10l.94 2.06.94-2.06 2.06-.94-2.06-.94-.94-2.06-.94 2.06-2.06.94z\"/><path d=\"M17.41 7.96l-1.37-1.37c-.4-.4-.92-.59-1.43-.59-.52 0-1.04.2-1.43.59L10.3 9.45l-7.72 7.72c-.78.78-.78 2.05 0 2.83L4 21.41c.39.39.9.59 1.41.59.51 0 1.02-.2 1.41-.59l7.78-7.78 2.81-2.81c.8-.78.8-2.07 0-2.86zM5.41 20L4 18.59l7.72-7.72 1.47 1.35L5.41 20z\"/>\n",
              "  </svg>\n",
              "      </button>\n",
              "      \n",
              "  <style>\n",
              "    .colab-df-container {\n",
              "      display:flex;\n",
              "      flex-wrap:wrap;\n",
              "      gap: 12px;\n",
              "    }\n",
              "\n",
              "    .colab-df-convert {\n",
              "      background-color: #E8F0FE;\n",
              "      border: none;\n",
              "      border-radius: 50%;\n",
              "      cursor: pointer;\n",
              "      display: none;\n",
              "      fill: #1967D2;\n",
              "      height: 32px;\n",
              "      padding: 0 0 0 0;\n",
              "      width: 32px;\n",
              "    }\n",
              "\n",
              "    .colab-df-convert:hover {\n",
              "      background-color: #E2EBFA;\n",
              "      box-shadow: 0px 1px 2px rgba(60, 64, 67, 0.3), 0px 1px 3px 1px rgba(60, 64, 67, 0.15);\n",
              "      fill: #174EA6;\n",
              "    }\n",
              "\n",
              "    [theme=dark] .colab-df-convert {\n",
              "      background-color: #3B4455;\n",
              "      fill: #D2E3FC;\n",
              "    }\n",
              "\n",
              "    [theme=dark] .colab-df-convert:hover {\n",
              "      background-color: #434B5C;\n",
              "      box-shadow: 0px 1px 3px 1px rgba(0, 0, 0, 0.15);\n",
              "      filter: drop-shadow(0px 1px 2px rgba(0, 0, 0, 0.3));\n",
              "      fill: #FFFFFF;\n",
              "    }\n",
              "  </style>\n",
              "\n",
              "      <script>\n",
              "        const buttonEl =\n",
              "          document.querySelector('#df-2dfcdf16-58c9-43cd-86d9-611824f8e0c2 button.colab-df-convert');\n",
              "        buttonEl.style.display =\n",
              "          google.colab.kernel.accessAllowed ? 'block' : 'none';\n",
              "\n",
              "        async function convertToInteractive(key) {\n",
              "          const element = document.querySelector('#df-2dfcdf16-58c9-43cd-86d9-611824f8e0c2');\n",
              "          const dataTable =\n",
              "            await google.colab.kernel.invokeFunction('convertToInteractive',\n",
              "                                                     [key], {});\n",
              "          if (!dataTable) return;\n",
              "\n",
              "          const docLinkHtml = 'Like what you see? Visit the ' +\n",
              "            '<a target=\"_blank\" href=https://colab.research.google.com/notebooks/data_table.ipynb>data table notebook</a>'\n",
              "            + ' to learn more about interactive tables.';\n",
              "          element.innerHTML = '';\n",
              "          dataTable['output_type'] = 'display_data';\n",
              "          await google.colab.output.renderOutput(dataTable, element);\n",
              "          const docLink = document.createElement('div');\n",
              "          docLink.innerHTML = docLinkHtml;\n",
              "          element.appendChild(docLink);\n",
              "        }\n",
              "      </script>\n",
              "    </div>\n",
              "  </div>\n",
              "  "
            ]
          },
          "metadata": {},
          "execution_count": 91
        }
      ]
    },
    {
      "cell_type": "code",
      "execution_count": 92,
      "metadata": {
        "id": "BH3m0OTfOK4u"
      },
      "outputs": [],
      "source": [
        "popularity = train_by_date.groupby('item_id')['user_id'].count().rename('popularity').sort_values(ascending=False)\n",
        "items_with_pop = i_features_filtered.merge(popularity, right_index=True, left_on=\"item_id\")"
      ],
      "id": "BH3m0OTfOK4u"
    },
    {
      "cell_type": "code",
      "execution_count": 94,
      "metadata": {
        "colab": {
          "base_uri": "https://localhost:8080/",
          "height": 81
        },
        "id": "46baf6ec",
        "outputId": "dba28236-f529-46fc-cbad-f6dc4f92724d"
      },
      "outputs": [
        {
          "output_type": "execute_result",
          "data": {
            "text/plain": [
              "       item_id                                title  \\\n",
              "43954    36618  Магический спецкурс. Первый семестр   \n",
              "\n",
              "                                                 genres      authors  year  \\\n",
              "43954  Попаданцы,Книги про волшебников,Любовное фэнтези  Лена Летняя  2017   \n",
              "\n",
              "       popularity  \n",
              "43954         239  "
            ],
            "text/html": [
              "\n",
              "  <div id=\"df-e4703dca-5fc6-4dda-b0c8-6ccb8f2f94b9\">\n",
              "    <div class=\"colab-df-container\">\n",
              "      <div>\n",
              "<style scoped>\n",
              "    .dataframe tbody tr th:only-of-type {\n",
              "        vertical-align: middle;\n",
              "    }\n",
              "\n",
              "    .dataframe tbody tr th {\n",
              "        vertical-align: top;\n",
              "    }\n",
              "\n",
              "    .dataframe thead th {\n",
              "        text-align: right;\n",
              "    }\n",
              "</style>\n",
              "<table border=\"1\" class=\"dataframe\">\n",
              "  <thead>\n",
              "    <tr style=\"text-align: right;\">\n",
              "      <th></th>\n",
              "      <th>item_id</th>\n",
              "      <th>title</th>\n",
              "      <th>genres</th>\n",
              "      <th>authors</th>\n",
              "      <th>year</th>\n",
              "      <th>popularity</th>\n",
              "    </tr>\n",
              "  </thead>\n",
              "  <tbody>\n",
              "    <tr>\n",
              "      <th>43954</th>\n",
              "      <td>36618</td>\n",
              "      <td>Магический спецкурс. Первый семестр</td>\n",
              "      <td>Попаданцы,Книги про волшебников,Любовное фэнтези</td>\n",
              "      <td>Лена Летняя</td>\n",
              "      <td>2017</td>\n",
              "      <td>239</td>\n",
              "    </tr>\n",
              "  </tbody>\n",
              "</table>\n",
              "</div>\n",
              "      <button class=\"colab-df-convert\" onclick=\"convertToInteractive('df-e4703dca-5fc6-4dda-b0c8-6ccb8f2f94b9')\"\n",
              "              title=\"Convert this dataframe to an interactive table.\"\n",
              "              style=\"display:none;\">\n",
              "        \n",
              "  <svg xmlns=\"http://www.w3.org/2000/svg\" height=\"24px\"viewBox=\"0 0 24 24\"\n",
              "       width=\"24px\">\n",
              "    <path d=\"M0 0h24v24H0V0z\" fill=\"none\"/>\n",
              "    <path d=\"M18.56 5.44l.94 2.06.94-2.06 2.06-.94-2.06-.94-.94-2.06-.94 2.06-2.06.94zm-11 1L8.5 8.5l.94-2.06 2.06-.94-2.06-.94L8.5 2.5l-.94 2.06-2.06.94zm10 10l.94 2.06.94-2.06 2.06-.94-2.06-.94-.94-2.06-.94 2.06-2.06.94z\"/><path d=\"M17.41 7.96l-1.37-1.37c-.4-.4-.92-.59-1.43-.59-.52 0-1.04.2-1.43.59L10.3 9.45l-7.72 7.72c-.78.78-.78 2.05 0 2.83L4 21.41c.39.39.9.59 1.41.59.51 0 1.02-.2 1.41-.59l7.78-7.78 2.81-2.81c.8-.78.8-2.07 0-2.86zM5.41 20L4 18.59l7.72-7.72 1.47 1.35L5.41 20z\"/>\n",
              "  </svg>\n",
              "      </button>\n",
              "      \n",
              "  <style>\n",
              "    .colab-df-container {\n",
              "      display:flex;\n",
              "      flex-wrap:wrap;\n",
              "      gap: 12px;\n",
              "    }\n",
              "\n",
              "    .colab-df-convert {\n",
              "      background-color: #E8F0FE;\n",
              "      border: none;\n",
              "      border-radius: 50%;\n",
              "      cursor: pointer;\n",
              "      display: none;\n",
              "      fill: #1967D2;\n",
              "      height: 32px;\n",
              "      padding: 0 0 0 0;\n",
              "      width: 32px;\n",
              "    }\n",
              "\n",
              "    .colab-df-convert:hover {\n",
              "      background-color: #E2EBFA;\n",
              "      box-shadow: 0px 1px 2px rgba(60, 64, 67, 0.3), 0px 1px 3px 1px rgba(60, 64, 67, 0.15);\n",
              "      fill: #174EA6;\n",
              "    }\n",
              "\n",
              "    [theme=dark] .colab-df-convert {\n",
              "      background-color: #3B4455;\n",
              "      fill: #D2E3FC;\n",
              "    }\n",
              "\n",
              "    [theme=dark] .colab-df-convert:hover {\n",
              "      background-color: #434B5C;\n",
              "      box-shadow: 0px 1px 3px 1px rgba(0, 0, 0, 0.15);\n",
              "      filter: drop-shadow(0px 1px 2px rgba(0, 0, 0, 0.3));\n",
              "      fill: #FFFFFF;\n",
              "    }\n",
              "  </style>\n",
              "\n",
              "      <script>\n",
              "        const buttonEl =\n",
              "          document.querySelector('#df-e4703dca-5fc6-4dda-b0c8-6ccb8f2f94b9 button.colab-df-convert');\n",
              "        buttonEl.style.display =\n",
              "          google.colab.kernel.accessAllowed ? 'block' : 'none';\n",
              "\n",
              "        async function convertToInteractive(key) {\n",
              "          const element = document.querySelector('#df-e4703dca-5fc6-4dda-b0c8-6ccb8f2f94b9');\n",
              "          const dataTable =\n",
              "            await google.colab.kernel.invokeFunction('convertToInteractive',\n",
              "                                                     [key], {});\n",
              "          if (!dataTable) return;\n",
              "\n",
              "          const docLinkHtml = 'Like what you see? Visit the ' +\n",
              "            '<a target=\"_blank\" href=https://colab.research.google.com/notebooks/data_table.ipynb>data table notebook</a>'\n",
              "            + ' to learn more about interactive tables.';\n",
              "          element.innerHTML = '';\n",
              "          dataTable['output_type'] = 'display_data';\n",
              "          await google.colab.output.renderOutput(dataTable, element);\n",
              "          const docLink = document.createElement('div');\n",
              "          docLink.innerHTML = docLinkHtml;\n",
              "          element.appendChild(docLink);\n",
              "        }\n",
              "      </script>\n",
              "    </div>\n",
              "  </div>\n",
              "  "
            ]
          },
          "metadata": {},
          "execution_count": 94
        }
      ],
      "source": [
        "items_with_pop[items_with_pop['item_id'] == TEST_BOOK]"
      ],
      "id": "46baf6ec"
    },
    {
      "cell_type": "markdown",
      "metadata": {
        "id": "CyAFxi6l3Bjd"
      },
      "source": [
        "### cosine similarity"
      ],
      "id": "CyAFxi6l3Bjd"
    },
    {
      "cell_type": "code",
      "execution_count": 95,
      "metadata": {
        "id": "d3c0e5b2"
      },
      "outputs": [],
      "source": [
        "from sklearn.metrics.pairwise import cosine_similarity"
      ],
      "id": "d3c0e5b2"
    },
    {
      "cell_type": "code",
      "execution_count": 96,
      "metadata": {
        "id": "9461ee78",
        "outputId": "0ac02742-f02b-4407-bfb6-739900661d08",
        "colab": {
          "base_uri": "https://localhost:8080/",
          "height": 363
        }
      },
      "outputs": [
        {
          "output_type": "execute_result",
          "data": {
            "text/plain": [
              "   item_id  relevance                                              title  \\\n",
              "7    36618   1.000000                Магический спецкурс. Первый семестр   \n",
              "8    36999   0.990003                Магический спецкурс. Второй семестр   \n",
              "5     8806   0.960270        Сочинения Александра Пушкина. Статья третья   \n",
              "9     2191   0.959478                                           Пищеблок   \n",
              "6    31117   0.956306                                       Чёрная кошка   \n",
              "4    34393   0.956139                                  Проект «Изоляция»   \n",
              "2    12147   0.955719                Психотерапия и магия коррекции веса   \n",
              "3     9139   0.955111  Врата Победы: Ленинград-43. Сумерки богов. Вра...   \n",
              "1    18880   0.953830                         Ты самая любимая (сборник)   \n",
              "0    10944   0.950389                                 Вeрните моего сына   \n",
              "\n",
              "                                              genres              authors  \\\n",
              "7   Попаданцы,Книги про волшебников,Любовное фэнтези          Лена Летняя   \n",
              "8  Любовно-фантастические романы,Попаданцы,Любовн...          Лена Летняя   \n",
              "5                         Литература 19 века,Критика  Виссарион Белинский   \n",
              "9             Мистика,Современная русская литература       Алексей Иванов   \n",
              "6        Книги для подростков,Книги для дошкольников   Александр Кувшинов   \n",
              "4                                  Боевая фантастика       Кирилл Шарапов   \n",
              "2  Похудение и диеты,Практическая психология,Псих...         Борис Акимов   \n",
              "3                  Историческая фантастика,Попаданцы      Владислав Савин   \n",
              "1                     Современная русская литература        Эдуард Тополь   \n",
              "0  Современные детективы,Остросюжетные любовные р...        Анна Исламова   \n",
              "\n",
              "   year  popularity  \n",
              "7  2017         239  \n",
              "8  2018         219  \n",
              "5  1843           4  \n",
              "9  2018           1  \n",
              "6  2018           2  \n",
              "4  2013           1  \n",
              "2  2017           3  \n",
              "3  2019           2  \n",
              "1  2011           3  \n",
              "0  2019           3  "
            ],
            "text/html": [
              "\n",
              "  <div id=\"df-63dcaf43-03b0-4bb8-bc80-eddd8731be10\">\n",
              "    <div class=\"colab-df-container\">\n",
              "      <div>\n",
              "<style scoped>\n",
              "    .dataframe tbody tr th:only-of-type {\n",
              "        vertical-align: middle;\n",
              "    }\n",
              "\n",
              "    .dataframe tbody tr th {\n",
              "        vertical-align: top;\n",
              "    }\n",
              "\n",
              "    .dataframe thead th {\n",
              "        text-align: right;\n",
              "    }\n",
              "</style>\n",
              "<table border=\"1\" class=\"dataframe\">\n",
              "  <thead>\n",
              "    <tr style=\"text-align: right;\">\n",
              "      <th></th>\n",
              "      <th>item_id</th>\n",
              "      <th>relevance</th>\n",
              "      <th>title</th>\n",
              "      <th>genres</th>\n",
              "      <th>authors</th>\n",
              "      <th>year</th>\n",
              "      <th>popularity</th>\n",
              "    </tr>\n",
              "  </thead>\n",
              "  <tbody>\n",
              "    <tr>\n",
              "      <th>7</th>\n",
              "      <td>36618</td>\n",
              "      <td>1.000000</td>\n",
              "      <td>Магический спецкурс. Первый семестр</td>\n",
              "      <td>Попаданцы,Книги про волшебников,Любовное фэнтези</td>\n",
              "      <td>Лена Летняя</td>\n",
              "      <td>2017</td>\n",
              "      <td>239</td>\n",
              "    </tr>\n",
              "    <tr>\n",
              "      <th>8</th>\n",
              "      <td>36999</td>\n",
              "      <td>0.990003</td>\n",
              "      <td>Магический спецкурс. Второй семестр</td>\n",
              "      <td>Любовно-фантастические романы,Попаданцы,Любовн...</td>\n",
              "      <td>Лена Летняя</td>\n",
              "      <td>2018</td>\n",
              "      <td>219</td>\n",
              "    </tr>\n",
              "    <tr>\n",
              "      <th>5</th>\n",
              "      <td>8806</td>\n",
              "      <td>0.960270</td>\n",
              "      <td>Сочинения Александра Пушкина. Статья третья</td>\n",
              "      <td>Литература 19 века,Критика</td>\n",
              "      <td>Виссарион Белинский</td>\n",
              "      <td>1843</td>\n",
              "      <td>4</td>\n",
              "    </tr>\n",
              "    <tr>\n",
              "      <th>9</th>\n",
              "      <td>2191</td>\n",
              "      <td>0.959478</td>\n",
              "      <td>Пищеблок</td>\n",
              "      <td>Мистика,Современная русская литература</td>\n",
              "      <td>Алексей Иванов</td>\n",
              "      <td>2018</td>\n",
              "      <td>1</td>\n",
              "    </tr>\n",
              "    <tr>\n",
              "      <th>6</th>\n",
              "      <td>31117</td>\n",
              "      <td>0.956306</td>\n",
              "      <td>Чёрная кошка</td>\n",
              "      <td>Книги для подростков,Книги для дошкольников</td>\n",
              "      <td>Александр Кувшинов</td>\n",
              "      <td>2018</td>\n",
              "      <td>2</td>\n",
              "    </tr>\n",
              "    <tr>\n",
              "      <th>4</th>\n",
              "      <td>34393</td>\n",
              "      <td>0.956139</td>\n",
              "      <td>Проект «Изоляция»</td>\n",
              "      <td>Боевая фантастика</td>\n",
              "      <td>Кирилл Шарапов</td>\n",
              "      <td>2013</td>\n",
              "      <td>1</td>\n",
              "    </tr>\n",
              "    <tr>\n",
              "      <th>2</th>\n",
              "      <td>12147</td>\n",
              "      <td>0.955719</td>\n",
              "      <td>Психотерапия и магия коррекции веса</td>\n",
              "      <td>Похудение и диеты,Практическая психология,Псих...</td>\n",
              "      <td>Борис Акимов</td>\n",
              "      <td>2017</td>\n",
              "      <td>3</td>\n",
              "    </tr>\n",
              "    <tr>\n",
              "      <th>3</th>\n",
              "      <td>9139</td>\n",
              "      <td>0.955111</td>\n",
              "      <td>Врата Победы: Ленинград-43. Сумерки богов. Вра...</td>\n",
              "      <td>Историческая фантастика,Попаданцы</td>\n",
              "      <td>Владислав Савин</td>\n",
              "      <td>2019</td>\n",
              "      <td>2</td>\n",
              "    </tr>\n",
              "    <tr>\n",
              "      <th>1</th>\n",
              "      <td>18880</td>\n",
              "      <td>0.953830</td>\n",
              "      <td>Ты самая любимая (сборник)</td>\n",
              "      <td>Современная русская литература</td>\n",
              "      <td>Эдуард Тополь</td>\n",
              "      <td>2011</td>\n",
              "      <td>3</td>\n",
              "    </tr>\n",
              "    <tr>\n",
              "      <th>0</th>\n",
              "      <td>10944</td>\n",
              "      <td>0.950389</td>\n",
              "      <td>Вeрните моего сына</td>\n",
              "      <td>Современные детективы,Остросюжетные любовные р...</td>\n",
              "      <td>Анна Исламова</td>\n",
              "      <td>2019</td>\n",
              "      <td>3</td>\n",
              "    </tr>\n",
              "  </tbody>\n",
              "</table>\n",
              "</div>\n",
              "      <button class=\"colab-df-convert\" onclick=\"convertToInteractive('df-63dcaf43-03b0-4bb8-bc80-eddd8731be10')\"\n",
              "              title=\"Convert this dataframe to an interactive table.\"\n",
              "              style=\"display:none;\">\n",
              "        \n",
              "  <svg xmlns=\"http://www.w3.org/2000/svg\" height=\"24px\"viewBox=\"0 0 24 24\"\n",
              "       width=\"24px\">\n",
              "    <path d=\"M0 0h24v24H0V0z\" fill=\"none\"/>\n",
              "    <path d=\"M18.56 5.44l.94 2.06.94-2.06 2.06-.94-2.06-.94-.94-2.06-.94 2.06-2.06.94zm-11 1L8.5 8.5l.94-2.06 2.06-.94-2.06-.94L8.5 2.5l-.94 2.06-2.06.94zm10 10l.94 2.06.94-2.06 2.06-.94-2.06-.94-.94-2.06-.94 2.06-2.06.94z\"/><path d=\"M17.41 7.96l-1.37-1.37c-.4-.4-.92-.59-1.43-.59-.52 0-1.04.2-1.43.59L10.3 9.45l-7.72 7.72c-.78.78-.78 2.05 0 2.83L4 21.41c.39.39.9.59 1.41.59.51 0 1.02-.2 1.41-.59l7.78-7.78 2.81-2.81c.8-.78.8-2.07 0-2.86zM5.41 20L4 18.59l7.72-7.72 1.47 1.35L5.41 20z\"/>\n",
              "  </svg>\n",
              "      </button>\n",
              "      \n",
              "  <style>\n",
              "    .colab-df-container {\n",
              "      display:flex;\n",
              "      flex-wrap:wrap;\n",
              "      gap: 12px;\n",
              "    }\n",
              "\n",
              "    .colab-df-convert {\n",
              "      background-color: #E8F0FE;\n",
              "      border: none;\n",
              "      border-radius: 50%;\n",
              "      cursor: pointer;\n",
              "      display: none;\n",
              "      fill: #1967D2;\n",
              "      height: 32px;\n",
              "      padding: 0 0 0 0;\n",
              "      width: 32px;\n",
              "    }\n",
              "\n",
              "    .colab-df-convert:hover {\n",
              "      background-color: #E2EBFA;\n",
              "      box-shadow: 0px 1px 2px rgba(60, 64, 67, 0.3), 0px 1px 3px 1px rgba(60, 64, 67, 0.15);\n",
              "      fill: #174EA6;\n",
              "    }\n",
              "\n",
              "    [theme=dark] .colab-df-convert {\n",
              "      background-color: #3B4455;\n",
              "      fill: #D2E3FC;\n",
              "    }\n",
              "\n",
              "    [theme=dark] .colab-df-convert:hover {\n",
              "      background-color: #434B5C;\n",
              "      box-shadow: 0px 1px 3px 1px rgba(0, 0, 0, 0.15);\n",
              "      filter: drop-shadow(0px 1px 2px rgba(0, 0, 0, 0.3));\n",
              "      fill: #FFFFFF;\n",
              "    }\n",
              "  </style>\n",
              "\n",
              "      <script>\n",
              "        const buttonEl =\n",
              "          document.querySelector('#df-63dcaf43-03b0-4bb8-bc80-eddd8731be10 button.colab-df-convert');\n",
              "        buttonEl.style.display =\n",
              "          google.colab.kernel.accessAllowed ? 'block' : 'none';\n",
              "\n",
              "        async function convertToInteractive(key) {\n",
              "          const element = document.querySelector('#df-63dcaf43-03b0-4bb8-bc80-eddd8731be10');\n",
              "          const dataTable =\n",
              "            await google.colab.kernel.invokeFunction('convertToInteractive',\n",
              "                                                     [key], {});\n",
              "          if (!dataTable) return;\n",
              "\n",
              "          const docLinkHtml = 'Like what you see? Visit the ' +\n",
              "            '<a target=\"_blank\" href=https://colab.research.google.com/notebooks/data_table.ipynb>data table notebook</a>'\n",
              "            + ' to learn more about interactive tables.';\n",
              "          element.innerHTML = '';\n",
              "          dataTable['output_type'] = 'display_data';\n",
              "          await google.colab.output.renderOutput(dataTable, element);\n",
              "          const docLink = document.createElement('div');\n",
              "          docLink.innerHTML = docLinkHtml;\n",
              "          element.appendChild(docLink);\n",
              "        }\n",
              "      </script>\n",
              "    </div>\n",
              "  </div>\n",
              "  "
            ]
          },
          "metadata": {},
          "execution_count": 96
        }
      ],
      "source": [
        "rel = cosine_similarity(svd_rec.item_vectors.T[[TEST_BOOK], :], svd_rec.item_vectors.T).ravel()\n",
        "ids = np.argpartition(rel, -K)[-K:]\n",
        "pd.DataFrame(list(zip(ids, rel[ids])), columns=['item_id', 'relevance']).merge(items_with_pop, on='item_id').sort_values('relevance', ascending=False)"
      ],
      "id": "9461ee78"
    },
    {
      "cell_type": "code",
      "source": [
        "# вектор книги с низкой популярностью (31117, \"Чёрная кошка\") имеет маленькую норму\n",
        "np.linalg.norm(svd_rec.item_vectors.T[TEST_BOOK]), np.linalg.norm(svd_rec.item_vectors.T[31117]), "
      ],
      "metadata": {
        "colab": {
          "base_uri": "https://localhost:8080/"
        },
        "id": "Hz_GKwDQ4Sbo",
        "outputId": "8e7498c6-e14d-43b9-f513-070a67935f70"
      },
      "id": "Hz_GKwDQ4Sbo",
      "execution_count": 97,
      "outputs": [
        {
          "output_type": "execute_result",
          "data": {
            "text/plain": [
              "(0.4816126391613593, 0.002492214017837006)"
            ]
          },
          "metadata": {},
          "execution_count": 97
        }
      ]
    },
    {
      "cell_type": "code",
      "source": [
        "# у одного из двух пользователей, читавших \"Чёрную кошку\" в истории есть \"Магический спецкурс. Первый семестр\"\n",
        "train_by_date[train_by_date['user_id'].isin(train_by_date[train_by_date['item_id'] == 31117]['user_id'])].sort_values(\"user_id\")"
      ],
      "metadata": {
        "colab": {
          "base_uri": "https://localhost:8080/",
          "height": 426
        },
        "id": "RDh_jUIg3ktt",
        "outputId": "1bf9a679-2900-4177-d4c0-bc798e9dd074"
      },
      "id": "RDh_jUIg3ktt",
      "execution_count": 98,
      "outputs": [
        {
          "output_type": "execute_result",
          "data": {
            "text/plain": [
              "         user_id  item_id  progress  rating start_date\n",
              "43486       1641    41952        80     4.0 2018-01-22\n",
              "113144      1641    14723        80     NaN 2018-02-23\n",
              "210588      1641    31117        74     NaN 2018-04-12\n",
              "401808      1641     1079        73     NaN 2018-07-13\n",
              "29911       4371    36569        69     NaN 2018-01-15\n",
              "298700      4371     9139        63     NaN 2018-05-25\n",
              "848074      4371    34393        72     NaN 2019-02-10\n",
              "930736      4371    47681        89     NaN 2019-03-21\n",
              "943232      4371    36618       100     NaN 2019-03-27\n",
              "961497      4371    36999       100     NaN 2019-04-05\n",
              "963974      4371     8352       100     5.0 2019-04-06\n",
              "1117592     4371    31117        58     NaN 2019-06-17"
            ],
            "text/html": [
              "\n",
              "  <div id=\"df-3ad918fb-ed1f-4021-9976-66adb51aa1e7\">\n",
              "    <div class=\"colab-df-container\">\n",
              "      <div>\n",
              "<style scoped>\n",
              "    .dataframe tbody tr th:only-of-type {\n",
              "        vertical-align: middle;\n",
              "    }\n",
              "\n",
              "    .dataframe tbody tr th {\n",
              "        vertical-align: top;\n",
              "    }\n",
              "\n",
              "    .dataframe thead th {\n",
              "        text-align: right;\n",
              "    }\n",
              "</style>\n",
              "<table border=\"1\" class=\"dataframe\">\n",
              "  <thead>\n",
              "    <tr style=\"text-align: right;\">\n",
              "      <th></th>\n",
              "      <th>user_id</th>\n",
              "      <th>item_id</th>\n",
              "      <th>progress</th>\n",
              "      <th>rating</th>\n",
              "      <th>start_date</th>\n",
              "    </tr>\n",
              "  </thead>\n",
              "  <tbody>\n",
              "    <tr>\n",
              "      <th>43486</th>\n",
              "      <td>1641</td>\n",
              "      <td>41952</td>\n",
              "      <td>80</td>\n",
              "      <td>4.0</td>\n",
              "      <td>2018-01-22</td>\n",
              "    </tr>\n",
              "    <tr>\n",
              "      <th>113144</th>\n",
              "      <td>1641</td>\n",
              "      <td>14723</td>\n",
              "      <td>80</td>\n",
              "      <td>NaN</td>\n",
              "      <td>2018-02-23</td>\n",
              "    </tr>\n",
              "    <tr>\n",
              "      <th>210588</th>\n",
              "      <td>1641</td>\n",
              "      <td>31117</td>\n",
              "      <td>74</td>\n",
              "      <td>NaN</td>\n",
              "      <td>2018-04-12</td>\n",
              "    </tr>\n",
              "    <tr>\n",
              "      <th>401808</th>\n",
              "      <td>1641</td>\n",
              "      <td>1079</td>\n",
              "      <td>73</td>\n",
              "      <td>NaN</td>\n",
              "      <td>2018-07-13</td>\n",
              "    </tr>\n",
              "    <tr>\n",
              "      <th>29911</th>\n",
              "      <td>4371</td>\n",
              "      <td>36569</td>\n",
              "      <td>69</td>\n",
              "      <td>NaN</td>\n",
              "      <td>2018-01-15</td>\n",
              "    </tr>\n",
              "    <tr>\n",
              "      <th>298700</th>\n",
              "      <td>4371</td>\n",
              "      <td>9139</td>\n",
              "      <td>63</td>\n",
              "      <td>NaN</td>\n",
              "      <td>2018-05-25</td>\n",
              "    </tr>\n",
              "    <tr>\n",
              "      <th>848074</th>\n",
              "      <td>4371</td>\n",
              "      <td>34393</td>\n",
              "      <td>72</td>\n",
              "      <td>NaN</td>\n",
              "      <td>2019-02-10</td>\n",
              "    </tr>\n",
              "    <tr>\n",
              "      <th>930736</th>\n",
              "      <td>4371</td>\n",
              "      <td>47681</td>\n",
              "      <td>89</td>\n",
              "      <td>NaN</td>\n",
              "      <td>2019-03-21</td>\n",
              "    </tr>\n",
              "    <tr>\n",
              "      <th>943232</th>\n",
              "      <td>4371</td>\n",
              "      <td>36618</td>\n",
              "      <td>100</td>\n",
              "      <td>NaN</td>\n",
              "      <td>2019-03-27</td>\n",
              "    </tr>\n",
              "    <tr>\n",
              "      <th>961497</th>\n",
              "      <td>4371</td>\n",
              "      <td>36999</td>\n",
              "      <td>100</td>\n",
              "      <td>NaN</td>\n",
              "      <td>2019-04-05</td>\n",
              "    </tr>\n",
              "    <tr>\n",
              "      <th>963974</th>\n",
              "      <td>4371</td>\n",
              "      <td>8352</td>\n",
              "      <td>100</td>\n",
              "      <td>5.0</td>\n",
              "      <td>2019-04-06</td>\n",
              "    </tr>\n",
              "    <tr>\n",
              "      <th>1117592</th>\n",
              "      <td>4371</td>\n",
              "      <td>31117</td>\n",
              "      <td>58</td>\n",
              "      <td>NaN</td>\n",
              "      <td>2019-06-17</td>\n",
              "    </tr>\n",
              "  </tbody>\n",
              "</table>\n",
              "</div>\n",
              "      <button class=\"colab-df-convert\" onclick=\"convertToInteractive('df-3ad918fb-ed1f-4021-9976-66adb51aa1e7')\"\n",
              "              title=\"Convert this dataframe to an interactive table.\"\n",
              "              style=\"display:none;\">\n",
              "        \n",
              "  <svg xmlns=\"http://www.w3.org/2000/svg\" height=\"24px\"viewBox=\"0 0 24 24\"\n",
              "       width=\"24px\">\n",
              "    <path d=\"M0 0h24v24H0V0z\" fill=\"none\"/>\n",
              "    <path d=\"M18.56 5.44l.94 2.06.94-2.06 2.06-.94-2.06-.94-.94-2.06-.94 2.06-2.06.94zm-11 1L8.5 8.5l.94-2.06 2.06-.94-2.06-.94L8.5 2.5l-.94 2.06-2.06.94zm10 10l.94 2.06.94-2.06 2.06-.94-2.06-.94-.94-2.06-.94 2.06-2.06.94z\"/><path d=\"M17.41 7.96l-1.37-1.37c-.4-.4-.92-.59-1.43-.59-.52 0-1.04.2-1.43.59L10.3 9.45l-7.72 7.72c-.78.78-.78 2.05 0 2.83L4 21.41c.39.39.9.59 1.41.59.51 0 1.02-.2 1.41-.59l7.78-7.78 2.81-2.81c.8-.78.8-2.07 0-2.86zM5.41 20L4 18.59l7.72-7.72 1.47 1.35L5.41 20z\"/>\n",
              "  </svg>\n",
              "      </button>\n",
              "      \n",
              "  <style>\n",
              "    .colab-df-container {\n",
              "      display:flex;\n",
              "      flex-wrap:wrap;\n",
              "      gap: 12px;\n",
              "    }\n",
              "\n",
              "    .colab-df-convert {\n",
              "      background-color: #E8F0FE;\n",
              "      border: none;\n",
              "      border-radius: 50%;\n",
              "      cursor: pointer;\n",
              "      display: none;\n",
              "      fill: #1967D2;\n",
              "      height: 32px;\n",
              "      padding: 0 0 0 0;\n",
              "      width: 32px;\n",
              "    }\n",
              "\n",
              "    .colab-df-convert:hover {\n",
              "      background-color: #E2EBFA;\n",
              "      box-shadow: 0px 1px 2px rgba(60, 64, 67, 0.3), 0px 1px 3px 1px rgba(60, 64, 67, 0.15);\n",
              "      fill: #174EA6;\n",
              "    }\n",
              "\n",
              "    [theme=dark] .colab-df-convert {\n",
              "      background-color: #3B4455;\n",
              "      fill: #D2E3FC;\n",
              "    }\n",
              "\n",
              "    [theme=dark] .colab-df-convert:hover {\n",
              "      background-color: #434B5C;\n",
              "      box-shadow: 0px 1px 3px 1px rgba(0, 0, 0, 0.15);\n",
              "      filter: drop-shadow(0px 1px 2px rgba(0, 0, 0, 0.3));\n",
              "      fill: #FFFFFF;\n",
              "    }\n",
              "  </style>\n",
              "\n",
              "      <script>\n",
              "        const buttonEl =\n",
              "          document.querySelector('#df-3ad918fb-ed1f-4021-9976-66adb51aa1e7 button.colab-df-convert');\n",
              "        buttonEl.style.display =\n",
              "          google.colab.kernel.accessAllowed ? 'block' : 'none';\n",
              "\n",
              "        async function convertToInteractive(key) {\n",
              "          const element = document.querySelector('#df-3ad918fb-ed1f-4021-9976-66adb51aa1e7');\n",
              "          const dataTable =\n",
              "            await google.colab.kernel.invokeFunction('convertToInteractive',\n",
              "                                                     [key], {});\n",
              "          if (!dataTable) return;\n",
              "\n",
              "          const docLinkHtml = 'Like what you see? Visit the ' +\n",
              "            '<a target=\"_blank\" href=https://colab.research.google.com/notebooks/data_table.ipynb>data table notebook</a>'\n",
              "            + ' to learn more about interactive tables.';\n",
              "          element.innerHTML = '';\n",
              "          dataTable['output_type'] = 'display_data';\n",
              "          await google.colab.output.renderOutput(dataTable, element);\n",
              "          const docLink = document.createElement('div');\n",
              "          docLink.innerHTML = docLinkHtml;\n",
              "          element.appendChild(docLink);\n",
              "        }\n",
              "      </script>\n",
              "    </div>\n",
              "  </div>\n",
              "  "
            ]
          },
          "metadata": {},
          "execution_count": 98
        }
      ]
    },
    {
      "cell_type": "markdown",
      "metadata": {
        "id": "Ox8k6Go63hop"
      },
      "source": [
        "### cosine similarity for popular"
      ],
      "id": "Ox8k6Go63hop"
    },
    {
      "cell_type": "code",
      "execution_count": 99,
      "metadata": {
        "colab": {
          "base_uri": "https://localhost:8080/"
        },
        "id": "ppba9wdXoc5W",
        "outputId": "0994f59f-9e2c-413b-e0e8-1a989602ebc5"
      },
      "outputs": [
        {
          "output_type": "execute_result",
          "data": {
            "text/plain": [
              "(1968,)"
            ]
          },
          "metadata": {},
          "execution_count": 99
        }
      ],
      "source": [
        "popular = items_with_pop[items_with_pop['popularity'] > 30].item_id.values\n",
        "popular.shape"
      ],
      "id": "ppba9wdXoc5W"
    },
    {
      "cell_type": "code",
      "execution_count": 100,
      "metadata": {
        "id": "6cc5dc66",
        "outputId": "ad7ec67a-e747-449c-b39e-9e60abafc9e5",
        "colab": {
          "base_uri": "https://localhost:8080/",
          "height": 363
        }
      },
      "outputs": [
        {
          "output_type": "execute_result",
          "data": {
            "text/plain": [
              "   item_id  relevance                                            title  \\\n",
              "2    36618   1.000000              Магический спецкурс. Первый семестр   \n",
              "3    36999   0.990003              Магический спецкурс. Второй семестр   \n",
              "6     3554   0.930311                                 Проклятый ректор   \n",
              "9     8352   0.901418                                 Академия Легиона   \n",
              "4    12465   0.782747                                   Невеста Смерти   \n",
              "7    20401   0.468093                                           Монстр   \n",
              "8    41402   0.275664                               Попаданка и король   \n",
              "5    36281   0.264708                                        Только ты   \n",
              "1    39858   0.259347  Награда для генерала. Книга первая: шепот ветра   \n",
              "0    34241   0.239656                     Хранительница времени. Выбор   \n",
              "\n",
              "                                              genres  \\\n",
              "2   Попаданцы,Книги про волшебников,Любовное фэнтези   \n",
              "3  Любовно-фантастические романы,Попаданцы,Любовн...   \n",
              "6  Детективное фэнтези,Книги про волшебников,Любо...   \n",
              "9  Детективное фэнтези,Книги о приключениях,Любов...   \n",
              "4               Детективное фэнтези,Любовное фэнтези   \n",
              "7               Детективное фэнтези,Любовное фэнтези   \n",
              "8  Любовно-фантастические романы,Остросюжетные лю...   \n",
              "5                        Современные любовные романы   \n",
              "1                                   Любовное фэнтези   \n",
              "0  Любовно-фантастические романы,Попаданцы,Любовн...   \n",
              "\n",
              "                     authors  year  popularity  \n",
              "2                Лена Летняя  2017         239  \n",
              "3                Лена Летняя  2018         219  \n",
              "6                Лена Летняя  2017         190  \n",
              "9                Лена Летняя  2018         127  \n",
              "4                Лена Летняя  2018         304  \n",
              "7  Елена Обухова,Лена Летняя  2018          42  \n",
              "8             Матильда Старр  2018          51  \n",
              "5               Янина Логвин  2018          91  \n",
              "1                Лена Летняя  2019          31  \n",
              "0          Алена Федотовская  2015          54  "
            ],
            "text/html": [
              "\n",
              "  <div id=\"df-227f8465-916c-499f-872f-ce47d9563ad4\">\n",
              "    <div class=\"colab-df-container\">\n",
              "      <div>\n",
              "<style scoped>\n",
              "    .dataframe tbody tr th:only-of-type {\n",
              "        vertical-align: middle;\n",
              "    }\n",
              "\n",
              "    .dataframe tbody tr th {\n",
              "        vertical-align: top;\n",
              "    }\n",
              "\n",
              "    .dataframe thead th {\n",
              "        text-align: right;\n",
              "    }\n",
              "</style>\n",
              "<table border=\"1\" class=\"dataframe\">\n",
              "  <thead>\n",
              "    <tr style=\"text-align: right;\">\n",
              "      <th></th>\n",
              "      <th>item_id</th>\n",
              "      <th>relevance</th>\n",
              "      <th>title</th>\n",
              "      <th>genres</th>\n",
              "      <th>authors</th>\n",
              "      <th>year</th>\n",
              "      <th>popularity</th>\n",
              "    </tr>\n",
              "  </thead>\n",
              "  <tbody>\n",
              "    <tr>\n",
              "      <th>2</th>\n",
              "      <td>36618</td>\n",
              "      <td>1.000000</td>\n",
              "      <td>Магический спецкурс. Первый семестр</td>\n",
              "      <td>Попаданцы,Книги про волшебников,Любовное фэнтези</td>\n",
              "      <td>Лена Летняя</td>\n",
              "      <td>2017</td>\n",
              "      <td>239</td>\n",
              "    </tr>\n",
              "    <tr>\n",
              "      <th>3</th>\n",
              "      <td>36999</td>\n",
              "      <td>0.990003</td>\n",
              "      <td>Магический спецкурс. Второй семестр</td>\n",
              "      <td>Любовно-фантастические романы,Попаданцы,Любовн...</td>\n",
              "      <td>Лена Летняя</td>\n",
              "      <td>2018</td>\n",
              "      <td>219</td>\n",
              "    </tr>\n",
              "    <tr>\n",
              "      <th>6</th>\n",
              "      <td>3554</td>\n",
              "      <td>0.930311</td>\n",
              "      <td>Проклятый ректор</td>\n",
              "      <td>Детективное фэнтези,Книги про волшебников,Любо...</td>\n",
              "      <td>Лена Летняя</td>\n",
              "      <td>2017</td>\n",
              "      <td>190</td>\n",
              "    </tr>\n",
              "    <tr>\n",
              "      <th>9</th>\n",
              "      <td>8352</td>\n",
              "      <td>0.901418</td>\n",
              "      <td>Академия Легиона</td>\n",
              "      <td>Детективное фэнтези,Книги о приключениях,Любов...</td>\n",
              "      <td>Лена Летняя</td>\n",
              "      <td>2018</td>\n",
              "      <td>127</td>\n",
              "    </tr>\n",
              "    <tr>\n",
              "      <th>4</th>\n",
              "      <td>12465</td>\n",
              "      <td>0.782747</td>\n",
              "      <td>Невеста Смерти</td>\n",
              "      <td>Детективное фэнтези,Любовное фэнтези</td>\n",
              "      <td>Лена Летняя</td>\n",
              "      <td>2018</td>\n",
              "      <td>304</td>\n",
              "    </tr>\n",
              "    <tr>\n",
              "      <th>7</th>\n",
              "      <td>20401</td>\n",
              "      <td>0.468093</td>\n",
              "      <td>Монстр</td>\n",
              "      <td>Детективное фэнтези,Любовное фэнтези</td>\n",
              "      <td>Елена Обухова,Лена Летняя</td>\n",
              "      <td>2018</td>\n",
              "      <td>42</td>\n",
              "    </tr>\n",
              "    <tr>\n",
              "      <th>8</th>\n",
              "      <td>41402</td>\n",
              "      <td>0.275664</td>\n",
              "      <td>Попаданка и король</td>\n",
              "      <td>Любовно-фантастические романы,Остросюжетные лю...</td>\n",
              "      <td>Матильда Старр</td>\n",
              "      <td>2018</td>\n",
              "      <td>51</td>\n",
              "    </tr>\n",
              "    <tr>\n",
              "      <th>5</th>\n",
              "      <td>36281</td>\n",
              "      <td>0.264708</td>\n",
              "      <td>Только ты</td>\n",
              "      <td>Современные любовные романы</td>\n",
              "      <td>Янина Логвин</td>\n",
              "      <td>2018</td>\n",
              "      <td>91</td>\n",
              "    </tr>\n",
              "    <tr>\n",
              "      <th>1</th>\n",
              "      <td>39858</td>\n",
              "      <td>0.259347</td>\n",
              "      <td>Награда для генерала. Книга первая: шепот ветра</td>\n",
              "      <td>Любовное фэнтези</td>\n",
              "      <td>Лена Летняя</td>\n",
              "      <td>2019</td>\n",
              "      <td>31</td>\n",
              "    </tr>\n",
              "    <tr>\n",
              "      <th>0</th>\n",
              "      <td>34241</td>\n",
              "      <td>0.239656</td>\n",
              "      <td>Хранительница времени. Выбор</td>\n",
              "      <td>Любовно-фантастические романы,Попаданцы,Любовн...</td>\n",
              "      <td>Алена Федотовская</td>\n",
              "      <td>2015</td>\n",
              "      <td>54</td>\n",
              "    </tr>\n",
              "  </tbody>\n",
              "</table>\n",
              "</div>\n",
              "      <button class=\"colab-df-convert\" onclick=\"convertToInteractive('df-227f8465-916c-499f-872f-ce47d9563ad4')\"\n",
              "              title=\"Convert this dataframe to an interactive table.\"\n",
              "              style=\"display:none;\">\n",
              "        \n",
              "  <svg xmlns=\"http://www.w3.org/2000/svg\" height=\"24px\"viewBox=\"0 0 24 24\"\n",
              "       width=\"24px\">\n",
              "    <path d=\"M0 0h24v24H0V0z\" fill=\"none\"/>\n",
              "    <path d=\"M18.56 5.44l.94 2.06.94-2.06 2.06-.94-2.06-.94-.94-2.06-.94 2.06-2.06.94zm-11 1L8.5 8.5l.94-2.06 2.06-.94-2.06-.94L8.5 2.5l-.94 2.06-2.06.94zm10 10l.94 2.06.94-2.06 2.06-.94-2.06-.94-.94-2.06-.94 2.06-2.06.94z\"/><path d=\"M17.41 7.96l-1.37-1.37c-.4-.4-.92-.59-1.43-.59-.52 0-1.04.2-1.43.59L10.3 9.45l-7.72 7.72c-.78.78-.78 2.05 0 2.83L4 21.41c.39.39.9.59 1.41.59.51 0 1.02-.2 1.41-.59l7.78-7.78 2.81-2.81c.8-.78.8-2.07 0-2.86zM5.41 20L4 18.59l7.72-7.72 1.47 1.35L5.41 20z\"/>\n",
              "  </svg>\n",
              "      </button>\n",
              "      \n",
              "  <style>\n",
              "    .colab-df-container {\n",
              "      display:flex;\n",
              "      flex-wrap:wrap;\n",
              "      gap: 12px;\n",
              "    }\n",
              "\n",
              "    .colab-df-convert {\n",
              "      background-color: #E8F0FE;\n",
              "      border: none;\n",
              "      border-radius: 50%;\n",
              "      cursor: pointer;\n",
              "      display: none;\n",
              "      fill: #1967D2;\n",
              "      height: 32px;\n",
              "      padding: 0 0 0 0;\n",
              "      width: 32px;\n",
              "    }\n",
              "\n",
              "    .colab-df-convert:hover {\n",
              "      background-color: #E2EBFA;\n",
              "      box-shadow: 0px 1px 2px rgba(60, 64, 67, 0.3), 0px 1px 3px 1px rgba(60, 64, 67, 0.15);\n",
              "      fill: #174EA6;\n",
              "    }\n",
              "\n",
              "    [theme=dark] .colab-df-convert {\n",
              "      background-color: #3B4455;\n",
              "      fill: #D2E3FC;\n",
              "    }\n",
              "\n",
              "    [theme=dark] .colab-df-convert:hover {\n",
              "      background-color: #434B5C;\n",
              "      box-shadow: 0px 1px 3px 1px rgba(0, 0, 0, 0.15);\n",
              "      filter: drop-shadow(0px 1px 2px rgba(0, 0, 0, 0.3));\n",
              "      fill: #FFFFFF;\n",
              "    }\n",
              "  </style>\n",
              "\n",
              "      <script>\n",
              "        const buttonEl =\n",
              "          document.querySelector('#df-227f8465-916c-499f-872f-ce47d9563ad4 button.colab-df-convert');\n",
              "        buttonEl.style.display =\n",
              "          google.colab.kernel.accessAllowed ? 'block' : 'none';\n",
              "\n",
              "        async function convertToInteractive(key) {\n",
              "          const element = document.querySelector('#df-227f8465-916c-499f-872f-ce47d9563ad4');\n",
              "          const dataTable =\n",
              "            await google.colab.kernel.invokeFunction('convertToInteractive',\n",
              "                                                     [key], {});\n",
              "          if (!dataTable) return;\n",
              "\n",
              "          const docLinkHtml = 'Like what you see? Visit the ' +\n",
              "            '<a target=\"_blank\" href=https://colab.research.google.com/notebooks/data_table.ipynb>data table notebook</a>'\n",
              "            + ' to learn more about interactive tables.';\n",
              "          element.innerHTML = '';\n",
              "          dataTable['output_type'] = 'display_data';\n",
              "          await google.colab.output.renderOutput(dataTable, element);\n",
              "          const docLink = document.createElement('div');\n",
              "          docLink.innerHTML = docLinkHtml;\n",
              "          element.appendChild(docLink);\n",
              "        }\n",
              "      </script>\n",
              "    </div>\n",
              "  </div>\n",
              "  "
            ]
          },
          "metadata": {},
          "execution_count": 100
        }
      ],
      "source": [
        "rel = cosine_similarity(svd_rec.item_vectors.T[[TEST_BOOK], :], svd_rec.item_vectors.T[popular]).ravel()\n",
        "ids = np.argpartition(rel, -K)[-K:]\n",
        "pd.DataFrame(list(zip(popular[ids], rel[ids])), columns=['item_id', 'relevance']).merge(items_with_pop, on='item_id').sort_values('relevance', ascending=False)"
      ],
      "id": "6cc5dc66"
    },
    {
      "cell_type": "markdown",
      "metadata": {
        "id": "a1_HJ7Bl3nN1"
      },
      "source": [
        "### dot product"
      ],
      "id": "a1_HJ7Bl3nN1"
    },
    {
      "cell_type": "code",
      "execution_count": 101,
      "metadata": {
        "id": "3138bb3f",
        "outputId": "38fd8a45-9a82-4f0e-c913-3fef8af71519",
        "colab": {
          "base_uri": "https://localhost:8080/",
          "height": 407
        }
      },
      "outputs": [
        {
          "output_type": "execute_result",
          "data": {
            "text/plain": [
              "   item_id  relevance                                              title  \\\n",
              "9    36618   0.231951                Магический спецкурс. Первый семестр   \n",
              "8    36999   0.229213                Магический спецкурс. Второй семестр   \n",
              "7     3554   0.172281                                   Проклятый ректор   \n",
              "6    12465   0.147804                                     Невеста Смерти   \n",
              "3     8352   0.138050                                   Академия Легиона   \n",
              "4    33943   0.030594                              Опасно быть студентом   \n",
              "5    43119   0.025599  Струны волшебства. Книга первая. Страшные сказ...   \n",
              "2    29524   0.022279                             Забавно быть студентом   \n",
              "1    20401   0.021734                                             Монстр   \n",
              "0     1838   0.020996                   Алая печать. Академия Сиятельных   \n",
              "\n",
              "                                              genres  \\\n",
              "9   Попаданцы,Книги про волшебников,Любовное фэнтези   \n",
              "8  Любовно-фантастические романы,Попаданцы,Любовн...   \n",
              "7  Детективное фэнтези,Книги про волшебников,Любо...   \n",
              "6               Детективное фэнтези,Любовное фэнтези   \n",
              "3  Детективное фэнтези,Книги о приключениях,Любов...   \n",
              "4  Детективное фэнтези,Любовное фэнтези,Юмористич...   \n",
              "5          Героическое фэнтези,Книги про волшебников   \n",
              "2  Героическое фэнтези,Книги про волшебников,Маги...   \n",
              "1               Детективное фэнтези,Любовное фэнтези   \n",
              "0  Героическое фэнтези,Книги про волшебников,Любо...   \n",
              "\n",
              "                     authors  year  popularity  \n",
              "9                Лена Летняя  2017         239  \n",
              "8                Лена Летняя  2018         219  \n",
              "7                Лена Летняя  2017         190  \n",
              "6                Лена Летняя  2018         304  \n",
              "3                Лена Летняя  2018         127  \n",
              "4          Маргарита Блинова  2015         156  \n",
              "5        Милена Завойчинская  2018         306  \n",
              "2          Маргарита Блинова  2016         119  \n",
              "1  Елена Обухова,Лена Летняя  2018          42  \n",
              "0              Настя Любимка  2016         180  "
            ],
            "text/html": [
              "\n",
              "  <div id=\"df-f3d5695b-b63b-4492-8f8f-8c5c2ba7576f\">\n",
              "    <div class=\"colab-df-container\">\n",
              "      <div>\n",
              "<style scoped>\n",
              "    .dataframe tbody tr th:only-of-type {\n",
              "        vertical-align: middle;\n",
              "    }\n",
              "\n",
              "    .dataframe tbody tr th {\n",
              "        vertical-align: top;\n",
              "    }\n",
              "\n",
              "    .dataframe thead th {\n",
              "        text-align: right;\n",
              "    }\n",
              "</style>\n",
              "<table border=\"1\" class=\"dataframe\">\n",
              "  <thead>\n",
              "    <tr style=\"text-align: right;\">\n",
              "      <th></th>\n",
              "      <th>item_id</th>\n",
              "      <th>relevance</th>\n",
              "      <th>title</th>\n",
              "      <th>genres</th>\n",
              "      <th>authors</th>\n",
              "      <th>year</th>\n",
              "      <th>popularity</th>\n",
              "    </tr>\n",
              "  </thead>\n",
              "  <tbody>\n",
              "    <tr>\n",
              "      <th>9</th>\n",
              "      <td>36618</td>\n",
              "      <td>0.231951</td>\n",
              "      <td>Магический спецкурс. Первый семестр</td>\n",
              "      <td>Попаданцы,Книги про волшебников,Любовное фэнтези</td>\n",
              "      <td>Лена Летняя</td>\n",
              "      <td>2017</td>\n",
              "      <td>239</td>\n",
              "    </tr>\n",
              "    <tr>\n",
              "      <th>8</th>\n",
              "      <td>36999</td>\n",
              "      <td>0.229213</td>\n",
              "      <td>Магический спецкурс. Второй семестр</td>\n",
              "      <td>Любовно-фантастические романы,Попаданцы,Любовн...</td>\n",
              "      <td>Лена Летняя</td>\n",
              "      <td>2018</td>\n",
              "      <td>219</td>\n",
              "    </tr>\n",
              "    <tr>\n",
              "      <th>7</th>\n",
              "      <td>3554</td>\n",
              "      <td>0.172281</td>\n",
              "      <td>Проклятый ректор</td>\n",
              "      <td>Детективное фэнтези,Книги про волшебников,Любо...</td>\n",
              "      <td>Лена Летняя</td>\n",
              "      <td>2017</td>\n",
              "      <td>190</td>\n",
              "    </tr>\n",
              "    <tr>\n",
              "      <th>6</th>\n",
              "      <td>12465</td>\n",
              "      <td>0.147804</td>\n",
              "      <td>Невеста Смерти</td>\n",
              "      <td>Детективное фэнтези,Любовное фэнтези</td>\n",
              "      <td>Лена Летняя</td>\n",
              "      <td>2018</td>\n",
              "      <td>304</td>\n",
              "    </tr>\n",
              "    <tr>\n",
              "      <th>3</th>\n",
              "      <td>8352</td>\n",
              "      <td>0.138050</td>\n",
              "      <td>Академия Легиона</td>\n",
              "      <td>Детективное фэнтези,Книги о приключениях,Любов...</td>\n",
              "      <td>Лена Летняя</td>\n",
              "      <td>2018</td>\n",
              "      <td>127</td>\n",
              "    </tr>\n",
              "    <tr>\n",
              "      <th>4</th>\n",
              "      <td>33943</td>\n",
              "      <td>0.030594</td>\n",
              "      <td>Опасно быть студентом</td>\n",
              "      <td>Детективное фэнтези,Любовное фэнтези,Юмористич...</td>\n",
              "      <td>Маргарита Блинова</td>\n",
              "      <td>2015</td>\n",
              "      <td>156</td>\n",
              "    </tr>\n",
              "    <tr>\n",
              "      <th>5</th>\n",
              "      <td>43119</td>\n",
              "      <td>0.025599</td>\n",
              "      <td>Струны волшебства. Книга первая. Страшные сказ...</td>\n",
              "      <td>Героическое фэнтези,Книги про волшебников</td>\n",
              "      <td>Милена Завойчинская</td>\n",
              "      <td>2018</td>\n",
              "      <td>306</td>\n",
              "    </tr>\n",
              "    <tr>\n",
              "      <th>2</th>\n",
              "      <td>29524</td>\n",
              "      <td>0.022279</td>\n",
              "      <td>Забавно быть студентом</td>\n",
              "      <td>Героическое фэнтези,Книги про волшебников,Маги...</td>\n",
              "      <td>Маргарита Блинова</td>\n",
              "      <td>2016</td>\n",
              "      <td>119</td>\n",
              "    </tr>\n",
              "    <tr>\n",
              "      <th>1</th>\n",
              "      <td>20401</td>\n",
              "      <td>0.021734</td>\n",
              "      <td>Монстр</td>\n",
              "      <td>Детективное фэнтези,Любовное фэнтези</td>\n",
              "      <td>Елена Обухова,Лена Летняя</td>\n",
              "      <td>2018</td>\n",
              "      <td>42</td>\n",
              "    </tr>\n",
              "    <tr>\n",
              "      <th>0</th>\n",
              "      <td>1838</td>\n",
              "      <td>0.020996</td>\n",
              "      <td>Алая печать. Академия Сиятельных</td>\n",
              "      <td>Героическое фэнтези,Книги про волшебников,Любо...</td>\n",
              "      <td>Настя Любимка</td>\n",
              "      <td>2016</td>\n",
              "      <td>180</td>\n",
              "    </tr>\n",
              "  </tbody>\n",
              "</table>\n",
              "</div>\n",
              "      <button class=\"colab-df-convert\" onclick=\"convertToInteractive('df-f3d5695b-b63b-4492-8f8f-8c5c2ba7576f')\"\n",
              "              title=\"Convert this dataframe to an interactive table.\"\n",
              "              style=\"display:none;\">\n",
              "        \n",
              "  <svg xmlns=\"http://www.w3.org/2000/svg\" height=\"24px\"viewBox=\"0 0 24 24\"\n",
              "       width=\"24px\">\n",
              "    <path d=\"M0 0h24v24H0V0z\" fill=\"none\"/>\n",
              "    <path d=\"M18.56 5.44l.94 2.06.94-2.06 2.06-.94-2.06-.94-.94-2.06-.94 2.06-2.06.94zm-11 1L8.5 8.5l.94-2.06 2.06-.94-2.06-.94L8.5 2.5l-.94 2.06-2.06.94zm10 10l.94 2.06.94-2.06 2.06-.94-2.06-.94-.94-2.06-.94 2.06-2.06.94z\"/><path d=\"M17.41 7.96l-1.37-1.37c-.4-.4-.92-.59-1.43-.59-.52 0-1.04.2-1.43.59L10.3 9.45l-7.72 7.72c-.78.78-.78 2.05 0 2.83L4 21.41c.39.39.9.59 1.41.59.51 0 1.02-.2 1.41-.59l7.78-7.78 2.81-2.81c.8-.78.8-2.07 0-2.86zM5.41 20L4 18.59l7.72-7.72 1.47 1.35L5.41 20z\"/>\n",
              "  </svg>\n",
              "      </button>\n",
              "      \n",
              "  <style>\n",
              "    .colab-df-container {\n",
              "      display:flex;\n",
              "      flex-wrap:wrap;\n",
              "      gap: 12px;\n",
              "    }\n",
              "\n",
              "    .colab-df-convert {\n",
              "      background-color: #E8F0FE;\n",
              "      border: none;\n",
              "      border-radius: 50%;\n",
              "      cursor: pointer;\n",
              "      display: none;\n",
              "      fill: #1967D2;\n",
              "      height: 32px;\n",
              "      padding: 0 0 0 0;\n",
              "      width: 32px;\n",
              "    }\n",
              "\n",
              "    .colab-df-convert:hover {\n",
              "      background-color: #E2EBFA;\n",
              "      box-shadow: 0px 1px 2px rgba(60, 64, 67, 0.3), 0px 1px 3px 1px rgba(60, 64, 67, 0.15);\n",
              "      fill: #174EA6;\n",
              "    }\n",
              "\n",
              "    [theme=dark] .colab-df-convert {\n",
              "      background-color: #3B4455;\n",
              "      fill: #D2E3FC;\n",
              "    }\n",
              "\n",
              "    [theme=dark] .colab-df-convert:hover {\n",
              "      background-color: #434B5C;\n",
              "      box-shadow: 0px 1px 3px 1px rgba(0, 0, 0, 0.15);\n",
              "      filter: drop-shadow(0px 1px 2px rgba(0, 0, 0, 0.3));\n",
              "      fill: #FFFFFF;\n",
              "    }\n",
              "  </style>\n",
              "\n",
              "      <script>\n",
              "        const buttonEl =\n",
              "          document.querySelector('#df-f3d5695b-b63b-4492-8f8f-8c5c2ba7576f button.colab-df-convert');\n",
              "        buttonEl.style.display =\n",
              "          google.colab.kernel.accessAllowed ? 'block' : 'none';\n",
              "\n",
              "        async function convertToInteractive(key) {\n",
              "          const element = document.querySelector('#df-f3d5695b-b63b-4492-8f8f-8c5c2ba7576f');\n",
              "          const dataTable =\n",
              "            await google.colab.kernel.invokeFunction('convertToInteractive',\n",
              "                                                     [key], {});\n",
              "          if (!dataTable) return;\n",
              "\n",
              "          const docLinkHtml = 'Like what you see? Visit the ' +\n",
              "            '<a target=\"_blank\" href=https://colab.research.google.com/notebooks/data_table.ipynb>data table notebook</a>'\n",
              "            + ' to learn more about interactive tables.';\n",
              "          element.innerHTML = '';\n",
              "          dataTable['output_type'] = 'display_data';\n",
              "          await google.colab.output.renderOutput(dataTable, element);\n",
              "          const docLink = document.createElement('div');\n",
              "          docLink.innerHTML = docLinkHtml;\n",
              "          element.appendChild(docLink);\n",
              "        }\n",
              "      </script>\n",
              "    </div>\n",
              "  </div>\n",
              "  "
            ]
          },
          "metadata": {},
          "execution_count": 101
        }
      ],
      "source": [
        "rel = (svd_rec.item_vectors.T[[TEST_BOOK], :] @ svd_rec.item_vectors).ravel()\n",
        "ids = np.argpartition(rel, -K)[-K:]\n",
        "pd.DataFrame(list(zip(ids, rel[ids])), columns=['item_id', 'relevance']).merge(items_with_pop, on='item_id').sort_values('relevance', ascending=False)\n"
      ],
      "id": "3138bb3f"
    },
    {
      "cell_type": "markdown",
      "metadata": {
        "id": "9fabe8eb"
      },
      "source": [
        "# ALS\n",
        "Довольно популярным базовым методом в рекомендательных системах является ALS.\n",
        "\n",
        "### Explicit ALS\n",
        "\n",
        "Релевантность:\n",
        "$$r_{ui} = q_i^T p_u$$\n",
        "\n",
        "Loss:\n",
        "$$\\min_{p*, q*} \\sum_{(u, i \\in \\mathcal{K})} (r_{ui} - q_i^T p_u)^2 + \\lambda(\\|{q_i}\\|^2 + \\|{p_i}\\|^2)$$\n",
        "\n",
        "### [Implicit ALS](http://yifanhu.net/PUB/cf.pdf)\n",
        "\n",
        "Релевантность:\n",
        "$$r_{ui} = q_i^T p_u$$\n",
        "\n",
        "Loss:\n",
        "$$\\min_{p*, q*} \\sum_{(u, i \\in \\mathcal{K})} c_{ui}(p_{ui} - q_i^T p_u)^2 + \\lambda(\\|{q_i}\\|^2 + \\|{p_i}\\|^2)$$\n",
        "Где $c_{ui}$ - значение в матрице implicit feedback, а $p_{ui}$ равно 1, если пользователь u взаимодействовал с item-ом i, и 0 иначе.\n",
        "\n",
        "### Усложнения ALS\n",
        "Обучив для каждого пользователя и объекта свой bias и добавив регуляризацию можно улучшить качество решения. Подробнее о различных матричных разложениях для задачи рекомендаций можно почитать [в статье на Хабре](https://habr.com/ru/post/486802/).\n",
        "\n",
        "В рейтинг объекта для пользователя, например, может быть представлен:\n",
        "$$r_{ui} = \\mu + b_i + b_u + q_i^T p_u$$\n",
        "\n",
        "А функция потерь будет выглядеть так:\n",
        "$$\\min_{b*, p*, q*} \\sum_{(u, i \\in \\mathcal{K})} (r_{ui} - \\mu - b_i - b_u - q_i^T p_u)^2 + \\lambda(\\|{q_i}\\|^2 + \\|{p_i}\\|^2 + b_i^2 + b_u^2)$$\n",
        "\n",
        "Матричная факторизация — хороший подход, который позволяет получить рекомендации для теплых пользователей, а также находить похожих пользователей и объекты, посчитав расстояния между векторами. Обучив модель и получив вектора можно перейти от задачи рекомендаций к задаче поиска ближайших соседей и использовать ANN-методы."
      ],
      "id": "9fabe8eb"
    },
    {
      "cell_type": "markdown",
      "metadata": {
        "id": "u6NLSeqSUyva"
      },
      "source": [
        "Реализация Implicit ALS есть в библиотеке [Implicit](https://github.com/benfred/implicit/tree/52a307e97da0a3c2bc1af6ee082d032ad460a157)."
      ],
      "id": "u6NLSeqSUyva"
    },
    {
      "cell_type": "markdown",
      "metadata": {
        "id": "956c8ff5"
      },
      "source": [
        "# LightFM"
      ],
      "id": "956c8ff5"
    },
    {
      "cell_type": "markdown",
      "metadata": {
        "id": "p7Uz7aAbU1qw"
      },
      "source": [
        "![als with lightfm](https://habrastorage.org/webt/pj/fd/-o/pjfd-owy8_ujaucnfd1pc4cilbc.jpeg)\n",
        "\n",
        "[source](https://habr.com/ru/company/okko/blog/454224)\n"
      ],
      "id": "p7Uz7aAbU1qw"
    },
    {
      "cell_type": "markdown",
      "metadata": {
        "id": "7de11b58"
      },
      "source": [
        "Часто у нас есть не только информация о взаимодействиях, но и информация о признаках объектов. \n",
        "Признаки позволяют решить проблему холодного старта и делать рекомендации разнообразнее.\n",
        "\n",
        "Одним из широко используемых подход для учета признаков является модель LightFM, в которой объект и пользователей представляются в виде суммы векторов своих признаков. Вектора обучаются градиентным спуском для минимизации выбранной функции потерь, например LogLoss, WARP Loss (можно почитать в статье от [okko](https://habr.com/ru/company/okko/blog/454224/)), BPR Loss.\n",
        "\n",
        "Почему мы вообще хотим использовать именно LightFM? Потому что по состоянию на несколько лет назад — это одна из моделей, активно побеждавших в соревнованиях и использовавшееся в проде.\n",
        "Например:\n",
        "- [Рекомендации в Okko: как заработать сотни миллионов, перемножив пару матриц](https://habr.com/ru/company/okko/blog/454224)\n",
        "- [Rekko Challenge — как занять 2-е место в конкурсе по созданию рекомендательных систем](https://habr.com/ru/company/tinkoff/blog/454818/)\n",
        "- [Как мы решали задачу продолжения плейлистов на RecSys Challenge и заняли 3 место](https://habr.com/ru/company/avito/blog/439206/)\n",
        "\n"
      ],
      "id": "7de11b58"
    },
    {
      "cell_type": "markdown",
      "metadata": {
        "id": "85f91dc9"
      },
      "source": [
        "## Формулы\n",
        "$$r_{ui} = <q_u , p_i> + b_u + b_i$$\n",
        "\n",
        "$$q_u = \\sum_{j \\in f_u} e^U_j$$\n",
        "$$ e^U_j = w^U_j  e_j$$ \n",
        "$$b_u = \\sum_{j \\in f_u} b^U_j$$\n",
        "$$ b^U_j = w^U_j  b_j$$ \n",
        "где $q_u, p_i$ - вектора пользователя и объекта, являющиеся суммой векторов их признаков\n",
        "\n",
        "$b_u, b_i$ - смещения для признаков пользователя и объекта\n"
      ],
      "id": "85f91dc9"
    },
    {
      "cell_type": "markdown",
      "metadata": {
        "id": "f9ca6774"
      },
      "source": [
        "## Преобразуем данные в формат библиотеки"
      ],
      "id": "f9ca6774"
    },
    {
      "cell_type": "markdown",
      "metadata": {
        "id": "6e1ca0bd"
      },
      "source": [
        "В LightFM есть класс Dataset, который преобразует данные в нужный формат.\n",
        "\n",
        "Подготовим признаки в виде series \"id пользователя/объекта - list категориальных признаков, которые ему соответствуют\"."
      ],
      "id": "6e1ca0bd"
    },
    {
      "cell_type": "code",
      "execution_count": 102,
      "metadata": {
        "id": "3780bc5b"
      },
      "outputs": [],
      "source": [
        "# !pip install lightfm\n",
        "from lightfm import LightFM\n",
        "from lightfm.data import Dataset as LFMDataset"
      ],
      "id": "3780bc5b"
    },
    {
      "cell_type": "markdown",
      "metadata": {
        "id": "3450aa9d"
      },
      "source": [
        "#### user features"
      ],
      "id": "3450aa9d"
    },
    {
      "cell_type": "code",
      "execution_count": 103,
      "metadata": {
        "colab": {
          "base_uri": "https://localhost:8080/"
        },
        "id": "7916931a",
        "outputId": "c0d2e779-d4d7-4da6-a32b-583da2e865f1"
      },
      "outputs": [
        {
          "output_type": "stream",
          "name": "stdout",
          "text": [
            "CPU times: user 655 ms, sys: 8.82 ms, total: 664 ms\n",
            "Wall time: 677 ms\n"
          ]
        }
      ],
      "source": [
        "%%time\n",
        "u_features_filtered.set_index('user_id', inplace=True)\n",
        "u_features_list = u_features_filtered.apply(lambda x: ['{}_{}'.format(value,x[value]) for value in x.index if not pd.isna(x[value])], axis=1)\n",
        "u_features_list = u_features_list.rename('features')"
      ],
      "id": "7916931a"
    },
    {
      "cell_type": "code",
      "execution_count": 104,
      "metadata": {
        "colab": {
          "base_uri": "https://localhost:8080/"
        },
        "id": "4f7b4060",
        "outputId": "a9373e70-30c5-4856-a402-186da01fba97"
      },
      "outputs": [
        {
          "output_type": "execute_result",
          "data": {
            "text/plain": [
              "['age_18_24', 'sex_0.0']"
            ]
          },
          "metadata": {},
          "execution_count": 104
        }
      ],
      "source": [
        "u_features_list[TEST_USER]"
      ],
      "id": "4f7b4060"
    },
    {
      "cell_type": "code",
      "execution_count": 105,
      "metadata": {
        "colab": {
          "base_uri": "https://localhost:8080/"
        },
        "id": "8ceec334",
        "outputId": "10b24245-31f1-4605-8721-f69e0e080575"
      },
      "outputs": [
        {
          "output_type": "execute_result",
          "data": {
            "text/plain": [
              "{'age_18_24',\n",
              " 'age_25_34',\n",
              " 'age_35_44',\n",
              " 'age_45_54',\n",
              " 'age_55_64',\n",
              " 'age_65_inf',\n",
              " 'sex_0.0',\n",
              " 'sex_1.0'}"
            ]
          },
          "metadata": {},
          "execution_count": 105
        }
      ],
      "source": [
        "unique_user_tags = set(u_features_list.explode().dropna().values)\n",
        "unique_user_tags"
      ],
      "id": "8ceec334"
    },
    {
      "cell_type": "markdown",
      "metadata": {
        "id": "42873743"
      },
      "source": [
        "#### item features"
      ],
      "id": "42873743"
    },
    {
      "cell_type": "markdown",
      "metadata": {
        "id": "b31c30be"
      },
      "source": [
        "Предположим, что жанр книги — важный признак. Возьмем жанры из топ-20 в качестве признаков книг."
      ],
      "id": "b31c30be"
    },
    {
      "cell_type": "code",
      "execution_count": 106,
      "metadata": {
        "id": "fb7f60bd"
      },
      "outputs": [],
      "source": [
        "i_features_lfm = i_features_filtered.copy()\n",
        "i_features_lfm.set_index('item_id', inplace=True)\n",
        "i_features_lfm['reads'] = filtered_df.groupby('item_id')['user_id'].count()\n",
        "i_features_lfm.loc[:, 'reads'].fillna(0, inplace=True)\n",
        "i_features_lfm.loc[:, 'genres'] = i_features_lfm['genres'].str.lower().str.split(',').apply(lambda x: x if isinstance(x, list) else [])\n",
        "i_features_lfm.loc[:, 'genres'] = i_features_lfm.loc[:, 'genres'].apply(lambda g_list: [genre.strip() for genre in g_list])"
      ],
      "id": "fb7f60bd"
    },
    {
      "cell_type": "code",
      "source": [
        "i_features_lfm.loc[TEST_BOOK]"
      ],
      "metadata": {
        "colab": {
          "base_uri": "https://localhost:8080/"
        },
        "id": "Fj_L7itDRpij",
        "outputId": "c09294cb-dd25-4e73-f899-5e05420eaf76"
      },
      "id": "Fj_L7itDRpij",
      "execution_count": 107,
      "outputs": [
        {
          "output_type": "execute_result",
          "data": {
            "text/plain": [
              "title                    Магический спецкурс. Первый семестр\n",
              "genres     [попаданцы, книги про волшебников, любовное фэ...\n",
              "authors                                          Лена Летняя\n",
              "year                                                    2017\n",
              "reads                                                    265\n",
              "Name: 36618, dtype: object"
            ]
          },
          "metadata": {},
          "execution_count": 107
        }
      ]
    },
    {
      "cell_type": "code",
      "execution_count": 108,
      "metadata": {
        "id": "a3edc7d8"
      },
      "outputs": [],
      "source": [
        "genres_count = i_features_lfm[['genres', 'reads']].explode('genres').groupby('genres')['reads'].sum()"
      ],
      "id": "a3edc7d8"
    },
    {
      "cell_type": "code",
      "source": [
        "genres_count.sort_values(ascending=False)"
      ],
      "metadata": {
        "colab": {
          "base_uri": "https://localhost:8080/"
        },
        "id": "70aPiUOzKeDZ",
        "outputId": "81206629-e2d1-4b3f-e129-80bdf4446436"
      },
      "id": "70aPiUOzKeDZ",
      "execution_count": 109,
      "outputs": [
        {
          "output_type": "execute_result",
          "data": {
            "text/plain": [
              "genres\n",
              "любовное фэнтези               62659\n",
              "попаданцы                      43240\n",
              "современные любовные романы    37165\n",
              "современные детективы          34606\n",
              "героическое фэнтези            33266\n",
              "                               ...  \n",
              "школьные учебники по чтению        1\n",
              "литература 8 класс                 1\n",
              "общественное питание               1\n",
              "гиа по истории (огэ                1\n",
              "жалобы                             1\n",
              "Name: reads, Length: 624, dtype: int64"
            ]
          },
          "metadata": {},
          "execution_count": 109
        }
      ]
    },
    {
      "cell_type": "code",
      "execution_count": 110,
      "metadata": {
        "colab": {
          "base_uri": "https://localhost:8080/",
          "height": 430
        },
        "id": "sbO-5630A-rZ",
        "outputId": "6b2860ab-9905-4647-a356-7ef7e4a36e92"
      },
      "outputs": [
        {
          "output_type": "display_data",
          "data": {
            "text/plain": [
              "<Figure size 640x480 with 1 Axes>"
            ],
            "image/png": "[encoded data removed]"
          },
          "metadata": {}
        }
      ],
      "source": [
        "genres_count.sort_values(ascending=False).reset_index(drop=True).plot();"
      ],
      "id": "sbO-5630A-rZ"
    },
    {
      "cell_type": "code",
      "execution_count": 111,
      "metadata": {
        "colab": {
          "base_uri": "https://localhost:8080/"
        },
        "id": "fuGx9S-XBr1L",
        "outputId": "bdefd487-248a-41d9-9c02-55a52c903b20"
      },
      "outputs": [
        {
          "output_type": "execute_result",
          "data": {
            "text/plain": [
              "Index(['любовное фэнтези', 'попаданцы', 'современные любовные романы',\n",
              "       'современные детективы', 'героическое фэнтези', 'боевая фантастика',\n",
              "       'зарубежные любовные романы', 'боевое фэнтези', 'книги про волшебников',\n",
              "       'современная русская литература'],\n",
              "      dtype='object', name='genres')"
            ]
          },
          "metadata": {},
          "execution_count": 111
        }
      ],
      "source": [
        "unique_item_tags = genres_count.sort_values(ascending=False)[:20].index\n",
        "unique_item_tags[:10]"
      ],
      "id": "fuGx9S-XBr1L"
    },
    {
      "cell_type": "code",
      "execution_count": 112,
      "metadata": {
        "id": "61c6d62c"
      },
      "outputs": [],
      "source": [
        "def filter_genres(genres_list, valid_genres=None):\n",
        "    if not genres_list:\n",
        "        return []\n",
        "    return [genre for genre in genres_list if genre in valid_genres]"
      ],
      "id": "61c6d62c"
    },
    {
      "cell_type": "code",
      "execution_count": 113,
      "metadata": {
        "colab": {
          "base_uri": "https://localhost:8080/"
        },
        "id": "5466b20b",
        "outputId": "38a2ac53-b8b9-491a-b7cf-636b3b49a23b"
      },
      "outputs": [
        {
          "output_type": "stream",
          "name": "stdout",
          "text": [
            "CPU times: user 56.2 ms, sys: 0 ns, total: 56.2 ms\n",
            "Wall time: 66.7 ms\n"
          ]
        }
      ],
      "source": [
        "%%time\n",
        "i_features_lfm['features'] = i_features_lfm['genres'].apply(filter_genres, valid_genres=set(unique_item_tags))"
      ],
      "id": "5466b20b"
    },
    {
      "cell_type": "code",
      "execution_count": 114,
      "metadata": {
        "colab": {
          "base_uri": "https://localhost:8080/"
        },
        "id": "9f7c8d09",
        "outputId": "b70d7eec-384a-4407-83c4-adea55cf802d"
      },
      "outputs": [
        {
          "output_type": "execute_result",
          "data": {
            "text/plain": [
              "['попаданцы', 'книги про волшебников', 'любовное фэнтези']"
            ]
          },
          "metadata": {},
          "execution_count": 114
        }
      ],
      "source": [
        "i_features_list = i_features_lfm['features']\n",
        "i_features_list.loc[TEST_BOOK]"
      ],
      "id": "9f7c8d09"
    },
    {
      "cell_type": "markdown",
      "metadata": {
        "id": "1857fe33"
      },
      "source": [
        "#### LightFM Dataset\n",
        "Посмотрим на то, как в каком формате принимает данные lightfm и как использовать Dataset для конвертации.\n",
        "\n",
        "LightFM работает со sparse-матрицами, dataset конвертирует данные в coo-формат.\n",
        "Матрица взаимодействий — это просто матрица размером количество пользователей $\\times$ количество объектов.\n",
        "Матрицы признаков выглядят интереснее."
      ],
      "id": "1857fe33"
    },
    {
      "cell_type": "code",
      "execution_count": 115,
      "metadata": {
        "id": "847e6e0e"
      },
      "outputs": [],
      "source": [
        "lfm_dataset = LFMDataset()"
      ],
      "id": "847e6e0e"
    },
    {
      "cell_type": "code",
      "execution_count": 116,
      "metadata": {
        "id": "55edd5cc"
      },
      "outputs": [],
      "source": [
        "lfm_dataset.fit_partial(users=filtered_df['user_id'].unique(), items=filtered_df['item_id'].unique())\n",
        "lfm_dataset.fit_partial(user_features=unique_user_tags, item_features=unique_item_tags)"
      ],
      "id": "55edd5cc"
    },
    {
      "cell_type": "code",
      "execution_count": 117,
      "metadata": {
        "id": "d1acbe29"
      },
      "outputs": [],
      "source": [
        "user_mapping, item_mapping = lfm_dataset.mapping()[0], lfm_dataset.mapping()[2]"
      ],
      "id": "d1acbe29"
    },
    {
      "cell_type": "code",
      "source": [
        "lfm_dataset.mapping()[3]['книги про волшебников']"
      ],
      "metadata": {
        "colab": {
          "base_uri": "https://localhost:8080/"
        },
        "id": "K9xIddZBN5HR",
        "outputId": "7d8f169b-e9da-49d7-9244-919e7f97c3cf"
      },
      "id": "K9xIddZBN5HR",
      "execution_count": 118,
      "outputs": [
        {
          "output_type": "execute_result",
          "data": {
            "text/plain": [
              "50990"
            ]
          },
          "metadata": {},
          "execution_count": 118
        }
      ]
    },
    {
      "cell_type": "code",
      "execution_count": 119,
      "metadata": {
        "id": "0d69d3d7"
      },
      "outputs": [],
      "source": [
        "inv_user_mapping = {value: key for key, value in user_mapping.items()}\n",
        "inv_item_mapping = {value: key for key, value in item_mapping.items()}"
      ],
      "id": "0d69d3d7"
    },
    {
      "cell_type": "code",
      "source": [
        "TEST_BOOK_LFM = item_mapping[TEST_BOOK]"
      ],
      "metadata": {
        "id": "vVO2otEBLNdW"
      },
      "id": "vVO2otEBLNdW",
      "execution_count": 133,
      "outputs": []
    },
    {
      "cell_type": "markdown",
      "metadata": {
        "id": "75c54eaa"
      },
      "source": [
        "#### transform features"
      ],
      "id": "75c54eaa"
    },
    {
      "cell_type": "code",
      "source": [
        "lfm_dataset.interactions_shape()"
      ],
      "metadata": {
        "colab": {
          "base_uri": "https://localhost:8080/"
        },
        "id": "QDWNte0XNZUV",
        "outputId": "9fa1f85c-7d91-4c7b-9ece-fd40c44ccc98"
      },
      "id": "QDWNte0XNZUV",
      "execution_count": 122,
      "outputs": [
        {
          "output_type": "execute_result",
          "data": {
            "text/plain": [
              "(33875, 50982)"
            ]
          },
          "metadata": {},
          "execution_count": 122
        }
      ]
    },
    {
      "cell_type": "code",
      "execution_count": 123,
      "metadata": {
        "id": "865c62bd"
      },
      "outputs": [],
      "source": [
        "sparse_i_features = lfm_dataset.build_item_features([[row.item_id, row.features] for row in i_features_list.reset_index().itertuples()])\n",
        "sparse_u_features = lfm_dataset.build_user_features([[row.user_id, row.features] for row in u_features_list.reset_index().itertuples()])"
      ],
      "id": "865c62bd"
    },
    {
      "cell_type": "code",
      "execution_count": 124,
      "metadata": {
        "colab": {
          "base_uri": "https://localhost:8080/"
        },
        "id": "adba7ea8",
        "outputId": "989f5fc5-e88e-40d4-fad6-fafd5ca9e564"
      },
      "outputs": [
        {
          "output_type": "execute_result",
          "data": {
            "text/plain": [
              "(50982, 51002)"
            ]
          },
          "metadata": {},
          "execution_count": 124
        }
      ],
      "source": [
        "sparse_i_features.shape"
      ],
      "id": "adba7ea8"
    },
    {
      "cell_type": "code",
      "source": [
        "sparse_i_features[1]"
      ],
      "metadata": {
        "colab": {
          "base_uri": "https://localhost:8080/"
        },
        "id": "Uah3dzmIif9H",
        "outputId": "faca406e-8c5b-40b5-8718-fae900e96e2c"
      },
      "id": "Uah3dzmIif9H",
      "execution_count": 128,
      "outputs": [
        {
          "output_type": "execute_result",
          "data": {
            "text/plain": [
              "<1x51002 sparse matrix of type '<class 'numpy.float32'>'\n",
              "\twith 2 stored elements in Compressed Sparse Row format>"
            ]
          },
          "metadata": {},
          "execution_count": 128
        }
      ]
    },
    {
      "cell_type": "code",
      "source": [
        "i_features_list[TEST_BOOK]"
      ],
      "metadata": {
        "colab": {
          "base_uri": "https://localhost:8080/"
        },
        "id": "mX_4dHyaQoY9",
        "outputId": "e4d937b5-0ccd-496f-f3f9-dab5e96967ea"
      },
      "id": "mX_4dHyaQoY9",
      "execution_count": 131,
      "outputs": [
        {
          "output_type": "execute_result",
          "data": {
            "text/plain": [
              "['попаданцы', 'книги про волшебников', 'любовное фэнтези']"
            ]
          },
          "metadata": {},
          "execution_count": 131
        }
      ]
    },
    {
      "cell_type": "code",
      "execution_count": 134,
      "metadata": {
        "colab": {
          "base_uri": "https://localhost:8080/"
        },
        "id": "50cb020a",
        "outputId": "ea8678f5-026f-43ba-e123-8f17d286ef3e"
      },
      "outputs": [
        {
          "output_type": "execute_result",
          "data": {
            "text/plain": [
              "((array([0, 0, 0, 0], dtype=int32),\n",
              "  array([37033, 50982, 50983, 50990], dtype=int32)),\n",
              " array([0.25, 0.25, 0.25, 0.25], dtype=float32))"
            ]
          },
          "metadata": {},
          "execution_count": 134
        }
      ],
      "source": [
        "sparse_i_features[TEST_BOOK_LFM, :].nonzero(), sparse_i_features[TEST_BOOK_LFM, :].data"
      ],
      "id": "50cb020a"
    },
    {
      "cell_type": "markdown",
      "metadata": {
        "id": "01ad9141"
      },
      "source": [
        "#### transform log"
      ],
      "id": "01ad9141"
    },
    {
      "cell_type": "code",
      "execution_count": 135,
      "metadata": {
        "colab": {
          "base_uri": "https://localhost:8080/"
        },
        "id": "d451ae54",
        "outputId": "3432ae11-a519-41ff-d8e9-2fac1e6aad71"
      },
      "outputs": [
        {
          "output_type": "stream",
          "name": "stdout",
          "text": [
            "CPU times: user 1.39 s, sys: 20.7 ms, total: 1.41 s\n",
            "Wall time: 1.43 s\n"
          ]
        }
      ],
      "source": [
        "%%time\n",
        "(interactions, weights) = lfm_dataset.build_interactions([(row.user_id, row.item_id, row.progress) for row in train_by_date.itertuples()])"
      ],
      "id": "d451ae54"
    },
    {
      "cell_type": "markdown",
      "metadata": {
        "id": "df0e23ba"
      },
      "source": [
        "Посмотрим на содержание матриц interactions и weights: использую матрицу interactions можно легко перейти от explicit feedback к implicit. Будем использовать weights, можете поэкспериментировать с interactions самостоятельно."
      ],
      "id": "df0e23ba"
    },
    {
      "cell_type": "code",
      "execution_count": 136,
      "metadata": {
        "id": "65df169d",
        "outputId": "3362b6ad-5e24-4ead-fbf9-de1730e56050",
        "colab": {
          "base_uri": "https://localhost:8080/"
        }
      },
      "outputs": [
        {
          "output_type": "execute_result",
          "data": {
            "text/plain": [
              "((33875, 50982), array([1, 1, 1, ..., 1, 1, 1], dtype=int32))"
            ]
          },
          "metadata": {},
          "execution_count": 136
        }
      ],
      "source": [
        "interactions.shape, interactions.data"
      ],
      "id": "65df169d"
    },
    {
      "cell_type": "markdown",
      "metadata": {
        "id": "b3873d2b"
      },
      "source": [
        "Посмотрим на применение модели и воспроизведем подсчет релевантности."
      ],
      "id": "b3873d2b"
    },
    {
      "cell_type": "markdown",
      "metadata": {
        "id": "5-9hishLNOAh"
      },
      "source": [
        "### model training"
      ],
      "id": "5-9hishLNOAh"
    },
    {
      "cell_type": "code",
      "source": [
        "%%time\n",
        "lightfm = LightFM(no_components=64, loss='warp', random_state=SEED, user_alpha=1e-5, item_alpha=1e-5)\n",
        "lightfm.fit(interactions, user_features=sparse_u_features, item_features=sparse_i_features, epochs=100, num_threads=8)"
      ],
      "metadata": {
        "colab": {
          "base_uri": "https://localhost:8080/"
        },
        "id": "V7-rV6AwPSiD",
        "outputId": "0d23dafe-3359-474b-8544-0ff854c87cbe"
      },
      "id": "V7-rV6AwPSiD",
      "execution_count": 137,
      "outputs": [
        {
          "output_type": "stream",
          "name": "stdout",
          "text": [
            "CPU times: user 3min 11s, sys: 245 ms, total: 3min 11s\n",
            "Wall time: 1min 58s\n"
          ]
        },
        {
          "output_type": "execute_result",
          "data": {
            "text/plain": [
              "<lightfm.lightfm.LightFM at 0x7f35306aa560>"
            ]
          },
          "metadata": {},
          "execution_count": 137
        }
      ]
    },
    {
      "cell_type": "markdown",
      "metadata": {
        "id": "zTUI8T68PaiL"
      },
      "source": [
        "### predict для одного пользователя"
      ],
      "id": "zTUI8T68PaiL"
    },
    {
      "cell_type": "markdown",
      "metadata": {
        "id": "aANnmj7LPaiL"
      },
      "source": [
        "Посмотрим рекомендации для любителя боевой фантастики"
      ],
      "id": "aANnmj7LPaiL"
    },
    {
      "cell_type": "code",
      "execution_count": 138,
      "metadata": {
        "id": "zYPUFjvCPaiM"
      },
      "outputs": [],
      "source": [
        "pred = lightfm.predict(user_ids=user_mapping[TEST_USER], item_ids=sorted(item_mapping.values()), user_features=sparse_u_features, item_features=sparse_i_features)"
      ],
      "id": "zYPUFjvCPaiM"
    },
    {
      "cell_type": "code",
      "execution_count": 139,
      "metadata": {
        "id": "dNlWxeYzPaiM"
      },
      "outputs": [],
      "source": [
        "ids = np.argpartition(pred, -K)[-K:]\n",
        "rel = pred[ids]\n",
        "res = pd.DataFrame(zip(ids, rel), columns=['item_id', 'relevance'])\n",
        "res['item_id'] = res['item_id'].map(inv_item_mapping)"
      ],
      "id": "dNlWxeYzPaiM"
    },
    {
      "cell_type": "code",
      "execution_count": 140,
      "metadata": {
        "colab": {
          "base_uri": "https://localhost:8080/",
          "height": 407
        },
        "outputId": "8452f799-a7c4-46e3-bf8d-475f49c36b2f",
        "id": "Yt5xKYMpPaiM"
      },
      "outputs": [
        {
          "output_type": "execute_result",
          "data": {
            "text/plain": [
              "   item_id   relevance                                              title  \\\n",
              "8    43119 -152.138992  Струны волшебства. Книга первая. Страшные сказ...   \n",
              "9    50597 -152.509201                                           Черновик   \n",
              "7    38092 -152.660507                               Ведьма-хранительница   \n",
              "6    18971 -152.676025                                   Верховная Ведьма   \n",
              "5    43572 -152.798920                                           Чистовик   \n",
              "3    14267 -152.823303                            Зулейха открывает глаза   \n",
              "4     9325 -152.918671                                            Ведьмак   \n",
              "2    48888 -152.963654                            Игра престолов. Часть I   \n",
              "1    31127 -152.963730  Струны волшебства. Книга вторая. Цветная музык...   \n",
              "0    43867 -153.005402                                  Профессия: ведьма   \n",
              "\n",
              "                                              genres              authors  \\\n",
              "8          Героическое фэнтези,Книги про волшебников  Милена Завойчинская   \n",
              "9                                 Научная фантастика    Сергей Лукьяненко   \n",
              "7  Героическое фэнтези,Книги про волшебников,Юмор...        Ольга Громыко   \n",
              "6  Героическое фэнтези,Книги про волшебников,Юмор...        Ольга Громыко   \n",
              "5                                 Научная фантастика    Сергей Лукьяненко   \n",
              "3                     Современная русская литература         Гузель Яхина   \n",
              "4  Героическое фэнтези,Зарубежное фэнтези,Боевое ...    Анджей Сапковский   \n",
              "2                  Зарубежное фэнтези,Боевое фэнтези        Джордж Мартин   \n",
              "1  Героическое фэнтези,Книги про волшебников,Любо...  Милена Завойчинская   \n",
              "0  Героическое фэнтези,Книги про волшебников,Юмор...        Ольга Громыко   \n",
              "\n",
              "              year  popularity  \n",
              "8             2018         306  \n",
              "9          2004-05         490  \n",
              "7             2003          85  \n",
              "6             2004          80  \n",
              "5             2007         378  \n",
              "3             2015         571  \n",
              "4  1993-1997, 1999          82  \n",
              "2             1996         149  \n",
              "1             2018         235  \n",
              "0             2003          89  "
            ],
            "text/html": [
              "\n",
              "  <div id=\"df-936c6c94-c0dc-4622-ad62-0b7a7bdf67ca\">\n",
              "    <div class=\"colab-df-container\">\n",
              "      <div>\n",
              "<style scoped>\n",
              "    .dataframe tbody tr th:only-of-type {\n",
              "        vertical-align: middle;\n",
              "    }\n",
              "\n",
              "    .dataframe tbody tr th {\n",
              "        vertical-align: top;\n",
              "    }\n",
              "\n",
              "    .dataframe thead th {\n",
              "        text-align: right;\n",
              "    }\n",
              "</style>\n",
              "<table border=\"1\" class=\"dataframe\">\n",
              "  <thead>\n",
              "    <tr style=\"text-align: right;\">\n",
              "      <th></th>\n",
              "      <th>item_id</th>\n",
              "      <th>relevance</th>\n",
              "      <th>title</th>\n",
              "      <th>genres</th>\n",
              "      <th>authors</th>\n",
              "      <th>year</th>\n",
              "      <th>popularity</th>\n",
              "    </tr>\n",
              "  </thead>\n",
              "  <tbody>\n",
              "    <tr>\n",
              "      <th>8</th>\n",
              "      <td>43119</td>\n",
              "      <td>-152.138992</td>\n",
              "      <td>Струны волшебства. Книга первая. Страшные сказ...</td>\n",
              "      <td>Героическое фэнтези,Книги про волшебников</td>\n",
              "      <td>Милена Завойчинская</td>\n",
              "      <td>2018</td>\n",
              "      <td>306</td>\n",
              "    </tr>\n",
              "    <tr>\n",
              "      <th>9</th>\n",
              "      <td>50597</td>\n",
              "      <td>-152.509201</td>\n",
              "      <td>Черновик</td>\n",
              "      <td>Научная фантастика</td>\n",
              "      <td>Сергей Лукьяненко</td>\n",
              "      <td>2004-05</td>\n",
              "      <td>490</td>\n",
              "    </tr>\n",
              "    <tr>\n",
              "      <th>7</th>\n",
              "      <td>38092</td>\n",
              "      <td>-152.660507</td>\n",
              "      <td>Ведьма-хранительница</td>\n",
              "      <td>Героическое фэнтези,Книги про волшебников,Юмор...</td>\n",
              "      <td>Ольга Громыко</td>\n",
              "      <td>2003</td>\n",
              "      <td>85</td>\n",
              "    </tr>\n",
              "    <tr>\n",
              "      <th>6</th>\n",
              "      <td>18971</td>\n",
              "      <td>-152.676025</td>\n",
              "      <td>Верховная Ведьма</td>\n",
              "      <td>Героическое фэнтези,Книги про волшебников,Юмор...</td>\n",
              "      <td>Ольга Громыко</td>\n",
              "      <td>2004</td>\n",
              "      <td>80</td>\n",
              "    </tr>\n",
              "    <tr>\n",
              "      <th>5</th>\n",
              "      <td>43572</td>\n",
              "      <td>-152.798920</td>\n",
              "      <td>Чистовик</td>\n",
              "      <td>Научная фантастика</td>\n",
              "      <td>Сергей Лукьяненко</td>\n",
              "      <td>2007</td>\n",
              "      <td>378</td>\n",
              "    </tr>\n",
              "    <tr>\n",
              "      <th>3</th>\n",
              "      <td>14267</td>\n",
              "      <td>-152.823303</td>\n",
              "      <td>Зулейха открывает глаза</td>\n",
              "      <td>Современная русская литература</td>\n",
              "      <td>Гузель Яхина</td>\n",
              "      <td>2015</td>\n",
              "      <td>571</td>\n",
              "    </tr>\n",
              "    <tr>\n",
              "      <th>4</th>\n",
              "      <td>9325</td>\n",
              "      <td>-152.918671</td>\n",
              "      <td>Ведьмак</td>\n",
              "      <td>Героическое фэнтези,Зарубежное фэнтези,Боевое ...</td>\n",
              "      <td>Анджей Сапковский</td>\n",
              "      <td>1993-1997, 1999</td>\n",
              "      <td>82</td>\n",
              "    </tr>\n",
              "    <tr>\n",
              "      <th>2</th>\n",
              "      <td>48888</td>\n",
              "      <td>-152.963654</td>\n",
              "      <td>Игра престолов. Часть I</td>\n",
              "      <td>Зарубежное фэнтези,Боевое фэнтези</td>\n",
              "      <td>Джордж Мартин</td>\n",
              "      <td>1996</td>\n",
              "      <td>149</td>\n",
              "    </tr>\n",
              "    <tr>\n",
              "      <th>1</th>\n",
              "      <td>31127</td>\n",
              "      <td>-152.963730</td>\n",
              "      <td>Струны волшебства. Книга вторая. Цветная музык...</td>\n",
              "      <td>Героическое фэнтези,Книги про волшебников,Любо...</td>\n",
              "      <td>Милена Завойчинская</td>\n",
              "      <td>2018</td>\n",
              "      <td>235</td>\n",
              "    </tr>\n",
              "    <tr>\n",
              "      <th>0</th>\n",
              "      <td>43867</td>\n",
              "      <td>-153.005402</td>\n",
              "      <td>Профессия: ведьма</td>\n",
              "      <td>Героическое фэнтези,Книги про волшебников,Юмор...</td>\n",
              "      <td>Ольга Громыко</td>\n",
              "      <td>2003</td>\n",
              "      <td>89</td>\n",
              "    </tr>\n",
              "  </tbody>\n",
              "</table>\n",
              "</div>\n",
              "      <button class=\"colab-df-convert\" onclick=\"convertToInteractive('df-936c6c94-c0dc-4622-ad62-0b7a7bdf67ca')\"\n",
              "              title=\"Convert this dataframe to an interactive table.\"\n",
              "              style=\"display:none;\">\n",
              "        \n",
              "  <svg xmlns=\"http://www.w3.org/2000/svg\" height=\"24px\"viewBox=\"0 0 24 24\"\n",
              "       width=\"24px\">\n",
              "    <path d=\"M0 0h24v24H0V0z\" fill=\"none\"/>\n",
              "    <path d=\"M18.56 5.44l.94 2.06.94-2.06 2.06-.94-2.06-.94-.94-2.06-.94 2.06-2.06.94zm-11 1L8.5 8.5l.94-2.06 2.06-.94-2.06-.94L8.5 2.5l-.94 2.06-2.06.94zm10 10l.94 2.06.94-2.06 2.06-.94-2.06-.94-.94-2.06-.94 2.06-2.06.94z\"/><path d=\"M17.41 7.96l-1.37-1.37c-.4-.4-.92-.59-1.43-.59-.52 0-1.04.2-1.43.59L10.3 9.45l-7.72 7.72c-.78.78-.78 2.05 0 2.83L4 21.41c.39.39.9.59 1.41.59.51 0 1.02-.2 1.41-.59l7.78-7.78 2.81-2.81c.8-.78.8-2.07 0-2.86zM5.41 20L4 18.59l7.72-7.72 1.47 1.35L5.41 20z\"/>\n",
              "  </svg>\n",
              "      </button>\n",
              "      \n",
              "  <style>\n",
              "    .colab-df-container {\n",
              "      display:flex;\n",
              "      flex-wrap:wrap;\n",
              "      gap: 12px;\n",
              "    }\n",
              "\n",
              "    .colab-df-convert {\n",
              "      background-color: #E8F0FE;\n",
              "      border: none;\n",
              "      border-radius: 50%;\n",
              "      cursor: pointer;\n",
              "      display: none;\n",
              "      fill: #1967D2;\n",
              "      height: 32px;\n",
              "      padding: 0 0 0 0;\n",
              "      width: 32px;\n",
              "    }\n",
              "\n",
              "    .colab-df-convert:hover {\n",
              "      background-color: #E2EBFA;\n",
              "      box-shadow: 0px 1px 2px rgba(60, 64, 67, 0.3), 0px 1px 3px 1px rgba(60, 64, 67, 0.15);\n",
              "      fill: #174EA6;\n",
              "    }\n",
              "\n",
              "    [theme=dark] .colab-df-convert {\n",
              "      background-color: #3B4455;\n",
              "      fill: #D2E3FC;\n",
              "    }\n",
              "\n",
              "    [theme=dark] .colab-df-convert:hover {\n",
              "      background-color: #434B5C;\n",
              "      box-shadow: 0px 1px 3px 1px rgba(0, 0, 0, 0.15);\n",
              "      filter: drop-shadow(0px 1px 2px rgba(0, 0, 0, 0.3));\n",
              "      fill: #FFFFFF;\n",
              "    }\n",
              "  </style>\n",
              "\n",
              "      <script>\n",
              "        const buttonEl =\n",
              "          document.querySelector('#df-936c6c94-c0dc-4622-ad62-0b7a7bdf67ca button.colab-df-convert');\n",
              "        buttonEl.style.display =\n",
              "          google.colab.kernel.accessAllowed ? 'block' : 'none';\n",
              "\n",
              "        async function convertToInteractive(key) {\n",
              "          const element = document.querySelector('#df-936c6c94-c0dc-4622-ad62-0b7a7bdf67ca');\n",
              "          const dataTable =\n",
              "            await google.colab.kernel.invokeFunction('convertToInteractive',\n",
              "                                                     [key], {});\n",
              "          if (!dataTable) return;\n",
              "\n",
              "          const docLinkHtml = 'Like what you see? Visit the ' +\n",
              "            '<a target=\"_blank\" href=https://colab.research.google.com/notebooks/data_table.ipynb>data table notebook</a>'\n",
              "            + ' to learn more about interactive tables.';\n",
              "          element.innerHTML = '';\n",
              "          dataTable['output_type'] = 'display_data';\n",
              "          await google.colab.output.renderOutput(dataTable, element);\n",
              "          const docLink = document.createElement('div');\n",
              "          docLink.innerHTML = docLinkHtml;\n",
              "          element.appendChild(docLink);\n",
              "        }\n",
              "      </script>\n",
              "    </div>\n",
              "  </div>\n",
              "  "
            ]
          },
          "metadata": {},
          "execution_count": 140
        }
      ],
      "source": [
        "res.merge(items_with_pop, on='item_id').sort_values('relevance', ascending=False)"
      ],
      "id": "Yt5xKYMpPaiM"
    },
    {
      "cell_type": "markdown",
      "metadata": {
        "id": "99089994"
      },
      "source": [
        "Посчитаем релевантность книги \"Магический спецкурс. Первый семестр\" для пользователя 4, который предпочитает Героическое фентези.\n",
        "Используем методы get_item_representations(), get_user_representations(), которые есть у модели LightFM."
      ],
      "id": "99089994"
    },
    {
      "cell_type": "code",
      "execution_count": 141,
      "metadata": {
        "id": "f660f163"
      },
      "outputs": [],
      "source": [
        "item_id_lfm = item_mapping[TEST_BOOK]\n",
        "user_id_lfm = user_mapping[TEST_USER]"
      ],
      "id": "f660f163"
    },
    {
      "cell_type": "code",
      "execution_count": 142,
      "metadata": {
        "colab": {
          "base_uri": "https://localhost:8080/"
        },
        "id": "d0d77ed0",
        "outputId": "c6628752-a824-4621-c062-66755193e7a2"
      },
      "outputs": [
        {
          "output_type": "execute_result",
          "data": {
            "text/plain": [
              "-154.39502"
            ]
          },
          "metadata": {},
          "execution_count": 142
        }
      ],
      "source": [
        "rel = lightfm.predict(user_ids=user_id_lfm, \n",
        "                      item_ids=[item_id_lfm], \n",
        "                      user_features=sparse_u_features, \n",
        "                      item_features=sparse_i_features)[0]\n",
        "rel"
      ],
      "id": "d0d77ed0"
    },
    {
      "cell_type": "markdown",
      "metadata": {
        "id": "931e3952"
      },
      "source": [
        "Получили релевантность моделью, проверим, что поняли, как оно работает"
      ],
      "id": "931e3952"
    },
    {
      "cell_type": "markdown",
      "metadata": {
        "id": "10da4560"
      },
      "source": [
        "Отлично, разобрались с тем, как использовать модели LightFM, давайте попробуем воспроизвести подсчет релевантности. Для этого вернемся к формуле:\n",
        "\n",
        "$$r_{ui} = <q_u , p_i> + b_u + b_i$$\n",
        "\n",
        "$$q_u = \\sum_{j \\in f_u} e^U_j$$\n",
        "$$ e^U_j = w^U_j  e_j$$ \n",
        "$$b_u = \\sum_{j \\in f_u} b^U_j$$\n",
        "$$ b^U_j = w^U_j  b_j$$ \n",
        "где $q_u, p_i$ - вектора пользователя и объекта, являющиеся суммой векторов их признаков\n",
        "$b_u, b_i$ - смещения для признаков пользователя и объекта\n"
      ],
      "id": "10da4560"
    },
    {
      "cell_type": "code",
      "execution_count": 143,
      "metadata": {
        "colab": {
          "base_uri": "https://localhost:8080/"
        },
        "id": "8ddd6974",
        "outputId": "ace4ef46-0f30-4995-c19a-821417220245"
      },
      "outputs": [
        {
          "output_type": "execute_result",
          "data": {
            "text/plain": [
              "((33883, 64), (33883,))"
            ]
          },
          "metadata": {},
          "execution_count": 143
        }
      ],
      "source": [
        "u_biases, u_vectors = lightfm.get_user_representations()\n",
        "u_vectors.shape, u_biases.shape"
      ],
      "id": "8ddd6974"
    },
    {
      "cell_type": "code",
      "execution_count": 144,
      "metadata": {
        "colab": {
          "base_uri": "https://localhost:8080/"
        },
        "id": "4f03b7b2",
        "outputId": "a9fad813-ed8e-4793-ddb0-2fc017217b34"
      },
      "outputs": [
        {
          "output_type": "execute_result",
          "data": {
            "text/plain": [
              "((51002, 64), (51002,))"
            ]
          },
          "metadata": {},
          "execution_count": 144
        }
      ],
      "source": [
        "i_biases, i_vectors =lightfm.get_item_representations()\n",
        "i_vectors.shape, i_biases.shape"
      ],
      "id": "4f03b7b2"
    },
    {
      "cell_type": "code",
      "execution_count": 145,
      "metadata": {
        "id": "5f8713ee"
      },
      "outputs": [],
      "source": [
        "user_vector = sparse_u_features[user_id_lfm]@u_vectors\n",
        "item_vector = sparse_i_features[item_id_lfm]@i_vectors\n",
        "rel_ours = (user_vector@item_vector.T + sparse_u_features[user_id_lfm]@u_biases + sparse_i_features[item_id_lfm]@i_biases).ravel()[0]"
      ],
      "id": "5f8713ee"
    },
    {
      "cell_type": "code",
      "execution_count": 146,
      "metadata": {
        "id": "eb89e741"
      },
      "outputs": [],
      "source": [
        "assert math.isclose(rel, rel_ours, rel_tol=1e-5)"
      ],
      "id": "eb89e741"
    },
    {
      "cell_type": "markdown",
      "metadata": {
        "id": "6d2c26ee"
      },
      "source": [
        "Все совпало, мы молодцы! Имея вектора пользователей и объектов, мы можем искать похожих, как делали это в SVD."
      ],
      "id": "6d2c26ee"
    },
    {
      "cell_type": "markdown",
      "metadata": {
        "id": "08aa543c"
      },
      "source": [
        "Обернем в класс, чтобы получить predict и посчитать метрики"
      ],
      "id": "08aa543c"
    },
    {
      "cell_type": "code",
      "execution_count": 147,
      "metadata": {
        "id": "a4295479"
      },
      "outputs": [],
      "source": [
        "from typing import Dict, Iterable\n",
        "class UserFriendlyLightFM(SVDModel):\n",
        "    user_mapping: Dict\n",
        "    item_mapping: Dict\n",
        "    inv_user_mapping: Dict\n",
        "    inv_item_mapping: Dict\n",
        "    lightfm_dataset: LFMDataset\n",
        "        \n",
        "    def __init__(self, \n",
        "                 user_ids: np.ndarray, \n",
        "                 item_ids: np.ndarray,\n",
        "                 user_tags: Optional[Iterable],\n",
        "                 item_tags: Optional[Iterable],\n",
        "                 epochs: int,\n",
        "                 model: LightFM\n",
        "                ):\n",
        "        self.lightfm_dataset = LFMDataset()\n",
        "        self.lightfm_dataset.fit(users=user_ids, \n",
        "                                         items=item_ids,\n",
        "                                         user_features=user_tags,\n",
        "                                         item_features=item_tags,\n",
        "                                        )\n",
        "        self.user_mapping = self.lightfm_dataset.mapping()[0]\n",
        "        self.item_mapping = self.lightfm_dataset.mapping()[2]\n",
        "        self.inv_user_mapping = {value: key for key, value in self.user_mapping.items()}\n",
        "        self.inv_item_mapping = {value: key for key, value in self.item_mapping.items()}\n",
        "        self.epochs = epochs\n",
        "        self.model = model\n",
        "\n",
        "        \n",
        "    def _transform_dataset(self, \n",
        "                           log: Optional[pd.DataFrame],\n",
        "            user_features: Optional[pd.DataFrame]=None, \n",
        "            item_features: Optional[pd.DataFrame]=None):\n",
        "        \n",
        "        (interactions, weights) = self.lightfm_dataset.build_interactions([(row.user_id, row.item_id, row.progress) for row in log.itertuples()]) if log is not None else (None, None)\n",
        "        user_features_sparse = self.lightfm_dataset.build_user_features([[row.user_id, row.features] for row in user_features.reset_index().itertuples()]) if user_features is not None else None\n",
        "        item_features_sparse = self.lightfm_dataset.build_item_features([[row.item_id, row.features] for row in item_features.reset_index().itertuples()]) if item_features is not None else None\n",
        "        return interactions, weights, user_features_sparse, item_features_sparse\n",
        "    \n",
        "    def fit(self, \n",
        "            log: pd.DataFrame, \n",
        "            user_features: Optional[pd.DataFrame]=None, \n",
        "            item_features: Optional[pd.DataFrame]=None) -> 'UserFriendlyLightFM':\n",
        "        \n",
        "        interactions, weights, user_features_sparse, item_features_sparse = self._transform_dataset(log, user_features, item_features)\n",
        "        self.model.fit(interactions, user_features=user_features_sparse, item_features=item_features_sparse, epochs=self.epochs, num_threads=8)\n",
        "        return self\n",
        "\n",
        "    def _predict(self, \n",
        "                log: pd.DataFrame, \n",
        "                users: pd.Series, \n",
        "                k: int,\n",
        "                user_features: Optional[pd.DataFrame]=None, \n",
        "                item_features: Optional[pd.DataFrame]=None,\n",
        "                filter_seen:bool = True) -> pd.DataFrame:\n",
        "        \n",
        "        pred = pd.DataFrame(users.map(self.user_mapping).unique(), columns=['user_id'])\n",
        "        pred.dropna(inplace=True)\n",
        "        interactions, weights, user_features_sparse, item_features_sparse = self._transform_dataset(None, user_features, item_features)\n",
        "        \n",
        "        \n",
        "        def _get_lfm_pred_all_items(user_id):\n",
        "            pred_for_all = self.model.predict(user_ids=user_id, item_ids=sorted(self.item_mapping.values()), user_features=user_features_sparse, item_features=item_features_sparse)\n",
        "            ids = np.argpartition(pred_for_all, -k)[-k:]\n",
        "            rel = pred_for_all[ids]\n",
        "            return list(zip(ids, rel))\n",
        "    \n",
        "        pred['recs'] = pred['user_id'].apply(_get_lfm_pred_all_items)\n",
        "        pred = pred.explode('recs')\n",
        "        self._split_pair(pred)\n",
        "        pred['item_id'] = pred['item_id'].map(self.inv_item_mapping)\n",
        "        pred['user_id'] = pred['user_id'].map(self.inv_user_mapping)\n",
        "        return pred"
      ],
      "id": "a4295479"
    },
    {
      "cell_type": "markdown",
      "metadata": {
        "id": "97134787"
      },
      "source": [
        "## LightFM без признаков"
      ],
      "id": "97134787"
    },
    {
      "cell_type": "code",
      "execution_count": 148,
      "metadata": {
        "id": "de80db1f"
      },
      "outputs": [],
      "source": [
        "lfm = UserFriendlyLightFM(user_ids=filtered_df['user_id'].unique(), \n",
        "                             item_ids=filtered_df['item_id'].unique(),\n",
        "                             user_tags=unique_user_tags,\n",
        "                             item_tags=unique_item_tags,\n",
        "                             epochs=100,\n",
        "                             model=LightFM(no_components=64, loss='warp', random_state=SEED, user_alpha=1e-5, item_alpha=1e-5))"
      ],
      "id": "de80db1f"
    },
    {
      "cell_type": "code",
      "execution_count": 149,
      "metadata": {
        "colab": {
          "base_uri": "https://localhost:8080/"
        },
        "id": "59ef1994",
        "outputId": "352a74fe-d4f6-4e73-8b04-b684eb4f7e1f"
      },
      "outputs": [
        {
          "output_type": "stream",
          "name": "stdout",
          "text": [
            "CPU times: user 4min 6s, sys: 294 ms, total: 4min 6s\n",
            "Wall time: 2min 33s\n"
          ]
        },
        {
          "output_type": "execute_result",
          "data": {
            "text/plain": [
              "<__main__.UserFriendlyLightFM at 0x7f352f7b4fd0>"
            ]
          },
          "metadata": {},
          "execution_count": 149
        }
      ],
      "source": [
        "%%time\n",
        "lfm.fit(log=train_by_date, user_features=None, item_features=None)"
      ],
      "id": "59ef1994"
    },
    {
      "cell_type": "code",
      "execution_count": 150,
      "metadata": {
        "colab": {
          "base_uri": "https://localhost:8080/"
        },
        "id": "04091c20",
        "outputId": "0b75053e-0f56-483e-c0a6-d9925c239ffe"
      },
      "outputs": [
        {
          "output_type": "stream",
          "name": "stdout",
          "text": [
            "CPU times: user 48.9 s, sys: 397 ms, total: 49.3 s\n",
            "Wall time: 49.7 s\n"
          ]
        }
      ],
      "source": [
        "%%time\n",
        "lfm_pred = lfm.predict(log=train_by_date, users=test_by_date_users, k=K, user_features=None, item_features=None)"
      ],
      "id": "04091c20"
    },
    {
      "cell_type": "code",
      "source": [
        "measure(lfm_pred, test_by_date, 'LightFM_rec_64_100_ep', metrics, cov_items=filtered_df['item_id'], surp=surp).sort_values('hit_rate@K', ascending=False)"
      ],
      "metadata": {
        "colab": {
          "base_uri": "https://localhost:8080/",
          "height": 179
        },
        "id": "g7mHPXg4ovvE",
        "outputId": "fca9816e-8e7f-43f5-ffb5-67d6f4d2fd1b"
      },
      "id": "g7mHPXg4ovvE",
      "execution_count": 171,
      "outputs": [
        {
          "output_type": "stream",
          "name": "stdout",
          "text": [
            "CPU times: user 1.23 ms, sys: 992 µs, total: 2.22 ms\n",
            "Wall time: 5.41 ms\n"
          ]
        },
        {
          "output_type": "execute_result",
          "data": {
            "text/plain": [
              "                      hit_rate@1 hit_rate@K     map@K    ndcg@K coverage@K  \\\n",
              "svd_rec                 0.023008   0.112704  0.013908  0.028075   0.029226   \n",
              "LightFM_rec_64_100_ep   0.019006   0.107036  0.010328  0.022528   0.131282   \n",
              "popular                 0.002668   0.023008  0.001435  0.003687   0.000353   \n",
              "\n",
              "                      surprisal@K  \n",
              "svd_rec                   0.55263  \n",
              "LightFM_rec_64_100_ep     0.61082  \n",
              "popular                  0.426938  "
            ],
            "text/html": [
              "\n",
              "  <div id=\"df-153d7fc0-655e-4568-bb59-24175f62d6ab\">\n",
              "    <div class=\"colab-df-container\">\n",
              "      <div>\n",
              "<style scoped>\n",
              "    .dataframe tbody tr th:only-of-type {\n",
              "        vertical-align: middle;\n",
              "    }\n",
              "\n",
              "    .dataframe tbody tr th {\n",
              "        vertical-align: top;\n",
              "    }\n",
              "\n",
              "    .dataframe thead th {\n",
              "        text-align: right;\n",
              "    }\n",
              "</style>\n",
              "<table border=\"1\" class=\"dataframe\">\n",
              "  <thead>\n",
              "    <tr style=\"text-align: right;\">\n",
              "      <th></th>\n",
              "      <th>hit_rate@1</th>\n",
              "      <th>hit_rate@K</th>\n",
              "      <th>map@K</th>\n",
              "      <th>ndcg@K</th>\n",
              "      <th>coverage@K</th>\n",
              "      <th>surprisal@K</th>\n",
              "    </tr>\n",
              "  </thead>\n",
              "  <tbody>\n",
              "    <tr>\n",
              "      <th>svd_rec</th>\n",
              "      <td>0.023008</td>\n",
              "      <td>0.112704</td>\n",
              "      <td>0.013908</td>\n",
              "      <td>0.028075</td>\n",
              "      <td>0.029226</td>\n",
              "      <td>0.55263</td>\n",
              "    </tr>\n",
              "    <tr>\n",
              "      <th>LightFM_rec_64_100_ep</th>\n",
              "      <td>0.019006</td>\n",
              "      <td>0.107036</td>\n",
              "      <td>0.010328</td>\n",
              "      <td>0.022528</td>\n",
              "      <td>0.131282</td>\n",
              "      <td>0.61082</td>\n",
              "    </tr>\n",
              "    <tr>\n",
              "      <th>popular</th>\n",
              "      <td>0.002668</td>\n",
              "      <td>0.023008</td>\n",
              "      <td>0.001435</td>\n",
              "      <td>0.003687</td>\n",
              "      <td>0.000353</td>\n",
              "      <td>0.426938</td>\n",
              "    </tr>\n",
              "  </tbody>\n",
              "</table>\n",
              "</div>\n",
              "      <button class=\"colab-df-convert\" onclick=\"convertToInteractive('df-153d7fc0-655e-4568-bb59-24175f62d6ab')\"\n",
              "              title=\"Convert this dataframe to an interactive table.\"\n",
              "              style=\"display:none;\">\n",
              "        \n",
              "  <svg xmlns=\"http://www.w3.org/2000/svg\" height=\"24px\"viewBox=\"0 0 24 24\"\n",
              "       width=\"24px\">\n",
              "    <path d=\"M0 0h24v24H0V0z\" fill=\"none\"/>\n",
              "    <path d=\"M18.56 5.44l.94 2.06.94-2.06 2.06-.94-2.06-.94-.94-2.06-.94 2.06-2.06.94zm-11 1L8.5 8.5l.94-2.06 2.06-.94-2.06-.94L8.5 2.5l-.94 2.06-2.06.94zm10 10l.94 2.06.94-2.06 2.06-.94-2.06-.94-.94-2.06-.94 2.06-2.06.94z\"/><path d=\"M17.41 7.96l-1.37-1.37c-.4-.4-.92-.59-1.43-.59-.52 0-1.04.2-1.43.59L10.3 9.45l-7.72 7.72c-.78.78-.78 2.05 0 2.83L4 21.41c.39.39.9.59 1.41.59.51 0 1.02-.2 1.41-.59l7.78-7.78 2.81-2.81c.8-.78.8-2.07 0-2.86zM5.41 20L4 18.59l7.72-7.72 1.47 1.35L5.41 20z\"/>\n",
              "  </svg>\n",
              "      </button>\n",
              "      \n",
              "  <style>\n",
              "    .colab-df-container {\n",
              "      display:flex;\n",
              "      flex-wrap:wrap;\n",
              "      gap: 12px;\n",
              "    }\n",
              "\n",
              "    .colab-df-convert {\n",
              "      background-color: #E8F0FE;\n",
              "      border: none;\n",
              "      border-radius: 50%;\n",
              "      cursor: pointer;\n",
              "      display: none;\n",
              "      fill: #1967D2;\n",
              "      height: 32px;\n",
              "      padding: 0 0 0 0;\n",
              "      width: 32px;\n",
              "    }\n",
              "\n",
              "    .colab-df-convert:hover {\n",
              "      background-color: #E2EBFA;\n",
              "      box-shadow: 0px 1px 2px rgba(60, 64, 67, 0.3), 0px 1px 3px 1px rgba(60, 64, 67, 0.15);\n",
              "      fill: #174EA6;\n",
              "    }\n",
              "\n",
              "    [theme=dark] .colab-df-convert {\n",
              "      background-color: #3B4455;\n",
              "      fill: #D2E3FC;\n",
              "    }\n",
              "\n",
              "    [theme=dark] .colab-df-convert:hover {\n",
              "      background-color: #434B5C;\n",
              "      box-shadow: 0px 1px 3px 1px rgba(0, 0, 0, 0.15);\n",
              "      filter: drop-shadow(0px 1px 2px rgba(0, 0, 0, 0.3));\n",
              "      fill: #FFFFFF;\n",
              "    }\n",
              "  </style>\n",
              "\n",
              "      <script>\n",
              "        const buttonEl =\n",
              "          document.querySelector('#df-153d7fc0-655e-4568-bb59-24175f62d6ab button.colab-df-convert');\n",
              "        buttonEl.style.display =\n",
              "          google.colab.kernel.accessAllowed ? 'block' : 'none';\n",
              "\n",
              "        async function convertToInteractive(key) {\n",
              "          const element = document.querySelector('#df-153d7fc0-655e-4568-bb59-24175f62d6ab');\n",
              "          const dataTable =\n",
              "            await google.colab.kernel.invokeFunction('convertToInteractive',\n",
              "                                                     [key], {});\n",
              "          if (!dataTable) return;\n",
              "\n",
              "          const docLinkHtml = 'Like what you see? Visit the ' +\n",
              "            '<a target=\"_blank\" href=https://colab.research.google.com/notebooks/data_table.ipynb>data table notebook</a>'\n",
              "            + ' to learn more about interactive tables.';\n",
              "          element.innerHTML = '';\n",
              "          dataTable['output_type'] = 'display_data';\n",
              "          await google.colab.output.renderOutput(dataTable, element);\n",
              "          const docLink = document.createElement('div');\n",
              "          docLink.innerHTML = docLinkHtml;\n",
              "          element.appendChild(docLink);\n",
              "        }\n",
              "      </script>\n",
              "    </div>\n",
              "  </div>\n",
              "  "
            ]
          },
          "metadata": {},
          "execution_count": 171
        }
      ]
    },
    {
      "cell_type": "markdown",
      "metadata": {
        "id": "5ff733a5"
      },
      "source": [
        "## LightFM  c признаками"
      ],
      "id": "5ff733a5"
    },
    {
      "cell_type": "code",
      "execution_count": 172,
      "metadata": {
        "id": "45a27f97"
      },
      "outputs": [],
      "source": [
        "lfm_uf = UserFriendlyLightFM(user_ids=filtered_df['user_id'].unique(), \n",
        "                             item_ids=filtered_df['item_id'].unique(),\n",
        "                             user_tags=unique_user_tags,\n",
        "                             item_tags=unique_item_tags,\n",
        "                             epochs=100,\n",
        "                             model=LightFM(no_components=64, loss='warp', user_alpha=1e-5, item_alpha=1e-5)\n",
        "                            )"
      ],
      "id": "45a27f97"
    },
    {
      "cell_type": "code",
      "execution_count": 173,
      "metadata": {
        "id": "faa43a15",
        "colab": {
          "base_uri": "https://localhost:8080/"
        },
        "outputId": "72b7f6d6-b290-4acf-e331-861dc9e3b74b"
      },
      "outputs": [
        {
          "output_type": "stream",
          "name": "stdout",
          "text": [
            "CPU times: user 3min 14s, sys: 227 ms, total: 3min 15s\n",
            "Wall time: 1min 58s\n"
          ]
        },
        {
          "output_type": "execute_result",
          "data": {
            "text/plain": [
              "<__main__.UserFriendlyLightFM at 0x7f352f547b50>"
            ]
          },
          "metadata": {},
          "execution_count": 173
        }
      ],
      "source": [
        "%%time\n",
        "lfm_uf.fit(log=train_by_date, item_features=i_features_list, user_features=u_features_list)"
      ],
      "id": "faa43a15"
    },
    {
      "cell_type": "code",
      "execution_count": 174,
      "metadata": {
        "id": "c7b1f781",
        "colab": {
          "base_uri": "https://localhost:8080/"
        },
        "outputId": "7c95c1c4-2b16-4674-adf0-f8a94bf56ffa"
      },
      "outputs": [
        {
          "output_type": "stream",
          "name": "stdout",
          "text": [
            "CPU times: user 1min 1s, sys: 429 ms, total: 1min 2s\n",
            "Wall time: 1min 2s\n"
          ]
        }
      ],
      "source": [
        "%%time\n",
        "pred_feat = lfm_uf.predict(log=train_by_date, users=test_by_date_users, k=K, user_features=u_features_list, item_features=i_features_list)"
      ],
      "id": "c7b1f781"
    },
    {
      "cell_type": "code",
      "source": [
        "measure(pred_feat, test_by_date, 'LightFM_rec_features_64_400', metrics, cov_items=filtered_df['item_id'], surp=surp).sort_values('hit_rate@K', ascending=False)"
      ],
      "metadata": {
        "colab": {
          "base_uri": "https://localhost:8080/",
          "height": 175
        },
        "id": "vFjuPjYhlqZL",
        "outputId": "49d51951-1c33-4889-d74e-ba15b03dbf54"
      },
      "id": "vFjuPjYhlqZL",
      "execution_count": 176,
      "outputs": [
        {
          "output_type": "execute_result",
          "data": {
            "text/plain": [
              "                            hit_rate@1 hit_rate@K     map@K    ndcg@K  \\\n",
              "svd_rec                       0.023008   0.112704  0.013908  0.028075   \n",
              "LightFM_rec_64_100_ep         0.019006   0.107036  0.010328  0.022528   \n",
              "LightFM_rec_features_64_400   0.010337   0.070023   0.00485  0.012155   \n",
              "popular                       0.002668   0.023008  0.001435  0.003687   \n",
              "\n",
              "                            coverage@K surprisal@K  \n",
              "svd_rec                       0.029226     0.55263  \n",
              "LightFM_rec_64_100_ep         0.131282     0.61082  \n",
              "LightFM_rec_features_64_400   0.135636    0.615651  \n",
              "popular                       0.000353    0.426938  "
            ],
            "text/html": [
              "\n",
              "  <div id=\"df-6240b467-dfee-42ca-b696-05cdcb66dd14\">\n",
              "    <div class=\"colab-df-container\">\n",
              "      <div>\n",
              "<style scoped>\n",
              "    .dataframe tbody tr th:only-of-type {\n",
              "        vertical-align: middle;\n",
              "    }\n",
              "\n",
              "    .dataframe tbody tr th {\n",
              "        vertical-align: top;\n",
              "    }\n",
              "\n",
              "    .dataframe thead th {\n",
              "        text-align: right;\n",
              "    }\n",
              "</style>\n",
              "<table border=\"1\" class=\"dataframe\">\n",
              "  <thead>\n",
              "    <tr style=\"text-align: right;\">\n",
              "      <th></th>\n",
              "      <th>hit_rate@1</th>\n",
              "      <th>hit_rate@K</th>\n",
              "      <th>map@K</th>\n",
              "      <th>ndcg@K</th>\n",
              "      <th>coverage@K</th>\n",
              "      <th>surprisal@K</th>\n",
              "    </tr>\n",
              "  </thead>\n",
              "  <tbody>\n",
              "    <tr>\n",
              "      <th>svd_rec</th>\n",
              "      <td>0.023008</td>\n",
              "      <td>0.112704</td>\n",
              "      <td>0.013908</td>\n",
              "      <td>0.028075</td>\n",
              "      <td>0.029226</td>\n",
              "      <td>0.55263</td>\n",
              "    </tr>\n",
              "    <tr>\n",
              "      <th>LightFM_rec_64_100_ep</th>\n",
              "      <td>0.019006</td>\n",
              "      <td>0.107036</td>\n",
              "      <td>0.010328</td>\n",
              "      <td>0.022528</td>\n",
              "      <td>0.131282</td>\n",
              "      <td>0.61082</td>\n",
              "    </tr>\n",
              "    <tr>\n",
              "      <th>LightFM_rec_features_64_400</th>\n",
              "      <td>0.010337</td>\n",
              "      <td>0.070023</td>\n",
              "      <td>0.00485</td>\n",
              "      <td>0.012155</td>\n",
              "      <td>0.135636</td>\n",
              "      <td>0.615651</td>\n",
              "    </tr>\n",
              "    <tr>\n",
              "      <th>popular</th>\n",
              "      <td>0.002668</td>\n",
              "      <td>0.023008</td>\n",
              "      <td>0.001435</td>\n",
              "      <td>0.003687</td>\n",
              "      <td>0.000353</td>\n",
              "      <td>0.426938</td>\n",
              "    </tr>\n",
              "  </tbody>\n",
              "</table>\n",
              "</div>\n",
              "      <button class=\"colab-df-convert\" onclick=\"convertToInteractive('df-6240b467-dfee-42ca-b696-05cdcb66dd14')\"\n",
              "              title=\"Convert this dataframe to an interactive table.\"\n",
              "              style=\"display:none;\">\n",
              "        \n",
              "  <svg xmlns=\"http://www.w3.org/2000/svg\" height=\"24px\"viewBox=\"0 0 24 24\"\n",
              "       width=\"24px\">\n",
              "    <path d=\"M0 0h24v24H0V0z\" fill=\"none\"/>\n",
              "    <path d=\"M18.56 5.44l.94 2.06.94-2.06 2.06-.94-2.06-.94-.94-2.06-.94 2.06-2.06.94zm-11 1L8.5 8.5l.94-2.06 2.06-.94-2.06-.94L8.5 2.5l-.94 2.06-2.06.94zm10 10l.94 2.06.94-2.06 2.06-.94-2.06-.94-.94-2.06-.94 2.06-2.06.94z\"/><path d=\"M17.41 7.96l-1.37-1.37c-.4-.4-.92-.59-1.43-.59-.52 0-1.04.2-1.43.59L10.3 9.45l-7.72 7.72c-.78.78-.78 2.05 0 2.83L4 21.41c.39.39.9.59 1.41.59.51 0 1.02-.2 1.41-.59l7.78-7.78 2.81-2.81c.8-.78.8-2.07 0-2.86zM5.41 20L4 18.59l7.72-7.72 1.47 1.35L5.41 20z\"/>\n",
              "  </svg>\n",
              "      </button>\n",
              "      \n",
              "  <style>\n",
              "    .colab-df-container {\n",
              "      display:flex;\n",
              "      flex-wrap:wrap;\n",
              "      gap: 12px;\n",
              "    }\n",
              "\n",
              "    .colab-df-convert {\n",
              "      background-color: #E8F0FE;\n",
              "      border: none;\n",
              "      border-radius: 50%;\n",
              "      cursor: pointer;\n",
              "      display: none;\n",
              "      fill: #1967D2;\n",
              "      height: 32px;\n",
              "      padding: 0 0 0 0;\n",
              "      width: 32px;\n",
              "    }\n",
              "\n",
              "    .colab-df-convert:hover {\n",
              "      background-color: #E2EBFA;\n",
              "      box-shadow: 0px 1px 2px rgba(60, 64, 67, 0.3), 0px 1px 3px 1px rgba(60, 64, 67, 0.15);\n",
              "      fill: #174EA6;\n",
              "    }\n",
              "\n",
              "    [theme=dark] .colab-df-convert {\n",
              "      background-color: #3B4455;\n",
              "      fill: #D2E3FC;\n",
              "    }\n",
              "\n",
              "    [theme=dark] .colab-df-convert:hover {\n",
              "      background-color: #434B5C;\n",
              "      box-shadow: 0px 1px 3px 1px rgba(0, 0, 0, 0.15);\n",
              "      filter: drop-shadow(0px 1px 2px rgba(0, 0, 0, 0.3));\n",
              "      fill: #FFFFFF;\n",
              "    }\n",
              "  </style>\n",
              "\n",
              "      <script>\n",
              "        const buttonEl =\n",
              "          document.querySelector('#df-6240b467-dfee-42ca-b696-05cdcb66dd14 button.colab-df-convert');\n",
              "        buttonEl.style.display =\n",
              "          google.colab.kernel.accessAllowed ? 'block' : 'none';\n",
              "\n",
              "        async function convertToInteractive(key) {\n",
              "          const element = document.querySelector('#df-6240b467-dfee-42ca-b696-05cdcb66dd14');\n",
              "          const dataTable =\n",
              "            await google.colab.kernel.invokeFunction('convertToInteractive',\n",
              "                                                     [key], {});\n",
              "          if (!dataTable) return;\n",
              "\n",
              "          const docLinkHtml = 'Like what you see? Visit the ' +\n",
              "            '<a target=\"_blank\" href=https://colab.research.google.com/notebooks/data_table.ipynb>data table notebook</a>'\n",
              "            + ' to learn more about interactive tables.';\n",
              "          element.innerHTML = '';\n",
              "          dataTable['output_type'] = 'display_data';\n",
              "          await google.colab.output.renderOutput(dataTable, element);\n",
              "          const docLink = document.createElement('div');\n",
              "          docLink.innerHTML = docLinkHtml;\n",
              "          element.appendChild(docLink);\n",
              "        }\n",
              "      </script>\n",
              "    </div>\n",
              "  </div>\n",
              "  "
            ]
          },
          "metadata": {},
          "execution_count": 176
        }
      ]
    },
    {
      "cell_type": "markdown",
      "metadata": {
        "id": "fcef2ea0"
      },
      "source": [
        "# Двухуровневая модель"
      ],
      "id": "fcef2ea0"
    },
    {
      "cell_type": "markdown",
      "metadata": {
        "id": "54714642"
      },
      "source": [
        "- Как разбить данные без лика?\n",
        "- Сколько кандидатов генерировать и как?\n",
        "- Какие признаки добавить для обучения модели второго уровня?\n",
        "- Как переобучать весь ансамбль?"
      ],
      "id": "54714642"
    },
    {
      "cell_type": "markdown",
      "metadata": {
        "id": "bMjfopf4j-NG"
      },
      "source": [
        "Примеры:\n",
        "- [Рекомендации в Okko: как заработать сотни миллионов, перемножив пару матриц](https://habr.com/ru/company/okko/blog/454224/)\n",
        "- [Rekko Challenge — как занять 2-е место в конкурсе по созданию рекомендательных систем](https://habr.com/ru/company/tinkoff/blog/454818/)\n",
        "- [Дзен-митап: Объяснимые рекомендации](https://www.youtube.com/watch?v=ll-y6I_r_OM&t=357s)\n",
        "- [Дзен-митап: Next-level recommendations — как сделать модель второго уровня в рекомендациях](https://www.youtube.com/watch?v=4NutBpiIHi0&t=1240s)\n",
        "    \n",
        "    "
      ],
      "id": "bMjfopf4j-NG"
    },
    {
      "cell_type": "markdown",
      "metadata": {
        "id": "sAPLtgRwj-NH"
      },
      "source": [
        "Команда MTS выложила лекцию про двухуровневую архитектуру — довольно понятно, быстро объясняется и с кодом.\n",
        "Посмотрите [видео](https://ods.ai/tracks/recsys-course2021/blocks/34e6b8d3-5cf0-4ab8-9443-fbc14ad9cf0b) и [код](https://github.com/sharthZ23/your-second-recsys/tree/master/lecture_5)."
      ],
      "id": "sAPLtgRwj-NH"
    },
    {
      "cell_type": "markdown",
      "metadata": {
        "id": "im4vxWIw5cEx"
      },
      "source": [
        "Чтобы двухуровневая модель стала работать лучше коллаборативных моделей, обученных на полных данных, нужно:\n",
        "- чтобы данных было достаточно\n",
        "- подобрать модели первого уровня, дающие хороший recall (много релевантных кандидатов) как для холодных, так и для теплых пользователей\n",
        "- подумать над задачей и областью и сгенерировать дополнительные признаки. Почитать о том, какие признаки можно генерировать для обучения двухуровневой модели на задачу рекомендаций можно в статьях с решениями конкурсов из раздела про LightFM.\n",
        "\n",
        "Примеры признаков для MTS библиотеки:\n",
        "- как давно последний раз читали эту книгу\n",
        "- доля книг этого автора от общего числа прочтенных\n",
        "- популярность книги всего/за последнюю неделю/месяц\n",
        "- вектора пользователей и айтемов из модели 1 уровня\n",
        "- падает или растет популярность книги за последнее время\n",
        "\n",
        "Возможность сгенерировать признаки и использовать на первом уровне не одну модель, а несколько, еще ждет вас в лабе/конкурсе."
      ],
      "id": "im4vxWIw5cEx"
    },
    {
      "cell_type": "markdown",
      "metadata": {
        "id": "KyyxYbmv4zk-"
      },
      "source": [
        "# Выводы\n",
        "- мы поговорили про особенности задачи, метрики и разнообразные требования к рекомендательным системам\n",
        "- получили примеры кода для моделей и подсчета метрик, которые могут быть полезны в лабе и конкурсе\n",
        "- попробовали SVD, LightFM\n",
        "- поговорили немного про двухуровневые архитектуры\n",
        "- поняли, что рекомендательные системы — это не только матричная факторизация. Можно учить нейронки, хотя до сих пор в конкурсах часто побеждает бустинг со сложной генерацией признаков.\n",
        "- все архитектуры рекомендательных систем уже реализовали и выложили на github до нас, и надо просто найти нужную библиотеку. Например: [NVIDIA-Merlin](https://github.com/NVIDIA-Merlin/Merlin), [MS recommenders](https://github.com/microsoft/recommenders), [RecBole](https://github.com/RUCAIBox/RecBole), [Elliot](https://github.com/sisinflab/elliot), [RePlay](https://github.com/sberbank-ai-lab/RePlay).\n",
        "\n",
        "\n",
        "### Другие интересные ссылки\n",
        "\n",
        "Dzen Recommendation system[https://www.youtube.com/watch?v=uP3punJpJno]\n",
        "\n",
        "\n",
        "[Yandex Music Recommendation System](https://www.youtube.com/watch?v=vkFcmHfIpto)\n",
        "\n",
        "Meetup series “Дзен-митап” (youtube)\n",
        "\n",
        "Курсы: MTS. Your first recsys, MTS. Your second recsys, [Курс по рексистемам в МФТИ](https://www.youtube.com/playlist?list=PLk4h7dmY2eYGU9SAGW4CbdgNAjLFT8hG0)"
      ],
      "id": "KyyxYbmv4zk-"
    },
    {
      "cell_type": "markdown",
      "metadata": {
        "id": "c8a9af26"
      },
      "source": [
        "[Репозиторий](https://github.com/monkey0head/recsys_sem)\n",
        "\n",
        "Делайте pull request-ы, чтобы улучшить этот семинар)\n",
        "\n",
        "Автор:\n",
        "@monkey_head\n"
      ],
      "id": "c8a9af26"
    },
    {
      "cell_type": "code",
      "source": [],
      "metadata": {
        "id": "syrE96NHkrXm"
      },
      "id": "syrE96NHkrXm",
      "execution_count": null,
      "outputs": []
    }
  ],
  "metadata": {
    "colab": {
      "collapsed_sections": [
        "95ff2f12",
        "5e9b14ae",
        "ef6ddc1f"
      ],
      "provenance": []
    },
    "kernelspec": {
      "display_name": "Python 3 (ipykernel)",
      "language": "python",
      "name": "python3"
    },
    "language_info": {
      "codemirror_mode": {
        "name": "ipython",
        "version": 3
      },
      "file_extension": ".py",
      "mimetype": "text/x-python",
      "name": "python",
      "nbconvert_exporter": "python",
      "pygments_lexer": "ipython3",
      "version": "3.9.7"
    }
  },
  "nbformat": 4,
  "nbformat_minor": 5
}